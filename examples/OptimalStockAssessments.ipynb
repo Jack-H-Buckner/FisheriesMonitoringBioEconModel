{
 "cells": [
  {
   "cell_type": "markdown",
   "id": "a55cf57b-cd27-4d4a-91c7-fcf65fb56ef7",
   "metadata": {},
   "source": [
    "# Optimal Stock Assessments \n",
    "\n",
    "## Introduction + model description \n",
    "This note book shows how to used the KalmanFiltersPOMDP library to solve dynamic programming problems that include dcision to invest in informaiton. The model presnted here describes a resource mnamgnet agency investing in stock assesments to support a fishery. I assume the manager sets harvest limits on an anual basis with the goal of maximzing harvest  from the system: \n",
    "\n",
    "$max_{H_t}\\left\\{\\sum_{t=0}^{\\infty}\\delta^tH_t \\right\\}$,\n",
    "\n",
    "$s.t. H_t  > B_t$\n",
    "\n",
    "$B_t = f_B(B_{t-1}, N_{t-1}) $,\n",
    "\n",
    "$N_t = f_N(B_{t-1}, N_{t-1}) $\n",
    "\n",
    "where $H_t$ is total harvest, $\\delta$ is a discount factor. $B_t$ is the biomass of the popuatlion, $N_t$ describes the total number ofindividual in the population and the function $f_B$, $f_N$ describe the popautlion dynamics.\n",
    "\n",
    "I assume that recruitment into the popualtion is a saturating function of the popualtion times a longnormal random varaible $\\nu_t$ whcih described environmetnal variability\n",
    "\n",
    "$R_t = \\frac{rB_te^{\\nu_t - 0.5\\sigma_{nu_t}}}{1+bB_t}$.\n",
    "\n",
    "I assume that the growth rate of each individuals is a declining function of size\n",
    "\n",
    "$w_t = (1-k)w_{\\infty} + kw_{t-1}$.\n",
    "\n",
    "Taken together these two assumptions can be used to define the dynamics of a size structured popualtion that only tacks two state variables numbers and biomass.\n",
    "\n",
    "\n",
    "I assume that the resource managers can observe the biomass of the popuatlion and the average size of the popualtion. I assume each of these observaiton is noisy and that the noise is normally distrubtied under a log transformation\n",
    "\n",
    "$\\hat{B}_t = B_te^{\\epsilon_{B,t}}$\n",
    "\n",
    "$\\hat{w}_t = B_te^{\\epsilon_{w,t}}/N_t$.\n",
    "\n",
    "$\\epsilon_{B,t} \\sim N(0,\\sigma_{b,t})$\n",
    "\n",
    "$\\epsilon_{w,t} \\sim N(0,\\sigma_{w,t})$\n",
    "\n",
    "The resource manager can choose to invest in these observations each time period. If they do not invest in monitoring they recive a small amount of informaitn passively, i.e. $\\sigma_{B,t}$ and $\\sigma_{w,t}$ are large. If they do decide to monitor  I assume they recieve accurate informaiton about the popualtin stucture i.e. $\\sigma_{w,t}$ is small, and some informaiton about the populations size. \n",
    "\n",
    "\n",
    "The manager makes decisions based on their beleif state which is defined by a subjective probability distribution over the state of the population. I assume that this distribution can be aproximated by a multivariate gausian density over the population biomass and numeric abundance. I use a technique called the Unscented Kalman Filter to compute how the managers belief state changes each time step. This algorithm aproxiates bayesian inferences integrating over the uncertianty in the biological porocess and incorperating inforamtion from the observations. \n",
    "\n"
   ]
  },
  {
   "cell_type": "markdown",
   "id": "e335d0d6-99bb-4322-89db-e734c79c57a3",
   "metadata": {},
   "source": [
    "## Define parameters for examples\n",
    "\n",
    "I have two examples, on of a small productive popuatlion of a short lived speceis and one from a long lived "
   ]
  },
  {
   "cell_type": "code",
   "execution_count": 184,
   "id": "3625e0b8-9dfa-4928-aca4-1324608a8e2a",
   "metadata": {},
   "outputs": [
    {
     "name": "stderr",
     "output_type": "stream",
     "text": [
      "WARNING: replacing module BiomassDynamics.\n"
     ]
    },
    {
     "data": {
      "text/plain": [
       "Main.BiomassDynamics"
      ]
     },
     "execution_count": 184,
     "metadata": {},
     "output_type": "execute_result"
    }
   ],
   "source": [
    "include(\"BiomassDynamics.jl\")"
   ]
  },
  {
   "cell_type": "code",
   "execution_count": 185,
   "id": "e37e3a79-7bd2-4a7f-8f29-f9e63eb0fbba",
   "metadata": {},
   "outputs": [
    {
     "name": "stdout",
     "output_type": "stream",
     "text": [
      "Short life history:\n",
      "Fmsy = 0.1\n",
      "MSY = 5.0\n",
      "Bmsy = 52.586\n",
      "\n",
      "Long life history:\n",
      "Fmsy = 0.05\n",
      "MSY = 5.0\n",
      "Bmsy = 103.405\n"
     ]
    }
   ],
   "source": [
    "### short LH\n",
    "# MSY + Fmsy\n",
    "println(\"Short life history:\")\n",
    "msy,Fmsy = BiomassDynamics.Fmsy(BiomassDynamics.pars_short)\n",
    "println(\"Fmsy = \", round(Fmsy,digits = 3))\n",
    "println(\"MSY = \", round(msy,digits = 3))\n",
    "# Bmsy\n",
    "Nmsy,Bmsy = BiomassDynamics.equib(Fmsy, BiomassDynamics.pars_short)\n",
    "println(\"Bmsy = \", round(Bmsy,digits = 3), \"\\n\")\n",
    "\n",
    "### long LH\n",
    "println(\"Long life history:\")\n",
    "# MSY + Fmsy\n",
    "msy,Fmsy = BiomassDynamics.Fmsy(BiomassDynamics.pars_long)\n",
    "println(\"Fmsy = \", round(Fmsy,digits = 3))\n",
    "println(\"MSY = \", round(msy,digits = 3))\n",
    "# Bmsy\n",
    "Nmsy,Bmsy = BiomassDynamics.equib(Fmsy, BiomassDynamics.pars_long)\n",
    "println(\"Bmsy = \", round(Bmsy,digits = 3))"
   ]
  },
  {
   "cell_type": "markdown",
   "id": "0e86b723-ae71-4f6f-94fe-1dd7319e328b",
   "metadata": {},
   "source": [
    "## Time series of belief dynamics and comparison to particle filter"
   ]
  },
  {
   "cell_type": "code",
   "execution_count": 209,
   "id": "9dc34bcb-064a-426a-b385-62d42c3d04e3",
   "metadata": {},
   "outputs": [
    {
     "data": {
      "text/plain": [
       "100"
      ]
     },
     "execution_count": 209,
     "metadata": {},
     "output_type": "execute_result"
    }
   ],
   "source": [
    "state = BiomassDynamics.init(BiomassDynamics.pars_short)\n",
    "HCR = x -> BiomassDynamics.p_star_sigma(x,0.1,0.2)\n",
    "Sigma_O = [1.0 0.0; 0.0 0.1]\n",
    "T = 100  \n",
    "# Bt, Ht, Ft, Bhat, Sigma_Bt = BiomassDynamics.simulation(state,BiomassDynamics.pars_short,1,BiomassDynamics.Sigma_O_1,HCR,T)"
   ]
  },
  {
   "cell_type": "code",
   "execution_count": 208,
   "id": "fe6331d6-d42f-47e8-beba-224fb9a49a61",
   "metadata": {},
   "outputs": [
    {
     "name": "stderr",
     "output_type": "stream",
     "text": [
      "WARNING: replacing module BiomassDynamics.\n"
     ]
    },
    {
     "ename": "LoadError",
     "evalue": "\u001b[91mUndefVarError: V not defined\u001b[39m",
     "output_type": "error",
     "traceback": [
      "\u001b[91mUndefVarError: V not defined\u001b[39m",
      "",
      "Stacktrace:",
      " [1] KalmanFilters.TransformedSigmaPoints(::V, ::Array{Float64,2}, ::KalmanFilters.WanMerweWeightingParameters) where V<:Array{Float64,1} at /Users/johnbuckner/.julia/packages/KalmanFilters/YuCmI/src/sigmapoints.jl:174",
      " [2] transform(::Main.BiomassDynamics.var\"#5#6\"{NTuple{8,Float64},Float64}, ::KalmanFilters.SigmaPoints{Float64,Array{Float64,1},LinearAlgebra.LowerTriangular{Float64,Array{Float64,2}},KalmanFilters.WanMerweWeightingParameters}) at /Users/johnbuckner/.julia/packages/KalmanFilters/YuCmI/src/sigmapoints.jl:188",
      " [3] time_update(::Array{Float64,1}, ::Array{Float64,2}, ::Function, ::Array{Float64,2}, ::KalmanFilters.WanMerweWeightingParameters) at /Users/johnbuckner/.julia/packages/KalmanFilters/YuCmI/src/ukf.jl:61",
      " [4] time_update(::Array{Float64,1}, ::Array{Float64,2}, ::Function, ::Array{Float64,2}) at /Users/johnbuckner/.julia/packages/KalmanFilters/YuCmI/src/ukf.jl:60",
      " [5] time_step!(::Main.BiomassDynamics.state, ::NTuple{8,Float64}, ::var\"#37#38\") at /Users/johnbuckner/github/KalmanFilterPOMDPs/examples/BiomassDynamics.jl:187",
      " [6] simulation(::Main.BiomassDynamics.state, ::NTuple{8,Float64}, ::Int64, ::Array{Float64,2}, ::Function, ::Int64) at /Users/johnbuckner/github/KalmanFilterPOMDPs/examples/BiomassDynamics.jl:214",
      " [7] top-level scope at In[208]:49",
      " [8] include_string(::Function, ::Module, ::String, ::String) at ./loading.jl:1091"
     ]
    }
   ],
   "source": [
    "include(\"BiomassDynamics.jl\")\n",
    "using Distributions\n",
    "#### set parameters ####\n",
    "# LH parameters\n",
    "k = 0.75\n",
    "winfty = 1.0\n",
    "wr = 0.0\n",
    "m = 0.25\n",
    "\n",
    "# SR paramters\n",
    "r = 2.00\n",
    "b_ = 0.02\n",
    "sigmaR = 0.5\n",
    "dR = Distributions.Normal(0,sigmaR)\n",
    "\n",
    "# pars list\n",
    "pars = (k,winfty,wr,m,r,b_,sigmaR, 0.25)\n",
    "\n",
    "\n",
    "### Observation parameters #####\n",
    "sigma_obs_B = 0.25\n",
    "sigma_obs_w = 0.05\n",
    "\n",
    "omega = 1\n",
    "Sigma_O = [sigma_obs_B 0.0;\n",
    "           0.0 sigma_obs_w]\n",
    "\n",
    "\n",
    "#### Harvest Control Rule ####\n",
    "Ftarget = 0.05\n",
    "pstar = 0.8\n",
    "HCR = x -> BiomassDynamics.p_star_sigma(x,Ftarget,pstar)\n",
    "\n",
    "\n",
    "#### Number of time steps ####\n",
    "T = 500\n",
    "\n",
    "#### Initialize State ####\n",
    "N0 = 40.0\n",
    "B0 = 20.0\n",
    "xt = [log(N0),log(B0), 0.0]\n",
    "xhat = [log(N0),log(B0), 0.0]\n",
    "P0 = [1.0 0.0 0.0; 0.0 1.0 0.0; 0.0 0.0 sigmaR]\n",
    "\n",
    "state0 = BiomassDynamics.state(xt, 0.0,0.0, xhat, P0)\n",
    "\n",
    "\n",
    "\n",
    "Bt, Ht, Ft, Sigma_Bt = BiomassDynamics.simulation(state0,pars,omega,Sigma_O,HCR,T)"
   ]
  },
  {
   "cell_type": "markdown",
   "id": "ba2ef824-9d04-412c-b333-85ef5da450b1",
   "metadata": {},
   "source": [
    "## Solution to observed system"
   ]
  },
  {
   "cell_type": "markdown",
   "id": "68b76d0c-a2ad-4ec5-b4b9-f347f4cef3ed",
   "metadata": {},
   "source": [
    "### Value Function"
   ]
  },
  {
   "cell_type": "markdown",
   "id": "73f880b5-4e74-48e4-b2b3-6d7b5eb14249",
   "metadata": {},
   "source": [
    "### Policy Function"
   ]
  },
  {
   "cell_type": "markdown",
   "id": "76b7735d-76b6-4856-8e18-aebc0bcbf372",
   "metadata": {},
   "source": [
    "### Time series under optimal policy"
   ]
  },
  {
   "cell_type": "markdown",
   "id": "9a3132df-4dfb-43ad-830f-d5432fa5c8ea",
   "metadata": {},
   "source": [
    "## Solution to partially observed system "
   ]
  },
  {
   "cell_type": "markdown",
   "id": "756dce86-d60c-45a3-a18c-2a7b724d97c9",
   "metadata": {},
   "source": [
    "### Value Function "
   ]
  },
  {
   "cell_type": "markdown",
   "id": "3d414133-c8fa-4691-a814-27b8a242c51b",
   "metadata": {},
   "source": [
    "### Policy Function "
   ]
  },
  {
   "cell_type": "markdown",
   "id": "f731d265-0791-4807-ae48-639f538c01ee",
   "metadata": {},
   "source": [
    "### Time series under opimal policy"
   ]
  },
  {
   "cell_type": "markdown",
   "id": "41ab663f-225d-4307-adae-0e45c7b018c5",
   "metadata": {},
   "source": [
    "### Mean and variance under alternative monitoring costs"
   ]
  },
  {
   "cell_type": "markdown",
   "id": "1dea32af-1d47-493a-b472-28ea5af1a54f",
   "metadata": {},
   "source": [
    "### Frequency of monitoring for slow and fast life histories. "
   ]
  },
  {
   "cell_type": "code",
   "execution_count": null,
   "id": "170c3304-11e2-4de1-94f5-ad765211e815",
   "metadata": {},
   "outputs": [],
   "source": []
  }
 ],
 "metadata": {
  "kernelspec": {
   "display_name": "Julia 1.5.3",
   "language": "julia",
   "name": "julia-1.5"
  },
  "language_info": {
   "file_extension": ".jl",
   "mimetype": "application/julia",
   "name": "julia",
   "version": "1.5.3"
  }
 },
 "nbformat": 4,
 "nbformat_minor": 5
}
