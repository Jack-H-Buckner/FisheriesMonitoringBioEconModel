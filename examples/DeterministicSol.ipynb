{
 "cells": [
  {
   "cell_type": "markdown",
   "id": "6310e4aa-429d-4d34-b620-6397908e2f78",
   "metadata": {},
   "source": [
    "# Deterministic solutions"
   ]
  },
  {
   "cell_type": "code",
   "execution_count": 304,
   "id": "41e28971-25a9-492a-b1f6-73994f5f218b",
   "metadata": {},
   "outputs": [
    {
     "name": "stderr",
     "output_type": "stream",
     "text": [
      "WARNING: replacing module harvest_policies.\n"
     ]
    },
    {
     "data": {
      "text/plain": [
       "Main.harvest_policies"
      ]
     },
     "execution_count": 304,
     "metadata": {},
     "output_type": "execute_result"
    }
   ],
   "source": [
    "include(\"../FARM/harvest_policies.jl\")"
   ]
  },
  {
   "cell_type": "code",
   "execution_count": 305,
   "id": "53111bb6-6742-4d3c-8964-d1b0ce6abe79",
   "metadata": {},
   "outputs": [
    {
     "data": {
      "text/plain": [
       "dTdx (generic function with 1 method)"
      ]
     },
     "execution_count": 305,
     "metadata": {},
     "output_type": "execute_result"
    }
   ],
   "source": [
    "# set parameters\n",
    "Bmsy = 50\n",
    "Fmsy = 0.2\n",
    "MSY = Fmsy*Bmsy\n",
    "SigmaN = [0.000005;;]\n",
    "sigma_a = [0.1,0.2,0.4]\n",
    "sigma_p = 2.0\n",
    "c1 = 0.0\n",
    "C2 = [0.0,0.02,0.04]\n",
    "C3 = [0.0, 3.0, 9.0]\n",
    "b = Fmsy\n",
    "maxV = [0.0,MSY]\n",
    "discount = 0.05\n",
    "beta = 1/(1+discount)\n",
    "# set value and policy functions \n",
    "pars = (MSY,Fmsy,SigmaN,sigma_a[1],sigma_p,c1,0.01,C3[1],b,maxV[1],discount)\n",
    "R1, V, P, mod, delta=harvest_policies.set_up_model(pars;N=20)\n",
    "\n",
    "using ForwardDiff\n",
    "T = (x,h) -> exp(mod.T([log(x)],(h,1),1)[1])\n",
    "dTdx(x,h) = ForwardDiff.derivative(x -> T(x,h),x)"
   ]
  },
  {
   "cell_type": "code",
   "execution_count": 306,
   "id": "08f57a5c-f2d5-443b-854c-d2317c4e1be6",
   "metadata": {},
   "outputs": [
    {
     "data": {
      "text/plain": [
       "target_singular (generic function with 2 methods)"
      ]
     },
     "execution_count": 306,
     "metadata": {},
     "output_type": "execute_result"
    }
   ],
   "source": [
    "\n",
    "function target_singular(x;discount=0.05)\n",
    "    v = zeros(2)\n",
    "    v[1] = (1+discount) - dTdx(x[1],x[2])\n",
    "    v[2] = x[1] - T(x[1],x[2]) \n",
    "    return v\n",
    "end "
   ]
  },
  {
   "cell_type": "code",
   "execution_count": 307,
   "id": "19b5aa1c-d55e-4a56-b5e4-b9d953ad84b8",
   "metadata": {},
   "outputs": [
    {
     "data": {
      "text/plain": [
       "Results of Nonlinear Solver Algorithm\n",
       " * Algorithm: Trust-region with dogleg and autoscaling\n",
       " * Starting Point: [60.0, 10.0]\n",
       " * Zero: [52.590961282750506, 9.821305360489255]\n",
       " * Inf-norm of residuals: 0.000000\n",
       " * Iterations: 18\n",
       " * Convergence: true\n",
       "   * |x - x'| < 0.0e+00: false\n",
       "   * |f(x)| < 1.0e-12: true\n",
       " * Function Calls (f): 12\n",
       " * Jacobian Calls (df/dx): 9"
      ]
     },
     "execution_count": 307,
     "metadata": {},
     "output_type": "execute_result"
    }
   ],
   "source": [
    "using NLsolve\n",
    "nlsolve(x->target_singular(x,discount=0.05),[60.0,10],ftol=10^-12)\n"
   ]
  },
  {
   "cell_type": "code",
   "execution_count": null,
   "id": "69298f11-41ce-4098-9ad6-c6f1cc312627",
   "metadata": {},
   "outputs": [],
   "source": []
  },
  {
   "cell_type": "code",
   "execution_count": null,
   "id": "80a52608-11eb-4932-8204-7ead44e924a5",
   "metadata": {},
   "outputs": [],
   "source": []
  }
 ],
 "metadata": {
  "kernelspec": {
   "display_name": "Julia 1.7.3",
   "language": "julia",
   "name": "julia-1.7"
  },
  "language_info": {
   "file_extension": ".jl",
   "mimetype": "application/julia",
   "name": "julia",
   "version": "1.7.3"
  }
 },
 "nbformat": 4,
 "nbformat_minor": 5
}
