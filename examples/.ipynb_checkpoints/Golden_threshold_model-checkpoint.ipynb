{
 "cells": [
  {
   "cell_type": "markdown",
   "id": "ca5c0b8c-0fcb-4615-b12f-51f5298acfde",
   "metadata": {},
   "source": [
    "# Multiple threshold models\n",
    "\n",
    "biological dynamics with depensatory behavior\n",
    "\n",
    "$D(B_t) = 1- exp\\left(\\frac{log(0.5)B_t}{dK}\\right)$\n",
    "\n",
    "$B_{t+1} = \\frac{r D(B_t)B_t}{1+bD(B_t)B_t} - Q(B_t)E(B_t)u_t$\n",
    "\n",
    "$E(B) =   \\frac{E_{max}}{(1 + exp( - Q(B_t) + V))}$\n",
    "\n",
    "intercept: $= E_0 = E(0) =  \\frac{Emax}{1+exp(V)}$\n",
    "\n",
    "steepness: $= \\gamma = \\frac{dE(B)}{dB} = \\frac{a}{4}$\n",
    "\n",
    "$Q(B) = qB^{\\rho}$\n",
    "\n",
    "catchability: $= q$\n",
    "\n",
    "nonlinearity: $= \\rho $"
   ]
  },
  {
   "cell_type": "code",
   "execution_count": 6,
   "id": "ea9b5875-4ee9-4e38-a7d3-6f6f22383c8b",
   "metadata": {},
   "outputs": [
    {
     "ename": "LoadError",
     "evalue": "UndefVarError: Flaot64 not defined",
     "output_type": "error",
     "traceback": [
      "UndefVarError: Flaot64 not defined",
      "",
      "Stacktrace:",
      " [1] top-level scope",
      "   @ In[6]:1"
     ]
    }
   ],
   "source": [
    "mutable struct fishery_with_thresholds\n",
    "    d::float64 # strength of dependation\n",
    "    K::float64 # carrying capacity (r-1)/b\n",
    "    r::float64 # growth rate \n",
    "    b::float64 # density dependence\n",
    "    q::float64 # catchability\n",
    "    rho::float64 # nonlinear catchability \n",
    "    V::float64 # base value\n",
    "    a::float64 # steepness\n",
    "    Emax::flaot64 # max effort \n",
    "    intercept::float64 # Emax/(1+exp(V))\n",
    "    steepness::float64 # a/4\n",
    "end \n",
    "\n",
    "function fishery_with_thresholds(d,K,r,b,q,rho,Emax,intercept,steepness)\n",
    "    V = log(Emax/intercept-1)\n",
    "    a = 4*steepness\n",
    "    return fishery_with_thresholds(d,K,r,b,q,rho,V,a,Emax,intercept,steepness)\n",
    "end \n"
   ]
  },
  {
   "cell_type": "code",
   "execution_count": 4,
   "id": "7692df67-3460-4ec2-8f7b-25af9a18a986",
   "metadata": {},
   "outputs": [],
   "source": [
    "mutable struct s\n",
    "    val::Float64\n",
    "end"
   ]
  },
  {
   "cell_type": "code",
   "execution_count": 5,
   "id": "ae642f97-52cb-4f30-a494-c3766c535d21",
   "metadata": {},
   "outputs": [
    {
     "data": {
      "text/plain": [
       "s(1.0)"
      ]
     },
     "execution_count": 5,
     "metadata": {},
     "output_type": "execute_result"
    }
   ],
   "source": [
    "s(1.)"
   ]
  },
  {
   "cell_type": "code",
   "execution_count": null,
   "id": "91dd34a9-d1d8-4b45-9d80-e9bb0ddf7e11",
   "metadata": {},
   "outputs": [],
   "source": []
  }
 ],
 "metadata": {
  "kernelspec": {
   "display_name": "Julia 1.7.3",
   "language": "julia",
   "name": "julia-1.7"
  },
  "language_info": {
   "file_extension": ".jl",
   "mimetype": "application/julia",
   "name": "julia",
   "version": "1.7.3"
  }
 },
 "nbformat": 4,
 "nbformat_minor": 5
}
