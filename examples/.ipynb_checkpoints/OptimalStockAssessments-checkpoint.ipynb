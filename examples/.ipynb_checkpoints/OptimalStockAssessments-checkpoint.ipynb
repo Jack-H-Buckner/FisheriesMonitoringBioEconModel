{
 "cells": [
  {
   "cell_type": "markdown",
   "id": "a55cf57b-cd27-4d4a-91c7-fcf65fb56ef7",
   "metadata": {},
   "source": [
    "# Optimal Stock Assessments \n",
    "\n",
    "## Introduction + model description \n",
    "This note book shows how to used the KalmanFiltersPOMDP library to solve dynamic programming problems that include dcision to invest in informaiton. The model presnted here describes a resource mnamgnet agency investing in stock assesments to support a fishery. I assume the manager sets harvest limits on an anual basis with the goal of maximzing harvest  from the system: \n",
    "\n",
    "$max_{H_t}\\left\\{\\sum_{t=0}^{\\infty}\\delta^tH_t \\right\\}$,\n",
    "\n",
    "$s.t. H_t  > B_t$\n",
    "\n",
    "$B_t = f_B(B_{t-1}, N_{t-1}) $,\n",
    "\n",
    "$N_t = f_N(B_{t-1}, N_{t-1}) $\n",
    "\n",
    "where $H_t$ is total harvest, $\\delta$ is a discount factor. $B_t$ is the biomass of the popuatlion, $N_t$ describes the total number ofindividual in the population and the function $f_B$, $f_N$ describe the popautlion dynamics.\n",
    "\n",
    "I assume that recruitment into the popualtion is a saturating function of the popualtion times a longnormal random varaible $\\nu_t$ whcih described environmetnal variability\n",
    "\n",
    "$R_t = \\frac{rB_te^{\\nu_t - 0.5\\sigma_{nu_t}}}{1+bB_t}$.\n",
    "\n",
    "I assume that the growth rate of each individuals is a declining function of size\n",
    "\n",
    "$w_t = (1-k)w_{\\infty} + kw_{t-1}$.\n",
    "\n",
    "Taken together these two assumptions can be used to define the dynamics of a size structured popualtion that only tacks two state variables numbers and biomass.\n",
    "\n",
    "\n",
    "I assume that the resource managers can observe the biomass of the popuatlion and the average size of the popualtion. I assume each of these observaiton is noisy and that the noise is normally distrubtied under a log transformation\n",
    "\n",
    "$\\hat{B}_t = B_te^{\\epsilon_{B,t}}$\n",
    "\n",
    "$\\hat{w}_t = B_te^{\\epsilon_{w,t}}/N_t$.\n",
    "\n",
    "$\\epsilon_{B,t} \\sim N(0,\\sigma_{b,t})$\n",
    "\n",
    "$\\epsilon_{w,t} \\sim N(0,\\sigma_{w,t})$\n",
    "\n",
    "The resource manager can choose to invest in these observations each time period. If they do not invest in monitoring they recive a small amount of informaitn passively, i.e. $\\sigma_{B,t}$ and $\\sigma_{w,t}$ are large. If they do decide to monitor  I assume they recieve accurate informaiton about the popualtin stucture i.e. $\\sigma_{w,t}$ is small, and some informaiton about the populations size. \n",
    "\n",
    "\n",
    "The manager makes decisions based on their beleif state which is defined by a subjective probability distribution over the state of the population. I assume that this distribution can be aproximated by a multivariate gausian density over the population biomass and numeric abundance. I use a technique called the Unscented Kalman Filter to compute how the managers belief state changes each time step. This algorithm aproxiates bayesian inferences integrating over the uncertianty in the biological porocess and incorperating inforamtion from the observations. \n",
    "\n"
   ]
  },
  {
   "cell_type": "markdown",
   "id": "0e86b723-ae71-4f6f-94fe-1dd7319e328b",
   "metadata": {},
   "source": [
    "## Time series of belief dynamics and comparison to particle filter"
   ]
  },
  {
   "cell_type": "markdown",
   "id": "ba2ef824-9d04-412c-b333-85ef5da450b1",
   "metadata": {},
   "source": [
    "## Solution to observed system"
   ]
  },
  {
   "cell_type": "markdown",
   "id": "68b76d0c-a2ad-4ec5-b4b9-f347f4cef3ed",
   "metadata": {},
   "source": [
    "### Value Function"
   ]
  },
  {
   "cell_type": "markdown",
   "id": "73f880b5-4e74-48e4-b2b3-6d7b5eb14249",
   "metadata": {},
   "source": [
    "### Policy Function"
   ]
  },
  {
   "cell_type": "markdown",
   "id": "76b7735d-76b6-4856-8e18-aebc0bcbf372",
   "metadata": {},
   "source": [
    "### Time series under optimal policy"
   ]
  },
  {
   "cell_type": "markdown",
   "id": "9a3132df-4dfb-43ad-830f-d5432fa5c8ea",
   "metadata": {},
   "source": [
    "## Solution to partially observed system "
   ]
  },
  {
   "cell_type": "markdown",
   "id": "756dce86-d60c-45a3-a18c-2a7b724d97c9",
   "metadata": {},
   "source": [
    "### Value Function "
   ]
  },
  {
   "cell_type": "markdown",
   "id": "3d414133-c8fa-4691-a814-27b8a242c51b",
   "metadata": {},
   "source": [
    "### Policy Function "
   ]
  },
  {
   "cell_type": "markdown",
   "id": "f731d265-0791-4807-ae48-639f538c01ee",
   "metadata": {},
   "source": [
    "### Time series under opimal policy"
   ]
  },
  {
   "cell_type": "markdown",
   "id": "41ab663f-225d-4307-adae-0e45c7b018c5",
   "metadata": {},
   "source": [
    "### Mean and variance under alternative monitoring costs"
   ]
  },
  {
   "cell_type": "markdown",
   "id": "1dea32af-1d47-493a-b472-28ea5af1a54f",
   "metadata": {},
   "source": [
    "### Frequency of monitoring for slow and fast life histories. "
   ]
  },
  {
   "cell_type": "code",
   "execution_count": null,
   "id": "170c3304-11e2-4de1-94f5-ad765211e815",
   "metadata": {},
   "outputs": [],
   "source": []
  }
 ],
 "metadata": {
  "kernelspec": {
   "display_name": "Julia 1.5.3",
   "language": "julia",
   "name": "julia-1.5"
  },
  "language_info": {
   "file_extension": ".jl",
   "mimetype": "application/julia",
   "name": "julia",
   "version": "1.5.3"
  }
 },
 "nbformat": 4,
 "nbformat_minor": 5
}
