{
 "cells": [
  {
   "cell_type": "markdown",
   "id": "75a9efe0-a06b-43b8-af49-48868b4d327d",
   "metadata": {},
   "source": [
    "# Buffers or feedbacks?\n",
    "Is it better to invest in institutions that establish feedbacks between human impacts and te state of the environment or reduce impacts to boost resiliance?\n",
    "\n",
    "Buffers - p* / sigma rule roughgarden paper \n",
    "\n",
    "### Model\n",
    "- Fish stock with convex dynamics + stochastic growth\n",
    "- Bioeconomic equilibrium reached quickly by harvesters in the absence of regulations\n",
    "- regulations set harvest limits\n",
    "    - bioeconomic optimal harvest limit (no state uncertinaty)\n",
    "    - optimal harvst limits with imperfect info about stock + imperfect implementation \n",
    "    - fixed harvest limits (with a buffer)\n",
    "- objectives\n",
    "    - Profit max\n",
    "        - stock dependent costs \n",
    "        - risk aversion\n",
    "    - conservaiton\n",
    "        - Risk aversion\n",
    "\n",
    "\n",
    "### Model 2\n",
    "- comapre a buffer based policy to a simple uncerintay based policy in a non-stationary environment. \n",
    "- Structural uncertianty\n",
    "\n",
    "### Analysis \n",
    "- solve for the optimal policy under a given set of objectives \n",
    "- compute the expected net present value for differnt inital stock sizes \n",
    "- value of perfect feedbacks is the differn between the optimal fixed and global optimum policy\n",
    "- model with observaitonal errors illustrates a \"realistic\" intermediate\n",
    "- How does the manamgent objective influence the value? does the value of the feedback flow from the harvest objective or the conservaiton objective?\n",
    "- simpler models, how uch do more complex form of uncertianty boost the performance of feedback policies?"
   ]
  },
  {
   "cell_type": "markdown",
   "id": "efe0dea0-8ece-43b3-a0f3-1fd681d8b74e",
   "metadata": {},
   "source": [
    "# Fixed harvest optimization"
   ]
  },
  {
   "cell_type": "code",
   "execution_count": 1,
   "id": "0fe06900-d5f8-41e1-8386-d4f64f16fd3f",
   "metadata": {},
   "outputs": [],
   "source": [
    "include(\"../src/MvGaussHermite.jl\")\n",
    "using Interpolations"
   ]
  },
  {
   "cell_type": "code",
   "execution_count": 2,
   "id": "f3a51793-2c0f-4b05-b7df-73c4fb8d00b8",
   "metadata": {},
   "outputs": [],
   "source": [
    "mutable struct ValueFunction\n",
    "    gridx\n",
    "    gridV\n",
    "    interpolation\n",
    "end "
   ]
  },
  {
   "cell_type": "code",
   "execution_count": 23,
   "id": "5b8b250d-273f-4c8b-b9eb-6cdfdb01a0b2",
   "metadata": {},
   "outputs": [
    {
     "data": {
      "text/plain": [
       "update_ValueFunction (generic function with 1 method)"
      ]
     },
     "execution_count": 23,
     "metadata": {},
     "output_type": "execute_result"
    }
   ],
   "source": [
    "function (V::ValueFunction)(x)\n",
    "    min_ = V.gridx[1]; max_ = V.gridx[end]\n",
    "    min_itp = 1; max_itp = length(V.gridx)\n",
    "    ind = (x - min_)/(max_-min_)\n",
    "    ind = ind * (max_itp - min_itp) + min_itp \n",
    "    V.interpolation(ind)\n",
    "end \n",
    "\n",
    "function ValueFunction(gridx,gridV)\n",
    "    itp = interpolate(gridV, BSpline(Linear()))\n",
    "    etpf = extrapolate(itp, Flat())    \n",
    "    ValueFunction(gridx,gridV,etpf)\n",
    "end \n",
    "\n",
    "function update_ValueFunction(V,gridV)\n",
    "    itp = interpolate(gridV, BSpline(Linear()))\n",
    "    etpf = extrapolate(itp, Flat())    \n",
    "    V.gridV = gridV\n",
    "    V.interpolation = etpf\n",
    "end "
   ]
  },
  {
   "cell_type": "code",
   "execution_count": 35,
   "id": "685b9267-2fc1-4275-937d-54ea5fc41e9e",
   "metadata": {},
   "outputs": [],
   "source": [
    "Cov=zeros(1,1);Cov[1,1] = 0.05^2\n",
    "quad = MvGaussHermite.init_mutable(30,[0.0],Cov)\n",
    "nothing "
   ]
  },
  {
   "cell_type": "code",
   "execution_count": 206,
   "id": "4356f5cd-0dca-4c88-84e0-ee670cc77198",
   "metadata": {},
   "outputs": [
    {
     "data": {
      "text/plain": [
       "Bellman! (generic function with 2 methods)"
      ]
     },
     "execution_count": 206,
     "metadata": {},
     "output_type": "execute_result"
    }
   ],
   "source": [
    "function dynamics(x,H,eps, Bmin, r, b, tau)\n",
    "    B = exp(x)\n",
    "    if B < Bmin # if biomass is less than the minimum profitable biomass no harvest\n",
    "        H = 0\n",
    "    end\n",
    "    \n",
    "    if (B - H) < Bmin # if harvest stops when minimum profitable biomass is reached\n",
    "        H = B - Bmin\n",
    "    end \n",
    "    \n",
    "    B = B-H\n",
    "    B = r*B/(1+b*B)\n",
    "    \n",
    "    \n",
    "    return log(B)+ eps - 0.5*tau^2, H\n",
    "end \n",
    "\n",
    "\n",
    "function Bellman_eqn(x,pi,H,Bmin,r,b,tau,V,delta,quad)\n",
    "    Hvals = broadcast(eps -> dynamics(x,H,eps[1], Bmin, r, b, tau)[2],quad.nodes)\n",
    "    xt1 = broadcast(eps -> dynamics(x,H,eps[1], Bmin, r, b, tau)[1],quad.nodes)\n",
    "    R = sum(broadcast(i -> pi(Hvals[i],exp(xt1[i])), 1:quad.m) .* quad.weights)\n",
    "    EV = sum(V.(xt1) .* quad.weights)\n",
    "    return R + delta*EV\n",
    "end \n",
    "\n",
    "\n",
    "function Bellman!(V,pi,H,Bmin,r,b,tau,delta,quad)\n",
    "    v_prime = broadcast(x -> Bellman_eqn(x,pi,H,Bmin,r,b,tau,V,delta,quad),V.gridx)\n",
    "    return update_ValueFunction(V,v_prime)\n",
    "end \n"
   ]
  },
  {
   "cell_type": "code",
   "execution_count": 233,
   "id": "b229b6bb-c545-4a88-862a-5f6ce6574e5f",
   "metadata": {},
   "outputs": [
    {
     "data": {
      "text/plain": [
       "performance (generic function with 1 method)"
      ]
     },
     "execution_count": 233,
     "metadata": {},
     "output_type": "execute_result"
    }
   ],
   "source": [
    "function performance(pi,H,Bmin,r,b,tau,delta)\n",
    "    Bupper = 1.5*(r-1)/b\n",
    "    Cov=zeros(1,1);Cov[1,1] = tau^2; quad = MvGaussHermite.init_mutable(m,[0.0],Cov)\n",
    "    gridx = log(Bmin):0.2:log(Bupper); V = ValueFunction(gridx,zeros(length(gridx)))\n",
    "    p = Plots.plot(exp.(V.gridx),V.gridV, label = \"\")\n",
    "    for i in 1:10\n",
    "        Bellman!(V,pi_,H,Bmin,r,b,tau,delta,quad)\n",
    "        Plots.plot!(p,exp.(V.gridx),V.gridV, label = \"\")\n",
    "    end\n",
    "    return V, V(log(0.5*(r-1)/b))\n",
    "end"
   ]
  },
  {
   "cell_type": "code",
   "execution_count": 246,
   "id": "df070068-a779-4126-b7fb-71b347c07757",
   "metadata": {},
   "outputs": [
    {
     "name": "stdout",
     "output_type": "stream",
     "text": [
      "3.1599387799048904\n"
     ]
    },
    {
     "data": {
      "image/svg+xml": [
       "<?xml version=\"1.0\" encoding=\"utf-8\"?>\n",
       "<svg xmlns=\"http://www.w3.org/2000/svg\" xmlns:xlink=\"http://www.w3.org/1999/xlink\" width=\"600\" height=\"400\" viewBox=\"0 0 2400 1600\">\n",
       "<defs>\n",
       "  <clipPath id=\"clip950\">\n",
       "    <rect x=\"0\" y=\"0\" width=\"2400\" height=\"1600\"/>\n",
       "  </clipPath>\n",
       "</defs>\n",
       "<path clip-path=\"url(#clip950)\" d=\"M0 1600 L2400 1600 L2400 0 L0 0  Z\" fill=\"#ffffff\" fill-rule=\"evenodd\" fill-opacity=\"1\"/>\n",
       "<defs>\n",
       "  <clipPath id=\"clip951\">\n",
       "    <rect x=\"480\" y=\"0\" width=\"1681\" height=\"1600\"/>\n",
       "  </clipPath>\n",
       "</defs>\n",
       "<path clip-path=\"url(#clip950)\" d=\"M215.95 1486.45 L2352.76 1486.45 L2352.76 47.2441 L215.95 47.2441  Z\" fill=\"#ffffff\" fill-rule=\"evenodd\" fill-opacity=\"1\"/>\n",
       "<defs>\n",
       "  <clipPath id=\"clip952\">\n",
       "    <rect x=\"215\" y=\"47\" width=\"2138\" height=\"1440\"/>\n",
       "  </clipPath>\n",
       "</defs>\n",
       "<polyline clip-path=\"url(#clip952)\" style=\"stroke:#000000; stroke-linecap:round; stroke-linejoin:round; stroke-width:2; stroke-opacity:0.1; fill:none\" points=\"519.032,1486.45 519.032,47.2441 \"/>\n",
       "<polyline clip-path=\"url(#clip952)\" style=\"stroke:#000000; stroke-linecap:round; stroke-linejoin:round; stroke-width:2; stroke-opacity:0.1; fill:none\" points=\"923.376,1486.45 923.376,47.2441 \"/>\n",
       "<polyline clip-path=\"url(#clip952)\" style=\"stroke:#000000; stroke-linecap:round; stroke-linejoin:round; stroke-width:2; stroke-opacity:0.1; fill:none\" points=\"1327.72,1486.45 1327.72,47.2441 \"/>\n",
       "<polyline clip-path=\"url(#clip952)\" style=\"stroke:#000000; stroke-linecap:round; stroke-linejoin:round; stroke-width:2; stroke-opacity:0.1; fill:none\" points=\"1732.06,1486.45 1732.06,47.2441 \"/>\n",
       "<polyline clip-path=\"url(#clip952)\" style=\"stroke:#000000; stroke-linecap:round; stroke-linejoin:round; stroke-width:2; stroke-opacity:0.1; fill:none\" points=\"2136.41,1486.45 2136.41,47.2441 \"/>\n",
       "<polyline clip-path=\"url(#clip950)\" style=\"stroke:#000000; stroke-linecap:round; stroke-linejoin:round; stroke-width:4; stroke-opacity:1; fill:none\" points=\"215.95,1486.45 2352.76,1486.45 \"/>\n",
       "<polyline clip-path=\"url(#clip950)\" style=\"stroke:#000000; stroke-linecap:round; stroke-linejoin:round; stroke-width:4; stroke-opacity:1; fill:none\" points=\"519.032,1486.45 519.032,1467.55 \"/>\n",
       "<polyline clip-path=\"url(#clip950)\" style=\"stroke:#000000; stroke-linecap:round; stroke-linejoin:round; stroke-width:4; stroke-opacity:1; fill:none\" points=\"923.376,1486.45 923.376,1467.55 \"/>\n",
       "<polyline clip-path=\"url(#clip950)\" style=\"stroke:#000000; stroke-linecap:round; stroke-linejoin:round; stroke-width:4; stroke-opacity:1; fill:none\" points=\"1327.72,1486.45 1327.72,1467.55 \"/>\n",
       "<polyline clip-path=\"url(#clip950)\" style=\"stroke:#000000; stroke-linecap:round; stroke-linejoin:round; stroke-width:4; stroke-opacity:1; fill:none\" points=\"1732.06,1486.45 1732.06,1467.55 \"/>\n",
       "<polyline clip-path=\"url(#clip950)\" style=\"stroke:#000000; stroke-linecap:round; stroke-linejoin:round; stroke-width:4; stroke-opacity:1; fill:none\" points=\"2136.41,1486.45 2136.41,1467.55 \"/>\n",
       "<path clip-path=\"url(#clip950)\" d=\"M496.914 1517.37 Q493.303 1517.37 491.474 1520.93 Q489.669 1524.47 489.669 1531.6 Q489.669 1538.71 491.474 1542.27 Q493.303 1545.82 496.914 1545.82 Q500.548 1545.82 502.354 1542.27 Q504.182 1538.71 504.182 1531.6 Q504.182 1524.47 502.354 1520.93 Q500.548 1517.37 496.914 1517.37 M496.914 1513.66 Q502.724 1513.66 505.78 1518.27 Q508.858 1522.85 508.858 1531.6 Q508.858 1540.33 505.78 1544.94 Q502.724 1549.52 496.914 1549.52 Q491.104 1549.52 488.025 1544.94 Q484.969 1540.33 484.969 1531.6 Q484.969 1522.85 488.025 1518.27 Q491.104 1513.66 496.914 1513.66 Z\" fill=\"#000000\" fill-rule=\"nonzero\" fill-opacity=\"1\" /><path clip-path=\"url(#clip950)\" d=\"M517.076 1542.97 L521.96 1542.97 L521.96 1548.85 L517.076 1548.85 L517.076 1542.97 Z\" fill=\"#000000\" fill-rule=\"nonzero\" fill-opacity=\"1\" /><path clip-path=\"url(#clip950)\" d=\"M532.191 1514.29 L550.548 1514.29 L550.548 1518.22 L536.474 1518.22 L536.474 1526.7 Q537.492 1526.35 538.511 1526.19 Q539.529 1526 540.548 1526 Q546.335 1526 549.714 1529.17 Q553.094 1532.34 553.094 1537.76 Q553.094 1543.34 549.622 1546.44 Q546.15 1549.52 539.83 1549.52 Q537.654 1549.52 535.386 1549.15 Q533.141 1548.78 530.733 1548.04 L530.733 1543.34 Q532.816 1544.47 535.039 1545.03 Q537.261 1545.58 539.738 1545.58 Q543.742 1545.58 546.08 1543.48 Q548.418 1541.37 548.418 1537.76 Q548.418 1534.15 546.08 1532.04 Q543.742 1529.94 539.738 1529.94 Q537.863 1529.94 535.988 1530.35 Q534.136 1530.77 532.191 1531.65 L532.191 1514.29 Z\" fill=\"#000000\" fill-rule=\"nonzero\" fill-opacity=\"1\" /><path clip-path=\"url(#clip950)\" d=\"M890.529 1544.91 L898.168 1544.91 L898.168 1518.55 L889.857 1520.21 L889.857 1515.95 L898.121 1514.29 L902.797 1514.29 L902.797 1544.91 L910.436 1544.91 L910.436 1548.85 L890.529 1548.85 L890.529 1544.91 Z\" fill=\"#000000\" fill-rule=\"nonzero\" fill-opacity=\"1\" /><path clip-path=\"url(#clip950)\" d=\"M919.88 1542.97 L924.765 1542.97 L924.765 1548.85 L919.88 1548.85 L919.88 1542.97 Z\" fill=\"#000000\" fill-rule=\"nonzero\" fill-opacity=\"1\" /><path clip-path=\"url(#clip950)\" d=\"M944.95 1517.37 Q941.339 1517.37 939.51 1520.93 Q937.704 1524.47 937.704 1531.6 Q937.704 1538.71 939.51 1542.27 Q941.339 1545.82 944.95 1545.82 Q948.584 1545.82 950.389 1542.27 Q952.218 1538.71 952.218 1531.6 Q952.218 1524.47 950.389 1520.93 Q948.584 1517.37 944.95 1517.37 M944.95 1513.66 Q950.76 1513.66 953.815 1518.27 Q956.894 1522.85 956.894 1531.6 Q956.894 1540.33 953.815 1544.94 Q950.76 1549.52 944.95 1549.52 Q939.14 1549.52 936.061 1544.94 Q933.005 1540.33 933.005 1531.6 Q933.005 1522.85 936.061 1518.27 Q939.14 1513.66 944.95 1513.66 Z\" fill=\"#000000\" fill-rule=\"nonzero\" fill-opacity=\"1\" /><path clip-path=\"url(#clip950)\" d=\"M1295.37 1544.91 L1303.01 1544.91 L1303.01 1518.55 L1294.7 1520.21 L1294.7 1515.95 L1302.96 1514.29 L1307.64 1514.29 L1307.64 1544.91 L1315.28 1544.91 L1315.28 1548.85 L1295.37 1548.85 L1295.37 1544.91 Z\" fill=\"#000000\" fill-rule=\"nonzero\" fill-opacity=\"1\" /><path clip-path=\"url(#clip950)\" d=\"M1324.72 1542.97 L1329.61 1542.97 L1329.61 1548.85 L1324.72 1548.85 L1324.72 1542.97 Z\" fill=\"#000000\" fill-rule=\"nonzero\" fill-opacity=\"1\" /><path clip-path=\"url(#clip950)\" d=\"M1339.84 1514.29 L1358.19 1514.29 L1358.19 1518.22 L1344.12 1518.22 L1344.12 1526.7 Q1345.14 1526.35 1346.16 1526.19 Q1347.18 1526 1348.19 1526 Q1353.98 1526 1357.36 1529.17 Q1360.74 1532.34 1360.74 1537.76 Q1360.74 1543.34 1357.27 1546.44 Q1353.8 1549.52 1347.48 1549.52 Q1345.3 1549.52 1343.03 1549.15 Q1340.79 1548.78 1338.38 1548.04 L1338.38 1543.34 Q1340.46 1544.47 1342.68 1545.03 Q1344.91 1545.58 1347.38 1545.58 Q1351.39 1545.58 1353.73 1543.48 Q1356.06 1541.37 1356.06 1537.76 Q1356.06 1534.15 1353.73 1532.04 Q1351.39 1529.94 1347.38 1529.94 Q1345.51 1529.94 1343.63 1530.35 Q1341.78 1530.77 1339.84 1531.65 L1339.84 1514.29 Z\" fill=\"#000000\" fill-rule=\"nonzero\" fill-opacity=\"1\" /><path clip-path=\"url(#clip950)\" d=\"M1703.3 1544.91 L1719.62 1544.91 L1719.62 1548.85 L1697.68 1548.85 L1697.68 1544.91 Q1700.34 1542.16 1704.92 1537.53 Q1709.53 1532.88 1710.71 1531.53 Q1712.95 1529.01 1713.83 1527.27 Q1714.74 1525.51 1714.74 1523.82 Q1714.74 1521.07 1712.79 1519.33 Q1710.87 1517.6 1707.77 1517.6 Q1705.57 1517.6 1703.12 1518.36 Q1700.69 1519.13 1697.91 1520.68 L1697.91 1515.95 Q1700.73 1514.82 1703.19 1514.24 Q1705.64 1513.66 1707.68 1513.66 Q1713.05 1513.66 1716.24 1516.35 Q1719.44 1519.03 1719.44 1523.52 Q1719.44 1525.65 1718.63 1527.57 Q1717.84 1529.47 1715.73 1532.07 Q1715.15 1532.74 1712.05 1535.95 Q1708.95 1539.15 1703.3 1544.91 Z\" fill=\"#000000\" fill-rule=\"nonzero\" fill-opacity=\"1\" /><path clip-path=\"url(#clip950)\" d=\"M1729.44 1542.97 L1734.32 1542.97 L1734.32 1548.85 L1729.44 1548.85 L1729.44 1542.97 Z\" fill=\"#000000\" fill-rule=\"nonzero\" fill-opacity=\"1\" /><path clip-path=\"url(#clip950)\" d=\"M1754.51 1517.37 Q1750.89 1517.37 1749.07 1520.93 Q1747.26 1524.47 1747.26 1531.6 Q1747.26 1538.71 1749.07 1542.27 Q1750.89 1545.82 1754.51 1545.82 Q1758.14 1545.82 1759.95 1542.27 Q1761.77 1538.71 1761.77 1531.6 Q1761.77 1524.47 1759.95 1520.93 Q1758.14 1517.37 1754.51 1517.37 M1754.51 1513.66 Q1760.32 1513.66 1763.37 1518.27 Q1766.45 1522.85 1766.45 1531.6 Q1766.45 1540.33 1763.37 1544.94 Q1760.32 1549.52 1754.51 1549.52 Q1748.7 1549.52 1745.62 1544.94 Q1742.56 1540.33 1742.56 1531.6 Q1742.56 1522.85 1745.62 1518.27 Q1748.7 1513.66 1754.51 1513.66 Z\" fill=\"#000000\" fill-rule=\"nonzero\" fill-opacity=\"1\" /><path clip-path=\"url(#clip950)\" d=\"M2108.14 1544.91 L2124.46 1544.91 L2124.46 1548.85 L2102.52 1548.85 L2102.52 1544.91 Q2105.18 1542.16 2109.76 1537.53 Q2114.37 1532.88 2115.55 1531.53 Q2117.8 1529.01 2118.68 1527.27 Q2119.58 1525.51 2119.58 1523.82 Q2119.58 1521.07 2117.63 1519.33 Q2115.71 1517.6 2112.61 1517.6 Q2110.41 1517.6 2107.96 1518.36 Q2105.53 1519.13 2102.75 1520.68 L2102.75 1515.95 Q2105.57 1514.82 2108.03 1514.24 Q2110.48 1513.66 2112.52 1513.66 Q2117.89 1513.66 2121.08 1516.35 Q2124.28 1519.03 2124.28 1523.52 Q2124.28 1525.65 2123.47 1527.57 Q2122.68 1529.47 2120.57 1532.07 Q2120 1532.74 2116.89 1535.95 Q2113.79 1539.15 2108.14 1544.91 Z\" fill=\"#000000\" fill-rule=\"nonzero\" fill-opacity=\"1\" /><path clip-path=\"url(#clip950)\" d=\"M2134.28 1542.97 L2139.16 1542.97 L2139.16 1548.85 L2134.28 1548.85 L2134.28 1542.97 Z\" fill=\"#000000\" fill-rule=\"nonzero\" fill-opacity=\"1\" /><path clip-path=\"url(#clip950)\" d=\"M2149.39 1514.29 L2167.75 1514.29 L2167.75 1518.22 L2153.68 1518.22 L2153.68 1526.7 Q2154.69 1526.35 2155.71 1526.19 Q2156.73 1526 2157.75 1526 Q2163.54 1526 2166.92 1529.17 Q2170.3 1532.34 2170.3 1537.76 Q2170.3 1543.34 2166.82 1546.44 Q2163.35 1549.52 2157.03 1549.52 Q2154.86 1549.52 2152.59 1549.15 Q2150.34 1548.78 2147.94 1548.04 L2147.94 1543.34 Q2150.02 1544.47 2152.24 1545.03 Q2154.46 1545.58 2156.94 1545.58 Q2160.94 1545.58 2163.28 1543.48 Q2165.62 1541.37 2165.62 1537.76 Q2165.62 1534.15 2163.28 1532.04 Q2160.94 1529.94 2156.94 1529.94 Q2155.06 1529.94 2153.19 1530.35 Q2151.34 1530.77 2149.39 1531.65 L2149.39 1514.29 Z\" fill=\"#000000\" fill-rule=\"nonzero\" fill-opacity=\"1\" /><polyline clip-path=\"url(#clip952)\" style=\"stroke:#000000; stroke-linecap:round; stroke-linejoin:round; stroke-width:2; stroke-opacity:0.1; fill:none\" points=\"215.95,1168.79 2352.76,1168.79 \"/>\n",
       "<polyline clip-path=\"url(#clip952)\" style=\"stroke:#000000; stroke-linecap:round; stroke-linejoin:round; stroke-width:2; stroke-opacity:0.1; fill:none\" points=\"215.95,850.69 2352.76,850.69 \"/>\n",
       "<polyline clip-path=\"url(#clip952)\" style=\"stroke:#000000; stroke-linecap:round; stroke-linejoin:round; stroke-width:2; stroke-opacity:0.1; fill:none\" points=\"215.95,532.593 2352.76,532.593 \"/>\n",
       "<polyline clip-path=\"url(#clip952)\" style=\"stroke:#000000; stroke-linecap:round; stroke-linejoin:round; stroke-width:2; stroke-opacity:0.1; fill:none\" points=\"215.95,214.496 2352.76,214.496 \"/>\n",
       "<polyline clip-path=\"url(#clip950)\" style=\"stroke:#000000; stroke-linecap:round; stroke-linejoin:round; stroke-width:4; stroke-opacity:1; fill:none\" points=\"215.95,1486.45 215.95,47.2441 \"/>\n",
       "<polyline clip-path=\"url(#clip950)\" style=\"stroke:#000000; stroke-linecap:round; stroke-linejoin:round; stroke-width:4; stroke-opacity:1; fill:none\" points=\"215.95,1168.79 234.847,1168.79 \"/>\n",
       "<polyline clip-path=\"url(#clip950)\" style=\"stroke:#000000; stroke-linecap:round; stroke-linejoin:round; stroke-width:4; stroke-opacity:1; fill:none\" points=\"215.95,850.69 234.847,850.69 \"/>\n",
       "<polyline clip-path=\"url(#clip950)\" style=\"stroke:#000000; stroke-linecap:round; stroke-linejoin:round; stroke-width:4; stroke-opacity:1; fill:none\" points=\"215.95,532.593 234.847,532.593 \"/>\n",
       "<polyline clip-path=\"url(#clip950)\" style=\"stroke:#000000; stroke-linecap:round; stroke-linejoin:round; stroke-width:4; stroke-opacity:1; fill:none\" points=\"215.95,214.496 234.847,214.496 \"/>\n",
       "<path clip-path=\"url(#clip950)\" d=\"M67.6124 1167.43 Q70.9689 1168.15 72.8439 1170.42 Q74.742 1172.69 74.742 1176.02 Q74.742 1181.14 71.2235 1183.94 Q67.705 1186.74 61.2236 1186.74 Q59.0476 1186.74 56.7328 1186.3 Q54.4412 1185.88 51.9875 1185.02 L51.9875 1180.51 Q53.9319 1181.64 56.2467 1182.22 Q58.5615 1182.8 61.0847 1182.8 Q65.4828 1182.8 67.7744 1181.07 Q70.0892 1179.33 70.0892 1176.02 Q70.0892 1172.96 67.9365 1171.25 Q65.8069 1169.52 61.9874 1169.52 L57.9597 1169.52 L57.9597 1165.67 L62.1726 1165.67 Q65.6217 1165.67 67.4504 1164.31 Q69.2791 1162.92 69.2791 1160.33 Q69.2791 1157.66 67.3809 1156.25 Q65.5059 1154.82 61.9874 1154.82 Q60.0662 1154.82 57.8671 1155.23 Q55.668 1155.65 53.0292 1156.53 L53.0292 1152.36 Q55.6912 1151.62 58.006 1151.25 Q60.3439 1150.88 62.4041 1150.88 Q67.7281 1150.88 70.83 1153.31 Q73.9318 1155.72 73.9318 1159.84 Q73.9318 1162.71 72.2883 1164.7 Q70.6448 1166.67 67.6124 1167.43 Z\" fill=\"#000000\" fill-rule=\"nonzero\" fill-opacity=\"1\" /><path clip-path=\"url(#clip950)\" d=\"M83.6077 1180.19 L88.4919 1180.19 L88.4919 1186.07 L83.6077 1186.07 L83.6077 1180.19 Z\" fill=\"#000000\" fill-rule=\"nonzero\" fill-opacity=\"1\" /><path clip-path=\"url(#clip950)\" d=\"M108.677 1154.58 Q105.066 1154.58 103.237 1158.15 Q101.432 1161.69 101.432 1168.82 Q101.432 1175.93 103.237 1179.49 Q105.066 1183.03 108.677 1183.03 Q112.311 1183.03 114.117 1179.49 Q115.945 1175.93 115.945 1168.82 Q115.945 1161.69 114.117 1158.15 Q112.311 1154.58 108.677 1154.58 M108.677 1150.88 Q114.487 1150.88 117.543 1155.49 Q120.621 1160.07 120.621 1168.82 Q120.621 1177.55 117.543 1182.15 Q114.487 1186.74 108.677 1186.74 Q102.867 1186.74 99.7882 1182.15 Q96.7326 1177.55 96.7326 1168.82 Q96.7326 1160.07 99.7882 1155.49 Q102.867 1150.88 108.677 1150.88 Z\" fill=\"#000000\" fill-rule=\"nonzero\" fill-opacity=\"1\" /><path clip-path=\"url(#clip950)\" d=\"M127.658 1151.51 L149.88 1151.51 L149.88 1153.5 L137.334 1186.07 L132.45 1186.07 L144.256 1155.44 L127.658 1155.44 L127.658 1151.51 Z\" fill=\"#000000\" fill-rule=\"nonzero\" fill-opacity=\"1\" /><path clip-path=\"url(#clip950)\" d=\"M159.047 1151.51 L177.403 1151.51 L177.403 1155.44 L163.329 1155.44 L163.329 1163.91 Q164.348 1163.57 165.367 1163.4 Q166.385 1163.22 167.404 1163.22 Q173.191 1163.22 176.57 1166.39 Q179.95 1169.56 179.95 1174.98 Q179.95 1180.56 176.478 1183.66 Q173.005 1186.74 166.686 1186.74 Q164.51 1186.74 162.242 1186.37 Q159.996 1186 157.589 1185.26 L157.589 1180.56 Q159.672 1181.69 161.894 1182.25 Q164.117 1182.8 166.593 1182.8 Q170.598 1182.8 172.936 1180.7 Q175.274 1178.59 175.274 1174.98 Q175.274 1171.37 172.936 1169.26 Q170.598 1167.15 166.593 1167.15 Q164.718 1167.15 162.843 1167.57 Q160.992 1167.99 159.047 1168.87 L159.047 1151.51 Z\" fill=\"#000000\" fill-rule=\"nonzero\" fill-opacity=\"1\" /><path clip-path=\"url(#clip950)\" d=\"M66.617 849.336 Q69.9735 850.053 71.8485 852.322 Q73.7466 854.59 73.7466 857.923 Q73.7466 863.039 70.2281 865.84 Q66.7096 868.641 60.2282 868.641 Q58.0523 868.641 55.7375 868.201 Q53.4458 867.784 50.9921 866.928 L50.9921 862.414 Q52.9366 863.548 55.2514 864.127 Q57.5662 864.706 60.0893 864.706 Q64.4874 864.706 66.7791 862.97 Q69.0939 861.234 69.0939 857.923 Q69.0939 854.868 66.9411 853.155 Q64.8115 851.419 60.9921 851.419 L56.9643 851.419 L56.9643 847.576 L61.1773 847.576 Q64.6263 847.576 66.455 846.211 Q68.2837 844.822 68.2837 842.229 Q68.2837 839.567 66.3856 838.155 Q64.5106 836.72 60.9921 836.72 Q59.0708 836.72 56.8717 837.137 Q54.6727 837.553 52.0338 838.433 L52.0338 834.266 Q54.6958 833.525 57.0106 833.155 Q59.3486 832.785 61.4087 832.785 Q66.7328 832.785 69.8346 835.215 Q72.9365 837.623 72.9365 841.743 Q72.9365 844.613 71.2929 846.604 Q69.6494 848.572 66.617 849.336 Z\" fill=\"#000000\" fill-rule=\"nonzero\" fill-opacity=\"1\" /><path clip-path=\"url(#clip950)\" d=\"M82.6123 862.09 L87.4966 862.09 L87.4966 867.97 L82.6123 867.97 L82.6123 862.09 Z\" fill=\"#000000\" fill-rule=\"nonzero\" fill-opacity=\"1\" /><path clip-path=\"url(#clip950)\" d=\"M98.4919 864.035 L106.131 864.035 L106.131 837.669 L97.8206 839.336 L97.8206 835.076 L106.084 833.41 L110.76 833.41 L110.76 864.035 L118.399 864.035 L118.399 867.97 L98.4919 867.97 L98.4919 864.035 Z\" fill=\"#000000\" fill-rule=\"nonzero\" fill-opacity=\"1\" /><path clip-path=\"url(#clip950)\" d=\"M137.844 836.488 Q134.232 836.488 132.404 840.053 Q130.598 843.595 130.598 850.724 Q130.598 857.831 132.404 861.396 Q134.232 864.937 137.844 864.937 Q141.478 864.937 143.283 861.396 Q145.112 857.831 145.112 850.724 Q145.112 843.595 143.283 840.053 Q141.478 836.488 137.844 836.488 M137.844 832.785 Q143.654 832.785 146.709 837.391 Q149.788 841.974 149.788 850.724 Q149.788 859.451 146.709 864.058 Q143.654 868.641 137.844 868.641 Q132.033 868.641 128.955 864.058 Q125.899 859.451 125.899 850.724 Q125.899 841.974 128.955 837.391 Q132.033 832.785 137.844 832.785 Z\" fill=\"#000000\" fill-rule=\"nonzero\" fill-opacity=\"1\" /><path clip-path=\"url(#clip950)\" d=\"M168.005 836.488 Q164.394 836.488 162.566 840.053 Q160.76 843.595 160.76 850.724 Q160.76 857.831 162.566 861.396 Q164.394 864.937 168.005 864.937 Q171.64 864.937 173.445 861.396 Q175.274 857.831 175.274 850.724 Q175.274 843.595 173.445 840.053 Q171.64 836.488 168.005 836.488 M168.005 832.785 Q173.816 832.785 176.871 837.391 Q179.95 841.974 179.95 850.724 Q179.95 859.451 176.871 864.058 Q173.816 868.641 168.005 868.641 Q162.195 868.641 159.117 864.058 Q156.061 859.451 156.061 850.724 Q156.061 841.974 159.117 837.391 Q162.195 832.785 168.005 832.785 Z\" fill=\"#000000\" fill-rule=\"nonzero\" fill-opacity=\"1\" /><path clip-path=\"url(#clip950)\" d=\"M67.6124 531.239 Q70.9689 531.957 72.8439 534.225 Q74.742 536.494 74.742 539.827 Q74.742 544.943 71.2235 547.743 Q67.705 550.544 61.2236 550.544 Q59.0476 550.544 56.7328 550.105 Q54.4412 549.688 51.9875 548.831 L51.9875 544.318 Q53.9319 545.452 56.2467 546.031 Q58.5615 546.609 61.0847 546.609 Q65.4828 546.609 67.7744 544.873 Q70.0892 543.137 70.0892 539.827 Q70.0892 536.771 67.9365 535.058 Q65.8069 533.322 61.9874 533.322 L57.9597 533.322 L57.9597 529.48 L62.1726 529.48 Q65.6217 529.48 67.4504 528.114 Q69.2791 526.725 69.2791 524.132 Q69.2791 521.47 67.3809 520.058 Q65.5059 518.623 61.9874 518.623 Q60.0662 518.623 57.8671 519.04 Q55.668 519.457 53.0292 520.336 L53.0292 516.17 Q55.6912 515.429 58.006 515.058 Q60.3439 514.688 62.4041 514.688 Q67.7281 514.688 70.83 517.119 Q73.9318 519.526 73.9318 523.646 Q73.9318 526.517 72.2883 528.507 Q70.6448 530.475 67.6124 531.239 Z\" fill=\"#000000\" fill-rule=\"nonzero\" fill-opacity=\"1\" /><path clip-path=\"url(#clip950)\" d=\"M83.6077 543.993 L88.4919 543.993 L88.4919 549.873 L83.6077 549.873 L83.6077 543.993 Z\" fill=\"#000000\" fill-rule=\"nonzero\" fill-opacity=\"1\" /><path clip-path=\"url(#clip950)\" d=\"M99.4872 545.938 L107.126 545.938 L107.126 519.572 L98.8159 521.239 L98.8159 516.98 L107.08 515.313 L111.756 515.313 L111.756 545.938 L119.395 545.938 L119.395 549.873 L99.4872 549.873 L99.4872 545.938 Z\" fill=\"#000000\" fill-rule=\"nonzero\" fill-opacity=\"1\" /><path clip-path=\"url(#clip950)\" d=\"M132.867 545.938 L149.186 545.938 L149.186 549.873 L127.242 549.873 L127.242 545.938 Q129.904 543.183 134.487 538.554 Q139.094 533.901 140.274 532.558 Q142.519 530.035 143.399 528.299 Q144.302 526.54 144.302 524.85 Q144.302 522.095 142.357 520.359 Q140.436 518.623 137.334 518.623 Q135.135 518.623 132.682 519.387 Q130.251 520.151 127.473 521.702 L127.473 516.98 Q130.297 515.845 132.751 515.267 Q135.205 514.688 137.242 514.688 Q142.612 514.688 145.806 517.373 Q149.001 520.058 149.001 524.549 Q149.001 526.679 148.191 528.6 Q147.404 530.498 145.297 533.091 Q144.718 533.762 141.617 536.98 Q138.515 540.174 132.867 545.938 Z\" fill=\"#000000\" fill-rule=\"nonzero\" fill-opacity=\"1\" /><path clip-path=\"url(#clip950)\" d=\"M159.047 515.313 L177.403 515.313 L177.403 519.248 L163.329 519.248 L163.329 527.72 Q164.348 527.373 165.367 527.211 Q166.385 527.026 167.404 527.026 Q173.191 527.026 176.57 530.197 Q179.95 533.369 179.95 538.785 Q179.95 544.364 176.478 547.466 Q173.005 550.544 166.686 550.544 Q164.51 550.544 162.242 550.174 Q159.996 549.804 157.589 549.063 L157.589 544.364 Q159.672 545.498 161.894 546.054 Q164.117 546.609 166.593 546.609 Q170.598 546.609 172.936 544.503 Q175.274 542.396 175.274 538.785 Q175.274 535.174 172.936 533.068 Q170.598 530.961 166.593 530.961 Q164.718 530.961 162.843 531.378 Q160.992 531.794 159.047 532.674 L159.047 515.313 Z\" fill=\"#000000\" fill-rule=\"nonzero\" fill-opacity=\"1\" /><path clip-path=\"url(#clip950)\" d=\"M66.617 213.142 Q69.9735 213.86 71.8485 216.128 Q73.7466 218.397 73.7466 221.73 Q73.7466 226.846 70.2281 229.647 Q66.7096 232.448 60.2282 232.448 Q58.0523 232.448 55.7375 232.008 Q53.4458 231.591 50.9921 230.735 L50.9921 226.221 Q52.9366 227.355 55.2514 227.934 Q57.5662 228.513 60.0893 228.513 Q64.4874 228.513 66.7791 226.777 Q69.0939 225.04 69.0939 221.73 Q69.0939 218.675 66.9411 216.962 Q64.8115 215.226 60.9921 215.226 L56.9643 215.226 L56.9643 211.383 L61.1773 211.383 Q64.6263 211.383 66.455 210.017 Q68.2837 208.628 68.2837 206.036 Q68.2837 203.374 66.3856 201.962 Q64.5106 200.527 60.9921 200.527 Q59.0708 200.527 56.8717 200.943 Q54.6727 201.36 52.0338 202.24 L52.0338 198.073 Q54.6958 197.332 57.0106 196.962 Q59.3486 196.591 61.4087 196.591 Q66.7328 196.591 69.8346 199.022 Q72.9365 201.429 72.9365 205.55 Q72.9365 208.42 71.2929 210.411 Q69.6494 212.378 66.617 213.142 Z\" fill=\"#000000\" fill-rule=\"nonzero\" fill-opacity=\"1\" /><path clip-path=\"url(#clip950)\" d=\"M82.6123 225.897 L87.4966 225.897 L87.4966 231.776 L82.6123 231.776 L82.6123 225.897 Z\" fill=\"#000000\" fill-rule=\"nonzero\" fill-opacity=\"1\" /><path clip-path=\"url(#clip950)\" d=\"M98.4919 227.841 L106.131 227.841 L106.131 201.476 L97.8206 203.142 L97.8206 198.883 L106.084 197.216 L110.76 197.216 L110.76 227.841 L118.399 227.841 L118.399 231.776 L98.4919 231.776 L98.4919 227.841 Z\" fill=\"#000000\" fill-rule=\"nonzero\" fill-opacity=\"1\" /><path clip-path=\"url(#clip950)\" d=\"M127.89 197.216 L146.246 197.216 L146.246 201.152 L132.172 201.152 L132.172 209.624 Q133.191 209.277 134.209 209.115 Q135.228 208.929 136.246 208.929 Q142.033 208.929 145.413 212.101 Q148.793 215.272 148.793 220.689 Q148.793 226.267 145.32 229.369 Q141.848 232.448 135.529 232.448 Q133.353 232.448 131.084 232.077 Q128.839 231.707 126.432 230.966 L126.432 226.267 Q128.515 227.402 130.737 227.957 Q132.959 228.513 135.436 228.513 Q139.441 228.513 141.779 226.406 Q144.117 224.3 144.117 220.689 Q144.117 217.077 141.779 214.971 Q139.441 212.865 135.436 212.865 Q133.561 212.865 131.686 213.281 Q129.834 213.698 127.89 214.578 L127.89 197.216 Z\" fill=\"#000000\" fill-rule=\"nonzero\" fill-opacity=\"1\" /><path clip-path=\"url(#clip950)\" d=\"M168.005 200.295 Q164.394 200.295 162.566 203.86 Q160.76 207.402 160.76 214.531 Q160.76 221.638 162.566 225.202 Q164.394 228.744 168.005 228.744 Q171.64 228.744 173.445 225.202 Q175.274 221.638 175.274 214.531 Q175.274 207.402 173.445 203.86 Q171.64 200.295 168.005 200.295 M168.005 196.591 Q173.816 196.591 176.871 201.198 Q179.95 205.781 179.95 214.531 Q179.95 223.258 176.871 227.864 Q173.816 232.448 168.005 232.448 Q162.195 232.448 159.117 227.864 Q156.061 223.258 156.061 214.531 Q156.061 205.781 159.117 201.198 Q162.195 196.591 168.005 196.591 Z\" fill=\"#000000\" fill-rule=\"nonzero\" fill-opacity=\"1\" /><polyline clip-path=\"url(#clip952)\" style=\"stroke:#009af9; stroke-linecap:round; stroke-linejoin:round; stroke-width:4; stroke-opacity:1; fill:none\" points=\"276.425,1445.72 312.235,944.983 355.972,439.895 409.393,173.635 474.641,104.102 554.336,90.96 651.676,88.6354 770.566,88.1541 915.779,88.0385 1093.14,88.0016 1309.78,87.9881 1574.37,87.9817 1897.55,87.9783 2292.28,87.9763 \"/>\n",
       "<polyline clip-path=\"url(#clip952)\" style=\"stroke:#e26f46; stroke-linecap:round; stroke-linejoin:round; stroke-width:4; stroke-opacity:1; fill:none\" points=\"276.425,2925.65 276.425,-1391.96 \"/>\n",
       "<path clip-path=\"url(#clip950)\" d=\"M2015.42 1438.47 L2281.53 1438.47 L2281.53 1282.95 L2015.42 1282.95  Z\" fill=\"#ffffff\" fill-rule=\"evenodd\" fill-opacity=\"1\"/>\n",
       "<polyline clip-path=\"url(#clip950)\" style=\"stroke:#000000; stroke-linecap:round; stroke-linejoin:round; stroke-width:4; stroke-opacity:1; fill:none\" points=\"2015.42,1438.47 2281.53,1438.47 2281.53,1282.95 2015.42,1282.95 2015.42,1438.47 \"/>\n",
       "<polyline clip-path=\"url(#clip950)\" style=\"stroke:#009af9; stroke-linecap:round; stroke-linejoin:round; stroke-width:4; stroke-opacity:1; fill:none\" points=\"2039.16,1334.79 2181.61,1334.79 \"/>\n",
       "<path clip-path=\"url(#clip950)\" d=\"M2219.2 1354.48 Q2217.39 1359.11 2215.68 1360.52 Q2213.97 1361.94 2211.1 1361.94 L2207.69 1361.94 L2207.69 1358.37 L2210.19 1358.37 Q2211.95 1358.37 2212.93 1357.54 Q2213.9 1356.7 2215.08 1353.6 L2215.84 1351.66 L2205.36 1326.15 L2209.87 1326.15 L2217.97 1346.43 L2226.07 1326.15 L2230.59 1326.15 L2219.2 1354.48 Z\" fill=\"#000000\" fill-rule=\"nonzero\" fill-opacity=\"1\" /><path clip-path=\"url(#clip950)\" d=\"M2237.88 1348.14 L2245.52 1348.14 L2245.52 1321.77 L2237.21 1323.44 L2237.21 1319.18 L2245.47 1317.51 L2250.15 1317.51 L2250.15 1348.14 L2257.79 1348.14 L2257.79 1352.07 L2237.88 1352.07 L2237.88 1348.14 Z\" fill=\"#000000\" fill-rule=\"nonzero\" fill-opacity=\"1\" /><polyline clip-path=\"url(#clip950)\" style=\"stroke:#e26f46; stroke-linecap:round; stroke-linejoin:round; stroke-width:4; stroke-opacity:1; fill:none\" points=\"2039.16,1386.63 2181.61,1386.63 \"/>\n",
       "<path clip-path=\"url(#clip950)\" d=\"M2219.2 1406.32 Q2217.39 1410.95 2215.68 1412.36 Q2213.97 1413.78 2211.1 1413.78 L2207.69 1413.78 L2207.69 1410.21 L2210.19 1410.21 Q2211.95 1410.21 2212.93 1409.38 Q2213.9 1408.54 2215.08 1405.44 L2215.84 1403.5 L2205.36 1377.99 L2209.87 1377.99 L2217.97 1398.27 L2226.07 1377.99 L2230.59 1377.99 L2219.2 1406.32 Z\" fill=\"#000000\" fill-rule=\"nonzero\" fill-opacity=\"1\" /><path clip-path=\"url(#clip950)\" d=\"M2241.1 1399.98 L2257.42 1399.98 L2257.42 1403.91 L2235.47 1403.91 L2235.47 1399.98 Q2238.13 1397.22 2242.72 1392.6 Q2247.32 1387.94 2248.5 1386.6 Q2250.75 1384.08 2251.63 1382.34 Q2252.53 1380.58 2252.53 1378.89 Q2252.53 1376.14 2250.59 1374.4 Q2248.67 1372.66 2245.56 1372.66 Q2243.37 1372.66 2240.91 1373.43 Q2238.48 1374.19 2235.7 1375.74 L2235.7 1371.02 Q2238.53 1369.89 2240.98 1369.31 Q2243.43 1368.73 2245.47 1368.73 Q2250.84 1368.73 2254.04 1371.41 Q2257.23 1374.1 2257.23 1378.59 Q2257.23 1380.72 2256.42 1382.64 Q2255.63 1384.54 2253.53 1387.13 Q2252.95 1387.8 2249.85 1391.02 Q2246.75 1394.22 2241.1 1399.98 Z\" fill=\"#000000\" fill-rule=\"nonzero\" fill-opacity=\"1\" /></svg>\n"
      ]
     },
     "execution_count": 246,
     "metadata": {},
     "output_type": "execute_result"
    }
   ],
   "source": [
    "m = 30\n",
    "H = 0.08\n",
    "Bmin = 0.2\n",
    "r = 1.8\n",
    "b = 0.4\n",
    "tau = sqrt(0.05)\n",
    "delta = 0.95\n",
    "\n",
    "function pi_(H,B)\n",
    "    if  H >= (B-Bmin)\n",
    "        return 0\n",
    "    end\n",
    "    return H\n",
    "end\n"
   ]
  },
  {
   "cell_type": "code",
   "execution_count": 247,
   "id": "e28c6310-fa87-466c-9496-3e78d125999b",
   "metadata": {},
   "outputs": [
    {
     "data": {
      "image/svg+xml": [
       "<?xml version=\"1.0\" encoding=\"utf-8\"?>\n",
       "<svg xmlns=\"http://www.w3.org/2000/svg\" xmlns:xlink=\"http://www.w3.org/1999/xlink\" width=\"600\" height=\"400\" viewBox=\"0 0 2400 1600\">\n",
       "<defs>\n",
       "  <clipPath id=\"clip990\">\n",
       "    <rect x=\"0\" y=\"0\" width=\"2400\" height=\"1600\"/>\n",
       "  </clipPath>\n",
       "</defs>\n",
       "<path clip-path=\"url(#clip990)\" d=\"M0 1600 L2400 1600 L2400 0 L0 0  Z\" fill=\"#ffffff\" fill-rule=\"evenodd\" fill-opacity=\"1\"/>\n",
       "<defs>\n",
       "  <clipPath id=\"clip991\">\n",
       "    <rect x=\"480\" y=\"0\" width=\"1681\" height=\"1600\"/>\n",
       "  </clipPath>\n",
       "</defs>\n",
       "<path clip-path=\"url(#clip990)\" d=\"M112.177 1486.45 L2352.76 1486.45 L2352.76 47.2441 L112.177 47.2441  Z\" fill=\"#ffffff\" fill-rule=\"evenodd\" fill-opacity=\"1\"/>\n",
       "<defs>\n",
       "  <clipPath id=\"clip992\">\n",
       "    <rect x=\"112\" y=\"47\" width=\"2242\" height=\"1440\"/>\n",
       "  </clipPath>\n",
       "</defs>\n",
       "<polyline clip-path=\"url(#clip992)\" style=\"stroke:#000000; stroke-linecap:round; stroke-linejoin:round; stroke-width:2; stroke-opacity:0.1; fill:none\" points=\"119.223,1486.45 119.223,47.2441 \"/>\n",
       "<polyline clip-path=\"url(#clip992)\" style=\"stroke:#000000; stroke-linecap:round; stroke-linejoin:round; stroke-width:2; stroke-opacity:0.1; fill:none\" points=\"682.891,1486.45 682.891,47.2441 \"/>\n",
       "<polyline clip-path=\"url(#clip992)\" style=\"stroke:#000000; stroke-linecap:round; stroke-linejoin:round; stroke-width:2; stroke-opacity:0.1; fill:none\" points=\"1246.56,1486.45 1246.56,47.2441 \"/>\n",
       "<polyline clip-path=\"url(#clip992)\" style=\"stroke:#000000; stroke-linecap:round; stroke-linejoin:round; stroke-width:2; stroke-opacity:0.1; fill:none\" points=\"1810.23,1486.45 1810.23,47.2441 \"/>\n",
       "<polyline clip-path=\"url(#clip990)\" style=\"stroke:#000000; stroke-linecap:round; stroke-linejoin:round; stroke-width:4; stroke-opacity:1; fill:none\" points=\"112.177,1486.45 2352.76,1486.45 \"/>\n",
       "<polyline clip-path=\"url(#clip990)\" style=\"stroke:#000000; stroke-linecap:round; stroke-linejoin:round; stroke-width:4; stroke-opacity:1; fill:none\" points=\"119.223,1486.45 119.223,1467.55 \"/>\n",
       "<polyline clip-path=\"url(#clip990)\" style=\"stroke:#000000; stroke-linecap:round; stroke-linejoin:round; stroke-width:4; stroke-opacity:1; fill:none\" points=\"682.891,1486.45 682.891,1467.55 \"/>\n",
       "<polyline clip-path=\"url(#clip990)\" style=\"stroke:#000000; stroke-linecap:round; stroke-linejoin:round; stroke-width:4; stroke-opacity:1; fill:none\" points=\"1246.56,1486.45 1246.56,1467.55 \"/>\n",
       "<polyline clip-path=\"url(#clip990)\" style=\"stroke:#000000; stroke-linecap:round; stroke-linejoin:round; stroke-width:4; stroke-opacity:1; fill:none\" points=\"1810.23,1486.45 1810.23,1467.55 \"/>\n",
       "<path clip-path=\"url(#clip990)\" d=\"M96.6074 1517.37 Q92.9963 1517.37 91.1676 1520.93 Q89.3621 1524.47 89.3621 1531.6 Q89.3621 1538.71 91.1676 1542.27 Q92.9963 1545.82 96.6074 1545.82 Q100.242 1545.82 102.047 1542.27 Q103.876 1538.71 103.876 1531.6 Q103.876 1524.47 102.047 1520.93 Q100.242 1517.37 96.6074 1517.37 M96.6074 1513.66 Q102.418 1513.66 105.473 1518.27 Q108.552 1522.85 108.552 1531.6 Q108.552 1540.33 105.473 1544.94 Q102.418 1549.52 96.6074 1549.52 Q90.7972 1549.52 87.7186 1544.94 Q84.663 1540.33 84.663 1531.6 Q84.663 1522.85 87.7186 1518.27 Q90.7972 1513.66 96.6074 1513.66 Z\" fill=\"#000000\" fill-rule=\"nonzero\" fill-opacity=\"1\" /><path clip-path=\"url(#clip990)\" d=\"M116.769 1542.97 L121.654 1542.97 L121.654 1548.85 L116.769 1548.85 L116.769 1542.97 Z\" fill=\"#000000\" fill-rule=\"nonzero\" fill-opacity=\"1\" /><path clip-path=\"url(#clip990)\" d=\"M141.839 1517.37 Q138.228 1517.37 136.399 1520.93 Q134.593 1524.47 134.593 1531.6 Q134.593 1538.71 136.399 1542.27 Q138.228 1545.82 141.839 1545.82 Q145.473 1545.82 147.278 1542.27 Q149.107 1538.71 149.107 1531.6 Q149.107 1524.47 147.278 1520.93 Q145.473 1517.37 141.839 1517.37 M141.839 1513.66 Q147.649 1513.66 150.704 1518.27 Q153.783 1522.85 153.783 1531.6 Q153.783 1540.33 150.704 1544.94 Q147.649 1549.52 141.839 1549.52 Q136.028 1549.52 132.95 1544.94 Q129.894 1540.33 129.894 1531.6 Q129.894 1522.85 132.95 1518.27 Q136.028 1513.66 141.839 1513.66 Z\" fill=\"#000000\" fill-rule=\"nonzero\" fill-opacity=\"1\" /><path clip-path=\"url(#clip990)\" d=\"M660.888 1517.37 Q657.277 1517.37 655.449 1520.93 Q653.643 1524.47 653.643 1531.6 Q653.643 1538.71 655.449 1542.27 Q657.277 1545.82 660.888 1545.82 Q664.523 1545.82 666.328 1542.27 Q668.157 1538.71 668.157 1531.6 Q668.157 1524.47 666.328 1520.93 Q664.523 1517.37 660.888 1517.37 M660.888 1513.66 Q666.699 1513.66 669.754 1518.27 Q672.833 1522.85 672.833 1531.6 Q672.833 1540.33 669.754 1544.94 Q666.699 1549.52 660.888 1549.52 Q655.078 1549.52 652 1544.94 Q648.944 1540.33 648.944 1531.6 Q648.944 1522.85 652 1518.27 Q655.078 1513.66 660.888 1513.66 Z\" fill=\"#000000\" fill-rule=\"nonzero\" fill-opacity=\"1\" /><path clip-path=\"url(#clip990)\" d=\"M681.05 1542.97 L685.935 1542.97 L685.935 1548.85 L681.05 1548.85 L681.05 1542.97 Z\" fill=\"#000000\" fill-rule=\"nonzero\" fill-opacity=\"1\" /><path clip-path=\"url(#clip990)\" d=\"M696.93 1544.91 L704.569 1544.91 L704.569 1518.55 L696.259 1520.21 L696.259 1515.95 L704.522 1514.29 L709.198 1514.29 L709.198 1544.91 L716.837 1544.91 L716.837 1548.85 L696.93 1548.85 L696.93 1544.91 Z\" fill=\"#000000\" fill-rule=\"nonzero\" fill-opacity=\"1\" /><path clip-path=\"url(#clip990)\" d=\"M1224.74 1517.37 Q1221.13 1517.37 1219.3 1520.93 Q1217.5 1524.47 1217.5 1531.6 Q1217.5 1538.71 1219.3 1542.27 Q1221.13 1545.82 1224.74 1545.82 Q1228.38 1545.82 1230.18 1542.27 Q1232.01 1538.71 1232.01 1531.6 Q1232.01 1524.47 1230.18 1520.93 Q1228.38 1517.37 1224.74 1517.37 M1224.74 1513.66 Q1230.55 1513.66 1233.61 1518.27 Q1236.69 1522.85 1236.69 1531.6 Q1236.69 1540.33 1233.61 1544.94 Q1230.55 1549.52 1224.74 1549.52 Q1218.93 1549.52 1215.85 1544.94 Q1212.8 1540.33 1212.8 1531.6 Q1212.8 1522.85 1215.85 1518.27 Q1218.93 1513.66 1224.74 1513.66 Z\" fill=\"#000000\" fill-rule=\"nonzero\" fill-opacity=\"1\" /><path clip-path=\"url(#clip990)\" d=\"M1244.9 1542.97 L1249.79 1542.97 L1249.79 1548.85 L1244.9 1548.85 L1244.9 1542.97 Z\" fill=\"#000000\" fill-rule=\"nonzero\" fill-opacity=\"1\" /><path clip-path=\"url(#clip990)\" d=\"M1264 1544.91 L1280.32 1544.91 L1280.32 1548.85 L1258.38 1548.85 L1258.38 1544.91 Q1261.04 1542.16 1265.62 1537.53 Q1270.23 1532.88 1271.41 1531.53 Q1273.65 1529.01 1274.53 1527.27 Q1275.44 1525.51 1275.44 1523.82 Q1275.44 1521.07 1273.49 1519.33 Q1271.57 1517.6 1268.47 1517.6 Q1266.27 1517.6 1263.82 1518.36 Q1261.38 1519.13 1258.61 1520.68 L1258.61 1515.95 Q1261.43 1514.82 1263.88 1514.24 Q1266.34 1513.66 1268.38 1513.66 Q1273.75 1513.66 1276.94 1516.35 Q1280.13 1519.03 1280.13 1523.52 Q1280.13 1525.65 1279.32 1527.57 Q1278.54 1529.47 1276.43 1532.07 Q1275.85 1532.74 1272.75 1535.95 Q1269.65 1539.15 1264 1544.91 Z\" fill=\"#000000\" fill-rule=\"nonzero\" fill-opacity=\"1\" /><path clip-path=\"url(#clip990)\" d=\"M1787.93 1517.37 Q1784.32 1517.37 1782.49 1520.93 Q1780.69 1524.47 1780.69 1531.6 Q1780.69 1538.71 1782.49 1542.27 Q1784.32 1545.82 1787.93 1545.82 Q1791.57 1545.82 1793.37 1542.27 Q1795.2 1538.71 1795.2 1531.6 Q1795.2 1524.47 1793.37 1520.93 Q1791.57 1517.37 1787.93 1517.37 M1787.93 1513.66 Q1793.74 1513.66 1796.8 1518.27 Q1799.88 1522.85 1799.88 1531.6 Q1799.88 1540.33 1796.8 1544.94 Q1793.74 1549.52 1787.93 1549.52 Q1782.12 1549.52 1779.05 1544.94 Q1775.99 1540.33 1775.99 1531.6 Q1775.99 1522.85 1779.05 1518.27 Q1782.12 1513.66 1787.93 1513.66 Z\" fill=\"#000000\" fill-rule=\"nonzero\" fill-opacity=\"1\" /><path clip-path=\"url(#clip990)\" d=\"M1808.1 1542.97 L1812.98 1542.97 L1812.98 1548.85 L1808.1 1548.85 L1808.1 1542.97 Z\" fill=\"#000000\" fill-rule=\"nonzero\" fill-opacity=\"1\" /><path clip-path=\"url(#clip990)\" d=\"M1837.33 1530.21 Q1840.69 1530.93 1842.56 1533.2 Q1844.46 1535.47 1844.46 1538.8 Q1844.46 1543.92 1840.94 1546.72 Q1837.42 1549.52 1830.94 1549.52 Q1828.77 1549.52 1826.45 1549.08 Q1824.16 1548.66 1821.71 1547.81 L1821.71 1543.29 Q1823.65 1544.43 1825.97 1545.01 Q1828.28 1545.58 1830.8 1545.58 Q1835.2 1545.58 1837.49 1543.85 Q1839.81 1542.11 1839.81 1538.8 Q1839.81 1535.75 1837.66 1534.03 Q1835.53 1532.3 1831.71 1532.3 L1827.68 1532.3 L1827.68 1528.45 L1831.89 1528.45 Q1835.34 1528.45 1837.17 1527.09 Q1839 1525.7 1839 1523.11 Q1839 1520.45 1837.1 1519.03 Q1835.23 1517.6 1831.71 1517.6 Q1829.79 1517.6 1827.59 1518.01 Q1825.39 1518.43 1822.75 1519.31 L1822.75 1515.14 Q1825.41 1514.4 1827.73 1514.03 Q1830.06 1513.66 1832.12 1513.66 Q1837.45 1513.66 1840.55 1516.09 Q1843.65 1518.5 1843.65 1522.62 Q1843.65 1525.49 1842.01 1527.48 Q1840.36 1529.45 1837.33 1530.21 Z\" fill=\"#000000\" fill-rule=\"nonzero\" fill-opacity=\"1\" /><polyline clip-path=\"url(#clip992)\" style=\"stroke:#000000; stroke-linecap:round; stroke-linejoin:round; stroke-width:2; stroke-opacity:0.1; fill:none\" points=\"112.177,1320.13 2352.76,1320.13 \"/>\n",
       "<polyline clip-path=\"url(#clip992)\" style=\"stroke:#000000; stroke-linecap:round; stroke-linejoin:round; stroke-width:2; stroke-opacity:0.1; fill:none\" points=\"112.177,1112.55 2352.76,1112.55 \"/>\n",
       "<polyline clip-path=\"url(#clip992)\" style=\"stroke:#000000; stroke-linecap:round; stroke-linejoin:round; stroke-width:2; stroke-opacity:0.1; fill:none\" points=\"112.177,904.979 2352.76,904.979 \"/>\n",
       "<polyline clip-path=\"url(#clip992)\" style=\"stroke:#000000; stroke-linecap:round; stroke-linejoin:round; stroke-width:2; stroke-opacity:0.1; fill:none\" points=\"112.177,697.403 2352.76,697.403 \"/>\n",
       "<polyline clip-path=\"url(#clip992)\" style=\"stroke:#000000; stroke-linecap:round; stroke-linejoin:round; stroke-width:2; stroke-opacity:0.1; fill:none\" points=\"112.177,489.827 2352.76,489.827 \"/>\n",
       "<polyline clip-path=\"url(#clip992)\" style=\"stroke:#000000; stroke-linecap:round; stroke-linejoin:round; stroke-width:2; stroke-opacity:0.1; fill:none\" points=\"112.177,282.25 2352.76,282.25 \"/>\n",
       "<polyline clip-path=\"url(#clip992)\" style=\"stroke:#000000; stroke-linecap:round; stroke-linejoin:round; stroke-width:2; stroke-opacity:0.1; fill:none\" points=\"112.177,74.6743 2352.76,74.6743 \"/>\n",
       "<polyline clip-path=\"url(#clip990)\" style=\"stroke:#000000; stroke-linecap:round; stroke-linejoin:round; stroke-width:4; stroke-opacity:1; fill:none\" points=\"112.177,1486.45 112.177,47.2441 \"/>\n",
       "<polyline clip-path=\"url(#clip990)\" style=\"stroke:#000000; stroke-linecap:round; stroke-linejoin:round; stroke-width:4; stroke-opacity:1; fill:none\" points=\"112.177,1320.13 131.075,1320.13 \"/>\n",
       "<polyline clip-path=\"url(#clip990)\" style=\"stroke:#000000; stroke-linecap:round; stroke-linejoin:round; stroke-width:4; stroke-opacity:1; fill:none\" points=\"112.177,1112.55 131.075,1112.55 \"/>\n",
       "<polyline clip-path=\"url(#clip990)\" style=\"stroke:#000000; stroke-linecap:round; stroke-linejoin:round; stroke-width:4; stroke-opacity:1; fill:none\" points=\"112.177,904.979 131.075,904.979 \"/>\n",
       "<polyline clip-path=\"url(#clip990)\" style=\"stroke:#000000; stroke-linecap:round; stroke-linejoin:round; stroke-width:4; stroke-opacity:1; fill:none\" points=\"112.177,697.403 131.075,697.403 \"/>\n",
       "<polyline clip-path=\"url(#clip990)\" style=\"stroke:#000000; stroke-linecap:round; stroke-linejoin:round; stroke-width:4; stroke-opacity:1; fill:none\" points=\"112.177,489.827 131.075,489.827 \"/>\n",
       "<polyline clip-path=\"url(#clip990)\" style=\"stroke:#000000; stroke-linecap:round; stroke-linejoin:round; stroke-width:4; stroke-opacity:1; fill:none\" points=\"112.177,282.25 131.075,282.25 \"/>\n",
       "<polyline clip-path=\"url(#clip990)\" style=\"stroke:#000000; stroke-linecap:round; stroke-linejoin:round; stroke-width:4; stroke-opacity:1; fill:none\" points=\"112.177,74.6743 131.075,74.6743 \"/>\n",
       "<path clip-path=\"url(#clip990)\" d=\"M56.2699 1333.48 L63.9087 1333.48 L63.9087 1307.11 L55.5986 1308.78 L55.5986 1304.52 L63.8624 1302.85 L68.5383 1302.85 L68.5383 1333.48 L76.1772 1333.48 L76.1772 1337.41 L56.2699 1337.41 L56.2699 1333.48 Z\" fill=\"#000000\" fill-rule=\"nonzero\" fill-opacity=\"1\" /><path clip-path=\"url(#clip990)\" d=\"M59.8578 1125.9 L76.1772 1125.9 L76.1772 1129.83 L54.2328 1129.83 L54.2328 1125.9 Q56.8949 1123.15 61.4782 1118.52 Q66.0846 1113.86 67.2652 1112.52 Q69.5105 1110 70.3902 1108.26 Q71.2929 1106.5 71.2929 1104.81 Q71.2929 1102.06 69.3485 1100.32 Q67.4272 1098.58 64.3254 1098.58 Q62.1263 1098.58 59.6726 1099.35 Q57.2421 1100.11 54.4643 1101.66 L54.4643 1096.94 Q57.2884 1095.81 59.7421 1095.23 Q62.1958 1094.65 64.2328 1094.65 Q69.6031 1094.65 72.7976 1097.33 Q75.992 1100.02 75.992 1104.51 Q75.992 1106.64 75.1818 1108.56 Q74.3948 1110.46 72.2883 1113.05 Q71.7096 1113.72 68.6078 1116.94 Q65.5059 1120.14 59.8578 1125.9 Z\" fill=\"#000000\" fill-rule=\"nonzero\" fill-opacity=\"1\" /><path clip-path=\"url(#clip990)\" d=\"M69.0476 903.625 Q72.404 904.342 74.279 906.611 Q76.1772 908.879 76.1772 912.212 Q76.1772 917.328 72.6587 920.129 Q69.1402 922.93 62.6587 922.93 Q60.4828 922.93 58.168 922.49 Q55.8764 922.074 53.4227 921.217 L53.4227 916.703 Q55.3671 917.837 57.6819 918.416 Q59.9967 918.995 62.5198 918.995 Q66.918 918.995 69.2096 917.259 Q71.5244 915.523 71.5244 912.212 Q71.5244 909.157 69.3717 907.444 Q67.242 905.708 63.4226 905.708 L59.3949 905.708 L59.3949 901.865 L63.6078 901.865 Q67.0569 901.865 68.8855 900.5 Q70.7142 899.111 70.7142 896.518 Q70.7142 893.856 68.8161 892.444 Q66.9411 891.009 63.4226 891.009 Q61.5013 891.009 59.3023 891.426 Q57.1032 891.842 54.4643 892.722 L54.4643 888.555 Q57.1264 887.814 59.4412 887.444 Q61.7791 887.074 63.8393 887.074 Q69.1633 887.074 72.2652 889.504 Q75.367 891.912 75.367 896.032 Q75.367 898.902 73.7235 900.893 Q72.08 902.861 69.0476 903.625 Z\" fill=\"#000000\" fill-rule=\"nonzero\" fill-opacity=\"1\" /><path clip-path=\"url(#clip990)\" d=\"M66.5939 684.197 L54.7884 702.646 L66.5939 702.646 L66.5939 684.197 M65.367 680.123 L71.2466 680.123 L71.2466 702.646 L76.1772 702.646 L76.1772 706.534 L71.2466 706.534 L71.2466 714.683 L66.5939 714.683 L66.5939 706.534 L50.9921 706.534 L50.9921 702.021 L65.367 680.123 Z\" fill=\"#000000\" fill-rule=\"nonzero\" fill-opacity=\"1\" /><path clip-path=\"url(#clip990)\" d=\"M55.2745 472.547 L73.6309 472.547 L73.6309 476.482 L59.5569 476.482 L59.5569 484.954 Q60.5754 484.607 61.5939 484.445 Q62.6124 484.259 63.6309 484.259 Q69.418 484.259 72.7976 487.431 Q76.1772 490.602 76.1772 496.019 Q76.1772 501.597 72.705 504.699 Q69.2328 507.778 62.9134 507.778 Q60.7374 507.778 58.4689 507.407 Q56.2236 507.037 53.8162 506.296 L53.8162 501.597 Q55.8995 502.732 58.1217 503.287 Q60.3439 503.843 62.8208 503.843 Q66.8254 503.843 69.1633 501.736 Q71.5013 499.63 71.5013 496.019 Q71.5013 492.408 69.1633 490.301 Q66.8254 488.195 62.8208 488.195 Q60.9458 488.195 59.0708 488.611 Q57.2189 489.028 55.2745 489.908 L55.2745 472.547 Z\" fill=\"#000000\" fill-rule=\"nonzero\" fill-opacity=\"1\" /><path clip-path=\"url(#clip990)\" d=\"M64.6495 280.387 Q61.5013 280.387 59.6495 282.54 Q57.8208 284.693 57.8208 288.443 Q57.8208 292.169 59.6495 294.345 Q61.5013 296.498 64.6495 296.498 Q67.7976 296.498 69.6263 294.345 Q71.4781 292.169 71.4781 288.443 Q71.4781 284.693 69.6263 282.54 Q67.7976 280.387 64.6495 280.387 M73.9318 265.734 L73.9318 269.994 Q72.1726 269.16 70.367 268.72 Q68.5846 268.281 66.8254 268.281 Q62.1958 268.281 59.7421 271.406 Q57.3115 274.531 56.9643 280.85 Q58.33 278.836 60.3902 277.771 Q62.4504 276.683 64.9272 276.683 Q70.1355 276.683 73.1448 279.855 Q76.1772 283.003 76.1772 288.443 Q76.1772 293.767 73.029 296.984 Q69.8809 300.202 64.6495 300.202 Q58.6541 300.202 55.4828 295.618 Q52.3116 291.012 52.3116 282.285 Q52.3116 274.091 56.2004 269.23 Q60.0893 264.345 66.6402 264.345 Q68.3994 264.345 70.1818 264.693 Q71.9874 265.04 73.9318 265.734 Z\" fill=\"#000000\" fill-rule=\"nonzero\" fill-opacity=\"1\" /><path clip-path=\"url(#clip990)\" d=\"M53.9551 57.3943 L76.1772 57.3943 L76.1772 59.385 L63.6309 91.9543 L58.7467 91.9543 L70.5522 61.3295 L53.9551 61.3295 L53.9551 57.3943 Z\" fill=\"#000000\" fill-rule=\"nonzero\" fill-opacity=\"1\" /><polyline clip-path=\"url(#clip992)\" style=\"stroke:#009af9; stroke-linecap:round; stroke-linejoin:round; stroke-width:4; stroke-opacity:1; fill:none\" points=\"175.59,1445.72 316.507,1240.74 457.424,1035.76 598.34,830.786 739.257,625.913 880.174,422.345 1021.09,232.614 1162.01,93.109 1302.92,87.9763 1443.84,244.507 1584.76,424.804 1725.68,603.913 1866.59,728.148 2007.51,835.459 2148.43,898.893 2289.34,948.595 \"/>\n",
       "<path clip-path=\"url(#clip990)\" d=\"M2001.58 198.898 L2278.07 198.898 L2278.07 95.2176 L2001.58 95.2176  Z\" fill=\"#ffffff\" fill-rule=\"evenodd\" fill-opacity=\"1\"/>\n",
       "<polyline clip-path=\"url(#clip990)\" style=\"stroke:#000000; stroke-linecap:round; stroke-linejoin:round; stroke-width:4; stroke-opacity:1; fill:none\" points=\"2001.58,198.898 2278.07,198.898 2278.07,95.2176 2001.58,95.2176 2001.58,198.898 \"/>\n",
       "<polyline clip-path=\"url(#clip990)\" style=\"stroke:#009af9; stroke-linecap:round; stroke-linejoin:round; stroke-width:4; stroke-opacity:1; fill:none\" points=\"2026.48,147.058 2175.85,147.058 \"/>\n",
       "<path clip-path=\"url(#clip990)\" d=\"M2214.59 166.745 Q2212.78 171.375 2211.07 172.787 Q2209.36 174.199 2206.49 174.199 L2203.08 174.199 L2203.08 170.634 L2205.58 170.634 Q2207.34 170.634 2208.31 169.8 Q2209.29 168.967 2210.47 165.865 L2211.23 163.921 L2200.74 138.412 L2205.26 138.412 L2213.36 158.689 L2221.46 138.412 L2225.98 138.412 L2214.59 166.745 Z\" fill=\"#000000\" fill-rule=\"nonzero\" fill-opacity=\"1\" /><path clip-path=\"url(#clip990)\" d=\"M2233.27 160.402 L2240.91 160.402 L2240.91 134.037 L2232.6 135.703 L2232.6 131.444 L2240.86 129.778 L2245.54 129.778 L2245.54 160.402 L2253.17 160.402 L2253.17 164.338 L2233.27 164.338 L2233.27 160.402 Z\" fill=\"#000000\" fill-rule=\"nonzero\" fill-opacity=\"1\" /></svg>\n"
      ]
     },
     "execution_count": 247,
     "metadata": {},
     "output_type": "execute_result"
    }
   ],
   "source": [
    "Hvals = 0.01:0.025:0.4\n",
    "tau = sqrt(0.025)\n",
    "Vals = broadcast(H -> performance(pi,H,Bmin,r,b,tau,delta)[2], Hvals)\n",
    "Plots.plot(Hvals,Vals)\n",
    "tau = sqrt(0.05)\n",
    "Vals = broadcast(H -> performance(pi,H,Bmin,r,b,tau,delta)[2], Hvals)\n",
    "Plots.plot!(Hvals,Vals)\n",
    "tau = sqrt(0.025);delta = 0.99\n",
    "Vals = broadcast(H -> performance(pi,H,Bmin,r,b,tau,delta)[2], Hvals)\n",
    "Plots.plot!(Hvals,Vals)"
   ]
  },
  {
   "cell_type": "code",
   "execution_count": 248,
   "id": "79b301f7-a88f-46b0-a2ee-3589111be5cf",
   "metadata": {},
   "outputs": [
    {
     "data": {
      "image/svg+xml": [
       "<?xml version=\"1.0\" encoding=\"utf-8\"?>\n",
       "<svg xmlns=\"http://www.w3.org/2000/svg\" xmlns:xlink=\"http://www.w3.org/1999/xlink\" width=\"600\" height=\"400\" viewBox=\"0 0 2400 1600\">\n",
       "<defs>\n",
       "  <clipPath id=\"clip030\">\n",
       "    <rect x=\"0\" y=\"0\" width=\"2400\" height=\"1600\"/>\n",
       "  </clipPath>\n",
       "</defs>\n",
       "<path clip-path=\"url(#clip030)\" d=\"M0 1600 L2400 1600 L2400 0 L0 0  Z\" fill=\"#ffffff\" fill-rule=\"evenodd\" fill-opacity=\"1\"/>\n",
       "<defs>\n",
       "  <clipPath id=\"clip031\">\n",
       "    <rect x=\"480\" y=\"0\" width=\"1681\" height=\"1600\"/>\n",
       "  </clipPath>\n",
       "</defs>\n",
       "<path clip-path=\"url(#clip030)\" d=\"M112.177 1486.45 L2352.76 1486.45 L2352.76 47.2441 L112.177 47.2441  Z\" fill=\"#ffffff\" fill-rule=\"evenodd\" fill-opacity=\"1\"/>\n",
       "<defs>\n",
       "  <clipPath id=\"clip032\">\n",
       "    <rect x=\"112\" y=\"47\" width=\"2242\" height=\"1440\"/>\n",
       "  </clipPath>\n",
       "</defs>\n",
       "<polyline clip-path=\"url(#clip032)\" style=\"stroke:#000000; stroke-linecap:round; stroke-linejoin:round; stroke-width:2; stroke-opacity:0.1; fill:none\" points=\"119.223,1486.45 119.223,47.2441 \"/>\n",
       "<polyline clip-path=\"url(#clip032)\" style=\"stroke:#000000; stroke-linecap:round; stroke-linejoin:round; stroke-width:2; stroke-opacity:0.1; fill:none\" points=\"682.891,1486.45 682.891,47.2441 \"/>\n",
       "<polyline clip-path=\"url(#clip032)\" style=\"stroke:#000000; stroke-linecap:round; stroke-linejoin:round; stroke-width:2; stroke-opacity:0.1; fill:none\" points=\"1246.56,1486.45 1246.56,47.2441 \"/>\n",
       "<polyline clip-path=\"url(#clip032)\" style=\"stroke:#000000; stroke-linecap:round; stroke-linejoin:round; stroke-width:2; stroke-opacity:0.1; fill:none\" points=\"1810.23,1486.45 1810.23,47.2441 \"/>\n",
       "<polyline clip-path=\"url(#clip030)\" style=\"stroke:#000000; stroke-linecap:round; stroke-linejoin:round; stroke-width:4; stroke-opacity:1; fill:none\" points=\"112.177,1486.45 2352.76,1486.45 \"/>\n",
       "<polyline clip-path=\"url(#clip030)\" style=\"stroke:#000000; stroke-linecap:round; stroke-linejoin:round; stroke-width:4; stroke-opacity:1; fill:none\" points=\"119.223,1486.45 119.223,1467.55 \"/>\n",
       "<polyline clip-path=\"url(#clip030)\" style=\"stroke:#000000; stroke-linecap:round; stroke-linejoin:round; stroke-width:4; stroke-opacity:1; fill:none\" points=\"682.891,1486.45 682.891,1467.55 \"/>\n",
       "<polyline clip-path=\"url(#clip030)\" style=\"stroke:#000000; stroke-linecap:round; stroke-linejoin:round; stroke-width:4; stroke-opacity:1; fill:none\" points=\"1246.56,1486.45 1246.56,1467.55 \"/>\n",
       "<polyline clip-path=\"url(#clip030)\" style=\"stroke:#000000; stroke-linecap:round; stroke-linejoin:round; stroke-width:4; stroke-opacity:1; fill:none\" points=\"1810.23,1486.45 1810.23,1467.55 \"/>\n",
       "<path clip-path=\"url(#clip030)\" d=\"M96.6074 1517.37 Q92.9963 1517.37 91.1676 1520.93 Q89.3621 1524.47 89.3621 1531.6 Q89.3621 1538.71 91.1676 1542.27 Q92.9963 1545.82 96.6074 1545.82 Q100.242 1545.82 102.047 1542.27 Q103.876 1538.71 103.876 1531.6 Q103.876 1524.47 102.047 1520.93 Q100.242 1517.37 96.6074 1517.37 M96.6074 1513.66 Q102.418 1513.66 105.473 1518.27 Q108.552 1522.85 108.552 1531.6 Q108.552 1540.33 105.473 1544.94 Q102.418 1549.52 96.6074 1549.52 Q90.7972 1549.52 87.7186 1544.94 Q84.663 1540.33 84.663 1531.6 Q84.663 1522.85 87.7186 1518.27 Q90.7972 1513.66 96.6074 1513.66 Z\" fill=\"#000000\" fill-rule=\"nonzero\" fill-opacity=\"1\" /><path clip-path=\"url(#clip030)\" d=\"M116.769 1542.97 L121.654 1542.97 L121.654 1548.85 L116.769 1548.85 L116.769 1542.97 Z\" fill=\"#000000\" fill-rule=\"nonzero\" fill-opacity=\"1\" /><path clip-path=\"url(#clip030)\" d=\"M141.839 1517.37 Q138.228 1517.37 136.399 1520.93 Q134.593 1524.47 134.593 1531.6 Q134.593 1538.71 136.399 1542.27 Q138.228 1545.82 141.839 1545.82 Q145.473 1545.82 147.278 1542.27 Q149.107 1538.71 149.107 1531.6 Q149.107 1524.47 147.278 1520.93 Q145.473 1517.37 141.839 1517.37 M141.839 1513.66 Q147.649 1513.66 150.704 1518.27 Q153.783 1522.85 153.783 1531.6 Q153.783 1540.33 150.704 1544.94 Q147.649 1549.52 141.839 1549.52 Q136.028 1549.52 132.95 1544.94 Q129.894 1540.33 129.894 1531.6 Q129.894 1522.85 132.95 1518.27 Q136.028 1513.66 141.839 1513.66 Z\" fill=\"#000000\" fill-rule=\"nonzero\" fill-opacity=\"1\" /><path clip-path=\"url(#clip030)\" d=\"M660.888 1517.37 Q657.277 1517.37 655.449 1520.93 Q653.643 1524.47 653.643 1531.6 Q653.643 1538.71 655.449 1542.27 Q657.277 1545.82 660.888 1545.82 Q664.523 1545.82 666.328 1542.27 Q668.157 1538.71 668.157 1531.6 Q668.157 1524.47 666.328 1520.93 Q664.523 1517.37 660.888 1517.37 M660.888 1513.66 Q666.699 1513.66 669.754 1518.27 Q672.833 1522.85 672.833 1531.6 Q672.833 1540.33 669.754 1544.94 Q666.699 1549.52 660.888 1549.52 Q655.078 1549.52 652 1544.94 Q648.944 1540.33 648.944 1531.6 Q648.944 1522.85 652 1518.27 Q655.078 1513.66 660.888 1513.66 Z\" fill=\"#000000\" fill-rule=\"nonzero\" fill-opacity=\"1\" /><path clip-path=\"url(#clip030)\" d=\"M681.05 1542.97 L685.935 1542.97 L685.935 1548.85 L681.05 1548.85 L681.05 1542.97 Z\" fill=\"#000000\" fill-rule=\"nonzero\" fill-opacity=\"1\" /><path clip-path=\"url(#clip030)\" d=\"M696.93 1544.91 L704.569 1544.91 L704.569 1518.55 L696.259 1520.21 L696.259 1515.95 L704.522 1514.29 L709.198 1514.29 L709.198 1544.91 L716.837 1544.91 L716.837 1548.85 L696.93 1548.85 L696.93 1544.91 Z\" fill=\"#000000\" fill-rule=\"nonzero\" fill-opacity=\"1\" /><path clip-path=\"url(#clip030)\" d=\"M1224.74 1517.37 Q1221.13 1517.37 1219.3 1520.93 Q1217.5 1524.47 1217.5 1531.6 Q1217.5 1538.71 1219.3 1542.27 Q1221.13 1545.82 1224.74 1545.82 Q1228.38 1545.82 1230.18 1542.27 Q1232.01 1538.71 1232.01 1531.6 Q1232.01 1524.47 1230.18 1520.93 Q1228.38 1517.37 1224.74 1517.37 M1224.74 1513.66 Q1230.55 1513.66 1233.61 1518.27 Q1236.69 1522.85 1236.69 1531.6 Q1236.69 1540.33 1233.61 1544.94 Q1230.55 1549.52 1224.74 1549.52 Q1218.93 1549.52 1215.85 1544.94 Q1212.8 1540.33 1212.8 1531.6 Q1212.8 1522.85 1215.85 1518.27 Q1218.93 1513.66 1224.74 1513.66 Z\" fill=\"#000000\" fill-rule=\"nonzero\" fill-opacity=\"1\" /><path clip-path=\"url(#clip030)\" d=\"M1244.9 1542.97 L1249.79 1542.97 L1249.79 1548.85 L1244.9 1548.85 L1244.9 1542.97 Z\" fill=\"#000000\" fill-rule=\"nonzero\" fill-opacity=\"1\" /><path clip-path=\"url(#clip030)\" d=\"M1264 1544.91 L1280.32 1544.91 L1280.32 1548.85 L1258.38 1548.85 L1258.38 1544.91 Q1261.04 1542.16 1265.62 1537.53 Q1270.23 1532.88 1271.41 1531.53 Q1273.65 1529.01 1274.53 1527.27 Q1275.44 1525.51 1275.44 1523.82 Q1275.44 1521.07 1273.49 1519.33 Q1271.57 1517.6 1268.47 1517.6 Q1266.27 1517.6 1263.82 1518.36 Q1261.38 1519.13 1258.61 1520.68 L1258.61 1515.95 Q1261.43 1514.82 1263.88 1514.24 Q1266.34 1513.66 1268.38 1513.66 Q1273.75 1513.66 1276.94 1516.35 Q1280.13 1519.03 1280.13 1523.52 Q1280.13 1525.65 1279.32 1527.57 Q1278.54 1529.47 1276.43 1532.07 Q1275.85 1532.74 1272.75 1535.95 Q1269.65 1539.15 1264 1544.91 Z\" fill=\"#000000\" fill-rule=\"nonzero\" fill-opacity=\"1\" /><path clip-path=\"url(#clip030)\" d=\"M1787.93 1517.37 Q1784.32 1517.37 1782.49 1520.93 Q1780.69 1524.47 1780.69 1531.6 Q1780.69 1538.71 1782.49 1542.27 Q1784.32 1545.82 1787.93 1545.82 Q1791.57 1545.82 1793.37 1542.27 Q1795.2 1538.71 1795.2 1531.6 Q1795.2 1524.47 1793.37 1520.93 Q1791.57 1517.37 1787.93 1517.37 M1787.93 1513.66 Q1793.74 1513.66 1796.8 1518.27 Q1799.88 1522.85 1799.88 1531.6 Q1799.88 1540.33 1796.8 1544.94 Q1793.74 1549.52 1787.93 1549.52 Q1782.12 1549.52 1779.05 1544.94 Q1775.99 1540.33 1775.99 1531.6 Q1775.99 1522.85 1779.05 1518.27 Q1782.12 1513.66 1787.93 1513.66 Z\" fill=\"#000000\" fill-rule=\"nonzero\" fill-opacity=\"1\" /><path clip-path=\"url(#clip030)\" d=\"M1808.1 1542.97 L1812.98 1542.97 L1812.98 1548.85 L1808.1 1548.85 L1808.1 1542.97 Z\" fill=\"#000000\" fill-rule=\"nonzero\" fill-opacity=\"1\" /><path clip-path=\"url(#clip030)\" d=\"M1837.33 1530.21 Q1840.69 1530.93 1842.56 1533.2 Q1844.46 1535.47 1844.46 1538.8 Q1844.46 1543.92 1840.94 1546.72 Q1837.42 1549.52 1830.94 1549.52 Q1828.77 1549.52 1826.45 1549.08 Q1824.16 1548.66 1821.71 1547.81 L1821.71 1543.29 Q1823.65 1544.43 1825.97 1545.01 Q1828.28 1545.58 1830.8 1545.58 Q1835.2 1545.58 1837.49 1543.85 Q1839.81 1542.11 1839.81 1538.8 Q1839.81 1535.75 1837.66 1534.03 Q1835.53 1532.3 1831.71 1532.3 L1827.68 1532.3 L1827.68 1528.45 L1831.89 1528.45 Q1835.34 1528.45 1837.17 1527.09 Q1839 1525.7 1839 1523.11 Q1839 1520.45 1837.1 1519.03 Q1835.23 1517.6 1831.71 1517.6 Q1829.79 1517.6 1827.59 1518.01 Q1825.39 1518.43 1822.75 1519.31 L1822.75 1515.14 Q1825.41 1514.4 1827.73 1514.03 Q1830.06 1513.66 1832.12 1513.66 Q1837.45 1513.66 1840.55 1516.09 Q1843.65 1518.5 1843.65 1522.62 Q1843.65 1525.49 1842.01 1527.48 Q1840.36 1529.45 1837.33 1530.21 Z\" fill=\"#000000\" fill-rule=\"nonzero\" fill-opacity=\"1\" /><polyline clip-path=\"url(#clip032)\" style=\"stroke:#000000; stroke-linecap:round; stroke-linejoin:round; stroke-width:2; stroke-opacity:0.1; fill:none\" points=\"112.177,1320.13 2352.76,1320.13 \"/>\n",
       "<polyline clip-path=\"url(#clip032)\" style=\"stroke:#000000; stroke-linecap:round; stroke-linejoin:round; stroke-width:2; stroke-opacity:0.1; fill:none\" points=\"112.177,1112.55 2352.76,1112.55 \"/>\n",
       "<polyline clip-path=\"url(#clip032)\" style=\"stroke:#000000; stroke-linecap:round; stroke-linejoin:round; stroke-width:2; stroke-opacity:0.1; fill:none\" points=\"112.177,904.979 2352.76,904.979 \"/>\n",
       "<polyline clip-path=\"url(#clip032)\" style=\"stroke:#000000; stroke-linecap:round; stroke-linejoin:round; stroke-width:2; stroke-opacity:0.1; fill:none\" points=\"112.177,697.403 2352.76,697.403 \"/>\n",
       "<polyline clip-path=\"url(#clip032)\" style=\"stroke:#000000; stroke-linecap:round; stroke-linejoin:round; stroke-width:2; stroke-opacity:0.1; fill:none\" points=\"112.177,489.827 2352.76,489.827 \"/>\n",
       "<polyline clip-path=\"url(#clip032)\" style=\"stroke:#000000; stroke-linecap:round; stroke-linejoin:round; stroke-width:2; stroke-opacity:0.1; fill:none\" points=\"112.177,282.25 2352.76,282.25 \"/>\n",
       "<polyline clip-path=\"url(#clip032)\" style=\"stroke:#000000; stroke-linecap:round; stroke-linejoin:round; stroke-width:2; stroke-opacity:0.1; fill:none\" points=\"112.177,74.6743 2352.76,74.6743 \"/>\n",
       "<polyline clip-path=\"url(#clip030)\" style=\"stroke:#000000; stroke-linecap:round; stroke-linejoin:round; stroke-width:4; stroke-opacity:1; fill:none\" points=\"112.177,1486.45 112.177,47.2441 \"/>\n",
       "<polyline clip-path=\"url(#clip030)\" style=\"stroke:#000000; stroke-linecap:round; stroke-linejoin:round; stroke-width:4; stroke-opacity:1; fill:none\" points=\"112.177,1320.13 131.075,1320.13 \"/>\n",
       "<polyline clip-path=\"url(#clip030)\" style=\"stroke:#000000; stroke-linecap:round; stroke-linejoin:round; stroke-width:4; stroke-opacity:1; fill:none\" points=\"112.177,1112.55 131.075,1112.55 \"/>\n",
       "<polyline clip-path=\"url(#clip030)\" style=\"stroke:#000000; stroke-linecap:round; stroke-linejoin:round; stroke-width:4; stroke-opacity:1; fill:none\" points=\"112.177,904.979 131.075,904.979 \"/>\n",
       "<polyline clip-path=\"url(#clip030)\" style=\"stroke:#000000; stroke-linecap:round; stroke-linejoin:round; stroke-width:4; stroke-opacity:1; fill:none\" points=\"112.177,697.403 131.075,697.403 \"/>\n",
       "<polyline clip-path=\"url(#clip030)\" style=\"stroke:#000000; stroke-linecap:round; stroke-linejoin:round; stroke-width:4; stroke-opacity:1; fill:none\" points=\"112.177,489.827 131.075,489.827 \"/>\n",
       "<polyline clip-path=\"url(#clip030)\" style=\"stroke:#000000; stroke-linecap:round; stroke-linejoin:round; stroke-width:4; stroke-opacity:1; fill:none\" points=\"112.177,282.25 131.075,282.25 \"/>\n",
       "<polyline clip-path=\"url(#clip030)\" style=\"stroke:#000000; stroke-linecap:round; stroke-linejoin:round; stroke-width:4; stroke-opacity:1; fill:none\" points=\"112.177,74.6743 131.075,74.6743 \"/>\n",
       "<path clip-path=\"url(#clip030)\" d=\"M56.2699 1333.48 L63.9087 1333.48 L63.9087 1307.11 L55.5986 1308.78 L55.5986 1304.52 L63.8624 1302.85 L68.5383 1302.85 L68.5383 1333.48 L76.1772 1333.48 L76.1772 1337.41 L56.2699 1337.41 L56.2699 1333.48 Z\" fill=\"#000000\" fill-rule=\"nonzero\" fill-opacity=\"1\" /><path clip-path=\"url(#clip030)\" d=\"M59.8578 1125.9 L76.1772 1125.9 L76.1772 1129.83 L54.2328 1129.83 L54.2328 1125.9 Q56.8949 1123.15 61.4782 1118.52 Q66.0846 1113.86 67.2652 1112.52 Q69.5105 1110 70.3902 1108.26 Q71.2929 1106.5 71.2929 1104.81 Q71.2929 1102.06 69.3485 1100.32 Q67.4272 1098.58 64.3254 1098.58 Q62.1263 1098.58 59.6726 1099.35 Q57.2421 1100.11 54.4643 1101.66 L54.4643 1096.94 Q57.2884 1095.81 59.7421 1095.23 Q62.1958 1094.65 64.2328 1094.65 Q69.6031 1094.65 72.7976 1097.33 Q75.992 1100.02 75.992 1104.51 Q75.992 1106.64 75.1818 1108.56 Q74.3948 1110.46 72.2883 1113.05 Q71.7096 1113.72 68.6078 1116.94 Q65.5059 1120.14 59.8578 1125.9 Z\" fill=\"#000000\" fill-rule=\"nonzero\" fill-opacity=\"1\" /><path clip-path=\"url(#clip030)\" d=\"M69.0476 903.625 Q72.404 904.342 74.279 906.611 Q76.1772 908.879 76.1772 912.212 Q76.1772 917.328 72.6587 920.129 Q69.1402 922.93 62.6587 922.93 Q60.4828 922.93 58.168 922.49 Q55.8764 922.074 53.4227 921.217 L53.4227 916.703 Q55.3671 917.837 57.6819 918.416 Q59.9967 918.995 62.5198 918.995 Q66.918 918.995 69.2096 917.259 Q71.5244 915.523 71.5244 912.212 Q71.5244 909.157 69.3717 907.444 Q67.242 905.708 63.4226 905.708 L59.3949 905.708 L59.3949 901.865 L63.6078 901.865 Q67.0569 901.865 68.8855 900.5 Q70.7142 899.111 70.7142 896.518 Q70.7142 893.856 68.8161 892.444 Q66.9411 891.009 63.4226 891.009 Q61.5013 891.009 59.3023 891.426 Q57.1032 891.842 54.4643 892.722 L54.4643 888.555 Q57.1264 887.814 59.4412 887.444 Q61.7791 887.074 63.8393 887.074 Q69.1633 887.074 72.2652 889.504 Q75.367 891.912 75.367 896.032 Q75.367 898.902 73.7235 900.893 Q72.08 902.861 69.0476 903.625 Z\" fill=\"#000000\" fill-rule=\"nonzero\" fill-opacity=\"1\" /><path clip-path=\"url(#clip030)\" d=\"M66.5939 684.197 L54.7884 702.646 L66.5939 702.646 L66.5939 684.197 M65.367 680.123 L71.2466 680.123 L71.2466 702.646 L76.1772 702.646 L76.1772 706.534 L71.2466 706.534 L71.2466 714.683 L66.5939 714.683 L66.5939 706.534 L50.9921 706.534 L50.9921 702.021 L65.367 680.123 Z\" fill=\"#000000\" fill-rule=\"nonzero\" fill-opacity=\"1\" /><path clip-path=\"url(#clip030)\" d=\"M55.2745 472.547 L73.6309 472.547 L73.6309 476.482 L59.5569 476.482 L59.5569 484.954 Q60.5754 484.607 61.5939 484.445 Q62.6124 484.259 63.6309 484.259 Q69.418 484.259 72.7976 487.431 Q76.1772 490.602 76.1772 496.019 Q76.1772 501.597 72.705 504.699 Q69.2328 507.778 62.9134 507.778 Q60.7374 507.778 58.4689 507.407 Q56.2236 507.037 53.8162 506.296 L53.8162 501.597 Q55.8995 502.732 58.1217 503.287 Q60.3439 503.843 62.8208 503.843 Q66.8254 503.843 69.1633 501.736 Q71.5013 499.63 71.5013 496.019 Q71.5013 492.408 69.1633 490.301 Q66.8254 488.195 62.8208 488.195 Q60.9458 488.195 59.0708 488.611 Q57.2189 489.028 55.2745 489.908 L55.2745 472.547 Z\" fill=\"#000000\" fill-rule=\"nonzero\" fill-opacity=\"1\" /><path clip-path=\"url(#clip030)\" d=\"M64.6495 280.387 Q61.5013 280.387 59.6495 282.54 Q57.8208 284.693 57.8208 288.443 Q57.8208 292.169 59.6495 294.345 Q61.5013 296.498 64.6495 296.498 Q67.7976 296.498 69.6263 294.345 Q71.4781 292.169 71.4781 288.443 Q71.4781 284.693 69.6263 282.54 Q67.7976 280.387 64.6495 280.387 M73.9318 265.734 L73.9318 269.994 Q72.1726 269.16 70.367 268.72 Q68.5846 268.281 66.8254 268.281 Q62.1958 268.281 59.7421 271.406 Q57.3115 274.531 56.9643 280.85 Q58.33 278.836 60.3902 277.771 Q62.4504 276.683 64.9272 276.683 Q70.1355 276.683 73.1448 279.855 Q76.1772 283.003 76.1772 288.443 Q76.1772 293.767 73.029 296.984 Q69.8809 300.202 64.6495 300.202 Q58.6541 300.202 55.4828 295.618 Q52.3116 291.012 52.3116 282.285 Q52.3116 274.091 56.2004 269.23 Q60.0893 264.345 66.6402 264.345 Q68.3994 264.345 70.1818 264.693 Q71.9874 265.04 73.9318 265.734 Z\" fill=\"#000000\" fill-rule=\"nonzero\" fill-opacity=\"1\" /><path clip-path=\"url(#clip030)\" d=\"M53.9551 57.3943 L76.1772 57.3943 L76.1772 59.385 L63.6309 91.9543 L58.7467 91.9543 L70.5522 61.3295 L53.9551 61.3295 L53.9551 57.3943 Z\" fill=\"#000000\" fill-rule=\"nonzero\" fill-opacity=\"1\" /><polyline clip-path=\"url(#clip032)\" style=\"stroke:#009af9; stroke-linecap:round; stroke-linejoin:round; stroke-width:4; stroke-opacity:1; fill:none\" points=\"175.59,1445.72 316.507,1240.74 457.424,1035.76 598.34,830.786 739.257,625.913 880.174,422.345 1021.09,232.614 1162.01,93.109 1302.92,87.9763 1443.84,244.507 1584.76,424.804 1725.68,603.913 1866.59,728.148 2007.51,835.459 2148.43,898.893 2289.34,948.595 \"/>\n",
       "<polyline clip-path=\"url(#clip032)\" style=\"stroke:#e26f46; stroke-linecap:round; stroke-linejoin:round; stroke-width:4; stroke-opacity:1; fill:none\" points=\"2035.69,2925.65 2035.69,-1391.96 \"/>\n",
       "<path clip-path=\"url(#clip030)\" d=\"M186.863 250.738 L463.351 250.738 L463.351 95.2176 L186.863 95.2176  Z\" fill=\"#ffffff\" fill-rule=\"evenodd\" fill-opacity=\"1\"/>\n",
       "<polyline clip-path=\"url(#clip030)\" style=\"stroke:#000000; stroke-linecap:round; stroke-linejoin:round; stroke-width:4; stroke-opacity:1; fill:none\" points=\"186.863,250.738 463.351,250.738 463.351,95.2176 186.863,95.2176 186.863,250.738 \"/>\n",
       "<polyline clip-path=\"url(#clip030)\" style=\"stroke:#009af9; stroke-linecap:round; stroke-linejoin:round; stroke-width:4; stroke-opacity:1; fill:none\" points=\"211.758,147.058 361.13,147.058 \"/>\n",
       "<path clip-path=\"url(#clip030)\" d=\"M399.868 166.745 Q398.063 171.375 396.35 172.787 Q394.637 174.199 391.766 174.199 L388.364 174.199 L388.364 170.634 L390.864 170.634 Q392.623 170.634 393.595 169.8 Q394.567 168.967 395.748 165.865 L396.512 163.921 L386.026 138.412 L390.54 138.412 L398.641 158.689 L406.743 138.412 L411.257 138.412 L399.868 166.745 Z\" fill=\"#000000\" fill-rule=\"nonzero\" fill-opacity=\"1\" /><path clip-path=\"url(#clip030)\" d=\"M418.549 160.402 L426.188 160.402 L426.188 134.037 L417.877 135.703 L417.877 131.444 L426.141 129.778 L430.817 129.778 L430.817 160.402 L438.456 160.402 L438.456 164.338 L418.549 164.338 L418.549 160.402 Z\" fill=\"#000000\" fill-rule=\"nonzero\" fill-opacity=\"1\" /><polyline clip-path=\"url(#clip030)\" style=\"stroke:#e26f46; stroke-linecap:round; stroke-linejoin:round; stroke-width:4; stroke-opacity:1; fill:none\" points=\"211.758,198.898 361.13,198.898 \"/>\n",
       "<path clip-path=\"url(#clip030)\" d=\"M399.868 218.585 Q398.063 223.215 396.35 224.627 Q394.637 226.039 391.766 226.039 L388.364 226.039 L388.364 222.474 L390.864 222.474 Q392.623 222.474 393.595 221.64 Q394.567 220.807 395.748 217.705 L396.512 215.761 L386.026 190.252 L390.54 190.252 L398.641 210.529 L406.743 190.252 L411.257 190.252 L399.868 218.585 Z\" fill=\"#000000\" fill-rule=\"nonzero\" fill-opacity=\"1\" /><path clip-path=\"url(#clip030)\" d=\"M421.766 212.242 L438.086 212.242 L438.086 216.178 L416.141 216.178 L416.141 212.242 Q418.803 209.488 423.387 204.858 Q427.993 200.205 429.174 198.863 Q431.419 196.34 432.299 194.604 Q433.201 192.844 433.201 191.155 Q433.201 188.4 431.257 186.664 Q429.336 184.928 426.234 184.928 Q424.035 184.928 421.581 185.692 Q419.151 186.455 416.373 188.006 L416.373 183.284 Q419.197 182.15 421.65 181.571 Q424.104 180.993 426.141 180.993 Q431.512 180.993 434.706 183.678 Q437.9 186.363 437.9 190.854 Q437.9 192.983 437.09 194.905 Q436.303 196.803 434.197 199.395 Q433.618 200.067 430.516 203.284 Q427.414 206.479 421.766 212.242 Z\" fill=\"#000000\" fill-rule=\"nonzero\" fill-opacity=\"1\" /></svg>\n"
      ]
     },
     "execution_count": 248,
     "metadata": {},
     "output_type": "execute_result"
    }
   ],
   "source": [
    "Plots.vline!([0.34])"
   ]
  },
  {
   "cell_type": "code",
   "execution_count": 212,
   "id": "a393807d-a669-4bec-9cec-0d65bf31c1f5",
   "metadata": {},
   "outputs": [
    {
     "data": {
      "image/svg+xml": [
       "<?xml version=\"1.0\" encoding=\"utf-8\"?>\n",
       "<svg xmlns=\"http://www.w3.org/2000/svg\" xmlns:xlink=\"http://www.w3.org/1999/xlink\" width=\"600\" height=\"400\" viewBox=\"0 0 2400 1600\">\n",
       "<defs>\n",
       "  <clipPath id=\"clip950\">\n",
       "    <rect x=\"0\" y=\"0\" width=\"2400\" height=\"1600\"/>\n",
       "  </clipPath>\n",
       "</defs>\n",
       "<path clip-path=\"url(#clip950)\" d=\"M0 1600 L2400 1600 L2400 0 L0 0  Z\" fill=\"#ffffff\" fill-rule=\"evenodd\" fill-opacity=\"1\"/>\n",
       "<defs>\n",
       "  <clipPath id=\"clip951\">\n",
       "    <rect x=\"480\" y=\"0\" width=\"1681\" height=\"1600\"/>\n",
       "  </clipPath>\n",
       "</defs>\n",
       "<path clip-path=\"url(#clip950)\" d=\"M156.598 1486.45 L2352.76 1486.45 L2352.76 47.2441 L156.598 47.2441  Z\" fill=\"#ffffff\" fill-rule=\"evenodd\" fill-opacity=\"1\"/>\n",
       "<defs>\n",
       "  <clipPath id=\"clip952\">\n",
       "    <rect x=\"156\" y=\"47\" width=\"2197\" height=\"1440\"/>\n",
       "  </clipPath>\n",
       "</defs>\n",
       "<polyline clip-path=\"url(#clip952)\" style=\"stroke:#000000; stroke-linecap:round; stroke-linejoin:round; stroke-width:2; stroke-opacity:0.1; fill:none\" points=\"197.826,1486.45 197.826,47.2441 \"/>\n",
       "<polyline clip-path=\"url(#clip952)\" style=\"stroke:#000000; stroke-linecap:round; stroke-linejoin:round; stroke-width:2; stroke-opacity:0.1; fill:none\" points=\"721.02,1486.45 721.02,47.2441 \"/>\n",
       "<polyline clip-path=\"url(#clip952)\" style=\"stroke:#000000; stroke-linecap:round; stroke-linejoin:round; stroke-width:2; stroke-opacity:0.1; fill:none\" points=\"1244.21,1486.45 1244.21,47.2441 \"/>\n",
       "<polyline clip-path=\"url(#clip952)\" style=\"stroke:#000000; stroke-linecap:round; stroke-linejoin:round; stroke-width:2; stroke-opacity:0.1; fill:none\" points=\"1767.41,1486.45 1767.41,47.2441 \"/>\n",
       "<polyline clip-path=\"url(#clip952)\" style=\"stroke:#000000; stroke-linecap:round; stroke-linejoin:round; stroke-width:2; stroke-opacity:0.1; fill:none\" points=\"2290.6,1486.45 2290.6,47.2441 \"/>\n",
       "<polyline clip-path=\"url(#clip950)\" style=\"stroke:#000000; stroke-linecap:round; stroke-linejoin:round; stroke-width:4; stroke-opacity:1; fill:none\" points=\"156.598,1486.45 2352.76,1486.45 \"/>\n",
       "<polyline clip-path=\"url(#clip950)\" style=\"stroke:#000000; stroke-linecap:round; stroke-linejoin:round; stroke-width:4; stroke-opacity:1; fill:none\" points=\"197.826,1486.45 197.826,1467.55 \"/>\n",
       "<polyline clip-path=\"url(#clip950)\" style=\"stroke:#000000; stroke-linecap:round; stroke-linejoin:round; stroke-width:4; stroke-opacity:1; fill:none\" points=\"721.02,1486.45 721.02,1467.55 \"/>\n",
       "<polyline clip-path=\"url(#clip950)\" style=\"stroke:#000000; stroke-linecap:round; stroke-linejoin:round; stroke-width:4; stroke-opacity:1; fill:none\" points=\"1244.21,1486.45 1244.21,1467.55 \"/>\n",
       "<polyline clip-path=\"url(#clip950)\" style=\"stroke:#000000; stroke-linecap:round; stroke-linejoin:round; stroke-width:4; stroke-opacity:1; fill:none\" points=\"1767.41,1486.45 1767.41,1467.55 \"/>\n",
       "<polyline clip-path=\"url(#clip950)\" style=\"stroke:#000000; stroke-linecap:round; stroke-linejoin:round; stroke-width:4; stroke-opacity:1; fill:none\" points=\"2290.6,1486.45 2290.6,1467.55 \"/>\n",
       "<path clip-path=\"url(#clip950)\" d=\"M197.826 1517.37 Q194.215 1517.37 192.386 1520.93 Q190.581 1524.47 190.581 1531.6 Q190.581 1538.71 192.386 1542.27 Q194.215 1545.82 197.826 1545.82 Q201.46 1545.82 203.266 1542.27 Q205.094 1538.71 205.094 1531.6 Q205.094 1524.47 203.266 1520.93 Q201.46 1517.37 197.826 1517.37 M197.826 1513.66 Q203.636 1513.66 206.692 1518.27 Q209.77 1522.85 209.77 1531.6 Q209.77 1540.33 206.692 1544.94 Q203.636 1549.52 197.826 1549.52 Q192.016 1549.52 188.937 1544.94 Q185.882 1540.33 185.882 1531.6 Q185.882 1522.85 188.937 1518.27 Q192.016 1513.66 197.826 1513.66 Z\" fill=\"#000000\" fill-rule=\"nonzero\" fill-opacity=\"1\" /><path clip-path=\"url(#clip950)\" d=\"M700.29 1544.91 L716.61 1544.91 L716.61 1548.85 L694.666 1548.85 L694.666 1544.91 Q697.328 1542.16 701.911 1537.53 Q706.517 1532.88 707.698 1531.53 Q709.943 1529.01 710.823 1527.27 Q711.726 1525.51 711.726 1523.82 Q711.726 1521.07 709.781 1519.33 Q707.86 1517.6 704.758 1517.6 Q702.559 1517.6 700.105 1518.36 Q697.675 1519.13 694.897 1520.68 L694.897 1515.95 Q697.721 1514.82 700.175 1514.24 Q702.628 1513.66 704.665 1513.66 Q710.036 1513.66 713.23 1516.35 Q716.425 1519.03 716.425 1523.52 Q716.425 1525.65 715.614 1527.57 Q714.827 1529.47 712.721 1532.07 Q712.142 1532.74 709.04 1535.95 Q705.939 1539.15 700.29 1544.91 Z\" fill=\"#000000\" fill-rule=\"nonzero\" fill-opacity=\"1\" /><path clip-path=\"url(#clip950)\" d=\"M726.471 1514.29 L744.827 1514.29 L744.827 1518.22 L730.753 1518.22 L730.753 1526.7 Q731.772 1526.35 732.79 1526.19 Q733.809 1526 734.827 1526 Q740.614 1526 743.994 1529.17 Q747.374 1532.34 747.374 1537.76 Q747.374 1543.34 743.901 1546.44 Q740.429 1549.52 734.11 1549.52 Q731.934 1549.52 729.665 1549.15 Q727.42 1548.78 725.013 1548.04 L725.013 1543.34 Q727.096 1544.47 729.318 1545.03 Q731.54 1545.58 734.017 1545.58 Q738.022 1545.58 740.36 1543.48 Q742.698 1541.37 742.698 1537.76 Q742.698 1534.15 740.36 1532.04 Q738.022 1529.94 734.017 1529.94 Q732.142 1529.94 730.267 1530.35 Q728.415 1530.77 726.471 1531.65 L726.471 1514.29 Z\" fill=\"#000000\" fill-rule=\"nonzero\" fill-opacity=\"1\" /><path clip-path=\"url(#clip950)\" d=\"M1218.91 1514.29 L1237.27 1514.29 L1237.27 1518.22 L1223.19 1518.22 L1223.19 1526.7 Q1224.21 1526.35 1225.23 1526.19 Q1226.25 1526 1227.27 1526 Q1233.06 1526 1236.44 1529.17 Q1239.82 1532.34 1239.82 1537.76 Q1239.82 1543.34 1236.34 1546.44 Q1232.87 1549.52 1226.55 1549.52 Q1224.38 1549.52 1222.11 1549.15 Q1219.86 1548.78 1217.45 1548.04 L1217.45 1543.34 Q1219.54 1544.47 1221.76 1545.03 Q1223.98 1545.58 1226.46 1545.58 Q1230.46 1545.58 1232.8 1543.48 Q1235.14 1541.37 1235.14 1537.76 Q1235.14 1534.15 1232.8 1532.04 Q1230.46 1529.94 1226.46 1529.94 Q1224.58 1529.94 1222.71 1530.35 Q1220.86 1530.77 1218.91 1531.65 L1218.91 1514.29 Z\" fill=\"#000000\" fill-rule=\"nonzero\" fill-opacity=\"1\" /><path clip-path=\"url(#clip950)\" d=\"M1259.03 1517.37 Q1255.42 1517.37 1253.59 1520.93 Q1251.78 1524.47 1251.78 1531.6 Q1251.78 1538.71 1253.59 1542.27 Q1255.42 1545.82 1259.03 1545.82 Q1262.66 1545.82 1264.47 1542.27 Q1266.3 1538.71 1266.3 1531.6 Q1266.3 1524.47 1264.47 1520.93 Q1262.66 1517.37 1259.03 1517.37 M1259.03 1513.66 Q1264.84 1513.66 1267.89 1518.27 Q1270.97 1522.85 1270.97 1531.6 Q1270.97 1540.33 1267.89 1544.94 Q1264.84 1549.52 1259.03 1549.52 Q1253.22 1549.52 1250.14 1544.94 Q1247.08 1540.33 1247.08 1531.6 Q1247.08 1522.85 1250.14 1518.27 Q1253.22 1513.66 1259.03 1513.66 Z\" fill=\"#000000\" fill-rule=\"nonzero\" fill-opacity=\"1\" /><path clip-path=\"url(#clip950)\" d=\"M1741.26 1514.29 L1763.48 1514.29 L1763.48 1516.28 L1750.94 1548.85 L1746.05 1548.85 L1757.86 1518.22 L1741.26 1518.22 L1741.26 1514.29 Z\" fill=\"#000000\" fill-rule=\"nonzero\" fill-opacity=\"1\" /><path clip-path=\"url(#clip950)\" d=\"M1772.65 1514.29 L1791.01 1514.29 L1791.01 1518.22 L1776.93 1518.22 L1776.93 1526.7 Q1777.95 1526.35 1778.97 1526.19 Q1779.99 1526 1781.01 1526 Q1786.79 1526 1790.17 1529.17 Q1793.55 1532.34 1793.55 1537.76 Q1793.55 1543.34 1790.08 1546.44 Q1786.61 1549.52 1780.29 1549.52 Q1778.11 1549.52 1775.84 1549.15 Q1773.6 1548.78 1771.19 1548.04 L1771.19 1543.34 Q1773.27 1544.47 1775.5 1545.03 Q1777.72 1545.58 1780.2 1545.58 Q1784.2 1545.58 1786.54 1543.48 Q1788.88 1541.37 1788.88 1537.76 Q1788.88 1534.15 1786.54 1532.04 Q1784.2 1529.94 1780.2 1529.94 Q1778.32 1529.94 1776.45 1530.35 Q1774.59 1530.77 1772.65 1531.65 L1772.65 1514.29 Z\" fill=\"#000000\" fill-rule=\"nonzero\" fill-opacity=\"1\" /><path clip-path=\"url(#clip950)\" d=\"M2250.21 1544.91 L2257.85 1544.91 L2257.85 1518.55 L2249.54 1520.21 L2249.54 1515.95 L2257.8 1514.29 L2262.48 1514.29 L2262.48 1544.91 L2270.11 1544.91 L2270.11 1548.85 L2250.21 1548.85 L2250.21 1544.91 Z\" fill=\"#000000\" fill-rule=\"nonzero\" fill-opacity=\"1\" /><path clip-path=\"url(#clip950)\" d=\"M2289.56 1517.37 Q2285.95 1517.37 2284.12 1520.93 Q2282.31 1524.47 2282.31 1531.6 Q2282.31 1538.71 2284.12 1542.27 Q2285.95 1545.82 2289.56 1545.82 Q2293.19 1545.82 2295 1542.27 Q2296.83 1538.71 2296.83 1531.6 Q2296.83 1524.47 2295 1520.93 Q2293.19 1517.37 2289.56 1517.37 M2289.56 1513.66 Q2295.37 1513.66 2298.42 1518.27 Q2301.5 1522.85 2301.5 1531.6 Q2301.5 1540.33 2298.42 1544.94 Q2295.37 1549.52 2289.56 1549.52 Q2283.75 1549.52 2280.67 1544.94 Q2277.61 1540.33 2277.61 1531.6 Q2277.61 1522.85 2280.67 1518.27 Q2283.75 1513.66 2289.56 1513.66 Z\" fill=\"#000000\" fill-rule=\"nonzero\" fill-opacity=\"1\" /><path clip-path=\"url(#clip950)\" d=\"M2319.72 1517.37 Q2316.11 1517.37 2314.28 1520.93 Q2312.48 1524.47 2312.48 1531.6 Q2312.48 1538.71 2314.28 1542.27 Q2316.11 1545.82 2319.72 1545.82 Q2323.35 1545.82 2325.16 1542.27 Q2326.99 1538.71 2326.99 1531.6 Q2326.99 1524.47 2325.16 1520.93 Q2323.35 1517.37 2319.72 1517.37 M2319.72 1513.66 Q2325.53 1513.66 2328.59 1518.27 Q2331.67 1522.85 2331.67 1531.6 Q2331.67 1540.33 2328.59 1544.94 Q2325.53 1549.52 2319.72 1549.52 Q2313.91 1549.52 2310.83 1544.94 Q2307.78 1540.33 2307.78 1531.6 Q2307.78 1522.85 2310.83 1518.27 Q2313.91 1513.66 2319.72 1513.66 Z\" fill=\"#000000\" fill-rule=\"nonzero\" fill-opacity=\"1\" /><polyline clip-path=\"url(#clip952)\" style=\"stroke:#000000; stroke-linecap:round; stroke-linejoin:round; stroke-width:2; stroke-opacity:0.1; fill:none\" points=\"156.598,1428.29 2352.76,1428.29 \"/>\n",
       "<polyline clip-path=\"url(#clip952)\" style=\"stroke:#000000; stroke-linecap:round; stroke-linejoin:round; stroke-width:2; stroke-opacity:0.1; fill:none\" points=\"156.598,1219.08 2352.76,1219.08 \"/>\n",
       "<polyline clip-path=\"url(#clip952)\" style=\"stroke:#000000; stroke-linecap:round; stroke-linejoin:round; stroke-width:2; stroke-opacity:0.1; fill:none\" points=\"156.598,1009.88 2352.76,1009.88 \"/>\n",
       "<polyline clip-path=\"url(#clip952)\" style=\"stroke:#000000; stroke-linecap:round; stroke-linejoin:round; stroke-width:2; stroke-opacity:0.1; fill:none\" points=\"156.598,800.676 2352.76,800.676 \"/>\n",
       "<polyline clip-path=\"url(#clip952)\" style=\"stroke:#000000; stroke-linecap:round; stroke-linejoin:round; stroke-width:2; stroke-opacity:0.1; fill:none\" points=\"156.598,591.472 2352.76,591.472 \"/>\n",
       "<polyline clip-path=\"url(#clip952)\" style=\"stroke:#000000; stroke-linecap:round; stroke-linejoin:round; stroke-width:2; stroke-opacity:0.1; fill:none\" points=\"156.598,382.268 2352.76,382.268 \"/>\n",
       "<polyline clip-path=\"url(#clip952)\" style=\"stroke:#000000; stroke-linecap:round; stroke-linejoin:round; stroke-width:2; stroke-opacity:0.1; fill:none\" points=\"156.598,173.064 2352.76,173.064 \"/>\n",
       "<polyline clip-path=\"url(#clip950)\" style=\"stroke:#000000; stroke-linecap:round; stroke-linejoin:round; stroke-width:4; stroke-opacity:1; fill:none\" points=\"156.598,1486.45 156.598,47.2441 \"/>\n",
       "<polyline clip-path=\"url(#clip950)\" style=\"stroke:#000000; stroke-linecap:round; stroke-linejoin:round; stroke-width:4; stroke-opacity:1; fill:none\" points=\"156.598,1428.29 175.496,1428.29 \"/>\n",
       "<polyline clip-path=\"url(#clip950)\" style=\"stroke:#000000; stroke-linecap:round; stroke-linejoin:round; stroke-width:4; stroke-opacity:1; fill:none\" points=\"156.598,1219.08 175.496,1219.08 \"/>\n",
       "<polyline clip-path=\"url(#clip950)\" style=\"stroke:#000000; stroke-linecap:round; stroke-linejoin:round; stroke-width:4; stroke-opacity:1; fill:none\" points=\"156.598,1009.88 175.496,1009.88 \"/>\n",
       "<polyline clip-path=\"url(#clip950)\" style=\"stroke:#000000; stroke-linecap:round; stroke-linejoin:round; stroke-width:4; stroke-opacity:1; fill:none\" points=\"156.598,800.676 175.496,800.676 \"/>\n",
       "<polyline clip-path=\"url(#clip950)\" style=\"stroke:#000000; stroke-linecap:round; stroke-linejoin:round; stroke-width:4; stroke-opacity:1; fill:none\" points=\"156.598,591.472 175.496,591.472 \"/>\n",
       "<polyline clip-path=\"url(#clip950)\" style=\"stroke:#000000; stroke-linecap:round; stroke-linejoin:round; stroke-width:4; stroke-opacity:1; fill:none\" points=\"156.598,382.268 175.496,382.268 \"/>\n",
       "<polyline clip-path=\"url(#clip950)\" style=\"stroke:#000000; stroke-linecap:round; stroke-linejoin:round; stroke-width:4; stroke-opacity:1; fill:none\" points=\"156.598,173.064 175.496,173.064 \"/>\n",
       "<path clip-path=\"url(#clip950)\" d=\"M65.0198 1414.09 Q61.4087 1414.09 59.58 1417.65 Q57.7745 1421.19 57.7745 1428.32 Q57.7745 1435.43 59.58 1438.99 Q61.4087 1442.54 65.0198 1442.54 Q68.6541 1442.54 70.4596 1438.99 Q72.2883 1435.43 72.2883 1428.32 Q72.2883 1421.19 70.4596 1417.65 Q68.6541 1414.09 65.0198 1414.09 M65.0198 1410.38 Q70.83 1410.38 73.8855 1414.99 Q76.9642 1419.57 76.9642 1428.32 Q76.9642 1437.05 73.8855 1441.66 Q70.83 1446.24 65.0198 1446.24 Q59.2097 1446.24 56.131 1441.66 Q53.0754 1437.05 53.0754 1428.32 Q53.0754 1419.57 56.131 1414.99 Q59.2097 1410.38 65.0198 1410.38 Z\" fill=\"#000000\" fill-rule=\"nonzero\" fill-opacity=\"1\" /><path clip-path=\"url(#clip950)\" d=\"M85.1818 1439.69 L90.066 1439.69 L90.066 1445.57 L85.1818 1445.57 L85.1818 1439.69 Z\" fill=\"#000000\" fill-rule=\"nonzero\" fill-opacity=\"1\" /><path clip-path=\"url(#clip950)\" d=\"M104.279 1441.63 L120.598 1441.63 L120.598 1445.57 L98.6539 1445.57 L98.6539 1441.63 Q101.316 1438.88 105.899 1434.25 Q110.506 1429.6 111.686 1428.25 Q113.932 1425.73 114.811 1423.99 Q115.714 1422.23 115.714 1420.54 Q115.714 1417.79 113.77 1416.05 Q111.848 1414.32 108.746 1414.32 Q106.547 1414.32 104.094 1415.08 Q101.663 1415.85 98.8854 1417.4 L98.8854 1412.67 Q101.709 1411.54 104.163 1410.96 Q106.617 1410.38 108.654 1410.38 Q114.024 1410.38 117.219 1413.07 Q120.413 1415.75 120.413 1420.24 Q120.413 1422.37 119.603 1424.29 Q118.816 1426.19 116.709 1428.79 Q116.131 1429.46 113.029 1432.67 Q109.927 1435.87 104.279 1441.63 Z\" fill=\"#000000\" fill-rule=\"nonzero\" fill-opacity=\"1\" /><path clip-path=\"url(#clip950)\" d=\"M62.9365 1204.88 Q59.3254 1204.88 57.4967 1208.45 Q55.6912 1211.99 55.6912 1219.12 Q55.6912 1226.23 57.4967 1229.79 Q59.3254 1233.33 62.9365 1233.33 Q66.5707 1233.33 68.3763 1229.79 Q70.205 1226.23 70.205 1219.12 Q70.205 1211.99 68.3763 1208.45 Q66.5707 1204.88 62.9365 1204.88 M62.9365 1201.18 Q68.7467 1201.18 71.8022 1205.79 Q74.8809 1210.37 74.8809 1219.12 Q74.8809 1227.85 71.8022 1232.45 Q68.7467 1237.04 62.9365 1237.04 Q57.1264 1237.04 54.0477 1232.45 Q50.9921 1227.85 50.9921 1219.12 Q50.9921 1210.37 54.0477 1205.79 Q57.1264 1201.18 62.9365 1201.18 Z\" fill=\"#000000\" fill-rule=\"nonzero\" fill-opacity=\"1\" /><path clip-path=\"url(#clip950)\" d=\"M83.0984 1230.48 L87.9827 1230.48 L87.9827 1236.36 L83.0984 1236.36 L83.0984 1230.48 Z\" fill=\"#000000\" fill-rule=\"nonzero\" fill-opacity=\"1\" /><path clip-path=\"url(#clip950)\" d=\"M111.015 1205.88 L99.2095 1224.33 L111.015 1224.33 L111.015 1205.88 M109.788 1201.8 L115.668 1201.8 L115.668 1224.33 L120.598 1224.33 L120.598 1228.22 L115.668 1228.22 L115.668 1236.36 L111.015 1236.36 L111.015 1228.22 L95.4132 1228.22 L95.4132 1223.7 L109.788 1201.8 Z\" fill=\"#000000\" fill-rule=\"nonzero\" fill-opacity=\"1\" /><path clip-path=\"url(#clip950)\" d=\"M63.2606 995.679 Q59.6495 995.679 57.8208 999.244 Q56.0152 1002.79 56.0152 1009.91 Q56.0152 1017.02 57.8208 1020.59 Q59.6495 1024.13 63.2606 1024.13 Q66.8948 1024.13 68.7004 1020.59 Q70.5291 1017.02 70.5291 1009.91 Q70.5291 1002.79 68.7004 999.244 Q66.8948 995.679 63.2606 995.679 M63.2606 991.975 Q69.0707 991.975 72.1263 996.582 Q75.205 1001.16 75.205 1009.91 Q75.205 1018.64 72.1263 1023.25 Q69.0707 1027.83 63.2606 1027.83 Q57.4504 1027.83 54.3717 1023.25 Q51.3162 1018.64 51.3162 1009.91 Q51.3162 1001.16 54.3717 996.582 Q57.4504 991.975 63.2606 991.975 Z\" fill=\"#000000\" fill-rule=\"nonzero\" fill-opacity=\"1\" /><path clip-path=\"url(#clip950)\" d=\"M83.4225 1021.28 L88.3067 1021.28 L88.3067 1027.16 L83.4225 1027.16 L83.4225 1021.28 Z\" fill=\"#000000\" fill-rule=\"nonzero\" fill-opacity=\"1\" /><path clip-path=\"url(#clip950)\" d=\"M109.071 1008.02 Q105.922 1008.02 104.071 1010.17 Q102.242 1012.32 102.242 1016.07 Q102.242 1019.8 104.071 1021.97 Q105.922 1024.13 109.071 1024.13 Q112.219 1024.13 114.047 1021.97 Q115.899 1019.8 115.899 1016.07 Q115.899 1012.32 114.047 1010.17 Q112.219 1008.02 109.071 1008.02 M118.353 993.364 L118.353 997.623 Q116.594 996.79 114.788 996.35 Q113.006 995.91 111.246 995.91 Q106.617 995.91 104.163 999.035 Q101.733 1002.16 101.385 1008.48 Q102.751 1006.47 104.811 1005.4 Q106.871 1004.31 109.348 1004.31 Q114.557 1004.31 117.566 1007.48 Q120.598 1010.63 120.598 1016.07 Q120.598 1021.4 117.45 1024.61 Q114.302 1027.83 109.071 1027.83 Q103.075 1027.83 99.9039 1023.25 Q96.7326 1018.64 96.7326 1009.91 Q96.7326 1001.72 100.621 996.859 Q104.51 991.975 111.061 991.975 Q112.82 991.975 114.603 992.322 Q116.408 992.67 118.353 993.364 Z\" fill=\"#000000\" fill-rule=\"nonzero\" fill-opacity=\"1\" /><path clip-path=\"url(#clip950)\" d=\"M63.5152 786.475 Q59.9041 786.475 58.0754 790.04 Q56.2699 793.581 56.2699 800.711 Q56.2699 807.817 58.0754 811.382 Q59.9041 814.924 63.5152 814.924 Q67.1494 814.924 68.955 811.382 Q70.7837 807.817 70.7837 800.711 Q70.7837 793.581 68.955 790.04 Q67.1494 786.475 63.5152 786.475 M63.5152 782.771 Q69.3254 782.771 72.3809 787.378 Q75.4596 791.961 75.4596 800.711 Q75.4596 809.438 72.3809 814.044 Q69.3254 818.627 63.5152 818.627 Q57.7051 818.627 54.6264 814.044 Q51.5708 809.438 51.5708 800.711 Q51.5708 791.961 54.6264 787.378 Q57.7051 782.771 63.5152 782.771 Z\" fill=\"#000000\" fill-rule=\"nonzero\" fill-opacity=\"1\" /><path clip-path=\"url(#clip950)\" d=\"M83.6771 812.077 L88.5614 812.077 L88.5614 817.956 L83.6771 817.956 L83.6771 812.077 Z\" fill=\"#000000\" fill-rule=\"nonzero\" fill-opacity=\"1\" /><path clip-path=\"url(#clip950)\" d=\"M108.746 801.544 Q105.413 801.544 103.492 803.327 Q101.594 805.109 101.594 808.234 Q101.594 811.359 103.492 813.141 Q105.413 814.924 108.746 814.924 Q112.08 814.924 114.001 813.141 Q115.922 811.336 115.922 808.234 Q115.922 805.109 114.001 803.327 Q112.103 801.544 108.746 801.544 M104.071 799.553 Q101.061 798.813 99.3715 796.753 Q97.7048 794.692 97.7048 791.729 Q97.7048 787.586 100.645 785.179 Q103.608 782.771 108.746 782.771 Q113.908 782.771 116.848 785.179 Q119.788 787.586 119.788 791.729 Q119.788 794.692 118.098 796.753 Q116.432 798.813 113.445 799.553 Q116.825 800.341 118.7 802.632 Q120.598 804.924 120.598 808.234 Q120.598 813.257 117.52 815.942 Q114.464 818.627 108.746 818.627 Q103.029 818.627 99.9502 815.942 Q96.8947 813.257 96.8947 808.234 Q96.8947 804.924 98.7928 802.632 Q100.691 800.341 104.071 799.553 M102.358 792.169 Q102.358 794.854 104.024 796.359 Q105.714 797.864 108.746 797.864 Q111.756 797.864 113.445 796.359 Q115.158 794.854 115.158 792.169 Q115.158 789.484 113.445 787.979 Q111.756 786.475 108.746 786.475 Q105.714 786.475 104.024 787.979 Q102.358 789.484 102.358 792.169 Z\" fill=\"#000000\" fill-rule=\"nonzero\" fill-opacity=\"1\" /><path clip-path=\"url(#clip950)\" d=\"M54.2328 604.817 L61.8717 604.817 L61.8717 578.451 L53.5616 580.118 L53.5616 575.859 L61.8254 574.192 L66.5013 574.192 L66.5013 604.817 L74.1402 604.817 L74.1402 608.752 L54.2328 608.752 L54.2328 604.817 Z\" fill=\"#000000\" fill-rule=\"nonzero\" fill-opacity=\"1\" /><path clip-path=\"url(#clip950)\" d=\"M83.5845 602.873 L88.4688 602.873 L88.4688 608.752 L83.5845 608.752 L83.5845 602.873 Z\" fill=\"#000000\" fill-rule=\"nonzero\" fill-opacity=\"1\" /><path clip-path=\"url(#clip950)\" d=\"M108.654 577.271 Q105.043 577.271 103.214 580.836 Q101.409 584.377 101.409 591.507 Q101.409 598.613 103.214 602.178 Q105.043 605.72 108.654 605.72 Q112.288 605.72 114.094 602.178 Q115.922 598.613 115.922 591.507 Q115.922 584.377 114.094 580.836 Q112.288 577.271 108.654 577.271 M108.654 573.567 Q114.464 573.567 117.52 578.174 Q120.598 582.757 120.598 591.507 Q120.598 600.234 117.52 604.84 Q114.464 609.424 108.654 609.424 Q102.844 609.424 99.765 604.84 Q96.7095 600.234 96.7095 591.507 Q96.7095 582.757 99.765 578.174 Q102.844 573.567 108.654 573.567 Z\" fill=\"#000000\" fill-rule=\"nonzero\" fill-opacity=\"1\" /><path clip-path=\"url(#clip950)\" d=\"M55.8301 395.613 L63.4689 395.613 L63.4689 369.248 L55.1588 370.914 L55.1588 366.655 L63.4226 364.988 L68.0985 364.988 L68.0985 395.613 L75.7374 395.613 L75.7374 399.548 L55.8301 399.548 L55.8301 395.613 Z\" fill=\"#000000\" fill-rule=\"nonzero\" fill-opacity=\"1\" /><path clip-path=\"url(#clip950)\" d=\"M85.1818 393.669 L90.066 393.669 L90.066 399.548 L85.1818 399.548 L85.1818 393.669 Z\" fill=\"#000000\" fill-rule=\"nonzero\" fill-opacity=\"1\" /><path clip-path=\"url(#clip950)\" d=\"M104.279 395.613 L120.598 395.613 L120.598 399.548 L98.6539 399.548 L98.6539 395.613 Q101.316 392.859 105.899 388.229 Q110.506 383.576 111.686 382.234 Q113.932 379.71 114.811 377.974 Q115.714 376.215 115.714 374.525 Q115.714 371.771 113.77 370.035 Q111.848 368.299 108.746 368.299 Q106.547 368.299 104.094 369.062 Q101.663 369.826 98.8854 371.377 L98.8854 366.655 Q101.709 365.521 104.163 364.942 Q106.617 364.363 108.654 364.363 Q114.024 364.363 117.219 367.049 Q120.413 369.734 120.413 374.224 Q120.413 376.354 119.603 378.275 Q118.816 380.173 116.709 382.766 Q116.131 383.437 113.029 386.655 Q109.927 389.849 104.279 395.613 Z\" fill=\"#000000\" fill-rule=\"nonzero\" fill-opacity=\"1\" /><path clip-path=\"url(#clip950)\" d=\"M53.7467 186.409 L61.3856 186.409 L61.3856 160.044 L53.0754 161.71 L53.0754 157.451 L61.3393 155.784 L66.0152 155.784 L66.0152 186.409 L73.654 186.409 L73.654 190.344 L53.7467 190.344 L53.7467 186.409 Z\" fill=\"#000000\" fill-rule=\"nonzero\" fill-opacity=\"1\" /><path clip-path=\"url(#clip950)\" d=\"M83.0984 184.465 L87.9827 184.465 L87.9827 190.344 L83.0984 190.344 L83.0984 184.465 Z\" fill=\"#000000\" fill-rule=\"nonzero\" fill-opacity=\"1\" /><path clip-path=\"url(#clip950)\" d=\"M111.015 159.858 L99.2095 178.307 L111.015 178.307 L111.015 159.858 M109.788 155.784 L115.668 155.784 L115.668 178.307 L120.598 178.307 L120.598 182.196 L115.668 182.196 L115.668 190.344 L111.015 190.344 L111.015 182.196 L95.4132 182.196 L95.4132 177.682 L109.788 155.784 Z\" fill=\"#000000\" fill-rule=\"nonzero\" fill-opacity=\"1\" /><polyline clip-path=\"url(#clip952)\" style=\"stroke:#009af9; stroke-linecap:round; stroke-linejoin:round; stroke-width:4; stroke-opacity:1; fill:none\" points=\"218.754,87.9763 239.681,311.931 260.609,390.365 281.537,517.287 302.465,701.921 323.392,702.906 344.32,788.677 365.248,955.484 386.176,1078.26 407.103,1221.88 428.031,1396.72 448.959,1405.05 469.887,1381.35 490.814,1398.69 511.742,1375.05 532.67,1429.82 553.598,1402.2 574.525,1422.58 595.453,1392.45 616.381,1353.9 637.309,1402.79 658.236,1358.05 679.164,1389.28 700.092,1437.93 721.02,1424.5 741.947,1404.22 762.875,1426.1 783.803,1411.45 804.731,1373.44 825.658,1390.62 846.586,1394.23 867.514,1371.2 888.442,1373.49 909.369,1445.72 930.297,1335.9 951.225,1354.11 972.152,1377.97 993.08,1409.83 1014.01,1383.88 1034.94,1405.19 1055.86,1413.62 1076.79,1382.13 1097.72,1386.92 1118.65,1392.33 1139.57,1376.11 1160.5,1423.73 1181.43,1387.93 1202.36,1405.37 1223.29,1394.32 1244.21,1429.59 1265.14,1408.13 1286.07,1406.01 1307,1388.46 1327.92,1404.82 1348.85,1391.79 1369.78,1399.67 1390.71,1422.7 1411.64,1381.49 1432.56,1358.85 1453.49,1438.96 1474.42,1411.46 1495.35,1413.77 1516.27,1401.75 1537.2,1403.07 1558.13,1370.77 1579.06,1371.54 1599.98,1386.58 1620.91,1405.68 1641.84,1355.37 1662.77,1397.44 1683.7,1386.55 1704.62,1399.26 1725.55,1373.77 1746.48,1373.64 1767.41,1357.01 1788.33,1420.37 1809.26,1342.39 1830.19,1409.8 1851.12,1384.42 1872.05,1399.04 1892.97,1375.6 1913.9,1386.68 1934.83,1415.12 1955.76,1389.59 1976.68,1412.22 1997.61,1430.91 2018.54,1365.67 2039.47,1408.37 2060.4,1417.1 2081.32,1422.24 2102.25,1411.84 2123.18,1374.35 2144.11,1394.03 2165.03,1437.14 2185.96,1402.04 2206.89,1367.29 2227.82,1411.96 2248.75,1398.94 2269.67,1331.89 2290.6,1415.76 \"/>\n",
       "<path clip-path=\"url(#clip950)\" d=\"M2007.5 198.898 L2279.55 198.898 L2279.55 95.2176 L2007.5 95.2176  Z\" fill=\"#ffffff\" fill-rule=\"evenodd\" fill-opacity=\"1\"/>\n",
       "<polyline clip-path=\"url(#clip950)\" style=\"stroke:#000000; stroke-linecap:round; stroke-linejoin:round; stroke-width:4; stroke-opacity:1; fill:none\" points=\"2007.5,198.898 2279.55,198.898 2279.55,95.2176 2007.5,95.2176 2007.5,198.898 \"/>\n",
       "<polyline clip-path=\"url(#clip950)\" style=\"stroke:#009af9; stroke-linecap:round; stroke-linejoin:round; stroke-width:4; stroke-opacity:1; fill:none\" points=\"2031.91,147.058 2178.32,147.058 \"/>\n",
       "<path clip-path=\"url(#clip950)\" d=\"M2216.56 166.745 Q2214.76 171.375 2213.04 172.787 Q2211.33 174.199 2208.46 174.199 L2205.06 174.199 L2205.06 170.634 L2207.56 170.634 Q2209.32 170.634 2210.29 169.8 Q2211.26 168.967 2212.44 165.865 L2213.2 163.921 L2202.72 138.412 L2207.23 138.412 L2215.33 158.689 L2223.44 138.412 L2227.95 138.412 L2216.56 166.745 Z\" fill=\"#000000\" fill-rule=\"nonzero\" fill-opacity=\"1\" /><path clip-path=\"url(#clip950)\" d=\"M2235.24 160.402 L2242.88 160.402 L2242.88 134.037 L2234.57 135.703 L2234.57 131.444 L2242.83 129.778 L2247.51 129.778 L2247.51 160.402 L2255.15 160.402 L2255.15 164.338 L2235.24 164.338 L2235.24 160.402 Z\" fill=\"#000000\" fill-rule=\"nonzero\" fill-opacity=\"1\" /></svg>\n"
      ]
     },
     "execution_count": 212,
     "metadata": {},
     "output_type": "execute_result"
    }
   ],
   "source": [
    "using Distributions\n",
    "x = log(2.0)\n",
    "xls = []\n",
    "H = 0.2\n",
    "tau = 0.1\n",
    "for i in 1:100\n",
    "    x = dynamics(x,H,rand(Normal(0,tau)), Bmin, r, b, tau)[1]\n",
    "    push!(xls,x)\n",
    "end \n",
    "Plots.plot(1:100,exp.(xls))"
   ]
  },
  {
   "cell_type": "code",
   "execution_count": 216,
   "id": "e208e061-96ca-4373-b34b-b8bf9b748e59",
   "metadata": {},
   "outputs": [
    {
     "data": {
      "text/plain": [
       "1.7999999999999998"
      ]
     },
     "execution_count": 216,
     "metadata": {},
     "output_type": "execute_result"
    }
   ],
   "source": [
    "0.09./0.05"
   ]
  },
  {
   "cell_type": "code",
   "execution_count": null,
   "id": "5964ba1f-8639-49ad-8143-bb6bbc59fd43",
   "metadata": {},
   "outputs": [],
   "source": []
  }
 ],
 "metadata": {
  "kernelspec": {
   "display_name": "Julia 1.7.3",
   "language": "julia",
   "name": "julia-1.7"
  },
  "language_info": {
   "file_extension": ".jl",
   "mimetype": "application/julia",
   "name": "julia",
   "version": "1.7.3"
  }
 },
 "nbformat": 4,
 "nbformat_minor": 5
}
