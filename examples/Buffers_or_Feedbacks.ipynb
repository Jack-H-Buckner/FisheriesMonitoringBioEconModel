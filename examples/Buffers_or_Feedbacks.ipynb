{
 "cells": [
  {
   "cell_type": "markdown",
   "id": "75a9efe0-a06b-43b8-af49-48868b4d327d",
   "metadata": {},
   "source": [
    "# Buffers or feedbacks?\n",
    "Is it better to invest in institutions that establish feedbacks between human impacts and te state of the environment or reduce impacts to boost resiliance?\n",
    "\n",
    "Buffers - p* / sigma rule roughgarden paper \n",
    "\n",
    "### Model\n",
    "- Fish stock with convex dynamics + stochastic growth\n",
    "- Bioeconomic equilibrium reached quickly by harvesters in the absence of regulations\n",
    "- regulations set harvest limits\n",
    "    - bioeconomic optimal harvest limit (no state uncertinaty)\n",
    "    - optimal harvst limits with imperfect info about stock + imperfect implementation \n",
    "    - fixed harvest limits (with a buffer)\n",
    "- objectives\n",
    "    - Profit max\n",
    "        - stock dependent costs \n",
    "        - risk aversion\n",
    "    - conservaiton\n",
    "        - Risk aversion\n",
    "\n",
    "\n",
    "### Model 2\n",
    "- comapre a buffer based policy to a simple uncerintay based policy in a non-stationary environment. \n",
    "- Structural uncertianty\n",
    "\n",
    "### Analysis \n",
    "- solve for the optimal policy under a given set of objectives \n",
    "- compute the expected net present value for differnt inital stock sizes \n",
    "- value of perfect feedbacks is the differn between the optimal fixed and global optimum policy\n",
    "- model with observaitonal errors illustrates a \"realistic\" intermediate\n",
    "- How does the manamgent objective influence the value? does the value of the feedback flow from the harvest objective or the conservaiton objective?\n",
    "- simpler models, how uch do more complex form of uncertianty boost the performance of feedback policies?"
   ]
  },
  {
   "cell_type": "markdown",
   "id": "efe0dea0-8ece-43b3-a0f3-1fd681d8b74e",
   "metadata": {},
   "source": [
    "# Fixed harvest optimization"
   ]
  },
  {
   "cell_type": "code",
   "execution_count": 1,
   "id": "0fe06900-d5f8-41e1-8386-d4f64f16fd3f",
   "metadata": {},
   "outputs": [],
   "source": [
    "include(\"../src/MvGaussHermite.jl\")\n",
    "using Interpolations"
   ]
  },
  {
   "cell_type": "code",
   "execution_count": 74,
   "id": "f3a51793-2c0f-4b05-b7df-73c4fb8d00b8",
   "metadata": {},
   "outputs": [],
   "source": [
    "mutable struct ValueFunction\n",
    "    gridx\n",
    "    gridV\n",
    "    interpolation\n",
    "end "
   ]
  },
  {
   "cell_type": "code",
   "execution_count": 76,
   "id": "5b8b250d-273f-4c8b-b9eb-6cdfdb01a0b2",
   "metadata": {},
   "outputs": [
    {
     "data": {
      "text/plain": [
       "update_ValueFunction (generic function with 1 method)"
      ]
     },
     "execution_count": 76,
     "metadata": {},
     "output_type": "execute_result"
    }
   ],
   "source": [
    "function (V::ValueFunction)(x)\n",
    "    min_ = V.gridx[1]; max_ = V.gridx[end]\n",
    "    min_itp = 1; max_itp = length(V.gridx)\n",
    "    ind = (x - min_)/(max_-min_)\n",
    "    ind = ind * (max_itp - min_itp) + min_itp \n",
    "    V.interpolation(ind)\n",
    "end \n",
    "\n",
    "function ValueFunction(gridx,gridV)\n",
    "    itp = interpolate(gridV, BSpline(Linear()))\n",
    "    etpf = extrapolate(itp, Linear())    \n",
    "    ValueFunction(gridx,gridV,etpf)\n",
    "end \n",
    "\n",
    "function update_ValueFunction(V,gridV)\n",
    "    itp = interpolate(gridV, BSpline(Linear()))\n",
    "    etpf = extrapolate(itp, Linear())    \n",
    "    V.gridV = gridV\n",
    "    V.interpolation = etpf\n",
    "end "
   ]
  },
  {
   "cell_type": "code",
   "execution_count": 21,
   "id": "685b9267-2fc1-4275-937d-54ea5fc41e9e",
   "metadata": {},
   "outputs": [],
   "source": [
    "Cov=zeros(1,1);Cov[1,1] = 0.05^2\n",
    "quad = MvGaussHermite.init_mutable(30,[0.0],Cov)\n",
    "nothing "
   ]
  },
  {
   "cell_type": "code",
   "execution_count": 36,
   "id": "4356f5cd-0dca-4c88-84e0-ee670cc77198",
   "metadata": {},
   "outputs": [
    {
     "data": {
      "text/plain": [
       "Bellman! (generic function with 1 method)"
      ]
     },
     "execution_count": 36,
     "metadata": {},
     "output_type": "execute_result"
    }
   ],
   "source": [
    "function dynamics(x,H,eps, Bmin, r, b, tau)\n",
    "    \n",
    "    B = exp(x)\n",
    "    \n",
    "    if B <= 0.025\n",
    "        return 0.025,0.0\n",
    "    end \n",
    "    \n",
    "    if B < Bmin # if biomass is less than the minimum profitable biomass no harvest\n",
    "        H = 0\n",
    "    end\n",
    "    \n",
    "    if (B - H) < Bmin # if harvest stops when minimum profitable biomass is reached\n",
    "        H = B - Bmin\n",
    "    end \n",
    "    \n",
    "    B = B-H\n",
    "    B = r*B/(1+b*B)\n",
    "    \n",
    "    \n",
    "    return log(B)+ eps - 0.5*tau^2, H\n",
    "end \n",
    "\n",
    "\n",
    "function Bellman_eqn(x,pi,H,Bmin,r,b,tau,V,delta,quad)\n",
    "    Hvals = broadcast(eps -> dynamics(x,H,eps[1], Bmin, r, b, tau)[2],quad.nodes)\n",
    "    xt1 = broadcast(eps -> dynamics(x,H,eps[1], Bmin, r, b, tau)[1],quad.nodes)\n",
    "    R = sum(broadcast(i -> pi(Hvals[i],exp(xt1[i])), 1:quad.m) .* quad.weights)\n",
    "    EV = sum(V.(xt1) .* quad.weights)\n",
    "    return R + delta*EV\n",
    "end \n",
    "\n",
    "\n",
    "function Bellman!(V,pi,H,Bmin,r,b,tau,delta,quad)\n",
    "    v_prime = broadcast(x -> Bellman_eqn(x,pi,H,Bmin,r,b,tau,V,delta,quad),V.gridx)\n",
    "    return update_ValueFunction(V,v_prime)\n",
    "end \n"
   ]
  },
  {
   "cell_type": "code",
   "execution_count": 258,
   "id": "b229b6bb-c545-4a88-862a-5f6ce6574e5f",
   "metadata": {},
   "outputs": [
    {
     "data": {
      "text/plain": [
       "performance (generic function with 1 method)"
      ]
     },
     "execution_count": 258,
     "metadata": {},
     "output_type": "execute_result"
    }
   ],
   "source": [
    "function performance(pi,H,Bmin,r,b,tau,delta)\n",
    "    Bupper = 1.5*(r-1)/b\n",
    "    Cov=zeros(1,1);Cov[1,1] = tau^2; quad = MvGaussHermite.init_mutable(m,[0.0],Cov)\n",
    "    gridx = log(Bmin):0.1:log(Bupper); V = ValueFunction(gridx,zeros(length(gridx)))\n",
    "    p = Plots.plot(exp.(V.gridx),V.gridV, label = \"\")\n",
    "    for i in 1:100\n",
    "        Bellman!(V,pi_,H,Bmin,r,b,tau,delta,quad)\n",
    "    end\n",
    "    return V, V(log(0.5*(r-1)/b))\n",
    "end"
   ]
  },
  {
   "cell_type": "code",
   "execution_count": 4,
   "id": "df070068-a779-4126-b7fb-71b347c07757",
   "metadata": {},
   "outputs": [
    {
     "data": {
      "text/plain": [
       "pi_ (generic function with 1 method)"
      ]
     },
     "execution_count": 4,
     "metadata": {},
     "output_type": "execute_result"
    }
   ],
   "source": [
    "m = 30\n",
    "H = 0.08\n",
    "Bmin = 0.2\n",
    "r = 1.8\n",
    "b = 0.4\n",
    "tau = sqrt(0.05)\n",
    "delta = 0.95\n",
    "\n"
   ]
  },
  {
   "cell_type": "code",
   "execution_count": null,
   "id": "e28c6310-fa87-466c-9496-3e78d125999b",
   "metadata": {},
   "outputs": [],
   "source": [
    "Hvals = 0.1:0.025:0.3\n",
    "tau = sqrt(0.01)\n",
    "Vals = broadcast(H -> performance(pi,H,Bmin,r,b,sqrt(0.005),delta)[2], Hvals)\n",
    "p1 = Plots.plot(Hvals,Vals,label = \"tau = 0.025, delta = 0.95\")\n",
    "tau = sqrt(0.05)\n",
    "Vals = broadcast(H -> performance(pi,H,Bmin,r,b,sqrt(0.05),delta)[2], Hvals)\n",
    "Plots.plot!(p1,Hvals,Vals,label = \"tau = 0.05, delta = 0.95\")\n",
    "tau = sqrt(0.01);delta = 0.99\n",
    "Vals = broadcast(H -> performance(pi,H,Bmin,r,b,sqrt(0.005),delta)[2], Hvals)\n",
    "Plots.plot!(p1,Hvals,Vals,label = \"tau = 0.025, delta = 0.99\", legend=:bottomleft)"
   ]
  },
  {
   "cell_type": "markdown",
   "id": "c3c55a6e-ce8e-4971-ad33-9fc80e25fd31",
   "metadata": {},
   "source": [
    "## Fully optimal policy "
   ]
  },
  {
   "cell_type": "code",
   "execution_count": 81,
   "id": "aa7161df-fec6-4ae3-a059-f053cc38085b",
   "metadata": {},
   "outputs": [
    {
     "data": {
      "text/plain": [
       "dynamics (generic function with 1 method)"
      ]
     },
     "execution_count": 81,
     "metadata": {},
     "output_type": "execute_result"
    }
   ],
   "source": [
    "function dynamics(x,H,eps, Bmin, r, b, tau)\n",
    "    \n",
    "    B = exp(x)\n",
    "    \n",
    "    if B <= 0.026\n",
    "        return log(0.025),0.0\n",
    "    end \n",
    "    \n",
    "    if (B - H) < 0.026 # if harvest stops when minimum profitable biomass is reached\n",
    "        H = B - 0.026\n",
    "    end \n",
    "    \n",
    "    B = B-H\n",
    "    B = r*B/(1+b*B)\n",
    "    \n",
    "    \n",
    "    return log(B)+ eps - 0.5*tau^2, H\n",
    "end "
   ]
  },
  {
   "cell_type": "code",
   "execution_count": 82,
   "id": "c38d591a-487a-4727-9aa3-6f8ff75ca433",
   "metadata": {},
   "outputs": [
    {
     "data": {
      "text/plain": [
       "Bellman2! (generic function with 1 method)"
      ]
     },
     "execution_count": 82,
     "metadata": {},
     "output_type": "execute_result"
    }
   ],
   "source": [
    "function EQ(x,pi,H,Bmin,r,b,tau,V,delta,quad)\n",
    "    Hvals = broadcast(eps -> dynamics(x,H,eps[1], Bmin, r, b, tau)[2],quad.nodes)\n",
    "    xt1 = broadcast(eps -> dynamics(x,H,eps[1], Bmin, r, b, tau)[1],quad.nodes)\n",
    "    R = sum(broadcast(i -> pi(Hvals[i],exp(xt1[i])), 1:quad.m) .* quad.weights)\n",
    "    EV = sum(V.(xt1) .* quad.weights)\n",
    "    return R + delta*EV\n",
    "end \n",
    "\n",
    "\n",
    "function EV(x,pi,Hvals,Bmin,r,b,tau,V,delta,quad)\n",
    "    Qvals = broadcast(H -> EQ(x,pi,H,Bmin,r,b,tau,V,delta,quad), Hvals)\n",
    "    return Qvals[argmax(Qvals)]\n",
    "end \n",
    "\n",
    "function Bellman2!(V,pi,Hvals,Bmin,r,b,tau,delta,quad)\n",
    "    v_prime = broadcast(x -> EV(x,pi,Hvals,Bmin,r,b,tau,V,delta,quad),V.gridx)\n",
    "    return update_ValueFunction(V,v_prime)\n",
    "end "
   ]
  },
  {
   "cell_type": "code",
   "execution_count": 83,
   "id": "7c34391d-ca35-4856-8823-7d8855c8f4b7",
   "metadata": {},
   "outputs": [
    {
     "data": {
      "text/plain": [
       "performance2 (generic function with 1 method)"
      ]
     },
     "execution_count": 83,
     "metadata": {},
     "output_type": "execute_result"
    }
   ],
   "source": [
    "function performance2(pi,H,Bmin,r,b,tau,delta)\n",
    "    Bupper = 1.5*(r-1)/b\n",
    "    Cov=zeros(1,1);Cov[1,1] = tau^2; quad = MvGaussHermite.init_mutable(m,[0.0],Cov)\n",
    "    gridx = log(Bmin):0.1:log(Bupper); V = ValueFunction(gridx,zeros(length(gridx)))\n",
    "    Hvals = 0.0:0.06:(Bupper/2)\n",
    "    p = Plots.plot(exp.(V.gridx),V.gridV, label = \"\")\n",
    "    for i in 1:100\n",
    "        Bellman2!(V,pi_,Hvals,Bmin,r,b,tau,delta,quad)\n",
    "    end\n",
    "    return V, V(log(0.5*(r-1)/b))\n",
    "end"
   ]
  },
  {
   "cell_type": "code",
   "execution_count": 97,
   "id": "eb302d12-b08f-4df1-995d-f540d4e13263",
   "metadata": {},
   "outputs": [
    {
     "name": "stdout",
     "output_type": "stream",
     "text": [
      "1\n",
      "2\n",
      "3\n"
     ]
    },
    {
     "data": {
      "image/svg+xml": [
       "<?xml version=\"1.0\" encoding=\"utf-8\"?>\n",
       "<svg xmlns=\"http://www.w3.org/2000/svg\" xmlns:xlink=\"http://www.w3.org/1999/xlink\" width=\"600\" height=\"400\" viewBox=\"0 0 2400 1600\">\n",
       "<defs>\n",
       "  <clipPath id=\"clip240\">\n",
       "    <rect x=\"0\" y=\"0\" width=\"2400\" height=\"1600\"/>\n",
       "  </clipPath>\n",
       "</defs>\n",
       "<path clip-path=\"url(#clip240)\" d=\"M0 1600 L2400 1600 L2400 0 L0 0  Z\" fill=\"#ffffff\" fill-rule=\"evenodd\" fill-opacity=\"1\"/>\n",
       "<defs>\n",
       "  <clipPath id=\"clip241\">\n",
       "    <rect x=\"480\" y=\"0\" width=\"1681\" height=\"1600\"/>\n",
       "  </clipPath>\n",
       "</defs>\n",
       "<path clip-path=\"url(#clip240)\" d=\"M110.881 1486.45 L2352.76 1486.45 L2352.76 47.2441 L110.881 47.2441  Z\" fill=\"#ffffff\" fill-rule=\"evenodd\" fill-opacity=\"1\"/>\n",
       "<defs>\n",
       "  <clipPath id=\"clip242\">\n",
       "    <rect x=\"110\" y=\"47\" width=\"2243\" height=\"1440\"/>\n",
       "  </clipPath>\n",
       "</defs>\n",
       "<polyline clip-path=\"url(#clip242)\" style=\"stroke:#000000; stroke-linecap:round; stroke-linejoin:round; stroke-width:2; stroke-opacity:0.1; fill:none\" points=\"155.872,1486.45 155.872,47.2441 \"/>\n",
       "<polyline clip-path=\"url(#clip242)\" style=\"stroke:#000000; stroke-linecap:round; stroke-linejoin:round; stroke-width:2; stroke-opacity:0.1; fill:none\" points=\"525.029,1486.45 525.029,47.2441 \"/>\n",
       "<polyline clip-path=\"url(#clip242)\" style=\"stroke:#000000; stroke-linecap:round; stroke-linejoin:round; stroke-width:2; stroke-opacity:0.1; fill:none\" points=\"894.185,1486.45 894.185,47.2441 \"/>\n",
       "<polyline clip-path=\"url(#clip242)\" style=\"stroke:#000000; stroke-linecap:round; stroke-linejoin:round; stroke-width:2; stroke-opacity:0.1; fill:none\" points=\"1263.34,1486.45 1263.34,47.2441 \"/>\n",
       "<polyline clip-path=\"url(#clip242)\" style=\"stroke:#000000; stroke-linecap:round; stroke-linejoin:round; stroke-width:2; stroke-opacity:0.1; fill:none\" points=\"1632.5,1486.45 1632.5,47.2441 \"/>\n",
       "<polyline clip-path=\"url(#clip242)\" style=\"stroke:#000000; stroke-linecap:round; stroke-linejoin:round; stroke-width:2; stroke-opacity:0.1; fill:none\" points=\"2001.65,1486.45 2001.65,47.2441 \"/>\n",
       "<polyline clip-path=\"url(#clip240)\" style=\"stroke:#000000; stroke-linecap:round; stroke-linejoin:round; stroke-width:4; stroke-opacity:1; fill:none\" points=\"110.881,1486.45 2352.76,1486.45 \"/>\n",
       "<polyline clip-path=\"url(#clip240)\" style=\"stroke:#000000; stroke-linecap:round; stroke-linejoin:round; stroke-width:4; stroke-opacity:1; fill:none\" points=\"155.872,1486.45 155.872,1467.55 \"/>\n",
       "<polyline clip-path=\"url(#clip240)\" style=\"stroke:#000000; stroke-linecap:round; stroke-linejoin:round; stroke-width:4; stroke-opacity:1; fill:none\" points=\"525.029,1486.45 525.029,1467.55 \"/>\n",
       "<polyline clip-path=\"url(#clip240)\" style=\"stroke:#000000; stroke-linecap:round; stroke-linejoin:round; stroke-width:4; stroke-opacity:1; fill:none\" points=\"894.185,1486.45 894.185,1467.55 \"/>\n",
       "<polyline clip-path=\"url(#clip240)\" style=\"stroke:#000000; stroke-linecap:round; stroke-linejoin:round; stroke-width:4; stroke-opacity:1; fill:none\" points=\"1263.34,1486.45 1263.34,1467.55 \"/>\n",
       "<polyline clip-path=\"url(#clip240)\" style=\"stroke:#000000; stroke-linecap:round; stroke-linejoin:round; stroke-width:4; stroke-opacity:1; fill:none\" points=\"1632.5,1486.45 1632.5,1467.55 \"/>\n",
       "<polyline clip-path=\"url(#clip240)\" style=\"stroke:#000000; stroke-linecap:round; stroke-linejoin:round; stroke-width:4; stroke-opacity:1; fill:none\" points=\"2001.65,1486.45 2001.65,1467.55 \"/>\n",
       "<path clip-path=\"url(#clip240)\" d=\"M133.257 1517.37 Q129.646 1517.37 127.817 1520.93 Q126.011 1524.47 126.011 1531.6 Q126.011 1538.71 127.817 1542.27 Q129.646 1545.82 133.257 1545.82 Q136.891 1545.82 138.697 1542.27 Q140.525 1538.71 140.525 1531.6 Q140.525 1524.47 138.697 1520.93 Q136.891 1517.37 133.257 1517.37 M133.257 1513.66 Q139.067 1513.66 142.122 1518.27 Q145.201 1522.85 145.201 1531.6 Q145.201 1540.33 142.122 1544.94 Q139.067 1549.52 133.257 1549.52 Q127.447 1549.52 124.368 1544.94 Q121.312 1540.33 121.312 1531.6 Q121.312 1522.85 124.368 1518.27 Q127.447 1513.66 133.257 1513.66 Z\" fill=\"#000000\" fill-rule=\"nonzero\" fill-opacity=\"1\" /><path clip-path=\"url(#clip240)\" d=\"M153.419 1542.97 L158.303 1542.97 L158.303 1548.85 L153.419 1548.85 L153.419 1542.97 Z\" fill=\"#000000\" fill-rule=\"nonzero\" fill-opacity=\"1\" /><path clip-path=\"url(#clip240)\" d=\"M178.488 1517.37 Q174.877 1517.37 173.048 1520.93 Q171.243 1524.47 171.243 1531.6 Q171.243 1538.71 173.048 1542.27 Q174.877 1545.82 178.488 1545.82 Q182.122 1545.82 183.928 1542.27 Q185.756 1538.71 185.756 1531.6 Q185.756 1524.47 183.928 1520.93 Q182.122 1517.37 178.488 1517.37 M178.488 1513.66 Q184.298 1513.66 187.354 1518.27 Q190.432 1522.85 190.432 1531.6 Q190.432 1540.33 187.354 1544.94 Q184.298 1549.52 178.488 1549.52 Q172.678 1549.52 169.599 1544.94 Q166.544 1540.33 166.544 1531.6 Q166.544 1522.85 169.599 1518.27 Q172.678 1513.66 178.488 1513.66 Z\" fill=\"#000000\" fill-rule=\"nonzero\" fill-opacity=\"1\" /><path clip-path=\"url(#clip240)\" d=\"M502.911 1517.37 Q499.3 1517.37 497.471 1520.93 Q495.666 1524.47 495.666 1531.6 Q495.666 1538.71 497.471 1542.27 Q499.3 1545.82 502.911 1545.82 Q506.545 1545.82 508.351 1542.27 Q510.179 1538.71 510.179 1531.6 Q510.179 1524.47 508.351 1520.93 Q506.545 1517.37 502.911 1517.37 M502.911 1513.66 Q508.721 1513.66 511.777 1518.27 Q514.855 1522.85 514.855 1531.6 Q514.855 1540.33 511.777 1544.94 Q508.721 1549.52 502.911 1549.52 Q497.101 1549.52 494.022 1544.94 Q490.966 1540.33 490.966 1531.6 Q490.966 1522.85 494.022 1518.27 Q497.101 1513.66 502.911 1513.66 Z\" fill=\"#000000\" fill-rule=\"nonzero\" fill-opacity=\"1\" /><path clip-path=\"url(#clip240)\" d=\"M523.073 1542.97 L527.957 1542.97 L527.957 1548.85 L523.073 1548.85 L523.073 1542.97 Z\" fill=\"#000000\" fill-rule=\"nonzero\" fill-opacity=\"1\" /><path clip-path=\"url(#clip240)\" d=\"M538.188 1514.29 L556.545 1514.29 L556.545 1518.22 L542.471 1518.22 L542.471 1526.7 Q543.489 1526.35 544.508 1526.19 Q545.526 1526 546.545 1526 Q552.332 1526 555.712 1529.17 Q559.091 1532.34 559.091 1537.76 Q559.091 1543.34 555.619 1546.44 Q552.147 1549.52 545.827 1549.52 Q543.651 1549.52 541.383 1549.15 Q539.138 1548.78 536.73 1548.04 L536.73 1543.34 Q538.813 1544.47 541.036 1545.03 Q543.258 1545.58 545.735 1545.58 Q549.739 1545.58 552.077 1543.48 Q554.415 1541.37 554.415 1537.76 Q554.415 1534.15 552.077 1532.04 Q549.739 1529.94 545.735 1529.94 Q543.86 1529.94 541.985 1530.35 Q540.133 1530.77 538.188 1531.65 L538.188 1514.29 Z\" fill=\"#000000\" fill-rule=\"nonzero\" fill-opacity=\"1\" /><path clip-path=\"url(#clip240)\" d=\"M861.338 1544.91 L868.977 1544.91 L868.977 1518.55 L860.667 1520.21 L860.667 1515.95 L868.931 1514.29 L873.607 1514.29 L873.607 1544.91 L881.246 1544.91 L881.246 1548.85 L861.338 1548.85 L861.338 1544.91 Z\" fill=\"#000000\" fill-rule=\"nonzero\" fill-opacity=\"1\" /><path clip-path=\"url(#clip240)\" d=\"M890.69 1542.97 L895.574 1542.97 L895.574 1548.85 L890.69 1548.85 L890.69 1542.97 Z\" fill=\"#000000\" fill-rule=\"nonzero\" fill-opacity=\"1\" /><path clip-path=\"url(#clip240)\" d=\"M915.759 1517.37 Q912.148 1517.37 910.319 1520.93 Q908.514 1524.47 908.514 1531.6 Q908.514 1538.71 910.319 1542.27 Q912.148 1545.82 915.759 1545.82 Q919.393 1545.82 921.199 1542.27 Q923.028 1538.71 923.028 1531.6 Q923.028 1524.47 921.199 1520.93 Q919.393 1517.37 915.759 1517.37 M915.759 1513.66 Q921.569 1513.66 924.625 1518.27 Q927.704 1522.85 927.704 1531.6 Q927.704 1540.33 924.625 1544.94 Q921.569 1549.52 915.759 1549.52 Q909.949 1549.52 906.87 1544.94 Q903.815 1540.33 903.815 1531.6 Q903.815 1522.85 906.87 1518.27 Q909.949 1513.66 915.759 1513.66 Z\" fill=\"#000000\" fill-rule=\"nonzero\" fill-opacity=\"1\" /><path clip-path=\"url(#clip240)\" d=\"M1230.99 1544.91 L1238.63 1544.91 L1238.63 1518.55 L1230.32 1520.21 L1230.32 1515.95 L1238.58 1514.29 L1243.26 1514.29 L1243.26 1544.91 L1250.9 1544.91 L1250.9 1548.85 L1230.99 1548.85 L1230.99 1544.91 Z\" fill=\"#000000\" fill-rule=\"nonzero\" fill-opacity=\"1\" /><path clip-path=\"url(#clip240)\" d=\"M1260.34 1542.97 L1265.23 1542.97 L1265.23 1548.85 L1260.34 1548.85 L1260.34 1542.97 Z\" fill=\"#000000\" fill-rule=\"nonzero\" fill-opacity=\"1\" /><path clip-path=\"url(#clip240)\" d=\"M1275.46 1514.29 L1293.82 1514.29 L1293.82 1518.22 L1279.74 1518.22 L1279.74 1526.7 Q1280.76 1526.35 1281.78 1526.19 Q1282.8 1526 1283.82 1526 Q1289.6 1526 1292.98 1529.17 Q1296.36 1532.34 1296.36 1537.76 Q1296.36 1543.34 1292.89 1546.44 Q1289.42 1549.52 1283.1 1549.52 Q1280.92 1549.52 1278.65 1549.15 Q1276.41 1548.78 1274 1548.04 L1274 1543.34 Q1276.08 1544.47 1278.31 1545.03 Q1280.53 1545.58 1283.01 1545.58 Q1287.01 1545.58 1289.35 1543.48 Q1291.69 1541.37 1291.69 1537.76 Q1291.69 1534.15 1289.35 1532.04 Q1287.01 1529.94 1283.01 1529.94 Q1281.13 1529.94 1279.26 1530.35 Q1277.4 1530.77 1275.46 1531.65 L1275.46 1514.29 Z\" fill=\"#000000\" fill-rule=\"nonzero\" fill-opacity=\"1\" /><path clip-path=\"url(#clip240)\" d=\"M1603.74 1544.91 L1620.06 1544.91 L1620.06 1548.85 L1598.11 1548.85 L1598.11 1544.91 Q1600.77 1542.16 1605.36 1537.53 Q1609.96 1532.88 1611.14 1531.53 Q1613.39 1529.01 1614.27 1527.27 Q1615.17 1525.51 1615.17 1523.82 Q1615.17 1521.07 1613.23 1519.33 Q1611.31 1517.6 1608.2 1517.6 Q1606.01 1517.6 1603.55 1518.36 Q1601.12 1519.13 1598.34 1520.68 L1598.34 1515.95 Q1601.17 1514.82 1603.62 1514.24 Q1606.07 1513.66 1608.11 1513.66 Q1613.48 1513.66 1616.68 1516.35 Q1619.87 1519.03 1619.87 1523.52 Q1619.87 1525.65 1619.06 1527.57 Q1618.27 1529.47 1616.17 1532.07 Q1615.59 1532.74 1612.49 1535.95 Q1609.38 1539.15 1603.74 1544.91 Z\" fill=\"#000000\" fill-rule=\"nonzero\" fill-opacity=\"1\" /><path clip-path=\"url(#clip240)\" d=\"M1629.87 1542.97 L1634.76 1542.97 L1634.76 1548.85 L1629.87 1548.85 L1629.87 1542.97 Z\" fill=\"#000000\" fill-rule=\"nonzero\" fill-opacity=\"1\" /><path clip-path=\"url(#clip240)\" d=\"M1654.94 1517.37 Q1651.33 1517.37 1649.5 1520.93 Q1647.69 1524.47 1647.69 1531.6 Q1647.69 1538.71 1649.5 1542.27 Q1651.33 1545.82 1654.94 1545.82 Q1658.57 1545.82 1660.38 1542.27 Q1662.21 1538.71 1662.21 1531.6 Q1662.21 1524.47 1660.38 1520.93 Q1658.57 1517.37 1654.94 1517.37 M1654.94 1513.66 Q1660.75 1513.66 1663.81 1518.27 Q1666.88 1522.85 1666.88 1531.6 Q1666.88 1540.33 1663.81 1544.94 Q1660.75 1549.52 1654.94 1549.52 Q1649.13 1549.52 1646.05 1544.94 Q1643 1540.33 1643 1531.6 Q1643 1522.85 1646.05 1518.27 Q1649.13 1513.66 1654.94 1513.66 Z\" fill=\"#000000\" fill-rule=\"nonzero\" fill-opacity=\"1\" /><path clip-path=\"url(#clip240)\" d=\"M1973.39 1544.91 L1989.71 1544.91 L1989.71 1548.85 L1967.77 1548.85 L1967.77 1544.91 Q1970.43 1542.16 1975.01 1537.53 Q1979.62 1532.88 1980.8 1531.53 Q1983.04 1529.01 1983.92 1527.27 Q1984.83 1525.51 1984.83 1523.82 Q1984.83 1521.07 1982.88 1519.33 Q1980.96 1517.6 1977.86 1517.6 Q1975.66 1517.6 1973.21 1518.36 Q1970.78 1519.13 1968 1520.68 L1968 1515.95 Q1970.82 1514.82 1973.28 1514.24 Q1975.73 1513.66 1977.77 1513.66 Q1983.14 1513.66 1986.33 1516.35 Q1989.53 1519.03 1989.53 1523.52 Q1989.53 1525.65 1988.71 1527.57 Q1987.93 1529.47 1985.82 1532.07 Q1985.24 1532.74 1982.14 1535.95 Q1979.04 1539.15 1973.39 1544.91 Z\" fill=\"#000000\" fill-rule=\"nonzero\" fill-opacity=\"1\" /><path clip-path=\"url(#clip240)\" d=\"M1999.53 1542.97 L2004.41 1542.97 L2004.41 1548.85 L1999.53 1548.85 L1999.53 1542.97 Z\" fill=\"#000000\" fill-rule=\"nonzero\" fill-opacity=\"1\" /><path clip-path=\"url(#clip240)\" d=\"M2014.64 1514.29 L2033 1514.29 L2033 1518.22 L2018.92 1518.22 L2018.92 1526.7 Q2019.94 1526.35 2020.96 1526.19 Q2021.98 1526 2023 1526 Q2028.78 1526 2032.16 1529.17 Q2035.54 1532.34 2035.54 1537.76 Q2035.54 1543.34 2032.07 1546.44 Q2028.6 1549.52 2022.28 1549.52 Q2020.1 1549.52 2017.84 1549.15 Q2015.59 1548.78 2013.18 1548.04 L2013.18 1543.34 Q2015.27 1544.47 2017.49 1545.03 Q2019.71 1545.58 2022.19 1545.58 Q2026.19 1545.58 2028.53 1543.48 Q2030.87 1541.37 2030.87 1537.76 Q2030.87 1534.15 2028.53 1532.04 Q2026.19 1529.94 2022.19 1529.94 Q2020.31 1529.94 2018.44 1530.35 Q2016.59 1530.77 2014.64 1531.65 L2014.64 1514.29 Z\" fill=\"#000000\" fill-rule=\"nonzero\" fill-opacity=\"1\" /><polyline clip-path=\"url(#clip242)\" style=\"stroke:#000000; stroke-linecap:round; stroke-linejoin:round; stroke-width:2; stroke-opacity:0.1; fill:none\" points=\"110.881,1445.72 2352.76,1445.72 \"/>\n",
       "<polyline clip-path=\"url(#clip242)\" style=\"stroke:#000000; stroke-linecap:round; stroke-linejoin:round; stroke-width:2; stroke-opacity:0.1; fill:none\" points=\"110.881,1024.29 2352.76,1024.29 \"/>\n",
       "<polyline clip-path=\"url(#clip242)\" style=\"stroke:#000000; stroke-linecap:round; stroke-linejoin:round; stroke-width:2; stroke-opacity:0.1; fill:none\" points=\"110.881,602.869 2352.76,602.869 \"/>\n",
       "<polyline clip-path=\"url(#clip242)\" style=\"stroke:#000000; stroke-linecap:round; stroke-linejoin:round; stroke-width:2; stroke-opacity:0.1; fill:none\" points=\"110.881,181.445 2352.76,181.445 \"/>\n",
       "<polyline clip-path=\"url(#clip240)\" style=\"stroke:#000000; stroke-linecap:round; stroke-linejoin:round; stroke-width:4; stroke-opacity:1; fill:none\" points=\"110.881,1486.45 110.881,47.2441 \"/>\n",
       "<polyline clip-path=\"url(#clip240)\" style=\"stroke:#000000; stroke-linecap:round; stroke-linejoin:round; stroke-width:4; stroke-opacity:1; fill:none\" points=\"110.881,1445.72 129.779,1445.72 \"/>\n",
       "<polyline clip-path=\"url(#clip240)\" style=\"stroke:#000000; stroke-linecap:round; stroke-linejoin:round; stroke-width:4; stroke-opacity:1; fill:none\" points=\"110.881,1024.29 129.779,1024.29 \"/>\n",
       "<polyline clip-path=\"url(#clip240)\" style=\"stroke:#000000; stroke-linecap:round; stroke-linejoin:round; stroke-width:4; stroke-opacity:1; fill:none\" points=\"110.881,602.869 129.779,602.869 \"/>\n",
       "<polyline clip-path=\"url(#clip240)\" style=\"stroke:#000000; stroke-linecap:round; stroke-linejoin:round; stroke-width:4; stroke-opacity:1; fill:none\" points=\"110.881,181.445 129.779,181.445 \"/>\n",
       "<path clip-path=\"url(#clip240)\" d=\"M62.9365 1431.51 Q59.3254 1431.51 57.4967 1435.08 Q55.6912 1438.62 55.6912 1445.75 Q55.6912 1452.86 57.4967 1456.42 Q59.3254 1459.96 62.9365 1459.96 Q66.5707 1459.96 68.3763 1456.42 Q70.205 1452.86 70.205 1445.75 Q70.205 1438.62 68.3763 1435.08 Q66.5707 1431.51 62.9365 1431.51 M62.9365 1427.81 Q68.7467 1427.81 71.8022 1432.42 Q74.8809 1437 74.8809 1445.75 Q74.8809 1454.48 71.8022 1459.08 Q68.7467 1463.67 62.9365 1463.67 Q57.1264 1463.67 54.0477 1459.08 Q50.9921 1454.48 50.9921 1445.75 Q50.9921 1437 54.0477 1432.42 Q57.1264 1427.81 62.9365 1427.81 Z\" fill=\"#000000\" fill-rule=\"nonzero\" fill-opacity=\"1\" /><path clip-path=\"url(#clip240)\" d=\"M54.9736 1037.64 L62.6124 1037.64 L62.6124 1011.27 L54.3023 1012.94 L54.3023 1008.68 L62.5661 1007.01 L67.242 1007.01 L67.242 1037.64 L74.8809 1037.64 L74.8809 1041.57 L54.9736 1041.57 L54.9736 1037.64 Z\" fill=\"#000000\" fill-rule=\"nonzero\" fill-opacity=\"1\" /><path clip-path=\"url(#clip240)\" d=\"M58.5615 616.214 L74.8809 616.214 L74.8809 620.149 L52.9366 620.149 L52.9366 616.214 Q55.5986 613.459 60.1819 608.829 Q64.7883 604.177 65.9689 602.834 Q68.2143 600.311 69.0939 598.575 Q69.9967 596.816 69.9967 595.126 Q69.9967 592.371 68.0522 590.635 Q66.1309 588.899 63.0291 588.899 Q60.83 588.899 58.3763 589.663 Q55.9458 590.427 53.168 591.978 L53.168 587.256 Q55.9921 586.121 58.4458 585.543 Q60.8995 584.964 62.9365 584.964 Q68.3068 584.964 71.5013 587.649 Q74.6957 590.334 74.6957 594.825 Q74.6957 596.955 73.8855 598.876 Q73.0985 600.774 70.992 603.367 Q70.4133 604.038 67.3115 607.255 Q64.2096 610.45 58.5615 616.214 Z\" fill=\"#000000\" fill-rule=\"nonzero\" fill-opacity=\"1\" /><path clip-path=\"url(#clip240)\" d=\"M67.7513 180.091 Q71.1078 180.809 72.9827 183.077 Q74.8809 185.346 74.8809 188.679 Q74.8809 193.795 71.3624 196.596 Q67.8439 199.397 61.3624 199.397 Q59.1865 199.397 56.8717 198.957 Q54.5801 198.54 52.1264 197.684 L52.1264 193.17 Q54.0708 194.304 56.3856 194.883 Q58.7004 195.462 61.2236 195.462 Q65.6217 195.462 67.9133 193.725 Q70.2281 191.989 70.2281 188.679 Q70.2281 185.624 68.0754 183.911 Q65.9457 182.175 62.1263 182.175 L58.0986 182.175 L58.0986 178.332 L62.3115 178.332 Q65.7606 178.332 67.5893 176.966 Q69.418 175.577 69.418 172.985 Q69.418 170.323 67.5198 168.911 Q65.6448 167.476 62.1263 167.476 Q60.205 167.476 58.006 167.892 Q55.8069 168.309 53.168 169.189 L53.168 165.022 Q55.8301 164.281 58.1449 163.911 Q60.4828 163.54 62.543 163.54 Q67.867 163.54 70.9689 165.971 Q74.0707 168.378 74.0707 172.499 Q74.0707 175.369 72.4272 177.36 Q70.7837 179.327 67.7513 180.091 Z\" fill=\"#000000\" fill-rule=\"nonzero\" fill-opacity=\"1\" /><polyline clip-path=\"url(#clip242)\" style=\"stroke:#009af9; stroke-linecap:round; stroke-linejoin:round; stroke-width:4; stroke-opacity:1; fill:none\" points=\"174.33,1445.72 175.277,1445.72 176.271,1445.72 177.317,1445.72 178.417,1445.72 179.573,1445.72 180.788,1445.72 182.065,1445.72 183.408,1445.72 184.82,1445.72 186.304,1445.72 187.864,1445.72 189.505,1445.72 191.229,1445.72 193.042,1445.72 194.948,1445.72 196.951,1445.72 199.057,1445.72 201.271,1445.72 203.599,1445.72 206.046,1445.72 208.618,1445.72 211.323,1445.72 214.166,1445.72 217.154,1445.72 220.296,1445.72 223.6,1445.72 227.072,1445.72 230.723,1445.72 234.56,1445.72 238.595,1445.72 242.836,1445.72 247.295,1445.72 251.982,1445.72 256.91,1445.72 262.09,1445.72 267.536,1445.72 273.261,1445.72 279.279,1445.72 285.607,1445.72 292.258,1445.72 299.251,1445.72 306.602,1445.72 314.33,1445.72 322.454,1445.72 330.995,1445.72 339.974,1445.72 349.413,1445.72 359.336,1445.72 369.768,1445.72 380.735,1445.72 392.264,1445.72 404.384,1445.72 417.125,1445.72 430.52,1445.72 444.601,1445.72 459.405,1445.72 474.967,1445.72 491.328,1445.72 508.527,1445.72 526.608,1445.72 545.616,1445.72 565.598,1445.72 586.605,1445.72 608.689,1445.72 631.906,1445.72 656.313,1445.72 681.971,1445.72 708.944,1445.72 737.301,1445.72 767.112,1445.72 798.45,1445.72 831.396,1445.72 866.031,1445.72 902.442,1445.72 940.719,1445.72 980.959,1445.72 1023.26,1445.72 1067.73,1445.72 1114.49,1445.72 1163.64,1445.72 1215.3,1445.72 1269.62,1445.72 1326.73,1445.72 1386.76,1445.72 1449.87,1445.72 1516.21,1445.72 1585.96,1445.72 1659.28,1445.72 1736.36,1445.72 1817.39,1445.72 1902.58,1445.72 1992.14,1445.72 2086.28,1445.72 2185.26,1445.72 2289.31,1445.72 \"/>\n",
       "<polyline clip-path=\"url(#clip242)\" style=\"stroke:#e26f46; stroke-linecap:round; stroke-linejoin:round; stroke-width:4; stroke-opacity:1; fill:none\" points=\"174.33,1445.72 175.277,1445.6 176.271,1445.03 177.317,1444.43 178.417,1443.8 179.573,1443.14 180.788,1442.45 182.065,1441.72 183.408,1440.96 184.82,1440.15 186.304,1439.3 187.864,1438.41 189.505,1437.48 191.229,1436.49 193.042,1435.46 194.948,1434.37 196.951,1433.23 199.057,1432.02 201.271,1430.76 203.599,1429.43 206.046,1428.03 208.618,1426.57 211.323,1425.02 214.166,1423.4 217.154,1421.69 220.296,1419.9 223.6,1418.01 227.072,1416.03 230.723,1413.95 234.56,1411.76 238.595,1409.46 242.836,1407.03 247.295,1404.49 251.982,1401.81 256.91,1399 262.09,1396.04 267.536,1392.94 273.261,1389.67 279.279,1386.23 285.607,1382.62 292.258,1378.82 299.251,1374.83 306.602,1370.64 314.33,1366.23 322.454,1361.59 330.995,1356.71 339.974,1351.59 349.413,1346.2 359.336,1340.54 369.768,1334.58 380.735,1328.32 392.264,1321.74 404.384,1314.82 417.125,1307.55 430.52,1299.91 444.601,1291.87 459.405,1283.42 474.967,1274.54 491.328,1265.2 508.527,1255.38 526.608,1245.06 545.616,1234.21 565.598,1222.8 586.605,1210.81 608.689,1198.21 631.906,1184.96 656.313,1171.03 681.971,1156.38 708.944,1140.98 737.301,1124.8 767.112,1107.78 798.45,1089.89 831.396,1071.09 866.031,1051.32 902.442,1030.54 940.719,1008.69 980.959,985.72 1023.26,961.573 1067.73,936.189 1114.49,909.503 1163.64,881.449 1215.3,851.957 1269.62,820.952 1326.73,813.581 1386.76,813.581 1449.87,813.581 1516.21,813.581 1585.96,813.581 1659.28,813.581 1736.36,813.581 1817.39,813.581 1902.58,813.581 1992.14,813.581 2086.28,813.581 2185.26,813.581 2289.31,813.581 \"/>\n",
       "<polyline clip-path=\"url(#clip242)\" style=\"stroke:#3da44d; stroke-linecap:round; stroke-linejoin:round; stroke-width:4; stroke-opacity:1; fill:none\" points=\"174.33,1445.72 175.277,1437.37 176.271,1436.43 177.317,1435.43 178.417,1434.38 179.573,1433.28 180.788,1432.12 182.065,1430.91 183.408,1429.64 184.82,1428.3 186.304,1426.9 187.864,1425.42 189.505,1423.88 191.229,1422.26 193.042,1420.55 194.948,1418.77 196.951,1416.89 199.057,1414.93 201.271,1412.87 203.599,1410.71 206.046,1408.44 208.618,1406.06 211.323,1403.57 214.166,1400.96 217.154,1398.22 220.296,1395.35 223.6,1392.35 227.072,1389.2 230.723,1385.9 234.56,1382.45 238.595,1378.83 242.836,1375.05 247.295,1371.09 251.982,1366.94 256.91,1362.61 262.09,1358.07 267.536,1353.33 273.261,1348.38 279.279,1343.2 285.607,1337.79 292.258,1332.14 299.251,1326.24 306.602,1320.08 314.33,1313.66 322.454,1306.96 330.995,1299.97 339.974,1292.69 349.413,1285.11 359.336,1277.21 369.768,1268.99 380.735,1260.44 392.264,1251.55 404.384,1242.3 417.125,1232.7 430.52,1222.73 444.601,1212.38 459.405,1201.65 474.967,1190.52 491.328,1179 508.527,1167.08 526.608,1154.75 545.616,1142.01 565.598,1128.87 586.605,1115.31 608.689,1101.42 631.906,1087.13 656.313,1072.57 681.971,1057.7 708.944,1042.31 737.301,1026.15 767.112,1009.11 798.45,991.226 831.396,972.422 866.031,952.656 902.442,931.86 940.719,910.024 980.959,887.072 1023.26,862.92 1067.73,837.537 1114.49,810.859 1163.64,782.782 1215.3,753.285 1269.62,722.309 1326.73,689.687 1386.76,655.423 1449.87,619.408 1516.21,581.539 1585.96,541.722 1659.28,499.869 1736.36,455.885 1817.39,409.948 1902.58,366.823 1992.14,328.983 2086.28,297.557 2185.26,272.659 2289.31,253.982 \"/>\n",
       "<polyline clip-path=\"url(#clip242)\" style=\"stroke:#c271d2; stroke-linecap:round; stroke-linejoin:round; stroke-width:4; stroke-opacity:1; fill:none\" points=\"174.33,1445.72 175.277,1424.23 176.271,1422.63 177.317,1420.98 178.417,1419.25 179.573,1417.45 180.788,1415.57 182.065,1413.59 183.408,1411.53 184.82,1409.37 186.304,1407.1 187.864,1404.73 189.505,1402.26 191.229,1399.66 193.042,1396.95 194.948,1394.12 196.951,1391.16 199.057,1388.06 201.271,1384.83 203.599,1381.45 206.046,1377.93 208.618,1374.25 211.323,1370.41 214.166,1366.41 217.154,1362.23 220.296,1357.88 223.6,1353.35 227.072,1348.63 230.723,1343.72 234.56,1338.61 238.595,1333.3 242.836,1327.78 247.295,1322.04 251.982,1316.09 256.91,1309.91 262.09,1303.5 267.536,1296.85 273.261,1289.97 279.279,1282.85 285.607,1275.48 292.258,1267.86 299.251,1259.99 306.602,1251.87 314.33,1243.49 322.454,1234.86 330.995,1225.96 339.974,1216.82 349.413,1207.41 359.336,1197.76 369.768,1187.86 380.735,1177.71 392.264,1167.31 404.384,1156.67 417.125,1145.79 430.52,1134.66 444.601,1123.28 459.405,1111.65 474.967,1099.75 491.328,1087.57 508.527,1075.11 526.608,1062.33 545.616,1049.22 565.598,1035.77 586.605,1021.96 608.689,1007.77 631.906,993.193 656.313,978.209 681.971,962.816 708.944,947.013 737.301,930.784 767.112,913.745 798.45,895.867 831.396,877.058 866.031,857.298 902.442,836.5 940.719,814.663 980.959,791.706 1023.26,767.559 1067.73,742.175 1114.49,715.487 1163.64,687.418 1215.3,657.922 1269.62,626.935 1326.73,594.323 1386.76,560.057 1449.87,524.046 1516.21,486.177 1585.96,446.356 1659.28,404.505 1736.36,360.52 1817.39,314.263 1902.58,266.761 1992.14,220.244 2086.28,174.828 2185.26,130.677 2289.31,87.9763 \"/>\n",
       "</svg>\n"
      ]
     },
     "execution_count": 97,
     "metadata": {},
     "output_type": "execute_result"
    }
   ],
   "source": [
    "using Plots\n",
    "m = 30\n",
    "H = 0.08\n",
    "Bmin = 0.2\n",
    "r = 1.8\n",
    "b = 0.4\n",
    "tau = sqrt(0.05)\n",
    "delta = 0.95\n",
    "\n",
    "function pi_(H,B)\n",
    "    return H\n",
    "end\n",
    "\n",
    "\n",
    "Bupper = 1.5*(r-1)/b\n",
    "Cov=zeros(1,1);Cov[1,1] = tau^2; quad = MvGaussHermite.init_mutable(m,[0.0],Cov)\n",
    "gridx = log(0.025):0.05:log(Bupper); V = ValueFunction(gridx,zeros(length(gridx)))\n",
    "Hvals = 0.0:0.03:(Bupper/2)\n",
    "p = Plots.plot(exp.(V.gridx),V.gridV, label = \"\")\n",
    "for i in 1:3\n",
    "    println(i)\n",
    "    Bellman2!(V,pi_,Hvals,Bmin,r,b,tau,delta,quad)\n",
    "    Plots.plot!(p,exp.(V.gridx),V.gridV, label = \"\")\n",
    "end\n",
    "p"
   ]
  },
  {
   "cell_type": "code",
   "execution_count": 98,
   "id": "df78794c-8cbb-4224-b4df-849375db5c91",
   "metadata": {},
   "outputs": [
    {
     "name": "stdout",
     "output_type": "stream",
     "text": [
      "1\n",
      "2\n",
      "3\n",
      "4\n",
      "5\n",
      "6\n",
      "7\n",
      "8\n",
      "9\n",
      "10\n",
      "11\n",
      "12\n",
      "13\n",
      "14\n",
      "15\n",
      "16\n",
      "17\n",
      "18\n",
      "19\n",
      "20\n"
     ]
    },
    {
     "data": {
      "image/svg+xml": [
       "<?xml version=\"1.0\" encoding=\"utf-8\"?>\n",
       "<svg xmlns=\"http://www.w3.org/2000/svg\" xmlns:xlink=\"http://www.w3.org/1999/xlink\" width=\"600\" height=\"400\" viewBox=\"0 0 2400 1600\">\n",
       "<defs>\n",
       "  <clipPath id=\"clip280\">\n",
       "    <rect x=\"0\" y=\"0\" width=\"2400\" height=\"1600\"/>\n",
       "  </clipPath>\n",
       "</defs>\n",
       "<path clip-path=\"url(#clip280)\" d=\"M0 1600 L2400 1600 L2400 0 L0 0  Z\" fill=\"#ffffff\" fill-rule=\"evenodd\" fill-opacity=\"1\"/>\n",
       "<defs>\n",
       "  <clipPath id=\"clip281\">\n",
       "    <rect x=\"480\" y=\"0\" width=\"1681\" height=\"1600\"/>\n",
       "  </clipPath>\n",
       "</defs>\n",
       "<path clip-path=\"url(#clip280)\" d=\"M112.177 1486.45 L2352.76 1486.45 L2352.76 47.2441 L112.177 47.2441  Z\" fill=\"#ffffff\" fill-rule=\"evenodd\" fill-opacity=\"1\"/>\n",
       "<defs>\n",
       "  <clipPath id=\"clip282\">\n",
       "    <rect x=\"112\" y=\"47\" width=\"2242\" height=\"1440\"/>\n",
       "  </clipPath>\n",
       "</defs>\n",
       "<polyline clip-path=\"url(#clip282)\" style=\"stroke:#000000; stroke-linecap:round; stroke-linejoin:round; stroke-width:2; stroke-opacity:0.1; fill:none\" points=\"157.143,1486.45 157.143,47.2441 \"/>\n",
       "<polyline clip-path=\"url(#clip282)\" style=\"stroke:#000000; stroke-linecap:round; stroke-linejoin:round; stroke-width:2; stroke-opacity:0.1; fill:none\" points=\"526.086,1486.45 526.086,47.2441 \"/>\n",
       "<polyline clip-path=\"url(#clip282)\" style=\"stroke:#000000; stroke-linecap:round; stroke-linejoin:round; stroke-width:2; stroke-opacity:0.1; fill:none\" points=\"895.029,1486.45 895.029,47.2441 \"/>\n",
       "<polyline clip-path=\"url(#clip282)\" style=\"stroke:#000000; stroke-linecap:round; stroke-linejoin:round; stroke-width:2; stroke-opacity:0.1; fill:none\" points=\"1263.97,1486.45 1263.97,47.2441 \"/>\n",
       "<polyline clip-path=\"url(#clip282)\" style=\"stroke:#000000; stroke-linecap:round; stroke-linejoin:round; stroke-width:2; stroke-opacity:0.1; fill:none\" points=\"1632.91,1486.45 1632.91,47.2441 \"/>\n",
       "<polyline clip-path=\"url(#clip282)\" style=\"stroke:#000000; stroke-linecap:round; stroke-linejoin:round; stroke-width:2; stroke-opacity:0.1; fill:none\" points=\"2001.86,1486.45 2001.86,47.2441 \"/>\n",
       "<polyline clip-path=\"url(#clip280)\" style=\"stroke:#000000; stroke-linecap:round; stroke-linejoin:round; stroke-width:4; stroke-opacity:1; fill:none\" points=\"112.177,1486.45 2352.76,1486.45 \"/>\n",
       "<polyline clip-path=\"url(#clip280)\" style=\"stroke:#000000; stroke-linecap:round; stroke-linejoin:round; stroke-width:4; stroke-opacity:1; fill:none\" points=\"157.143,1486.45 157.143,1467.55 \"/>\n",
       "<polyline clip-path=\"url(#clip280)\" style=\"stroke:#000000; stroke-linecap:round; stroke-linejoin:round; stroke-width:4; stroke-opacity:1; fill:none\" points=\"526.086,1486.45 526.086,1467.55 \"/>\n",
       "<polyline clip-path=\"url(#clip280)\" style=\"stroke:#000000; stroke-linecap:round; stroke-linejoin:round; stroke-width:4; stroke-opacity:1; fill:none\" points=\"895.029,1486.45 895.029,1467.55 \"/>\n",
       "<polyline clip-path=\"url(#clip280)\" style=\"stroke:#000000; stroke-linecap:round; stroke-linejoin:round; stroke-width:4; stroke-opacity:1; fill:none\" points=\"1263.97,1486.45 1263.97,1467.55 \"/>\n",
       "<polyline clip-path=\"url(#clip280)\" style=\"stroke:#000000; stroke-linecap:round; stroke-linejoin:round; stroke-width:4; stroke-opacity:1; fill:none\" points=\"1632.91,1486.45 1632.91,1467.55 \"/>\n",
       "<polyline clip-path=\"url(#clip280)\" style=\"stroke:#000000; stroke-linecap:round; stroke-linejoin:round; stroke-width:4; stroke-opacity:1; fill:none\" points=\"2001.86,1486.45 2001.86,1467.55 \"/>\n",
       "<path clip-path=\"url(#clip280)\" d=\"M134.527 1517.37 Q130.916 1517.37 129.087 1520.93 Q127.282 1524.47 127.282 1531.6 Q127.282 1538.71 129.087 1542.27 Q130.916 1545.82 134.527 1545.82 Q138.161 1545.82 139.967 1542.27 Q141.795 1538.71 141.795 1531.6 Q141.795 1524.47 139.967 1520.93 Q138.161 1517.37 134.527 1517.37 M134.527 1513.66 Q140.337 1513.66 143.393 1518.27 Q146.471 1522.85 146.471 1531.6 Q146.471 1540.33 143.393 1544.94 Q140.337 1549.52 134.527 1549.52 Q128.717 1549.52 125.638 1544.94 Q122.583 1540.33 122.583 1531.6 Q122.583 1522.85 125.638 1518.27 Q128.717 1513.66 134.527 1513.66 Z\" fill=\"#000000\" fill-rule=\"nonzero\" fill-opacity=\"1\" /><path clip-path=\"url(#clip280)\" d=\"M154.689 1542.97 L159.573 1542.97 L159.573 1548.85 L154.689 1548.85 L154.689 1542.97 Z\" fill=\"#000000\" fill-rule=\"nonzero\" fill-opacity=\"1\" /><path clip-path=\"url(#clip280)\" d=\"M179.758 1517.37 Q176.147 1517.37 174.318 1520.93 Q172.513 1524.47 172.513 1531.6 Q172.513 1538.71 174.318 1542.27 Q176.147 1545.82 179.758 1545.82 Q183.392 1545.82 185.198 1542.27 Q187.027 1538.71 187.027 1531.6 Q187.027 1524.47 185.198 1520.93 Q183.392 1517.37 179.758 1517.37 M179.758 1513.66 Q185.568 1513.66 188.624 1518.27 Q191.703 1522.85 191.703 1531.6 Q191.703 1540.33 188.624 1544.94 Q185.568 1549.52 179.758 1549.52 Q173.948 1549.52 170.869 1544.94 Q167.814 1540.33 167.814 1531.6 Q167.814 1522.85 170.869 1518.27 Q173.948 1513.66 179.758 1513.66 Z\" fill=\"#000000\" fill-rule=\"nonzero\" fill-opacity=\"1\" /><path clip-path=\"url(#clip280)\" d=\"M503.968 1517.37 Q500.357 1517.37 498.528 1520.93 Q496.722 1524.47 496.722 1531.6 Q496.722 1538.71 498.528 1542.27 Q500.357 1545.82 503.968 1545.82 Q507.602 1545.82 509.407 1542.27 Q511.236 1538.71 511.236 1531.6 Q511.236 1524.47 509.407 1520.93 Q507.602 1517.37 503.968 1517.37 M503.968 1513.66 Q509.778 1513.66 512.833 1518.27 Q515.912 1522.85 515.912 1531.6 Q515.912 1540.33 512.833 1544.94 Q509.778 1549.52 503.968 1549.52 Q498.158 1549.52 495.079 1544.94 Q492.023 1540.33 492.023 1531.6 Q492.023 1522.85 495.079 1518.27 Q498.158 1513.66 503.968 1513.66 Z\" fill=\"#000000\" fill-rule=\"nonzero\" fill-opacity=\"1\" /><path clip-path=\"url(#clip280)\" d=\"M524.13 1542.97 L529.014 1542.97 L529.014 1548.85 L524.13 1548.85 L524.13 1542.97 Z\" fill=\"#000000\" fill-rule=\"nonzero\" fill-opacity=\"1\" /><path clip-path=\"url(#clip280)\" d=\"M539.245 1514.29 L557.602 1514.29 L557.602 1518.22 L543.528 1518.22 L543.528 1526.7 Q544.546 1526.35 545.565 1526.19 Q546.583 1526 547.602 1526 Q553.389 1526 556.768 1529.17 Q560.148 1532.34 560.148 1537.76 Q560.148 1543.34 556.676 1546.44 Q553.204 1549.52 546.884 1549.52 Q544.708 1549.52 542.44 1549.15 Q540.194 1548.78 537.787 1548.04 L537.787 1543.34 Q539.87 1544.47 542.092 1545.03 Q544.315 1545.58 546.792 1545.58 Q550.796 1545.58 553.134 1543.48 Q555.472 1541.37 555.472 1537.76 Q555.472 1534.15 553.134 1532.04 Q550.796 1529.94 546.792 1529.94 Q544.917 1529.94 543.042 1530.35 Q541.19 1530.77 539.245 1531.65 L539.245 1514.29 Z\" fill=\"#000000\" fill-rule=\"nonzero\" fill-opacity=\"1\" /><path clip-path=\"url(#clip280)\" d=\"M862.182 1544.91 L869.82 1544.91 L869.82 1518.55 L861.51 1520.21 L861.51 1515.95 L869.774 1514.29 L874.45 1514.29 L874.45 1544.91 L882.089 1544.91 L882.089 1548.85 L862.182 1548.85 L862.182 1544.91 Z\" fill=\"#000000\" fill-rule=\"nonzero\" fill-opacity=\"1\" /><path clip-path=\"url(#clip280)\" d=\"M891.533 1542.97 L896.418 1542.97 L896.418 1548.85 L891.533 1548.85 L891.533 1542.97 Z\" fill=\"#000000\" fill-rule=\"nonzero\" fill-opacity=\"1\" /><path clip-path=\"url(#clip280)\" d=\"M916.603 1517.37 Q912.992 1517.37 911.163 1520.93 Q909.357 1524.47 909.357 1531.6 Q909.357 1538.71 911.163 1542.27 Q912.992 1545.82 916.603 1545.82 Q920.237 1545.82 922.042 1542.27 Q923.871 1538.71 923.871 1531.6 Q923.871 1524.47 922.042 1520.93 Q920.237 1517.37 916.603 1517.37 M916.603 1513.66 Q922.413 1513.66 925.468 1518.27 Q928.547 1522.85 928.547 1531.6 Q928.547 1540.33 925.468 1544.94 Q922.413 1549.52 916.603 1549.52 Q910.792 1549.52 907.714 1544.94 Q904.658 1540.33 904.658 1531.6 Q904.658 1522.85 907.714 1518.27 Q910.792 1513.66 916.603 1513.66 Z\" fill=\"#000000\" fill-rule=\"nonzero\" fill-opacity=\"1\" /><path clip-path=\"url(#clip280)\" d=\"M1231.62 1544.91 L1239.26 1544.91 L1239.26 1518.55 L1230.95 1520.21 L1230.95 1515.95 L1239.21 1514.29 L1243.89 1514.29 L1243.89 1544.91 L1251.53 1544.91 L1251.53 1548.85 L1231.62 1548.85 L1231.62 1544.91 Z\" fill=\"#000000\" fill-rule=\"nonzero\" fill-opacity=\"1\" /><path clip-path=\"url(#clip280)\" d=\"M1260.97 1542.97 L1265.86 1542.97 L1265.86 1548.85 L1260.97 1548.85 L1260.97 1542.97 Z\" fill=\"#000000\" fill-rule=\"nonzero\" fill-opacity=\"1\" /><path clip-path=\"url(#clip280)\" d=\"M1276.09 1514.29 L1294.45 1514.29 L1294.45 1518.22 L1280.37 1518.22 L1280.37 1526.7 Q1281.39 1526.35 1282.41 1526.19 Q1283.43 1526 1284.45 1526 Q1290.23 1526 1293.61 1529.17 Q1296.99 1532.34 1296.99 1537.76 Q1296.99 1543.34 1293.52 1546.44 Q1290.05 1549.52 1283.73 1549.52 Q1281.55 1549.52 1279.28 1549.15 Q1277.04 1548.78 1274.63 1548.04 L1274.63 1543.34 Q1276.71 1544.47 1278.94 1545.03 Q1281.16 1545.58 1283.64 1545.58 Q1287.64 1545.58 1289.98 1543.48 Q1292.32 1541.37 1292.32 1537.76 Q1292.32 1534.15 1289.98 1532.04 Q1287.64 1529.94 1283.64 1529.94 Q1281.76 1529.94 1279.89 1530.35 Q1278.03 1530.77 1276.09 1531.65 L1276.09 1514.29 Z\" fill=\"#000000\" fill-rule=\"nonzero\" fill-opacity=\"1\" /><path clip-path=\"url(#clip280)\" d=\"M1604.15 1544.91 L1620.47 1544.91 L1620.47 1548.85 L1598.53 1548.85 L1598.53 1544.91 Q1601.19 1542.16 1605.77 1537.53 Q1610.38 1532.88 1611.56 1531.53 Q1613.81 1529.01 1614.69 1527.27 Q1615.59 1525.51 1615.59 1523.82 Q1615.59 1521.07 1613.64 1519.33 Q1611.72 1517.6 1608.62 1517.6 Q1606.42 1517.6 1603.97 1518.36 Q1601.54 1519.13 1598.76 1520.68 L1598.76 1515.95 Q1601.58 1514.82 1604.04 1514.24 Q1606.49 1513.66 1608.53 1513.66 Q1613.9 1513.66 1617.09 1516.35 Q1620.29 1519.03 1620.29 1523.52 Q1620.29 1525.65 1619.48 1527.57 Q1618.69 1529.47 1616.58 1532.07 Q1616.01 1532.74 1612.9 1535.95 Q1609.8 1539.15 1604.15 1544.91 Z\" fill=\"#000000\" fill-rule=\"nonzero\" fill-opacity=\"1\" /><path clip-path=\"url(#clip280)\" d=\"M1630.29 1542.97 L1635.17 1542.97 L1635.17 1548.85 L1630.29 1548.85 L1630.29 1542.97 Z\" fill=\"#000000\" fill-rule=\"nonzero\" fill-opacity=\"1\" /><path clip-path=\"url(#clip280)\" d=\"M1655.36 1517.37 Q1651.75 1517.37 1649.92 1520.93 Q1648.11 1524.47 1648.11 1531.6 Q1648.11 1538.71 1649.92 1542.27 Q1651.75 1545.82 1655.36 1545.82 Q1658.99 1545.82 1660.8 1542.27 Q1662.63 1538.71 1662.63 1531.6 Q1662.63 1524.47 1660.8 1520.93 Q1658.99 1517.37 1655.36 1517.37 M1655.36 1513.66 Q1661.17 1513.66 1664.22 1518.27 Q1667.3 1522.85 1667.3 1531.6 Q1667.3 1540.33 1664.22 1544.94 Q1661.17 1549.52 1655.36 1549.52 Q1649.55 1549.52 1646.47 1544.94 Q1643.41 1540.33 1643.41 1531.6 Q1643.41 1522.85 1646.47 1518.27 Q1649.55 1513.66 1655.36 1513.66 Z\" fill=\"#000000\" fill-rule=\"nonzero\" fill-opacity=\"1\" /><path clip-path=\"url(#clip280)\" d=\"M1973.59 1544.91 L1989.91 1544.91 L1989.91 1548.85 L1967.97 1548.85 L1967.97 1544.91 Q1970.63 1542.16 1975.21 1537.53 Q1979.82 1532.88 1981 1531.53 Q1983.25 1529.01 1984.13 1527.27 Q1985.03 1525.51 1985.03 1523.82 Q1985.03 1521.07 1983.08 1519.33 Q1981.16 1517.6 1978.06 1517.6 Q1975.86 1517.6 1973.41 1518.36 Q1970.98 1519.13 1968.2 1520.68 L1968.2 1515.95 Q1971.02 1514.82 1973.48 1514.24 Q1975.93 1513.66 1977.97 1513.66 Q1983.34 1513.66 1986.53 1516.35 Q1989.73 1519.03 1989.73 1523.52 Q1989.73 1525.65 1988.92 1527.57 Q1988.13 1529.47 1986.02 1532.07 Q1985.45 1532.74 1982.34 1535.95 Q1979.24 1539.15 1973.59 1544.91 Z\" fill=\"#000000\" fill-rule=\"nonzero\" fill-opacity=\"1\" /><path clip-path=\"url(#clip280)\" d=\"M1999.73 1542.97 L2004.61 1542.97 L2004.61 1548.85 L1999.73 1548.85 L1999.73 1542.97 Z\" fill=\"#000000\" fill-rule=\"nonzero\" fill-opacity=\"1\" /><path clip-path=\"url(#clip280)\" d=\"M2014.84 1514.29 L2033.2 1514.29 L2033.2 1518.22 L2019.13 1518.22 L2019.13 1526.7 Q2020.14 1526.35 2021.16 1526.19 Q2022.18 1526 2023.2 1526 Q2028.99 1526 2032.37 1529.17 Q2035.75 1532.34 2035.75 1537.76 Q2035.75 1543.34 2032.27 1546.44 Q2028.8 1549.52 2022.48 1549.52 Q2020.31 1549.52 2018.04 1549.15 Q2015.79 1548.78 2013.39 1548.04 L2013.39 1543.34 Q2015.47 1544.47 2017.69 1545.03 Q2019.91 1545.58 2022.39 1545.58 Q2026.39 1545.58 2028.73 1543.48 Q2031.07 1541.37 2031.07 1537.76 Q2031.07 1534.15 2028.73 1532.04 Q2026.39 1529.94 2022.39 1529.94 Q2020.51 1529.94 2018.64 1530.35 Q2016.79 1530.77 2014.84 1531.65 L2014.84 1514.29 Z\" fill=\"#000000\" fill-rule=\"nonzero\" fill-opacity=\"1\" /><polyline clip-path=\"url(#clip282)\" style=\"stroke:#000000; stroke-linecap:round; stroke-linejoin:round; stroke-width:2; stroke-opacity:0.1; fill:none\" points=\"112.177,1445.72 2352.76,1445.72 \"/>\n",
       "<polyline clip-path=\"url(#clip282)\" style=\"stroke:#000000; stroke-linecap:round; stroke-linejoin:round; stroke-width:2; stroke-opacity:0.1; fill:none\" points=\"112.177,1218.68 2352.76,1218.68 \"/>\n",
       "<polyline clip-path=\"url(#clip282)\" style=\"stroke:#000000; stroke-linecap:round; stroke-linejoin:round; stroke-width:2; stroke-opacity:0.1; fill:none\" points=\"112.177,991.643 2352.76,991.643 \"/>\n",
       "<polyline clip-path=\"url(#clip282)\" style=\"stroke:#000000; stroke-linecap:round; stroke-linejoin:round; stroke-width:2; stroke-opacity:0.1; fill:none\" points=\"112.177,764.607 2352.76,764.607 \"/>\n",
       "<polyline clip-path=\"url(#clip282)\" style=\"stroke:#000000; stroke-linecap:round; stroke-linejoin:round; stroke-width:2; stroke-opacity:0.1; fill:none\" points=\"112.177,537.57 2352.76,537.57 \"/>\n",
       "<polyline clip-path=\"url(#clip282)\" style=\"stroke:#000000; stroke-linecap:round; stroke-linejoin:round; stroke-width:2; stroke-opacity:0.1; fill:none\" points=\"112.177,310.534 2352.76,310.534 \"/>\n",
       "<polyline clip-path=\"url(#clip282)\" style=\"stroke:#000000; stroke-linecap:round; stroke-linejoin:round; stroke-width:2; stroke-opacity:0.1; fill:none\" points=\"112.177,83.4977 2352.76,83.4977 \"/>\n",
       "<polyline clip-path=\"url(#clip280)\" style=\"stroke:#000000; stroke-linecap:round; stroke-linejoin:round; stroke-width:4; stroke-opacity:1; fill:none\" points=\"112.177,1486.45 112.177,47.2441 \"/>\n",
       "<polyline clip-path=\"url(#clip280)\" style=\"stroke:#000000; stroke-linecap:round; stroke-linejoin:round; stroke-width:4; stroke-opacity:1; fill:none\" points=\"112.177,1445.72 131.075,1445.72 \"/>\n",
       "<polyline clip-path=\"url(#clip280)\" style=\"stroke:#000000; stroke-linecap:round; stroke-linejoin:round; stroke-width:4; stroke-opacity:1; fill:none\" points=\"112.177,1218.68 131.075,1218.68 \"/>\n",
       "<polyline clip-path=\"url(#clip280)\" style=\"stroke:#000000; stroke-linecap:round; stroke-linejoin:round; stroke-width:4; stroke-opacity:1; fill:none\" points=\"112.177,991.643 131.075,991.643 \"/>\n",
       "<polyline clip-path=\"url(#clip280)\" style=\"stroke:#000000; stroke-linecap:round; stroke-linejoin:round; stroke-width:4; stroke-opacity:1; fill:none\" points=\"112.177,764.607 131.075,764.607 \"/>\n",
       "<polyline clip-path=\"url(#clip280)\" style=\"stroke:#000000; stroke-linecap:round; stroke-linejoin:round; stroke-width:4; stroke-opacity:1; fill:none\" points=\"112.177,537.57 131.075,537.57 \"/>\n",
       "<polyline clip-path=\"url(#clip280)\" style=\"stroke:#000000; stroke-linecap:round; stroke-linejoin:round; stroke-width:4; stroke-opacity:1; fill:none\" points=\"112.177,310.534 131.075,310.534 \"/>\n",
       "<polyline clip-path=\"url(#clip280)\" style=\"stroke:#000000; stroke-linecap:round; stroke-linejoin:round; stroke-width:4; stroke-opacity:1; fill:none\" points=\"112.177,83.4977 131.075,83.4977 \"/>\n",
       "<path clip-path=\"url(#clip280)\" d=\"M64.2328 1431.51 Q60.6217 1431.51 58.793 1435.08 Q56.9875 1438.62 56.9875 1445.75 Q56.9875 1452.86 58.793 1456.42 Q60.6217 1459.96 64.2328 1459.96 Q67.867 1459.96 69.6726 1456.42 Q71.5013 1452.86 71.5013 1445.75 Q71.5013 1438.62 69.6726 1435.08 Q67.867 1431.51 64.2328 1431.51 M64.2328 1427.81 Q70.0429 1427.81 73.0985 1432.42 Q76.1772 1437 76.1772 1445.75 Q76.1772 1454.48 73.0985 1459.08 Q70.0429 1463.67 64.2328 1463.67 Q58.4226 1463.67 55.344 1459.08 Q52.2884 1454.48 52.2884 1445.75 Q52.2884 1437 55.344 1432.42 Q58.4226 1427.81 64.2328 1427.81 Z\" fill=\"#000000\" fill-rule=\"nonzero\" fill-opacity=\"1\" /><path clip-path=\"url(#clip280)\" d=\"M56.2699 1232.02 L63.9087 1232.02 L63.9087 1205.66 L55.5986 1207.33 L55.5986 1203.07 L63.8624 1201.4 L68.5383 1201.4 L68.5383 1232.02 L76.1772 1232.02 L76.1772 1235.96 L56.2699 1235.96 L56.2699 1232.02 Z\" fill=\"#000000\" fill-rule=\"nonzero\" fill-opacity=\"1\" /><path clip-path=\"url(#clip280)\" d=\"M59.8578 1004.99 L76.1772 1004.99 L76.1772 1008.92 L54.2328 1008.92 L54.2328 1004.99 Q56.8949 1002.23 61.4782 997.604 Q66.0846 992.951 67.2652 991.608 Q69.5105 989.085 70.3902 987.349 Q71.2929 985.59 71.2929 983.9 Q71.2929 981.145 69.3485 979.409 Q67.4272 977.673 64.3254 977.673 Q62.1263 977.673 59.6726 978.437 Q57.2421 979.201 54.4643 980.752 L54.4643 976.03 Q57.2884 974.895 59.7421 974.317 Q62.1958 973.738 64.2328 973.738 Q69.6031 973.738 72.7976 976.423 Q75.992 979.108 75.992 983.599 Q75.992 985.729 75.1818 987.65 Q74.3948 989.548 72.2883 992.141 Q71.7096 992.812 68.6078 996.03 Q65.5059 999.224 59.8578 1004.99 Z\" fill=\"#000000\" fill-rule=\"nonzero\" fill-opacity=\"1\" /><path clip-path=\"url(#clip280)\" d=\"M69.0476 763.253 Q72.404 763.97 74.279 766.239 Q76.1772 768.507 76.1772 771.84 Q76.1772 776.956 72.6587 779.757 Q69.1402 782.558 62.6587 782.558 Q60.4828 782.558 58.168 782.118 Q55.8764 781.702 53.4227 780.845 L53.4227 776.331 Q55.3671 777.465 57.6819 778.044 Q59.9967 778.623 62.5198 778.623 Q66.918 778.623 69.2096 776.887 Q71.5244 775.151 71.5244 771.84 Q71.5244 768.785 69.3717 767.072 Q67.242 765.336 63.4226 765.336 L59.3949 765.336 L59.3949 761.493 L63.6078 761.493 Q67.0569 761.493 68.8855 760.128 Q70.7142 758.739 70.7142 756.146 Q70.7142 753.484 68.8161 752.072 Q66.9411 750.637 63.4226 750.637 Q61.5013 750.637 59.3023 751.054 Q57.1032 751.47 54.4643 752.35 L54.4643 748.183 Q57.1264 747.442 59.4412 747.072 Q61.7791 746.702 63.8393 746.702 Q69.1633 746.702 72.2652 749.132 Q75.367 751.54 75.367 755.66 Q75.367 758.53 73.7235 760.521 Q72.08 762.489 69.0476 763.253 Z\" fill=\"#000000\" fill-rule=\"nonzero\" fill-opacity=\"1\" /><path clip-path=\"url(#clip280)\" d=\"M66.5939 524.364 L54.7884 542.813 L66.5939 542.813 L66.5939 524.364 M65.367 520.29 L71.2466 520.29 L71.2466 542.813 L76.1772 542.813 L76.1772 546.702 L71.2466 546.702 L71.2466 554.85 L66.5939 554.85 L66.5939 546.702 L50.9921 546.702 L50.9921 542.188 L65.367 520.29 Z\" fill=\"#000000\" fill-rule=\"nonzero\" fill-opacity=\"1\" /><path clip-path=\"url(#clip280)\" d=\"M55.2745 293.254 L73.6309 293.254 L73.6309 297.189 L59.5569 297.189 L59.5569 305.661 Q60.5754 305.314 61.5939 305.152 Q62.6124 304.967 63.6309 304.967 Q69.418 304.967 72.7976 308.138 Q76.1772 311.31 76.1772 316.726 Q76.1772 322.305 72.705 325.407 Q69.2328 328.485 62.9134 328.485 Q60.7374 328.485 58.4689 328.115 Q56.2236 327.745 53.8162 327.004 L53.8162 322.305 Q55.8995 323.439 58.1217 323.995 Q60.3439 324.55 62.8208 324.55 Q66.8254 324.55 69.1633 322.444 Q71.5013 320.337 71.5013 316.726 Q71.5013 313.115 69.1633 311.009 Q66.8254 308.902 62.8208 308.902 Q60.9458 308.902 59.0708 309.319 Q57.2189 309.735 55.2745 310.615 L55.2745 293.254 Z\" fill=\"#000000\" fill-rule=\"nonzero\" fill-opacity=\"1\" /><path clip-path=\"url(#clip280)\" d=\"M64.6495 81.6343 Q61.5013 81.6343 59.6495 83.7871 Q57.8208 85.9398 57.8208 89.6898 Q57.8208 93.4166 59.6495 95.5926 Q61.5013 97.7453 64.6495 97.7453 Q67.7976 97.7453 69.6263 95.5926 Q71.4781 93.4166 71.4781 89.6898 Q71.4781 85.9398 69.6263 83.7871 Q67.7976 81.6343 64.6495 81.6343 M73.9318 66.9816 L73.9318 71.2408 Q72.1726 70.4075 70.367 69.9677 Q68.5846 69.5279 66.8254 69.5279 Q62.1958 69.5279 59.7421 72.6529 Q57.3115 75.7779 56.9643 82.0973 Q58.33 80.0834 60.3902 79.0186 Q62.4504 77.9306 64.9272 77.9306 Q70.1355 77.9306 73.1448 81.1019 Q76.1772 84.25 76.1772 89.6898 Q76.1772 95.0139 73.029 98.2314 Q69.8809 101.449 64.6495 101.449 Q58.6541 101.449 55.4828 96.8657 Q52.3116 92.2592 52.3116 83.5324 Q52.3116 75.338 56.2004 70.477 Q60.0893 65.5927 66.6402 65.5927 Q68.3994 65.5927 70.1818 65.9399 Q71.9874 66.2872 73.9318 66.9816 Z\" fill=\"#000000\" fill-rule=\"nonzero\" fill-opacity=\"1\" /><polyline clip-path=\"url(#clip282)\" style=\"stroke:#009af9; stroke-linecap:round; stroke-linejoin:round; stroke-width:4; stroke-opacity:1; fill:none\" points=\"175.59,1445.72 176.536,1445.72 177.53,1445.72 178.575,1445.72 179.674,1445.72 180.829,1445.72 182.044,1445.72 183.32,1445.72 184.663,1445.72 186.074,1445.72 187.557,1445.72 189.116,1445.72 190.756,1445.72 192.479,1445.72 194.291,1445.72 196.195,1445.72 198.198,1445.72 200.302,1445.72 202.515,1445.72 204.842,1445.72 207.287,1445.72 209.858,1445.72 212.561,1445.72 215.402,1445.72 218.389,1445.72 221.53,1445.72 224.831,1445.72 228.301,1445.72 231.95,1445.72 235.785,1445.72 239.817,1445.72 244.056,1445.72 248.512,1445.72 253.197,1445.72 258.121,1445.72 263.299,1445.72 268.741,1445.72 274.463,1445.72 280.478,1445.72 286.802,1445.72 293.45,1445.72 300.438,1445.72 307.785,1445.72 315.509,1445.72 323.628,1445.72 332.164,1445.72 341.138,1445.72 350.572,1445.72 360.489,1445.72 370.915,1445.72 381.875,1445.72 393.397,1445.72 405.51,1445.72 418.244,1445.72 431.631,1445.72 445.705,1445.72 460.5,1445.72 476.053,1445.72 492.404,1445.72 509.593,1445.72 527.664,1445.72 546.661,1445.72 566.632,1445.72 587.627,1445.72 609.698,1445.72 632.901,1445.72 657.294,1445.72 682.937,1445.72 709.895,1445.72 738.235,1445.72 768.028,1445.72 799.349,1445.72 832.276,1445.72 866.891,1445.72 903.28,1445.72 941.535,1445.72 981.752,1445.72 1024.03,1445.72 1068.48,1445.72 1115.2,1445.72 1164.32,1445.72 1215.96,1445.72 1270.25,1445.72 1327.32,1445.72 1387.32,1445.72 1450.39,1445.72 1516.69,1445.72 1586.4,1445.72 1659.68,1445.72 1736.72,1445.72 1817.7,1445.72 1902.84,1445.72 1992.34,1445.72 2086.44,1445.72 2185.35,1445.72 2289.34,1445.72 \"/>\n",
       "<polyline clip-path=\"url(#clip282)\" style=\"stroke:#e26f46; stroke-linecap:round; stroke-linejoin:round; stroke-width:4; stroke-opacity:1; fill:none\" points=\"175.59,1445.72 176.536,1445.65 177.53,1445.35 178.575,1445.02 179.674,1444.69 180.829,1444.33 182.044,1443.96 183.32,1443.56 184.663,1443.15 186.074,1442.72 187.557,1442.26 189.116,1441.78 190.756,1441.28 192.479,1440.75 194.291,1440.19 196.195,1439.6 198.198,1438.99 200.302,1438.34 202.515,1437.66 204.842,1436.94 207.287,1436.19 209.858,1435.4 212.561,1434.57 215.402,1433.69 218.389,1432.77 221.53,1431.81 224.831,1430.79 228.301,1429.72 231.95,1428.6 235.785,1427.42 239.817,1426.18 244.056,1424.88 248.512,1423.51 253.197,1422.06 258.121,1420.55 263.299,1418.96 268.741,1417.28 274.463,1415.52 280.478,1413.67 286.802,1411.72 293.45,1409.68 300.438,1407.53 307.785,1405.27 315.509,1402.89 323.628,1400.39 332.164,1397.77 341.138,1395.01 350.572,1392.1 360.489,1389.05 370.915,1385.84 381.875,1382.47 393.397,1378.93 405.51,1375.2 418.244,1371.28 431.631,1367.16 445.705,1362.83 460.5,1358.28 476.053,1353.49 492.404,1348.46 509.593,1343.17 527.664,1337.61 546.661,1331.77 566.632,1325.63 587.627,1319.17 609.698,1312.37 632.901,1305.24 657.294,1297.73 682.937,1289.84 709.895,1281.55 738.235,1272.83 768.028,1263.66 799.349,1254.02 832.276,1243.89 866.891,1233.24 903.28,1222.04 941.535,1210.27 981.752,1197.9 1024.03,1184.89 1068.48,1171.21 1115.2,1156.84 1164.32,1141.72 1215.96,1125.84 1270.25,1109.13 1327.32,1105.16 1387.32,1105.16 1450.39,1105.16 1516.69,1105.16 1586.4,1105.16 1659.68,1105.16 1736.72,1105.16 1817.7,1105.16 1902.84,1105.16 1992.34,1105.16 2086.44,1105.16 2185.35,1105.16 2289.34,1105.16 \"/>\n",
       "<polyline clip-path=\"url(#clip282)\" style=\"stroke:#3da44d; stroke-linecap:round; stroke-linejoin:round; stroke-width:4; stroke-opacity:1; fill:none\" points=\"175.59,1445.72 176.536,1441.22 177.53,1440.71 178.575,1440.17 179.674,1439.61 180.829,1439.02 182.044,1438.39 183.32,1437.74 184.663,1437.05 186.074,1436.33 187.557,1435.58 189.116,1434.78 190.756,1433.95 192.479,1433.08 194.291,1432.16 196.195,1431.2 198.198,1430.19 200.302,1429.13 202.515,1428.02 204.842,1426.85 207.287,1425.63 209.858,1424.35 212.561,1423.01 215.402,1421.6 218.389,1420.13 221.53,1418.58 224.831,1416.96 228.301,1415.27 231.95,1413.49 235.785,1411.63 239.817,1409.68 244.056,1407.64 248.512,1405.51 253.197,1403.28 258.121,1400.94 263.299,1398.5 268.741,1395.94 274.463,1393.27 280.478,1390.49 286.802,1387.57 293.45,1384.53 300.438,1381.35 307.785,1378.03 315.509,1374.57 323.628,1370.96 332.164,1367.2 341.138,1363.28 350.572,1359.19 360.489,1354.94 370.915,1350.51 381.875,1345.9 393.397,1341.11 405.51,1336.13 418.244,1330.96 431.631,1325.58 445.705,1320.01 460.5,1314.23 476.053,1308.23 492.404,1302.03 509.593,1295.6 527.664,1288.96 546.661,1282.1 566.632,1275.02 587.627,1267.72 609.698,1260.23 632.901,1252.53 657.294,1244.69 682.937,1236.68 709.895,1228.39 738.235,1219.68 768.028,1210.5 799.349,1200.87 832.276,1190.73 866.891,1180.09 903.28,1168.88 941.535,1157.12 981.752,1144.75 1024.03,1131.74 1068.48,1118.07 1115.2,1103.69 1164.32,1088.57 1215.96,1072.68 1270.25,1055.99 1327.32,1038.42 1387.32,1019.96 1450.39,1000.55 1516.69,980.152 1586.4,958.701 1659.68,936.153 1736.72,912.458 1817.7,887.709 1902.84,864.477 1992.34,844.091 2086.44,827.16 2185.35,813.747 2289.34,803.685 \"/>\n",
       "<polyline clip-path=\"url(#clip282)\" style=\"stroke:#c271d2; stroke-linecap:round; stroke-linejoin:round; stroke-width:4; stroke-opacity:1; fill:none\" points=\"175.59,1445.72 176.536,1434.14 177.53,1433.28 178.575,1432.39 179.674,1431.46 180.829,1430.49 182.044,1429.47 183.32,1428.41 184.663,1427.3 186.074,1426.13 187.557,1424.91 189.116,1423.64 190.756,1422.3 192.479,1420.91 194.291,1419.45 196.195,1417.92 198.198,1416.32 200.302,1414.66 202.515,1412.91 204.842,1411.09 207.287,1409.2 209.858,1407.21 212.561,1405.15 215.402,1402.99 218.389,1400.74 221.53,1398.4 224.831,1395.96 228.301,1393.41 231.95,1390.77 235.785,1388.01 239.817,1385.15 244.056,1382.18 248.512,1379.09 253.197,1375.88 258.121,1372.55 263.299,1369.1 268.741,1365.52 274.463,1361.81 280.478,1357.97 286.802,1354 293.45,1349.9 300.438,1345.66 307.785,1341.28 315.509,1336.77 323.628,1332.12 332.164,1327.33 341.138,1322.4 350.572,1317.33 360.489,1312.13 370.915,1306.8 381.875,1301.33 393.397,1295.73 405.51,1290 418.244,1284.13 431.631,1278.14 445.705,1272.01 460.5,1265.74 476.053,1259.33 492.404,1252.77 509.593,1246.06 527.664,1239.17 546.661,1232.11 566.632,1224.86 587.627,1217.42 609.698,1209.78 632.901,1201.92 657.294,1193.85 682.937,1185.56 709.895,1177.05 738.235,1168.3 768.028,1159.12 799.349,1149.49 832.276,1139.36 866.891,1128.71 903.28,1117.51 941.535,1105.74 981.752,1093.38 1024.03,1080.37 1068.48,1066.69 1115.2,1052.31 1164.32,1037.19 1215.96,1021.3 1270.25,1004.61 1327.32,987.039 1387.32,968.579 1450.39,949.178 1516.69,928.777 1586.4,907.324 1659.68,884.777 1736.72,861.081 1817.7,836.16 1902.84,810.569 1992.34,785.509 2086.44,761.042 2185.35,737.256 2289.34,714.251 \"/>\n",
       "<polyline clip-path=\"url(#clip282)\" style=\"stroke:#ac8d18; stroke-linecap:round; stroke-linejoin:round; stroke-width:4; stroke-opacity:1; fill:none\" points=\"175.59,1445.72 176.536,1422.93 177.53,1421.53 178.575,1420.11 179.674,1418.63 180.829,1417.11 182.044,1415.52 183.32,1413.86 184.663,1412.13 186.074,1410.33 187.557,1408.45 189.116,1406.5 190.756,1404.47 192.479,1402.35 194.291,1400.15 196.195,1397.87 198.198,1395.49 200.302,1393.03 202.515,1390.47 204.842,1387.81 207.287,1385.06 209.858,1382.21 212.561,1379.26 215.402,1376.21 218.389,1373.06 221.53,1369.79 224.831,1366.43 228.301,1362.95 231.95,1359.37 235.785,1355.69 239.817,1351.89 244.056,1347.99 248.512,1343.98 253.197,1339.86 258.121,1335.64 263.299,1331.31 268.741,1326.88 274.463,1322.35 280.478,1317.71 286.802,1312.98 293.45,1308.15 300.438,1303.23 307.785,1298.21 315.509,1293.1 323.628,1287.9 332.164,1282.6 341.138,1277.21 350.572,1271.72 360.489,1266.14 370.915,1260.47 381.875,1254.7 393.397,1248.82 405.51,1242.85 418.244,1236.77 431.631,1230.58 445.705,1224.27 460.5,1217.85 476.053,1211.29 492.404,1204.61 509.593,1197.78 527.664,1190.79 546.661,1183.65 566.632,1176.33 587.627,1168.83 609.698,1161.13 632.901,1153.24 657.294,1145.13 682.937,1136.81 709.895,1128.28 738.235,1119.53 768.028,1110.35 799.349,1100.72 832.276,1090.59 866.891,1079.94 903.28,1068.73 941.535,1056.97 981.752,1044.6 1024.03,1031.59 1068.48,1017.91 1115.2,1003.54 1164.32,988.421 1215.96,972.527 1270.25,955.838 1327.32,938.264 1387.32,919.806 1450.39,900.408 1516.69,880.006 1586.4,858.551 1659.68,836.002 1736.72,812.311 1817.7,787.384 1902.84,761.771 1992.34,736.683 2086.44,712.155 2185.35,688.222 2289.34,664.927 \"/>\n",
       "<polyline clip-path=\"url(#clip282)\" style=\"stroke:#00a9ad; stroke-linecap:round; stroke-linejoin:round; stroke-width:4; stroke-opacity:1; fill:none\" points=\"175.59,1445.72 176.536,1405.87 177.53,1403.73 178.575,1401.6 179.674,1399.4 180.829,1397.15 182.044,1394.81 183.32,1392.39 184.663,1389.89 186.074,1387.3 187.557,1384.63 189.116,1381.87 190.756,1379.01 192.479,1376.07 194.291,1373.04 196.195,1369.91 198.198,1366.69 200.302,1363.38 202.515,1359.98 204.842,1356.49 207.287,1352.91 209.858,1349.23 212.561,1345.47 215.402,1341.62 218.389,1337.69 221.53,1333.67 224.831,1329.56 228.301,1325.38 231.95,1321.11 235.785,1316.77 239.817,1312.35 244.056,1307.85 248.512,1303.28 253.197,1298.64 258.121,1293.93 263.299,1289.15 268.741,1284.3 274.463,1279.38 280.478,1274.39 286.802,1269.33 293.45,1264.21 300.438,1259.01 307.785,1253.75 315.509,1248.42 323.628,1243.01 332.164,1237.54 341.138,1231.98 350.572,1226.35 360.489,1220.64 370.915,1214.85 381.875,1208.97 393.397,1203.01 405.51,1196.95 418.244,1190.8 431.631,1184.55 445.705,1178.19 460.5,1171.71 476.053,1165.12 492.404,1158.4 509.593,1151.54 527.664,1144.54 546.661,1137.37 566.632,1130.04 587.627,1122.52 609.698,1114.82 632.901,1106.92 657.294,1098.81 682.937,1090.49 709.895,1081.95 738.235,1073.2 768.028,1064.02 799.349,1054.38 832.276,1044.26 866.891,1033.61 903.28,1022.4 941.535,1010.64 981.752,998.271 1024.03,985.259 1068.48,971.584 1115.2,957.212 1164.32,942.091 1215.96,926.197 1270.25,909.507 1327.32,891.934 1387.32,873.476 1450.39,854.077 1516.69,833.676 1586.4,812.221 1659.68,789.671 1736.72,765.981 1817.7,741.053 1902.84,715.438 1992.34,690.348 2086.44,665.82 2185.35,641.885 2289.34,618.587 \"/>\n",
       "<polyline clip-path=\"url(#clip282)\" style=\"stroke:#ed5d92; stroke-linecap:round; stroke-linejoin:round; stroke-width:4; stroke-opacity:1; fill:none\" points=\"175.59,1445.72 176.536,1381.74 177.53,1378.75 178.575,1375.82 179.674,1372.83 180.829,1369.79 182.044,1366.68 183.32,1363.49 184.663,1360.23 186.074,1356.89 187.557,1353.47 189.116,1349.97 190.756,1346.39 192.479,1342.75 194.291,1339.02 196.195,1335.23 198.198,1331.37 200.302,1327.43 202.515,1323.43 204.842,1319.37 207.287,1315.24 209.858,1311.05 212.561,1306.8 215.402,1302.48 218.389,1298.12 221.53,1293.69 224.831,1289.21 228.301,1284.67 231.95,1280.09 235.785,1275.44 239.817,1270.75 244.056,1266 248.512,1261.2 253.197,1256.35 258.121,1251.45 263.299,1246.49 268.741,1241.48 274.463,1236.42 280.478,1231.31 286.802,1226.13 293.45,1220.91 300.438,1215.62 307.785,1210.27 315.509,1204.87 323.628,1199.4 332.164,1193.86 341.138,1188.26 350.572,1182.58 360.489,1176.83 370.915,1171.01 381.875,1165.1 393.397,1159.11 405.51,1153.03 418.244,1146.86 431.631,1140.6 445.705,1134.22 460.5,1127.74 476.053,1121.14 492.404,1114.41 509.593,1107.55 527.664,1100.54 546.661,1093.37 566.632,1086.03 587.627,1078.52 609.698,1070.81 632.901,1062.91 657.294,1054.8 682.937,1046.48 709.895,1037.94 738.235,1029.18 768.028,1020.01 799.349,1010.37 832.276,1000.24 866.891,989.592 903.28,978.391 941.535,966.63 981.752,954.258 1024.03,941.246 1068.48,927.57 1115.2,913.199 1164.32,898.078 1215.96,882.184 1270.25,865.494 1327.32,847.92 1387.32,829.463 1450.39,810.064 1516.69,789.663 1586.4,768.208 1659.68,745.658 1736.72,721.968 1817.7,697.04 1902.84,671.424 1992.34,646.334 2086.44,621.806 2185.35,597.871 2289.34,574.573 \"/>\n",
       "<polyline clip-path=\"url(#clip282)\" style=\"stroke:#c68125; stroke-linecap:round; stroke-linejoin:round; stroke-width:4; stroke-opacity:1; fill:none\" points=\"175.59,1445.72 176.536,1351.1 177.53,1347.33 178.575,1343.73 179.674,1340.09 180.829,1336.45 182.044,1332.76 183.32,1329.02 184.663,1325.23 186.074,1321.38 187.557,1317.48 189.116,1313.53 190.756,1309.52 192.479,1305.46 194.291,1301.36 196.195,1297.2 198.198,1293 200.302,1288.76 202.515,1284.46 204.842,1280.13 207.287,1275.75 209.858,1271.33 212.561,1266.87 215.402,1262.36 218.389,1257.82 221.53,1253.23 224.831,1248.6 228.301,1243.93 231.95,1239.22 235.785,1234.47 239.817,1229.68 244.056,1224.84 248.512,1219.96 253.197,1215.04 258.121,1210.07 263.299,1205.06 268.741,1200 274.463,1194.9 280.478,1189.74 286.802,1184.53 293.45,1179.27 300.438,1173.96 307.785,1168.59 315.509,1163.16 323.628,1157.68 332.164,1152.12 341.138,1146.51 350.572,1140.82 360.489,1135.06 370.915,1129.23 381.875,1123.32 393.397,1117.32 405.51,1111.24 418.244,1105.06 431.631,1098.79 445.705,1092.42 460.5,1085.94 476.053,1079.33 492.404,1072.6 509.593,1065.74 527.664,1058.73 546.661,1051.56 566.632,1044.22 587.627,1036.7 609.698,1029 632.901,1021.09 657.294,1012.98 682.937,1004.66 709.895,996.127 738.235,987.372 768.028,978.195 799.349,968.559 832.276,958.431 866.891,947.78 903.28,936.579 941.535,924.818 981.752,912.445 1024.03,899.433 1068.48,885.758 1115.2,871.386 1164.32,856.265 1215.96,840.371 1270.25,823.681 1327.32,806.108 1387.32,787.65 1450.39,768.252 1516.69,747.851 1586.4,726.396 1659.68,703.846 1736.72,680.155 1817.7,655.227 1902.84,629.611 1992.34,604.522 2086.44,579.993 2185.35,556.059 2289.34,532.76 \"/>\n",
       "<polyline clip-path=\"url(#clip282)\" style=\"stroke:#00a98d; stroke-linecap:round; stroke-linejoin:round; stroke-width:4; stroke-opacity:1; fill:none\" points=\"175.59,1445.72 176.536,1316.58 177.53,1312.25 178.575,1308.24 179.674,1304.21 180.829,1300.24 182.044,1296.23 183.32,1292.22 184.663,1288.16 186.074,1284.07 187.557,1279.94 189.116,1275.78 190.756,1271.58 192.479,1267.35 194.291,1263.08 196.195,1258.78 198.198,1254.44 200.302,1250.08 202.515,1245.67 204.842,1241.24 207.287,1236.76 209.858,1232.26 212.561,1227.72 215.402,1223.15 218.389,1218.54 221.53,1213.9 224.831,1209.23 228.301,1204.51 231.95,1199.77 235.785,1194.98 239.817,1190.16 244.056,1185.29 248.512,1180.39 253.197,1175.45 258.121,1170.46 263.299,1165.43 268.741,1160.36 274.463,1155.24 280.478,1150.07 286.802,1144.86 293.45,1139.59 300.438,1134.27 307.785,1128.9 315.509,1123.47 323.628,1117.97 332.164,1112.42 341.138,1106.8 350.572,1101.11 360.489,1095.35 370.915,1089.52 381.875,1083.6 393.397,1077.6 405.51,1071.52 418.244,1065.35 431.631,1059.08 445.705,1052.7 460.5,1046.21 476.053,1039.61 492.404,1032.88 509.593,1026.02 527.664,1019.01 546.661,1011.84 566.632,1004.5 587.627,996.982 609.698,989.274 632.901,981.373 657.294,973.261 682.937,964.941 709.895,956.405 738.235,947.65 768.028,938.473 799.349,928.837 832.276,918.709 866.891,908.058 903.28,896.857 941.535,885.096 981.752,872.723 1024.03,859.711 1068.48,846.036 1115.2,831.664 1164.32,816.543 1215.96,800.649 1270.25,783.959 1327.32,766.386 1387.32,747.929 1450.39,728.53 1516.69,708.129 1586.4,686.674 1659.68,664.124 1736.72,640.434 1817.7,615.505 1902.84,589.889 1992.34,564.8 2086.44,540.271 2185.35,516.337 2289.34,493.039 \"/>\n",
       "<polyline clip-path=\"url(#clip282)\" style=\"stroke:#8e971d; stroke-linecap:round; stroke-linejoin:round; stroke-width:4; stroke-opacity:1; fill:none\" points=\"175.59,1445.72 176.536,1281.02 177.53,1276.32 178.575,1272.09 179.674,1267.86 180.829,1263.74 182.044,1259.6 183.32,1255.47 184.663,1251.31 186.074,1247.12 187.557,1242.91 189.116,1238.67 190.756,1234.41 192.479,1230.11 194.291,1225.79 196.195,1221.43 198.198,1217.05 200.302,1212.64 202.515,1208.2 204.842,1203.73 207.287,1199.23 209.858,1194.7 212.561,1190.14 215.402,1185.55 218.389,1180.92 221.53,1176.27 224.831,1171.58 228.301,1166.85 231.95,1162.09 235.785,1157.3 239.817,1152.47 244.056,1147.6 248.512,1142.69 253.197,1137.74 258.121,1132.75 263.299,1127.72 268.741,1122.64 274.463,1117.52 280.478,1112.35 286.802,1107.13 293.45,1101.86 300.438,1096.54 307.785,1091.17 315.509,1085.73 323.628,1080.24 332.164,1074.69 341.138,1069.07 350.572,1063.38 360.489,1057.62 370.915,1051.78 381.875,1045.87 393.397,1039.87 405.51,1033.79 418.244,1027.61 431.631,1021.34 445.705,1014.96 460.5,1008.48 476.053,1001.88 492.404,995.148 509.593,988.281 527.664,981.27 546.661,974.101 566.632,966.762 587.627,959.246 609.698,951.539 632.901,943.637 657.294,935.525 682.937,927.206 709.895,918.67 738.235,909.914 768.028,900.737 799.349,891.101 832.276,880.974 866.891,870.322 903.28,859.121 941.535,847.36 981.752,834.988 1024.03,821.976 1068.48,808.3 1115.2,793.929 1164.32,778.808 1215.96,762.913 1270.25,746.223 1327.32,728.65 1387.32,710.193 1450.39,690.794 1516.69,670.393 1586.4,648.938 1659.68,626.388 1736.72,602.698 1817.7,577.77 1902.84,552.154 1992.34,527.064 2086.44,502.535 2185.35,478.601 2289.34,455.303 \"/>\n",
       "<polyline clip-path=\"url(#clip282)\" style=\"stroke:#00a8cb; stroke-linecap:round; stroke-linejoin:round; stroke-width:4; stroke-opacity:1; fill:none\" points=\"175.59,1445.72 176.536,1246.12 177.53,1241.15 178.575,1236.8 179.674,1232.46 180.829,1228.28 182.044,1224.09 183.32,1219.91 184.663,1215.72 186.074,1211.5 187.557,1207.26 189.116,1203 190.756,1198.71 192.479,1194.39 194.291,1190.05 196.195,1185.69 198.198,1181.29 200.302,1176.87 202.515,1172.42 204.842,1167.94 207.287,1163.43 209.858,1158.9 212.561,1154.33 215.402,1149.73 218.389,1145.1 221.53,1140.44 224.831,1135.75 228.301,1131.02 231.95,1126.26 235.785,1121.46 239.817,1116.63 244.056,1111.76 248.512,1106.85 253.197,1101.9 258.121,1096.91 263.299,1091.87 268.741,1086.8 274.463,1081.67 280.478,1076.5 286.802,1071.29 293.45,1066.02 300.438,1060.7 307.785,1055.32 315.509,1049.89 323.628,1044.39 332.164,1038.84 341.138,1033.22 350.572,1027.53 360.489,1021.77 370.915,1015.93 381.875,1010.02 393.397,1004.02 405.51,997.938 418.244,991.762 431.631,985.491 445.705,979.114 460.5,972.63 476.053,966.026 492.404,959.299 509.593,952.432 527.664,945.421 546.661,938.252 566.632,930.913 587.627,923.397 609.698,915.69 632.901,907.788 657.294,899.677 682.937,891.357 709.895,882.821 738.235,874.065 768.028,864.888 799.349,855.252 832.276,845.125 866.891,834.473 903.28,823.272 941.535,811.511 981.752,799.139 1024.03,786.127 1068.48,772.451 1115.2,758.08 1164.32,742.959 1215.96,727.064 1270.25,710.374 1327.32,692.801 1387.32,674.344 1450.39,654.945 1516.69,634.544 1586.4,613.089 1659.68,590.539 1736.72,566.849 1817.7,541.921 1902.84,516.305 1992.34,491.215 2086.44,466.686 2185.35,442.752 2289.34,419.454 \"/>\n",
       "<polyline clip-path=\"url(#clip282)\" style=\"stroke:#9b7fe8; stroke-linecap:round; stroke-linejoin:round; stroke-width:4; stroke-opacity:1; fill:none\" points=\"175.59,1445.72 176.536,1212.59 177.53,1207.38 178.575,1202.96 179.674,1198.55 180.829,1194.34 182.044,1190.13 183.32,1185.94 184.663,1181.73 186.074,1177.5 187.557,1173.26 189.116,1168.99 190.756,1164.69 192.479,1160.37 194.291,1156.02 196.195,1151.65 198.198,1147.25 200.302,1142.83 202.515,1138.38 204.842,1133.9 207.287,1129.39 209.858,1124.85 212.561,1120.28 215.402,1115.68 218.389,1111.05 221.53,1106.39 224.831,1101.7 228.301,1096.97 231.95,1092.2 235.785,1087.41 239.817,1082.57 244.056,1077.7 248.512,1072.79 253.197,1067.84 258.121,1062.85 263.299,1057.82 268.741,1052.74 274.463,1047.62 280.478,1042.45 286.802,1037.23 293.45,1031.96 300.438,1026.64 307.785,1021.26 315.509,1015.83 323.628,1010.34 332.164,1004.78 341.138,999.161 350.572,993.472 360.489,987.711 370.915,981.875 381.875,975.962 393.397,969.964 405.51,963.882 418.244,957.705 431.631,951.435 445.705,945.058 460.5,938.574 476.053,931.97 492.404,925.242 509.593,918.376 527.664,911.364 546.661,904.195 566.632,896.856 587.627,889.341 609.698,881.633 632.901,873.732 657.294,865.62 682.937,857.3 709.895,848.764 738.235,840.009 768.028,830.832 799.349,821.196 832.276,811.068 866.891,800.417 903.28,789.216 941.535,777.454 981.752,765.082 1024.03,752.07 1068.48,738.395 1115.2,724.023 1164.32,708.902 1215.96,693.008 1270.25,676.318 1327.32,658.745 1387.32,640.287 1450.39,620.889 1516.69,600.487 1586.4,579.032 1659.68,556.483 1736.72,532.792 1817.7,507.864 1902.84,482.248 1992.34,457.159 2086.44,432.63 2185.35,408.695 2289.34,385.397 \"/>\n",
       "<polyline clip-path=\"url(#clip282)\" style=\"stroke:#608cf6; stroke-linecap:round; stroke-linejoin:round; stroke-width:4; stroke-opacity:1; fill:none\" points=\"175.59,1445.72 176.536,1180.62 177.53,1175.21 178.575,1170.72 179.674,1166.25 180.829,1162.03 182.044,1157.8 183.32,1153.6 184.663,1149.39 186.074,1145.16 187.557,1140.91 189.116,1136.64 190.756,1132.35 192.479,1128.02 194.291,1123.68 196.195,1119.3 198.198,1114.9 200.302,1110.48 202.515,1106.03 204.842,1101.54 207.287,1097.03 209.858,1092.5 212.561,1087.93 215.402,1083.33 218.389,1078.7 221.53,1074.04 224.831,1069.34 228.301,1064.61 231.95,1059.85 235.785,1055.05 239.817,1050.22 244.056,1045.35 248.512,1040.44 253.197,1035.49 258.121,1030.5 263.299,1025.46 268.741,1020.39 274.463,1015.26 280.478,1010.09 286.802,1004.88 293.45,999.607 300.438,994.285 307.785,988.909 315.509,983.476 323.628,977.983 332.164,972.428 341.138,966.807 350.572,961.118 360.489,955.357 370.915,949.522 381.875,943.608 393.397,937.611 405.51,931.528 418.244,925.351 431.631,919.081 445.705,912.704 460.5,906.22 476.053,899.616 492.404,892.889 509.593,886.022 527.664,879.011 546.661,871.841 566.632,864.503 587.627,856.987 609.698,849.279 632.901,841.378 657.294,833.266 682.937,824.946 709.895,816.41 738.235,807.655 768.028,798.478 799.349,788.842 832.276,778.714 866.891,768.063 903.28,756.862 941.535,745.101 981.752,732.728 1024.03,719.716 1068.48,706.041 1115.2,691.669 1164.32,676.549 1215.96,660.654 1270.25,643.964 1327.32,626.391 1387.32,607.934 1450.39,588.535 1516.69,568.134 1586.4,546.679 1659.68,524.129 1736.72,500.439 1817.7,475.51 1902.84,449.894 1992.34,424.805 2086.44,400.276 2185.35,376.342 2289.34,353.044 \"/>\n",
       "<polyline clip-path=\"url(#clip282)\" style=\"stroke:#f05f73; stroke-linecap:round; stroke-linejoin:round; stroke-width:4; stroke-opacity:1; fill:none\" points=\"175.59,1445.72 176.536,1150.21 177.53,1144.62 178.575,1140.07 179.674,1135.55 180.829,1131.32 182.044,1127.07 183.32,1122.88 184.663,1118.66 186.074,1114.43 187.557,1110.18 189.116,1105.91 190.756,1101.61 192.479,1097.29 194.291,1092.94 196.195,1088.57 198.198,1084.17 200.302,1079.74 202.515,1075.29 204.842,1070.81 207.287,1066.3 209.858,1061.76 212.561,1057.19 215.402,1052.59 218.389,1047.96 221.53,1043.3 224.831,1038.61 228.301,1033.88 231.95,1029.12 235.785,1024.32 239.817,1019.48 244.056,1014.61 248.512,1009.7 253.197,1004.75 258.121,999.761 263.299,994.727 268.741,989.65 274.463,984.527 280.478,979.358 286.802,974.14 293.45,968.871 300.438,963.549 307.785,958.173 315.509,952.74 323.628,947.247 332.164,941.692 341.138,936.071 350.572,930.382 360.489,924.621 370.915,918.786 381.875,912.872 393.397,906.875 405.51,900.792 418.244,894.615 431.631,888.345 445.705,881.968 460.5,875.484 476.053,868.88 492.404,862.153 509.593,855.286 527.664,848.275 546.661,841.105 566.632,833.767 587.627,826.251 609.698,818.543 632.901,810.642 657.294,802.53 682.937,794.21 709.895,785.674 738.235,776.919 768.028,767.742 799.349,758.106 832.276,747.978 866.891,737.327 903.28,726.126 941.535,714.365 981.752,701.992 1024.03,688.98 1068.48,675.305 1115.2,660.933 1164.32,645.813 1215.96,629.918 1270.25,613.228 1327.32,595.655 1387.32,577.198 1450.39,557.799 1516.69,537.398 1586.4,515.943 1659.68,493.393 1736.72,469.703 1817.7,444.774 1902.84,419.158 1992.34,394.069 2086.44,369.54 2185.35,345.606 2289.34,322.308 \"/>\n",
       "<polyline clip-path=\"url(#clip282)\" style=\"stroke:#dd64b5; stroke-linecap:round; stroke-linejoin:round; stroke-width:4; stroke-opacity:1; fill:none\" points=\"175.59,1445.72 176.536,1121.32 177.53,1115.55 178.575,1110.94 179.674,1106.38 180.829,1102.13 182.044,1097.88 183.32,1093.68 184.663,1089.46 186.074,1085.23 187.557,1080.98 189.116,1076.71 190.756,1072.41 192.479,1068.09 194.291,1063.74 196.195,1059.37 198.198,1054.97 200.302,1050.54 202.515,1046.09 204.842,1041.61 207.287,1037.1 209.858,1032.56 212.561,1027.99 215.402,1023.39 218.389,1018.76 221.53,1014.1 224.831,1009.41 228.301,1004.68 231.95,999.917 235.785,995.119 239.817,990.284 244.056,985.413 248.512,980.503 253.197,975.552 258.121,970.561 263.299,965.528 268.741,960.451 274.463,955.328 280.478,950.159 286.802,944.941 293.45,939.672 300.438,934.35 307.785,928.974 315.509,923.541 323.628,918.048 332.164,912.492 341.138,906.872 350.572,901.183 360.489,895.422 370.915,889.586 381.875,883.673 393.397,877.675 405.51,871.593 418.244,865.416 431.631,859.146 445.705,852.769 460.5,846.285 476.053,839.681 492.404,832.954 509.593,826.087 527.664,819.076 546.661,811.906 566.632,804.567 587.627,797.052 609.698,789.344 632.901,781.443 657.294,773.331 682.937,765.011 709.895,756.475 738.235,747.72 768.028,738.543 799.349,728.907 832.276,718.779 866.891,708.128 903.28,696.927 941.535,685.166 981.752,672.793 1024.03,659.781 1068.48,646.106 1115.2,631.734 1164.32,616.613 1215.96,600.719 1270.25,584.029 1327.32,566.456 1387.32,547.998 1450.39,528.6 1516.69,508.199 1586.4,486.744 1659.68,464.194 1736.72,440.503 1817.7,415.575 1902.84,389.959 1992.34,364.87 2086.44,340.341 2185.35,316.406 2289.34,293.108 \"/>\n",
       "<polyline clip-path=\"url(#clip282)\" style=\"stroke:#6b9e32; stroke-linecap:round; stroke-linejoin:round; stroke-width:4; stroke-opacity:1; fill:none\" points=\"175.59,1445.72 176.536,1093.88 177.53,1087.93 178.575,1083.27 179.674,1078.67 180.829,1074.41 182.044,1070.14 183.32,1065.94 184.663,1061.72 186.074,1057.49 187.557,1053.24 189.116,1048.97 190.756,1044.67 192.479,1040.35 194.291,1036 196.195,1031.63 198.198,1027.23 200.302,1022.81 202.515,1018.35 204.842,1013.87 207.287,1009.36 209.858,1004.82 212.561,1000.25 215.402,995.655 218.389,991.024 221.53,986.363 224.831,981.668 228.301,976.94 231.95,972.177 235.785,967.379 239.817,962.545 244.056,957.674 248.512,952.763 253.197,947.813 258.121,942.822 263.299,937.789 268.741,932.712 274.463,927.589 280.478,922.419 286.802,917.201 293.45,911.932 300.438,906.611 307.785,901.235 315.509,895.801 323.628,890.309 332.164,884.753 341.138,879.133 350.572,873.443 360.489,867.683 370.915,861.847 381.875,855.933 393.397,849.936 405.51,843.853 418.244,837.677 431.631,831.406 445.705,825.029 460.5,818.545 476.053,811.942 492.404,805.214 509.593,798.348 527.664,791.336 546.661,784.167 566.632,776.828 587.627,769.313 609.698,761.605 632.901,753.704 657.294,745.592 682.937,737.272 709.895,728.736 738.235,719.98 768.028,710.804 799.349,701.168 832.276,691.04 866.891,680.389 903.28,669.188 941.535,657.426 981.752,645.054 1024.03,632.042 1068.48,618.367 1115.2,603.995 1164.32,588.874 1215.96,572.98 1270.25,556.29 1327.32,538.717 1387.32,520.259 1450.39,500.86 1516.69,480.459 1586.4,459.004 1659.68,436.454 1736.72,412.764 1817.7,387.836 1902.84,362.22 1992.34,337.13 2086.44,312.602 2185.35,288.667 2289.34,265.369 \"/>\n",
       "<polyline clip-path=\"url(#clip282)\" style=\"stroke:#009af9; stroke-linecap:round; stroke-linejoin:round; stroke-width:4; stroke-opacity:1; fill:none\" points=\"175.59,1445.72 176.536,1067.8 177.53,1061.7 178.575,1056.99 179.674,1052.34 180.829,1048.07 182.044,1043.8 183.32,1039.59 184.663,1035.37 186.074,1031.14 187.557,1026.89 189.116,1022.62 190.756,1018.32 192.479,1014 194.291,1009.65 196.195,1005.28 198.198,1000.88 200.302,996.453 202.515,992 204.842,987.518 207.287,983.009 209.858,978.47 212.561,973.901 215.402,969.302 218.389,964.672 221.53,960.01 224.831,955.316 228.301,950.588 231.95,945.825 235.785,941.027 239.817,936.193 244.056,931.321 248.512,926.411 253.197,921.461 258.121,916.47 263.299,911.437 268.741,906.359 274.463,901.237 280.478,896.067 286.802,890.849 293.45,885.58 300.438,880.259 307.785,874.883 315.509,869.449 323.628,863.956 332.164,858.401 341.138,852.78 350.572,847.091 360.489,841.331 370.915,835.495 381.875,829.581 393.397,823.584 405.51,817.501 418.244,811.325 431.631,805.054 445.705,798.677 460.5,792.193 476.053,785.589 492.404,778.862 509.593,771.995 527.664,764.984 546.661,757.815 566.632,750.476 587.627,742.96 609.698,735.253 632.901,727.351 657.294,719.24 682.937,710.92 709.895,702.384 738.235,693.628 768.028,684.451 799.349,674.815 832.276,664.688 866.891,654.036 903.28,642.835 941.535,631.074 981.752,618.702 1024.03,605.69 1068.48,592.014 1115.2,577.643 1164.32,562.522 1215.96,546.627 1270.25,529.937 1327.32,512.364 1387.32,493.907 1450.39,474.508 1516.69,454.107 1586.4,432.652 1659.68,410.102 1736.72,386.412 1817.7,361.484 1902.84,335.868 1992.34,310.778 2086.44,286.249 2185.35,262.315 2289.34,239.017 \"/>\n",
       "<polyline clip-path=\"url(#clip282)\" style=\"stroke:#e26f46; stroke-linecap:round; stroke-linejoin:round; stroke-width:4; stroke-opacity:1; fill:none\" points=\"175.59,1445.72 176.536,1043.03 177.53,1036.77 178.575,1032.02 179.674,1027.33 180.829,1023.05 182.044,1018.77 183.32,1014.56 184.663,1010.34 186.074,1006.11 187.557,1001.86 189.116,997.583 190.756,993.286 192.479,988.964 194.291,984.617 196.195,980.244 198.198,975.845 200.302,971.419 202.515,966.965 204.842,962.484 207.287,957.974 209.858,953.435 212.561,948.867 215.402,944.268 218.389,939.638 221.53,934.976 224.831,930.281 228.301,925.553 231.95,920.79 235.785,915.993 239.817,911.158 244.056,906.287 248.512,901.376 253.197,896.426 258.121,891.435 263.299,886.402 268.741,881.325 274.463,876.202 280.478,871.032 286.802,865.814 293.45,860.545 300.438,855.224 307.785,849.848 315.509,844.414 323.628,838.922 332.164,833.366 341.138,827.746 350.572,822.056 360.489,816.296 370.915,810.46 381.875,804.546 393.397,798.549 405.51,792.466 418.244,786.29 431.631,780.019 445.705,773.642 460.5,767.159 476.053,760.555 492.404,753.827 509.593,746.961 527.664,739.949 546.661,732.78 566.632,725.441 587.627,717.926 609.698,710.218 632.901,702.317 657.294,694.205 682.937,685.885 709.895,677.349 738.235,668.593 768.028,659.417 799.349,649.781 832.276,639.653 866.891,629.002 903.28,617.801 941.535,606.039 981.752,593.667 1024.03,580.655 1068.48,566.98 1115.2,552.608 1164.32,537.487 1215.96,521.593 1270.25,504.903 1327.32,487.33 1387.32,468.872 1450.39,449.474 1516.69,429.072 1586.4,407.617 1659.68,385.067 1736.72,361.377 1817.7,336.449 1902.84,310.833 1992.34,285.744 2086.44,261.215 2185.35,237.28 2289.34,213.982 \"/>\n",
       "<polyline clip-path=\"url(#clip282)\" style=\"stroke:#3da44d; stroke-linecap:round; stroke-linejoin:round; stroke-width:4; stroke-opacity:1; fill:none\" points=\"175.59,1445.72 176.536,1019.5 177.53,1013.1 178.575,1008.3 179.674,1003.57 180.829,999.279 182.044,994.987 183.32,990.78 184.663,986.553 186.074,982.325 187.557,978.073 189.116,973.8 190.756,969.503 192.479,965.181 194.291,960.834 196.195,956.461 198.198,952.062 200.302,947.636 202.515,943.182 204.842,938.701 207.287,934.191 209.858,929.652 212.561,925.084 215.402,920.485 218.389,915.855 221.53,911.193 224.831,906.498 228.301,901.77 231.95,897.007 235.785,892.21 239.817,887.375 244.056,882.504 248.512,877.593 253.197,872.643 258.121,867.652 263.299,862.619 268.741,857.542 274.463,852.419 280.478,847.249 286.802,842.031 293.45,836.762 300.438,831.441 307.785,826.065 315.509,820.631 323.628,815.139 332.164,809.583 341.138,803.963 350.572,798.273 360.489,792.513 370.915,786.677 381.875,780.764 393.397,774.766 405.51,768.683 418.244,762.507 431.631,756.236 445.705,749.859 460.5,743.376 476.053,736.772 492.404,730.044 509.593,723.178 527.664,716.166 546.661,708.997 566.632,701.658 587.627,694.143 609.698,686.435 632.901,678.534 657.294,670.422 682.937,662.102 709.895,653.566 738.235,644.81 768.028,635.634 799.349,625.998 832.276,615.87 866.891,605.219 903.28,594.018 941.535,582.256 981.752,569.884 1024.03,556.872 1068.48,543.197 1115.2,528.825 1164.32,513.704 1215.96,497.81 1270.25,481.12 1327.32,463.547 1387.32,445.089 1450.39,425.691 1516.69,405.289 1586.4,383.834 1659.68,361.285 1736.72,337.594 1817.7,312.666 1902.84,287.05 1992.34,261.961 2086.44,237.432 2185.35,213.497 2289.34,190.199 \"/>\n",
       "<polyline clip-path=\"url(#clip282)\" style=\"stroke:#c271d2; stroke-linecap:round; stroke-linejoin:round; stroke-width:4; stroke-opacity:1; fill:none\" points=\"175.59,1445.72 176.536,997.143 177.53,990.603 178.575,985.761 179.674,981 180.829,976.697 182.044,972.397 183.32,968.188 184.663,963.96 186.074,959.731 187.557,955.48 189.116,951.206 190.756,946.909 192.479,942.587 194.291,938.24 196.195,933.867 198.198,929.468 200.302,925.042 202.515,920.588 204.842,916.107 207.287,911.597 209.858,907.059 212.561,902.49 215.402,897.891 218.389,893.261 221.53,888.599 224.831,883.904 228.301,879.176 231.95,874.414 235.785,869.616 239.817,864.781 244.056,859.91 248.512,855 253.197,850.05 258.121,845.058 263.299,840.025 268.741,834.948 274.463,829.825 280.478,824.656 286.802,819.438 293.45,814.169 300.438,808.847 307.785,803.471 315.509,798.038 323.628,792.545 332.164,786.989 341.138,781.369 350.572,775.68 360.489,769.919 370.915,764.084 381.875,758.17 393.397,752.172 405.51,746.09 418.244,739.913 431.631,733.643 445.705,727.266 460.5,720.782 476.053,714.178 492.404,707.451 509.593,700.584 527.664,693.573 546.661,686.403 566.632,679.064 587.627,671.549 609.698,663.841 632.901,655.94 657.294,647.828 682.937,639.508 709.895,630.972 738.235,622.217 768.028,613.04 799.349,603.404 832.276,593.276 866.891,582.625 903.28,571.424 941.535,559.663 981.752,547.29 1024.03,534.278 1068.48,520.603 1115.2,506.231 1164.32,491.11 1215.96,475.216 1270.25,458.526 1327.32,440.953 1387.32,422.495 1450.39,403.097 1516.69,382.696 1586.4,361.241 1659.68,338.691 1736.72,315.001 1817.7,290.072 1902.84,264.456 1992.34,239.367 2086.44,214.838 2185.35,190.904 2289.34,167.605 \"/>\n",
       "<polyline clip-path=\"url(#clip282)\" style=\"stroke:#ac8d18; stroke-linecap:round; stroke-linejoin:round; stroke-width:4; stroke-opacity:1; fill:none\" points=\"175.59,1445.72 176.536,975.905 177.53,969.234 178.575,964.352 179.674,959.556 180.829,955.245 182.044,950.936 183.32,946.726 184.663,942.496 186.074,938.268 187.557,934.015 189.116,929.742 190.756,925.445 192.479,921.123 194.291,916.776 196.195,912.403 198.198,908.004 200.302,903.578 202.515,899.124 204.842,894.643 207.287,890.133 209.858,885.594 212.561,881.026 215.402,876.427 218.389,871.797 221.53,867.135 224.831,862.44 228.301,857.712 231.95,852.95 235.785,848.152 239.817,843.317 244.056,838.446 248.512,833.536 253.197,828.585 258.121,823.594 263.299,818.561 268.741,813.484 274.463,808.361 280.478,803.192 286.802,797.974 293.45,792.705 300.438,787.383 307.785,782.007 315.509,776.574 323.628,771.081 332.164,765.525 341.138,759.905 350.572,754.216 360.489,748.455 370.915,742.619 381.875,736.706 393.397,730.708 405.51,724.626 418.244,718.449 431.631,712.179 445.705,705.802 460.5,699.318 476.053,692.714 492.404,685.986 509.593,679.12 527.664,672.109 546.661,664.939 566.632,657.6 587.627,650.085 609.698,642.377 632.901,634.476 657.294,626.364 682.937,618.044 709.895,609.508 738.235,600.753 768.028,591.576 799.349,581.94 832.276,571.812 866.891,561.161 903.28,549.96 941.535,538.199 981.752,525.826 1024.03,512.814 1068.48,499.139 1115.2,484.767 1164.32,469.646 1215.96,453.752 1270.25,437.062 1327.32,419.489 1387.32,401.031 1450.39,381.633 1516.69,361.231 1586.4,339.776 1659.68,317.227 1736.72,293.536 1817.7,268.608 1902.84,242.992 1992.34,217.903 2086.44,193.374 2185.35,169.439 2289.34,146.141 \"/>\n",
       "<polyline clip-path=\"url(#clip282)\" style=\"stroke:#00a9ad; stroke-linecap:round; stroke-linejoin:round; stroke-width:4; stroke-opacity:1; fill:none\" points=\"175.59,1445.72 176.536,955.729 177.53,948.933 178.575,944.013 179.674,939.184 180.829,934.864 182.044,930.549 183.32,926.337 184.663,922.106 186.074,917.877 187.557,913.625 189.116,909.351 190.756,905.054 192.479,900.732 194.291,896.385 196.195,892.012 198.198,887.613 200.302,883.187 202.515,878.733 204.842,874.252 207.287,869.742 209.858,865.204 212.561,860.635 215.402,856.036 218.389,851.406 221.53,846.744 224.831,842.049 228.301,837.321 231.95,832.559 235.785,827.761 239.817,822.926 244.056,818.055 248.512,813.145 253.197,808.195 258.121,803.203 263.299,798.17 268.741,793.093 274.463,787.97 280.478,782.801 286.802,777.583 293.45,772.314 300.438,766.992 307.785,761.616 315.509,756.183 323.628,750.69 332.164,745.134 341.138,739.514 350.572,733.825 360.489,728.064 370.915,722.229 381.875,716.315 393.397,710.317 405.51,704.235 418.244,698.058 431.631,691.788 445.705,685.411 460.5,678.927 476.053,672.323 492.404,665.596 509.593,658.729 527.664,651.718 546.661,644.548 566.632,637.209 587.627,629.694 609.698,621.986 632.901,614.085 657.294,605.973 682.937,597.653 709.895,589.117 738.235,580.362 768.028,571.185 799.349,561.549 832.276,551.421 866.891,540.77 903.28,529.569 941.535,517.808 981.752,505.435 1024.03,492.423 1068.48,478.748 1115.2,464.376 1164.32,449.255 1215.96,433.361 1270.25,416.671 1327.32,399.098 1387.32,380.64 1450.39,361.242 1516.69,340.841 1586.4,319.386 1659.68,296.836 1736.72,273.145 1817.7,248.217 1902.84,222.601 1992.34,197.512 2086.44,172.983 2185.35,149.049 2289.34,125.75 \"/>\n",
       "<polyline clip-path=\"url(#clip282)\" style=\"stroke:#ed5d92; stroke-linecap:round; stroke-linejoin:round; stroke-width:4; stroke-opacity:1; fill:none\" points=\"175.59,1445.72 176.536,936.562 177.53,929.648 178.575,924.692 179.674,919.832 180.829,915.503 182.044,911.181 183.32,906.968 184.663,902.735 186.074,898.506 187.557,894.253 189.116,889.98 190.756,885.683 192.479,881.361 194.291,877.014 196.195,872.641 198.198,868.242 200.302,863.815 202.515,859.362 204.842,854.881 207.287,850.371 209.858,845.832 212.561,841.264 215.402,836.665 218.389,832.034 221.53,827.373 224.831,822.678 228.301,817.95 231.95,813.187 235.785,808.389 239.817,803.555 244.056,798.684 248.512,793.773 253.197,788.823 258.121,783.832 263.299,778.799 268.741,773.722 274.463,768.599 280.478,763.429 286.802,758.211 293.45,752.942 300.438,747.621 307.785,742.245 315.509,736.811 323.628,731.319 332.164,725.763 341.138,720.142 350.572,714.453 360.489,708.693 370.915,702.857 381.875,696.943 393.397,690.946 405.51,684.863 418.244,678.687 431.631,672.416 445.705,666.039 460.5,659.555 476.053,652.952 492.404,646.224 509.593,639.358 527.664,632.346 546.661,625.177 566.632,617.838 587.627,610.323 609.698,602.615 632.901,594.714 657.294,586.602 682.937,578.282 709.895,569.746 738.235,560.99 768.028,551.814 799.349,542.178 832.276,532.05 866.891,521.399 903.28,510.198 941.535,498.436 981.752,486.064 1024.03,473.052 1068.48,459.377 1115.2,445.005 1164.32,429.884 1215.96,413.99 1270.25,397.3 1327.32,379.727 1387.32,361.269 1450.39,341.87 1516.69,321.469 1586.4,300.014 1659.68,277.464 1736.72,253.774 1817.7,228.846 1902.84,203.23 1992.34,178.14 2086.44,153.612 2185.35,129.677 2289.34,106.379 \"/>\n",
       "<polyline clip-path=\"url(#clip282)\" style=\"stroke:#c68125; stroke-linecap:round; stroke-linejoin:round; stroke-width:4; stroke-opacity:1; fill:none\" points=\"175.59,1445.72 176.536,918.353 177.53,911.326 178.575,906.336 179.674,901.446 180.829,897.11 182.044,892.781 183.32,888.567 184.663,884.333 186.074,880.103 187.557,875.851 189.116,871.577 190.756,867.28 192.479,862.958 194.291,858.611 196.195,854.238 198.198,849.839 200.302,845.413 202.515,840.959 204.842,836.478 207.287,831.968 209.858,827.429 212.561,822.861 215.402,818.262 218.389,813.632 221.53,808.97 224.831,804.275 228.301,799.547 231.95,794.785 235.785,789.987 239.817,785.152 244.056,780.281 248.512,775.371 253.197,770.42 258.121,765.429 263.299,760.396 268.741,755.319 274.463,750.196 280.478,745.026 286.802,739.808 293.45,734.54 300.438,729.218 307.785,723.842 315.509,718.409 323.628,712.916 332.164,707.36 341.138,701.74 350.572,696.051 360.489,690.29 370.915,684.454 381.875,678.541 393.397,672.543 405.51,666.461 418.244,660.284 431.631,654.014 445.705,647.637 460.5,641.153 476.053,634.549 492.404,627.821 509.593,620.955 527.664,613.943 546.661,606.774 566.632,599.435 587.627,591.92 609.698,584.212 632.901,576.311 657.294,568.199 682.937,559.879 709.895,551.343 738.235,542.588 768.028,533.411 799.349,523.775 832.276,513.647 866.891,502.996 903.28,491.795 941.535,480.033 981.752,467.661 1024.03,454.649 1068.48,440.974 1115.2,426.602 1164.32,411.481 1215.96,395.587 1270.25,378.897 1327.32,361.324 1387.32,342.866 1450.39,323.468 1516.69,303.066 1586.4,281.611 1659.68,259.062 1736.72,235.371 1817.7,210.443 1902.84,184.827 1992.34,159.738 2086.44,135.209 2185.35,111.274 2289.34,87.9763 \"/>\n",
       "</svg>\n"
      ]
     },
     "execution_count": 98,
     "metadata": {},
     "output_type": "execute_result"
    }
   ],
   "source": [
    "for i in 1:20\n",
    "    println(i)\n",
    "    Bellman2!(V,pi_,Hvals,Bmin,r,b,tau,delta,quad)\n",
    "    Plots.plot!(p,exp.(V.gridx),V.gridV, label = \"\")\n",
    "end\n",
    "p"
   ]
  },
  {
   "cell_type": "code",
   "execution_count": 99,
   "id": "45a10833-3b3a-42b3-875b-8229cb893d0b",
   "metadata": {},
   "outputs": [
    {
     "data": {
      "text/plain": [
       "policy (generic function with 1 method)"
      ]
     },
     "execution_count": 99,
     "metadata": {},
     "output_type": "execute_result"
    }
   ],
   "source": [
    "function policy(x,pi,Hvals,Bmin,r,b,tau,V,delta,quad)\n",
    "    Qvals = broadcast(H -> EQ(x,pi,H,Bmin,r,b,tau,V,delta,quad), Hvals)\n",
    "    return Hvals[argmax(Qvals)]\n",
    "end "
   ]
  },
  {
   "cell_type": "code",
   "execution_count": 100,
   "id": "09f3cfab-cb75-40f6-b9ed-445a4c554ee0",
   "metadata": {},
   "outputs": [
    {
     "data": {
      "image/svg+xml": [
       "<?xml version=\"1.0\" encoding=\"utf-8\"?>\n",
       "<svg xmlns=\"http://www.w3.org/2000/svg\" xmlns:xlink=\"http://www.w3.org/1999/xlink\" width=\"600\" height=\"400\" viewBox=\"0 0 2400 1600\">\n",
       "<defs>\n",
       "  <clipPath id=\"clip320\">\n",
       "    <rect x=\"0\" y=\"0\" width=\"2400\" height=\"1600\"/>\n",
       "  </clipPath>\n",
       "</defs>\n",
       "<path clip-path=\"url(#clip320)\" d=\"M0 1600 L2400 1600 L2400 0 L0 0  Z\" fill=\"#ffffff\" fill-rule=\"evenodd\" fill-opacity=\"1\"/>\n",
       "<defs>\n",
       "  <clipPath id=\"clip321\">\n",
       "    <rect x=\"480\" y=\"0\" width=\"1681\" height=\"1600\"/>\n",
       "  </clipPath>\n",
       "</defs>\n",
       "<path clip-path=\"url(#clip320)\" d=\"M186.274 1486.45 L2352.76 1486.45 L2352.76 47.2441 L186.274 47.2441  Z\" fill=\"#ffffff\" fill-rule=\"evenodd\" fill-opacity=\"1\"/>\n",
       "<defs>\n",
       "  <clipPath id=\"clip322\">\n",
       "    <rect x=\"186\" y=\"47\" width=\"2167\" height=\"1440\"/>\n",
       "  </clipPath>\n",
       "</defs>\n",
       "<polyline clip-path=\"url(#clip322)\" style=\"stroke:#000000; stroke-linecap:round; stroke-linejoin:round; stroke-width:2; stroke-opacity:0.1; fill:none\" points=\"229.752,1486.45 229.752,47.2441 \"/>\n",
       "<polyline clip-path=\"url(#clip322)\" style=\"stroke:#000000; stroke-linecap:round; stroke-linejoin:round; stroke-width:2; stroke-opacity:0.1; fill:none\" points=\"586.494,1486.45 586.494,47.2441 \"/>\n",
       "<polyline clip-path=\"url(#clip322)\" style=\"stroke:#000000; stroke-linecap:round; stroke-linejoin:round; stroke-width:2; stroke-opacity:0.1; fill:none\" points=\"943.236,1486.45 943.236,47.2441 \"/>\n",
       "<polyline clip-path=\"url(#clip322)\" style=\"stroke:#000000; stroke-linecap:round; stroke-linejoin:round; stroke-width:2; stroke-opacity:0.1; fill:none\" points=\"1299.98,1486.45 1299.98,47.2441 \"/>\n",
       "<polyline clip-path=\"url(#clip322)\" style=\"stroke:#000000; stroke-linecap:round; stroke-linejoin:round; stroke-width:2; stroke-opacity:0.1; fill:none\" points=\"1656.72,1486.45 1656.72,47.2441 \"/>\n",
       "<polyline clip-path=\"url(#clip322)\" style=\"stroke:#000000; stroke-linecap:round; stroke-linejoin:round; stroke-width:2; stroke-opacity:0.1; fill:none\" points=\"2013.46,1486.45 2013.46,47.2441 \"/>\n",
       "<polyline clip-path=\"url(#clip320)\" style=\"stroke:#000000; stroke-linecap:round; stroke-linejoin:round; stroke-width:4; stroke-opacity:1; fill:none\" points=\"186.274,1486.45 2352.76,1486.45 \"/>\n",
       "<polyline clip-path=\"url(#clip320)\" style=\"stroke:#000000; stroke-linecap:round; stroke-linejoin:round; stroke-width:4; stroke-opacity:1; fill:none\" points=\"229.752,1486.45 229.752,1467.55 \"/>\n",
       "<polyline clip-path=\"url(#clip320)\" style=\"stroke:#000000; stroke-linecap:round; stroke-linejoin:round; stroke-width:4; stroke-opacity:1; fill:none\" points=\"586.494,1486.45 586.494,1467.55 \"/>\n",
       "<polyline clip-path=\"url(#clip320)\" style=\"stroke:#000000; stroke-linecap:round; stroke-linejoin:round; stroke-width:4; stroke-opacity:1; fill:none\" points=\"943.236,1486.45 943.236,1467.55 \"/>\n",
       "<polyline clip-path=\"url(#clip320)\" style=\"stroke:#000000; stroke-linecap:round; stroke-linejoin:round; stroke-width:4; stroke-opacity:1; fill:none\" points=\"1299.98,1486.45 1299.98,1467.55 \"/>\n",
       "<polyline clip-path=\"url(#clip320)\" style=\"stroke:#000000; stroke-linecap:round; stroke-linejoin:round; stroke-width:4; stroke-opacity:1; fill:none\" points=\"1656.72,1486.45 1656.72,1467.55 \"/>\n",
       "<polyline clip-path=\"url(#clip320)\" style=\"stroke:#000000; stroke-linecap:round; stroke-linejoin:round; stroke-width:4; stroke-opacity:1; fill:none\" points=\"2013.46,1486.45 2013.46,1467.55 \"/>\n",
       "<path clip-path=\"url(#clip320)\" d=\"M207.137 1517.37 Q203.526 1517.37 201.697 1520.93 Q199.891 1524.47 199.891 1531.6 Q199.891 1538.71 201.697 1542.27 Q203.526 1545.82 207.137 1545.82 Q210.771 1545.82 212.577 1542.27 Q214.405 1538.71 214.405 1531.6 Q214.405 1524.47 212.577 1520.93 Q210.771 1517.37 207.137 1517.37 M207.137 1513.66 Q212.947 1513.66 216.003 1518.27 Q219.081 1522.85 219.081 1531.6 Q219.081 1540.33 216.003 1544.94 Q212.947 1549.52 207.137 1549.52 Q201.327 1549.52 198.248 1544.94 Q195.192 1540.33 195.192 1531.6 Q195.192 1522.85 198.248 1518.27 Q201.327 1513.66 207.137 1513.66 Z\" fill=\"#000000\" fill-rule=\"nonzero\" fill-opacity=\"1\" /><path clip-path=\"url(#clip320)\" d=\"M227.299 1542.97 L232.183 1542.97 L232.183 1548.85 L227.299 1548.85 L227.299 1542.97 Z\" fill=\"#000000\" fill-rule=\"nonzero\" fill-opacity=\"1\" /><path clip-path=\"url(#clip320)\" d=\"M252.368 1517.37 Q248.757 1517.37 246.928 1520.93 Q245.123 1524.47 245.123 1531.6 Q245.123 1538.71 246.928 1542.27 Q248.757 1545.82 252.368 1545.82 Q256.002 1545.82 257.808 1542.27 Q259.637 1538.71 259.637 1531.6 Q259.637 1524.47 257.808 1520.93 Q256.002 1517.37 252.368 1517.37 M252.368 1513.66 Q258.178 1513.66 261.234 1518.27 Q264.312 1522.85 264.312 1531.6 Q264.312 1540.33 261.234 1544.94 Q258.178 1549.52 252.368 1549.52 Q246.558 1549.52 243.479 1544.94 Q240.424 1540.33 240.424 1531.6 Q240.424 1522.85 243.479 1518.27 Q246.558 1513.66 252.368 1513.66 Z\" fill=\"#000000\" fill-rule=\"nonzero\" fill-opacity=\"1\" /><path clip-path=\"url(#clip320)\" d=\"M564.376 1517.37 Q560.765 1517.37 558.937 1520.93 Q557.131 1524.47 557.131 1531.6 Q557.131 1538.71 558.937 1542.27 Q560.765 1545.82 564.376 1545.82 Q568.011 1545.82 569.816 1542.27 Q571.645 1538.71 571.645 1531.6 Q571.645 1524.47 569.816 1520.93 Q568.011 1517.37 564.376 1517.37 M564.376 1513.66 Q570.187 1513.66 573.242 1518.27 Q576.321 1522.85 576.321 1531.6 Q576.321 1540.33 573.242 1544.94 Q570.187 1549.52 564.376 1549.52 Q558.566 1549.52 555.488 1544.94 Q552.432 1540.33 552.432 1531.6 Q552.432 1522.85 555.488 1518.27 Q558.566 1513.66 564.376 1513.66 Z\" fill=\"#000000\" fill-rule=\"nonzero\" fill-opacity=\"1\" /><path clip-path=\"url(#clip320)\" d=\"M584.538 1542.97 L589.423 1542.97 L589.423 1548.85 L584.538 1548.85 L584.538 1542.97 Z\" fill=\"#000000\" fill-rule=\"nonzero\" fill-opacity=\"1\" /><path clip-path=\"url(#clip320)\" d=\"M599.654 1514.29 L618.01 1514.29 L618.01 1518.22 L603.936 1518.22 L603.936 1526.7 Q604.955 1526.35 605.973 1526.19 Q606.992 1526 608.01 1526 Q613.797 1526 617.177 1529.17 Q620.557 1532.34 620.557 1537.76 Q620.557 1543.34 617.084 1546.44 Q613.612 1549.52 607.293 1549.52 Q605.117 1549.52 602.848 1549.15 Q600.603 1548.78 598.196 1548.04 L598.196 1543.34 Q600.279 1544.47 602.501 1545.03 Q604.723 1545.58 607.2 1545.58 Q611.205 1545.58 613.543 1543.48 Q615.881 1541.37 615.881 1537.76 Q615.881 1534.15 613.543 1532.04 Q611.205 1529.94 607.2 1529.94 Q605.325 1529.94 603.45 1530.35 Q601.598 1530.77 599.654 1531.65 L599.654 1514.29 Z\" fill=\"#000000\" fill-rule=\"nonzero\" fill-opacity=\"1\" /><path clip-path=\"url(#clip320)\" d=\"M910.389 1544.91 L918.028 1544.91 L918.028 1518.55 L909.718 1520.21 L909.718 1515.95 L917.982 1514.29 L922.658 1514.29 L922.658 1544.91 L930.297 1544.91 L930.297 1548.85 L910.389 1548.85 L910.389 1544.91 Z\" fill=\"#000000\" fill-rule=\"nonzero\" fill-opacity=\"1\" /><path clip-path=\"url(#clip320)\" d=\"M939.741 1542.97 L944.625 1542.97 L944.625 1548.85 L939.741 1548.85 L939.741 1542.97 Z\" fill=\"#000000\" fill-rule=\"nonzero\" fill-opacity=\"1\" /><path clip-path=\"url(#clip320)\" d=\"M964.81 1517.37 Q961.199 1517.37 959.37 1520.93 Q957.565 1524.47 957.565 1531.6 Q957.565 1538.71 959.37 1542.27 Q961.199 1545.82 964.81 1545.82 Q968.444 1545.82 970.25 1542.27 Q972.079 1538.71 972.079 1531.6 Q972.079 1524.47 970.25 1520.93 Q968.444 1517.37 964.81 1517.37 M964.81 1513.66 Q970.62 1513.66 973.676 1518.27 Q976.755 1522.85 976.755 1531.6 Q976.755 1540.33 973.676 1544.94 Q970.62 1549.52 964.81 1549.52 Q959 1549.52 955.921 1544.94 Q952.866 1540.33 952.866 1531.6 Q952.866 1522.85 955.921 1518.27 Q959 1513.66 964.81 1513.66 Z\" fill=\"#000000\" fill-rule=\"nonzero\" fill-opacity=\"1\" /><path clip-path=\"url(#clip320)\" d=\"M1267.63 1544.91 L1275.27 1544.91 L1275.27 1518.55 L1266.96 1520.21 L1266.96 1515.95 L1275.22 1514.29 L1279.9 1514.29 L1279.9 1544.91 L1287.54 1544.91 L1287.54 1548.85 L1267.63 1548.85 L1267.63 1544.91 Z\" fill=\"#000000\" fill-rule=\"nonzero\" fill-opacity=\"1\" /><path clip-path=\"url(#clip320)\" d=\"M1296.98 1542.97 L1301.86 1542.97 L1301.86 1548.85 L1296.98 1548.85 L1296.98 1542.97 Z\" fill=\"#000000\" fill-rule=\"nonzero\" fill-opacity=\"1\" /><path clip-path=\"url(#clip320)\" d=\"M1312.1 1514.29 L1330.45 1514.29 L1330.45 1518.22 L1316.38 1518.22 L1316.38 1526.7 Q1317.4 1526.35 1318.42 1526.19 Q1319.43 1526 1320.45 1526 Q1326.24 1526 1329.62 1529.17 Q1333 1532.34 1333 1537.76 Q1333 1543.34 1329.53 1546.44 Q1326.05 1549.52 1319.74 1549.52 Q1317.56 1549.52 1315.29 1549.15 Q1313.05 1548.78 1310.64 1548.04 L1310.64 1543.34 Q1312.72 1544.47 1314.94 1545.03 Q1317.17 1545.58 1319.64 1545.58 Q1323.65 1545.58 1325.98 1543.48 Q1328.32 1541.37 1328.32 1537.76 Q1328.32 1534.15 1325.98 1532.04 Q1323.65 1529.94 1319.64 1529.94 Q1317.77 1529.94 1315.89 1530.35 Q1314.04 1530.77 1312.1 1531.65 L1312.1 1514.29 Z\" fill=\"#000000\" fill-rule=\"nonzero\" fill-opacity=\"1\" /><path clip-path=\"url(#clip320)\" d=\"M1627.96 1544.91 L1644.28 1544.91 L1644.28 1548.85 L1622.33 1548.85 L1622.33 1544.91 Q1625 1542.16 1629.58 1537.53 Q1634.19 1532.88 1635.37 1531.53 Q1637.61 1529.01 1638.49 1527.27 Q1639.39 1525.51 1639.39 1523.82 Q1639.39 1521.07 1637.45 1519.33 Q1635.53 1517.6 1632.43 1517.6 Q1630.23 1517.6 1627.77 1518.36 Q1625.34 1519.13 1622.57 1520.68 L1622.57 1515.95 Q1625.39 1514.82 1627.84 1514.24 Q1630.3 1513.66 1632.33 1513.66 Q1637.7 1513.66 1640.9 1516.35 Q1644.09 1519.03 1644.09 1523.52 Q1644.09 1525.65 1643.28 1527.57 Q1642.5 1529.47 1640.39 1532.07 Q1639.81 1532.74 1636.71 1535.95 Q1633.61 1539.15 1627.96 1544.91 Z\" fill=\"#000000\" fill-rule=\"nonzero\" fill-opacity=\"1\" /><path clip-path=\"url(#clip320)\" d=\"M1654.09 1542.97 L1658.98 1542.97 L1658.98 1548.85 L1654.09 1548.85 L1654.09 1542.97 Z\" fill=\"#000000\" fill-rule=\"nonzero\" fill-opacity=\"1\" /><path clip-path=\"url(#clip320)\" d=\"M1679.16 1517.37 Q1675.55 1517.37 1673.72 1520.93 Q1671.92 1524.47 1671.92 1531.6 Q1671.92 1538.71 1673.72 1542.27 Q1675.55 1545.82 1679.16 1545.82 Q1682.8 1545.82 1684.6 1542.27 Q1686.43 1538.71 1686.43 1531.6 Q1686.43 1524.47 1684.6 1520.93 Q1682.8 1517.37 1679.16 1517.37 M1679.16 1513.66 Q1684.97 1513.66 1688.03 1518.27 Q1691.11 1522.85 1691.11 1531.6 Q1691.11 1540.33 1688.03 1544.94 Q1684.97 1549.52 1679.16 1549.52 Q1673.35 1549.52 1670.27 1544.94 Q1667.22 1540.33 1667.22 1531.6 Q1667.22 1522.85 1670.27 1518.27 Q1673.35 1513.66 1679.16 1513.66 Z\" fill=\"#000000\" fill-rule=\"nonzero\" fill-opacity=\"1\" /><path clip-path=\"url(#clip320)\" d=\"M1985.2 1544.91 L2001.52 1544.91 L2001.52 1548.85 L1979.57 1548.85 L1979.57 1544.91 Q1982.24 1542.16 1986.82 1537.53 Q1991.43 1532.88 1992.61 1531.53 Q1994.85 1529.01 1995.73 1527.27 Q1996.63 1525.51 1996.63 1523.82 Q1996.63 1521.07 1994.69 1519.33 Q1992.77 1517.6 1989.67 1517.6 Q1987.47 1517.6 1985.01 1518.36 Q1982.58 1519.13 1979.8 1520.68 L1979.8 1515.95 Q1982.63 1514.82 1985.08 1514.24 Q1987.54 1513.66 1989.57 1513.66 Q1994.94 1513.66 1998.14 1516.35 Q2001.33 1519.03 2001.33 1523.52 Q2001.33 1525.65 2000.52 1527.57 Q1999.74 1529.47 1997.63 1532.07 Q1997.05 1532.74 1993.95 1535.95 Q1990.85 1539.15 1985.2 1544.91 Z\" fill=\"#000000\" fill-rule=\"nonzero\" fill-opacity=\"1\" /><path clip-path=\"url(#clip320)\" d=\"M2011.33 1542.97 L2016.22 1542.97 L2016.22 1548.85 L2011.33 1548.85 L2011.33 1542.97 Z\" fill=\"#000000\" fill-rule=\"nonzero\" fill-opacity=\"1\" /><path clip-path=\"url(#clip320)\" d=\"M2026.45 1514.29 L2044.8 1514.29 L2044.8 1518.22 L2030.73 1518.22 L2030.73 1526.7 Q2031.75 1526.35 2032.77 1526.19 Q2033.79 1526 2034.8 1526 Q2040.59 1526 2043.97 1529.17 Q2047.35 1532.34 2047.35 1537.76 Q2047.35 1543.34 2043.88 1546.44 Q2040.41 1549.52 2034.09 1549.52 Q2031.91 1549.52 2029.64 1549.15 Q2027.4 1548.78 2024.99 1548.04 L2024.99 1543.34 Q2027.07 1544.47 2029.3 1545.03 Q2031.52 1545.58 2033.99 1545.58 Q2038 1545.58 2040.34 1543.48 Q2042.67 1541.37 2042.67 1537.76 Q2042.67 1534.15 2040.34 1532.04 Q2038 1529.94 2033.99 1529.94 Q2032.12 1529.94 2030.24 1530.35 Q2028.39 1530.77 2026.45 1531.65 L2026.45 1514.29 Z\" fill=\"#000000\" fill-rule=\"nonzero\" fill-opacity=\"1\" /><polyline clip-path=\"url(#clip322)\" style=\"stroke:#000000; stroke-linecap:round; stroke-linejoin:round; stroke-width:2; stroke-opacity:0.1; fill:none\" points=\"186.274,1470.59 2352.76,1470.59 \"/>\n",
       "<polyline clip-path=\"url(#clip322)\" style=\"stroke:#000000; stroke-linecap:round; stroke-linejoin:round; stroke-width:2; stroke-opacity:0.1; fill:none\" points=\"186.274,1221.85 2352.76,1221.85 \"/>\n",
       "<polyline clip-path=\"url(#clip322)\" style=\"stroke:#000000; stroke-linecap:round; stroke-linejoin:round; stroke-width:2; stroke-opacity:0.1; fill:none\" points=\"186.274,973.106 2352.76,973.106 \"/>\n",
       "<polyline clip-path=\"url(#clip322)\" style=\"stroke:#000000; stroke-linecap:round; stroke-linejoin:round; stroke-width:2; stroke-opacity:0.1; fill:none\" points=\"186.274,724.364 2352.76,724.364 \"/>\n",
       "<polyline clip-path=\"url(#clip322)\" style=\"stroke:#000000; stroke-linecap:round; stroke-linejoin:round; stroke-width:2; stroke-opacity:0.1; fill:none\" points=\"186.274,475.623 2352.76,475.623 \"/>\n",
       "<polyline clip-path=\"url(#clip322)\" style=\"stroke:#000000; stroke-linecap:round; stroke-linejoin:round; stroke-width:2; stroke-opacity:0.1; fill:none\" points=\"186.274,226.881 2352.76,226.881 \"/>\n",
       "<polyline clip-path=\"url(#clip320)\" style=\"stroke:#000000; stroke-linecap:round; stroke-linejoin:round; stroke-width:4; stroke-opacity:1; fill:none\" points=\"186.274,1486.45 186.274,47.2441 \"/>\n",
       "<polyline clip-path=\"url(#clip320)\" style=\"stroke:#000000; stroke-linecap:round; stroke-linejoin:round; stroke-width:4; stroke-opacity:1; fill:none\" points=\"186.274,1470.59 205.172,1470.59 \"/>\n",
       "<polyline clip-path=\"url(#clip320)\" style=\"stroke:#000000; stroke-linecap:round; stroke-linejoin:round; stroke-width:4; stroke-opacity:1; fill:none\" points=\"186.274,1221.85 205.172,1221.85 \"/>\n",
       "<polyline clip-path=\"url(#clip320)\" style=\"stroke:#000000; stroke-linecap:round; stroke-linejoin:round; stroke-width:4; stroke-opacity:1; fill:none\" points=\"186.274,973.106 205.172,973.106 \"/>\n",
       "<polyline clip-path=\"url(#clip320)\" style=\"stroke:#000000; stroke-linecap:round; stroke-linejoin:round; stroke-width:4; stroke-opacity:1; fill:none\" points=\"186.274,724.364 205.172,724.364 \"/>\n",
       "<polyline clip-path=\"url(#clip320)\" style=\"stroke:#000000; stroke-linecap:round; stroke-linejoin:round; stroke-width:4; stroke-opacity:1; fill:none\" points=\"186.274,475.623 205.172,475.623 \"/>\n",
       "<polyline clip-path=\"url(#clip320)\" style=\"stroke:#000000; stroke-linecap:round; stroke-linejoin:round; stroke-width:4; stroke-opacity:1; fill:none\" points=\"186.274,226.881 205.172,226.881 \"/>\n",
       "<path clip-path=\"url(#clip320)\" d=\"M62.9365 1456.39 Q59.3254 1456.39 57.4967 1459.95 Q55.6912 1463.5 55.6912 1470.62 Q55.6912 1477.73 57.4967 1481.3 Q59.3254 1484.84 62.9365 1484.84 Q66.5707 1484.84 68.3763 1481.3 Q70.205 1477.73 70.205 1470.62 Q70.205 1463.5 68.3763 1459.95 Q66.5707 1456.39 62.9365 1456.39 M62.9365 1452.68 Q68.7467 1452.68 71.8022 1457.29 Q74.8809 1461.87 74.8809 1470.62 Q74.8809 1479.35 71.8022 1483.96 Q68.7467 1488.54 62.9365 1488.54 Q57.1264 1488.54 54.0477 1483.96 Q50.9921 1479.35 50.9921 1470.62 Q50.9921 1461.87 54.0477 1457.29 Q57.1264 1452.68 62.9365 1452.68 Z\" fill=\"#000000\" fill-rule=\"nonzero\" fill-opacity=\"1\" /><path clip-path=\"url(#clip320)\" d=\"M83.0984 1481.99 L87.9827 1481.99 L87.9827 1487.87 L83.0984 1487.87 L83.0984 1481.99 Z\" fill=\"#000000\" fill-rule=\"nonzero\" fill-opacity=\"1\" /><path clip-path=\"url(#clip320)\" d=\"M108.168 1456.39 Q104.557 1456.39 102.728 1459.95 Q100.922 1463.5 100.922 1470.62 Q100.922 1477.73 102.728 1481.3 Q104.557 1484.84 108.168 1484.84 Q111.802 1484.84 113.608 1481.3 Q115.436 1477.73 115.436 1470.62 Q115.436 1463.5 113.608 1459.95 Q111.802 1456.39 108.168 1456.39 M108.168 1452.68 Q113.978 1452.68 117.033 1457.29 Q120.112 1461.87 120.112 1470.62 Q120.112 1479.35 117.033 1483.96 Q113.978 1488.54 108.168 1488.54 Q102.358 1488.54 99.2789 1483.96 Q96.2234 1479.35 96.2234 1470.62 Q96.2234 1461.87 99.2789 1457.29 Q102.358 1452.68 108.168 1452.68 Z\" fill=\"#000000\" fill-rule=\"nonzero\" fill-opacity=\"1\" /><path clip-path=\"url(#clip320)\" d=\"M138.33 1456.39 Q134.719 1456.39 132.89 1459.95 Q131.084 1463.5 131.084 1470.62 Q131.084 1477.73 132.89 1481.3 Q134.719 1484.84 138.33 1484.84 Q141.964 1484.84 143.769 1481.3 Q145.598 1477.73 145.598 1470.62 Q145.598 1463.5 143.769 1459.95 Q141.964 1456.39 138.33 1456.39 M138.33 1452.68 Q144.14 1452.68 147.195 1457.29 Q150.274 1461.87 150.274 1470.62 Q150.274 1479.35 147.195 1483.96 Q144.14 1488.54 138.33 1488.54 Q132.519 1488.54 129.441 1483.96 Q126.385 1479.35 126.385 1470.62 Q126.385 1461.87 129.441 1457.29 Q132.519 1452.68 138.33 1452.68 Z\" fill=\"#000000\" fill-rule=\"nonzero\" fill-opacity=\"1\" /><path clip-path=\"url(#clip320)\" d=\"M63.9319 1207.65 Q60.3208 1207.65 58.4921 1211.21 Q56.6865 1214.75 56.6865 1221.88 Q56.6865 1228.99 58.4921 1232.55 Q60.3208 1236.1 63.9319 1236.1 Q67.5661 1236.1 69.3717 1232.55 Q71.2004 1228.99 71.2004 1221.88 Q71.2004 1214.75 69.3717 1211.21 Q67.5661 1207.65 63.9319 1207.65 M63.9319 1203.94 Q69.742 1203.94 72.7976 1208.55 Q75.8763 1213.13 75.8763 1221.88 Q75.8763 1230.61 72.7976 1235.22 Q69.742 1239.8 63.9319 1239.8 Q58.1217 1239.8 55.043 1235.22 Q51.9875 1230.61 51.9875 1221.88 Q51.9875 1213.13 55.043 1208.55 Q58.1217 1203.94 63.9319 1203.94 Z\" fill=\"#000000\" fill-rule=\"nonzero\" fill-opacity=\"1\" /><path clip-path=\"url(#clip320)\" d=\"M84.0938 1233.25 L88.978 1233.25 L88.978 1239.13 L84.0938 1239.13 L84.0938 1233.25 Z\" fill=\"#000000\" fill-rule=\"nonzero\" fill-opacity=\"1\" /><path clip-path=\"url(#clip320)\" d=\"M103.191 1235.19 L119.51 1235.19 L119.51 1239.13 L97.566 1239.13 L97.566 1235.19 Q100.228 1232.44 104.811 1227.81 Q109.418 1223.16 110.598 1221.81 Q112.844 1219.29 113.723 1217.55 Q114.626 1215.79 114.626 1214.11 Q114.626 1211.35 112.682 1209.61 Q110.76 1207.88 107.658 1207.88 Q105.459 1207.88 103.006 1208.64 Q100.575 1209.41 97.7974 1210.96 L97.7974 1206.23 Q100.621 1205.1 103.075 1204.52 Q105.529 1203.94 107.566 1203.94 Q112.936 1203.94 116.131 1206.63 Q119.325 1209.31 119.325 1213.8 Q119.325 1215.93 118.515 1217.86 Q117.728 1219.75 115.621 1222.35 Q115.043 1223.02 111.941 1226.23 Q108.839 1229.43 103.191 1235.19 Z\" fill=\"#000000\" fill-rule=\"nonzero\" fill-opacity=\"1\" /><path clip-path=\"url(#clip320)\" d=\"M129.371 1204.57 L147.728 1204.57 L147.728 1208.5 L133.654 1208.5 L133.654 1216.98 Q134.672 1216.63 135.691 1216.47 Q136.709 1216.28 137.728 1216.28 Q143.515 1216.28 146.894 1219.45 Q150.274 1222.62 150.274 1228.04 Q150.274 1233.62 146.802 1236.72 Q143.33 1239.8 137.01 1239.8 Q134.834 1239.8 132.566 1239.43 Q130.32 1239.06 127.913 1238.32 L127.913 1233.62 Q129.996 1234.75 132.219 1235.31 Q134.441 1235.86 136.918 1235.86 Q140.922 1235.86 143.26 1233.76 Q145.598 1231.65 145.598 1228.04 Q145.598 1224.43 143.26 1222.32 Q140.922 1220.22 136.918 1220.22 Q135.043 1220.22 133.168 1220.63 Q131.316 1221.05 129.371 1221.93 L129.371 1204.57 Z\" fill=\"#000000\" fill-rule=\"nonzero\" fill-opacity=\"1\" /><path clip-path=\"url(#clip320)\" d=\"M62.9365 958.905 Q59.3254 958.905 57.4967 962.47 Q55.6912 966.011 55.6912 973.141 Q55.6912 980.247 57.4967 983.812 Q59.3254 987.354 62.9365 987.354 Q66.5707 987.354 68.3763 983.812 Q70.205 980.247 70.205 973.141 Q70.205 966.011 68.3763 962.47 Q66.5707 958.905 62.9365 958.905 M62.9365 955.201 Q68.7467 955.201 71.8022 959.808 Q74.8809 964.391 74.8809 973.141 Q74.8809 981.868 71.8022 986.474 Q68.7467 991.058 62.9365 991.058 Q57.1264 991.058 54.0477 986.474 Q50.9921 981.868 50.9921 973.141 Q50.9921 964.391 54.0477 959.808 Q57.1264 955.201 62.9365 955.201 Z\" fill=\"#000000\" fill-rule=\"nonzero\" fill-opacity=\"1\" /><path clip-path=\"url(#clip320)\" d=\"M83.0984 984.507 L87.9827 984.507 L87.9827 990.386 L83.0984 990.386 L83.0984 984.507 Z\" fill=\"#000000\" fill-rule=\"nonzero\" fill-opacity=\"1\" /><path clip-path=\"url(#clip320)\" d=\"M98.2141 955.826 L116.57 955.826 L116.57 959.761 L102.496 959.761 L102.496 968.234 Q103.515 967.886 104.534 967.724 Q105.552 967.539 106.571 967.539 Q112.358 967.539 115.737 970.71 Q119.117 973.882 119.117 979.298 Q119.117 984.877 115.645 987.979 Q112.172 991.058 105.853 991.058 Q103.677 991.058 101.409 990.687 Q99.1632 990.317 96.7558 989.576 L96.7558 984.877 Q98.8391 986.011 101.061 986.567 Q103.284 987.122 105.76 987.122 Q109.765 987.122 112.103 985.016 Q114.441 982.909 114.441 979.298 Q114.441 975.687 112.103 973.581 Q109.765 971.474 105.76 971.474 Q103.885 971.474 102.01 971.891 Q100.159 972.308 98.2141 973.187 L98.2141 955.826 Z\" fill=\"#000000\" fill-rule=\"nonzero\" fill-opacity=\"1\" /><path clip-path=\"url(#clip320)\" d=\"M138.33 958.905 Q134.719 958.905 132.89 962.47 Q131.084 966.011 131.084 973.141 Q131.084 980.247 132.89 983.812 Q134.719 987.354 138.33 987.354 Q141.964 987.354 143.769 983.812 Q145.598 980.247 145.598 973.141 Q145.598 966.011 143.769 962.47 Q141.964 958.905 138.33 958.905 M138.33 955.201 Q144.14 955.201 147.195 959.808 Q150.274 964.391 150.274 973.141 Q150.274 981.868 147.195 986.474 Q144.14 991.058 138.33 991.058 Q132.519 991.058 129.441 986.474 Q126.385 981.868 126.385 973.141 Q126.385 964.391 129.441 959.808 Q132.519 955.201 138.33 955.201 Z\" fill=\"#000000\" fill-rule=\"nonzero\" fill-opacity=\"1\" /><path clip-path=\"url(#clip320)\" d=\"M63.9319 710.163 Q60.3208 710.163 58.4921 713.728 Q56.6865 717.27 56.6865 724.399 Q56.6865 731.506 58.4921 735.07 Q60.3208 738.612 63.9319 738.612 Q67.5661 738.612 69.3717 735.07 Q71.2004 731.506 71.2004 724.399 Q71.2004 717.27 69.3717 713.728 Q67.5661 710.163 63.9319 710.163 M63.9319 706.459 Q69.742 706.459 72.7976 711.066 Q75.8763 715.649 75.8763 724.399 Q75.8763 733.126 72.7976 737.732 Q69.742 742.316 63.9319 742.316 Q58.1217 742.316 55.043 737.732 Q51.9875 733.126 51.9875 724.399 Q51.9875 715.649 55.043 711.066 Q58.1217 706.459 63.9319 706.459 Z\" fill=\"#000000\" fill-rule=\"nonzero\" fill-opacity=\"1\" /><path clip-path=\"url(#clip320)\" d=\"M84.0938 735.765 L88.978 735.765 L88.978 741.644 L84.0938 741.644 L84.0938 735.765 Z\" fill=\"#000000\" fill-rule=\"nonzero\" fill-opacity=\"1\" /><path clip-path=\"url(#clip320)\" d=\"M97.9826 707.084 L120.205 707.084 L120.205 709.075 L107.658 741.644 L102.774 741.644 L114.58 711.02 L97.9826 711.02 L97.9826 707.084 Z\" fill=\"#000000\" fill-rule=\"nonzero\" fill-opacity=\"1\" /><path clip-path=\"url(#clip320)\" d=\"M129.371 707.084 L147.728 707.084 L147.728 711.02 L133.654 711.02 L133.654 719.492 Q134.672 719.145 135.691 718.983 Q136.709 718.797 137.728 718.797 Q143.515 718.797 146.894 721.969 Q150.274 725.14 150.274 730.557 Q150.274 736.135 146.802 739.237 Q143.33 742.316 137.01 742.316 Q134.834 742.316 132.566 741.945 Q130.32 741.575 127.913 740.834 L127.913 736.135 Q129.996 737.269 132.219 737.825 Q134.441 738.381 136.918 738.381 Q140.922 738.381 143.26 736.274 Q145.598 734.168 145.598 730.557 Q145.598 726.945 143.26 724.839 Q140.922 722.732 136.918 722.732 Q135.043 722.732 133.168 723.149 Q131.316 723.566 129.371 724.445 L129.371 707.084 Z\" fill=\"#000000\" fill-rule=\"nonzero\" fill-opacity=\"1\" /><path clip-path=\"url(#clip320)\" d=\"M53.7467 488.967 L61.3856 488.967 L61.3856 462.602 L53.0754 464.268 L53.0754 460.009 L61.3393 458.343 L66.0152 458.343 L66.0152 488.967 L73.654 488.967 L73.654 492.903 L53.7467 492.903 L53.7467 488.967 Z\" fill=\"#000000\" fill-rule=\"nonzero\" fill-opacity=\"1\" /><path clip-path=\"url(#clip320)\" d=\"M83.0984 487.023 L87.9827 487.023 L87.9827 492.903 L83.0984 492.903 L83.0984 487.023 Z\" fill=\"#000000\" fill-rule=\"nonzero\" fill-opacity=\"1\" /><path clip-path=\"url(#clip320)\" d=\"M108.168 461.421 Q104.557 461.421 102.728 464.986 Q100.922 468.528 100.922 475.657 Q100.922 482.764 102.728 486.329 Q104.557 489.87 108.168 489.87 Q111.802 489.87 113.608 486.329 Q115.436 482.764 115.436 475.657 Q115.436 468.528 113.608 464.986 Q111.802 461.421 108.168 461.421 M108.168 457.718 Q113.978 457.718 117.033 462.324 Q120.112 466.907 120.112 475.657 Q120.112 484.384 117.033 488.991 Q113.978 493.574 108.168 493.574 Q102.358 493.574 99.2789 488.991 Q96.2234 484.384 96.2234 475.657 Q96.2234 466.907 99.2789 462.324 Q102.358 457.718 108.168 457.718 Z\" fill=\"#000000\" fill-rule=\"nonzero\" fill-opacity=\"1\" /><path clip-path=\"url(#clip320)\" d=\"M138.33 461.421 Q134.719 461.421 132.89 464.986 Q131.084 468.528 131.084 475.657 Q131.084 482.764 132.89 486.329 Q134.719 489.87 138.33 489.87 Q141.964 489.87 143.769 486.329 Q145.598 482.764 145.598 475.657 Q145.598 468.528 143.769 464.986 Q141.964 461.421 138.33 461.421 M138.33 457.718 Q144.14 457.718 147.195 462.324 Q150.274 466.907 150.274 475.657 Q150.274 484.384 147.195 488.991 Q144.14 493.574 138.33 493.574 Q132.519 493.574 129.441 488.991 Q126.385 484.384 126.385 475.657 Q126.385 466.907 129.441 462.324 Q132.519 457.718 138.33 457.718 Z\" fill=\"#000000\" fill-rule=\"nonzero\" fill-opacity=\"1\" /><path clip-path=\"url(#clip320)\" d=\"M54.7421 240.226 L62.381 240.226 L62.381 213.86 L54.0708 215.527 L54.0708 211.267 L62.3347 209.601 L67.0106 209.601 L67.0106 240.226 L74.6494 240.226 L74.6494 244.161 L54.7421 244.161 L54.7421 240.226 Z\" fill=\"#000000\" fill-rule=\"nonzero\" fill-opacity=\"1\" /><path clip-path=\"url(#clip320)\" d=\"M84.0938 238.281 L88.978 238.281 L88.978 244.161 L84.0938 244.161 L84.0938 238.281 Z\" fill=\"#000000\" fill-rule=\"nonzero\" fill-opacity=\"1\" /><path clip-path=\"url(#clip320)\" d=\"M103.191 240.226 L119.51 240.226 L119.51 244.161 L97.566 244.161 L97.566 240.226 Q100.228 237.471 104.811 232.841 Q109.418 228.189 110.598 226.846 Q112.844 224.323 113.723 222.587 Q114.626 220.828 114.626 219.138 Q114.626 216.383 112.682 214.647 Q110.76 212.911 107.658 212.911 Q105.459 212.911 103.006 213.675 Q100.575 214.439 97.7974 215.99 L97.7974 211.267 Q100.621 210.133 103.075 209.554 Q105.529 208.976 107.566 208.976 Q112.936 208.976 116.131 211.661 Q119.325 214.346 119.325 218.837 Q119.325 220.966 118.515 222.888 Q117.728 224.786 115.621 227.378 Q115.043 228.05 111.941 231.267 Q108.839 234.462 103.191 240.226 Z\" fill=\"#000000\" fill-rule=\"nonzero\" fill-opacity=\"1\" /><path clip-path=\"url(#clip320)\" d=\"M129.371 209.601 L147.728 209.601 L147.728 213.536 L133.654 213.536 L133.654 222.008 Q134.672 221.661 135.691 221.499 Q136.709 221.314 137.728 221.314 Q143.515 221.314 146.894 224.485 Q150.274 227.656 150.274 233.073 Q150.274 238.652 146.802 241.753 Q143.33 244.832 137.01 244.832 Q134.834 244.832 132.566 244.462 Q130.32 244.091 127.913 243.351 L127.913 238.652 Q129.996 239.786 132.219 240.341 Q134.441 240.897 136.918 240.897 Q140.922 240.897 143.26 238.79 Q145.598 236.684 145.598 233.073 Q145.598 229.462 143.26 227.355 Q140.922 225.249 136.918 225.249 Q135.043 225.249 133.168 225.666 Q131.316 226.082 129.371 226.962 L129.371 209.601 Z\" fill=\"#000000\" fill-rule=\"nonzero\" fill-opacity=\"1\" /><polyline clip-path=\"url(#clip322)\" style=\"stroke:#009af9; stroke-linecap:round; stroke-linejoin:round; stroke-width:4; stroke-opacity:1; fill:none\" points=\"247.59,1445.72 248.504,1444.44 249.465,1443.1 250.476,1441.69 251.539,1440.21 252.656,1438.65 253.83,1437.01 255.064,1435.29 256.362,1433.48 257.727,1431.58 259.161,1429.58 260.669,1427.48 262.254,1425.27 263.92,1422.94 265.672,1420.5 267.514,1417.93 269.45,1415.23 271.485,1412.39 273.625,1409.41 275.874,1406.27 278.239,1402.97 280.725,1399.51 283.338,1395.86 286.085,1392.03 288.974,1388 292.01,1383.77 295.202,1379.32 298.558,1374.64 302.085,1369.72 305.794,1364.55 309.693,1359.11 313.791,1353.4 318.1,1347.39 322.63,1341.07 327.392,1334.43 332.398,1327.45 337.661,1320.11 343.193,1312.39 349.009,1304.28 355.124,1295.76 361.552,1286.79 368.309,1277.37 375.413,1267.46 382.881,1257.05 390.732,1246.1 398.986,1234.59 407.663,1222.49 416.785,1209.77 426.374,1196.4 436.455,1182.34 447.053,1167.56 458.194,1152.02 469.906,1135.69 482.219,1118.52 495.164,1100.47 508.772,1081.49 523.077,1061.54 538.116,1040.57 553.926,1018.52 570.547,995.345 588.02,970.979 606.389,945.363 625.699,918.434 646,890.124 667.342,860.363 689.777,829.076 713.363,796.185 738.158,761.608 764.225,725.257 791.628,687.043 820.436,706.568 850.721,694.184 882.559,709.484 916.029,692.658 951.215,703.288 988.205,711.403 1027.09,687.024 1067.97,689.713 1110.95,689.48 1156.13,686.173 1203.62,709.486 1253.56,699.553 1306.05,686.051 1361.23,698.645 1419.24,707.292 1480.23,711.793 1544.34,711.932 1611.74,707.488 1682.6,698.225 1757.09,713.745 1835.4,694.089 1917.72,609.137 2004.26,488.45 2095.24,361.575 2190.89,228.195 2291.44,87.9763 \"/>\n",
       "<path clip-path=\"url(#clip320)\" d=\"M258.49 198.898 L527.569 198.898 L527.569 95.2176 L258.49 95.2176  Z\" fill=\"#ffffff\" fill-rule=\"evenodd\" fill-opacity=\"1\"/>\n",
       "<polyline clip-path=\"url(#clip320)\" style=\"stroke:#000000; stroke-linecap:round; stroke-linejoin:round; stroke-width:4; stroke-opacity:1; fill:none\" points=\"258.49,198.898 527.569,198.898 527.569,95.2176 258.49,95.2176 258.49,198.898 \"/>\n",
       "<polyline clip-path=\"url(#clip320)\" style=\"stroke:#009af9; stroke-linecap:round; stroke-linejoin:round; stroke-width:4; stroke-opacity:1; fill:none\" points=\"282.562,147.058 426.994,147.058 \"/>\n",
       "<path clip-path=\"url(#clip320)\" d=\"M464.909 166.745 Q463.103 171.375 461.39 172.787 Q459.677 174.199 456.807 174.199 L453.404 174.199 L453.404 170.634 L455.904 170.634 Q457.663 170.634 458.636 169.8 Q459.608 168.967 460.788 165.865 L461.552 163.921 L451.066 138.412 L455.58 138.412 L463.682 158.689 L471.784 138.412 L476.298 138.412 L464.909 166.745 Z\" fill=\"#000000\" fill-rule=\"nonzero\" fill-opacity=\"1\" /><path clip-path=\"url(#clip320)\" d=\"M483.589 160.402 L491.228 160.402 L491.228 134.037 L482.918 135.703 L482.918 131.444 L491.182 129.778 L495.858 129.778 L495.858 160.402 L503.497 160.402 L503.497 164.338 L483.589 164.338 L483.589 160.402 Z\" fill=\"#000000\" fill-rule=\"nonzero\" fill-opacity=\"1\" /></svg>\n"
      ]
     },
     "execution_count": 100,
     "metadata": {},
     "output_type": "execute_result"
    }
   ],
   "source": [
    "H = broadcast(x -> policy(x,pi_,Hvals,Bmin,r,b,tau,V,delta,quad), V.gridx)\n",
    "Plots.plot(exp.(V.gridx),exp.(V.gridx) .- H)"
   ]
  },
  {
   "cell_type": "code",
   "execution_count": 101,
   "id": "4a05219a-5900-4dc1-afdf-6035587ef029",
   "metadata": {},
   "outputs": [
    {
     "data": {
      "image/svg+xml": [
       "<?xml version=\"1.0\" encoding=\"utf-8\"?>\n",
       "<svg xmlns=\"http://www.w3.org/2000/svg\" xmlns:xlink=\"http://www.w3.org/1999/xlink\" width=\"600\" height=\"400\" viewBox=\"0 0 2400 1600\">\n",
       "<defs>\n",
       "  <clipPath id=\"clip360\">\n",
       "    <rect x=\"0\" y=\"0\" width=\"2400\" height=\"1600\"/>\n",
       "  </clipPath>\n",
       "</defs>\n",
       "<path clip-path=\"url(#clip360)\" d=\"M0 1600 L2400 1600 L2400 0 L0 0  Z\" fill=\"#ffffff\" fill-rule=\"evenodd\" fill-opacity=\"1\"/>\n",
       "<defs>\n",
       "  <clipPath id=\"clip361\">\n",
       "    <rect x=\"480\" y=\"0\" width=\"1681\" height=\"1600\"/>\n",
       "  </clipPath>\n",
       "</defs>\n",
       "<path clip-path=\"url(#clip360)\" d=\"M186.274 1486.45 L2352.76 1486.45 L2352.76 47.2441 L186.274 47.2441  Z\" fill=\"#ffffff\" fill-rule=\"evenodd\" fill-opacity=\"1\"/>\n",
       "<defs>\n",
       "  <clipPath id=\"clip362\">\n",
       "    <rect x=\"186\" y=\"47\" width=\"2167\" height=\"1440\"/>\n",
       "  </clipPath>\n",
       "</defs>\n",
       "<polyline clip-path=\"url(#clip362)\" style=\"stroke:#000000; stroke-linecap:round; stroke-linejoin:round; stroke-width:2; stroke-opacity:0.1; fill:none\" points=\"229.752,1486.45 229.752,47.2441 \"/>\n",
       "<polyline clip-path=\"url(#clip362)\" style=\"stroke:#000000; stroke-linecap:round; stroke-linejoin:round; stroke-width:2; stroke-opacity:0.1; fill:none\" points=\"586.494,1486.45 586.494,47.2441 \"/>\n",
       "<polyline clip-path=\"url(#clip362)\" style=\"stroke:#000000; stroke-linecap:round; stroke-linejoin:round; stroke-width:2; stroke-opacity:0.1; fill:none\" points=\"943.236,1486.45 943.236,47.2441 \"/>\n",
       "<polyline clip-path=\"url(#clip362)\" style=\"stroke:#000000; stroke-linecap:round; stroke-linejoin:round; stroke-width:2; stroke-opacity:0.1; fill:none\" points=\"1299.98,1486.45 1299.98,47.2441 \"/>\n",
       "<polyline clip-path=\"url(#clip362)\" style=\"stroke:#000000; stroke-linecap:round; stroke-linejoin:round; stroke-width:2; stroke-opacity:0.1; fill:none\" points=\"1656.72,1486.45 1656.72,47.2441 \"/>\n",
       "<polyline clip-path=\"url(#clip362)\" style=\"stroke:#000000; stroke-linecap:round; stroke-linejoin:round; stroke-width:2; stroke-opacity:0.1; fill:none\" points=\"2013.46,1486.45 2013.46,47.2441 \"/>\n",
       "<polyline clip-path=\"url(#clip360)\" style=\"stroke:#000000; stroke-linecap:round; stroke-linejoin:round; stroke-width:4; stroke-opacity:1; fill:none\" points=\"186.274,1486.45 2352.76,1486.45 \"/>\n",
       "<polyline clip-path=\"url(#clip360)\" style=\"stroke:#000000; stroke-linecap:round; stroke-linejoin:round; stroke-width:4; stroke-opacity:1; fill:none\" points=\"229.752,1486.45 229.752,1467.55 \"/>\n",
       "<polyline clip-path=\"url(#clip360)\" style=\"stroke:#000000; stroke-linecap:round; stroke-linejoin:round; stroke-width:4; stroke-opacity:1; fill:none\" points=\"586.494,1486.45 586.494,1467.55 \"/>\n",
       "<polyline clip-path=\"url(#clip360)\" style=\"stroke:#000000; stroke-linecap:round; stroke-linejoin:round; stroke-width:4; stroke-opacity:1; fill:none\" points=\"943.236,1486.45 943.236,1467.55 \"/>\n",
       "<polyline clip-path=\"url(#clip360)\" style=\"stroke:#000000; stroke-linecap:round; stroke-linejoin:round; stroke-width:4; stroke-opacity:1; fill:none\" points=\"1299.98,1486.45 1299.98,1467.55 \"/>\n",
       "<polyline clip-path=\"url(#clip360)\" style=\"stroke:#000000; stroke-linecap:round; stroke-linejoin:round; stroke-width:4; stroke-opacity:1; fill:none\" points=\"1656.72,1486.45 1656.72,1467.55 \"/>\n",
       "<polyline clip-path=\"url(#clip360)\" style=\"stroke:#000000; stroke-linecap:round; stroke-linejoin:round; stroke-width:4; stroke-opacity:1; fill:none\" points=\"2013.46,1486.45 2013.46,1467.55 \"/>\n",
       "<path clip-path=\"url(#clip360)\" d=\"M207.137 1517.37 Q203.526 1517.37 201.697 1520.93 Q199.891 1524.47 199.891 1531.6 Q199.891 1538.71 201.697 1542.27 Q203.526 1545.82 207.137 1545.82 Q210.771 1545.82 212.577 1542.27 Q214.405 1538.71 214.405 1531.6 Q214.405 1524.47 212.577 1520.93 Q210.771 1517.37 207.137 1517.37 M207.137 1513.66 Q212.947 1513.66 216.003 1518.27 Q219.081 1522.85 219.081 1531.6 Q219.081 1540.33 216.003 1544.94 Q212.947 1549.52 207.137 1549.52 Q201.327 1549.52 198.248 1544.94 Q195.192 1540.33 195.192 1531.6 Q195.192 1522.85 198.248 1518.27 Q201.327 1513.66 207.137 1513.66 Z\" fill=\"#000000\" fill-rule=\"nonzero\" fill-opacity=\"1\" /><path clip-path=\"url(#clip360)\" d=\"M227.299 1542.97 L232.183 1542.97 L232.183 1548.85 L227.299 1548.85 L227.299 1542.97 Z\" fill=\"#000000\" fill-rule=\"nonzero\" fill-opacity=\"1\" /><path clip-path=\"url(#clip360)\" d=\"M252.368 1517.37 Q248.757 1517.37 246.928 1520.93 Q245.123 1524.47 245.123 1531.6 Q245.123 1538.71 246.928 1542.27 Q248.757 1545.82 252.368 1545.82 Q256.002 1545.82 257.808 1542.27 Q259.637 1538.71 259.637 1531.6 Q259.637 1524.47 257.808 1520.93 Q256.002 1517.37 252.368 1517.37 M252.368 1513.66 Q258.178 1513.66 261.234 1518.27 Q264.312 1522.85 264.312 1531.6 Q264.312 1540.33 261.234 1544.94 Q258.178 1549.52 252.368 1549.52 Q246.558 1549.52 243.479 1544.94 Q240.424 1540.33 240.424 1531.6 Q240.424 1522.85 243.479 1518.27 Q246.558 1513.66 252.368 1513.66 Z\" fill=\"#000000\" fill-rule=\"nonzero\" fill-opacity=\"1\" /><path clip-path=\"url(#clip360)\" d=\"M564.376 1517.37 Q560.765 1517.37 558.937 1520.93 Q557.131 1524.47 557.131 1531.6 Q557.131 1538.71 558.937 1542.27 Q560.765 1545.82 564.376 1545.82 Q568.011 1545.82 569.816 1542.27 Q571.645 1538.71 571.645 1531.6 Q571.645 1524.47 569.816 1520.93 Q568.011 1517.37 564.376 1517.37 M564.376 1513.66 Q570.187 1513.66 573.242 1518.27 Q576.321 1522.85 576.321 1531.6 Q576.321 1540.33 573.242 1544.94 Q570.187 1549.52 564.376 1549.52 Q558.566 1549.52 555.488 1544.94 Q552.432 1540.33 552.432 1531.6 Q552.432 1522.85 555.488 1518.27 Q558.566 1513.66 564.376 1513.66 Z\" fill=\"#000000\" fill-rule=\"nonzero\" fill-opacity=\"1\" /><path clip-path=\"url(#clip360)\" d=\"M584.538 1542.97 L589.423 1542.97 L589.423 1548.85 L584.538 1548.85 L584.538 1542.97 Z\" fill=\"#000000\" fill-rule=\"nonzero\" fill-opacity=\"1\" /><path clip-path=\"url(#clip360)\" d=\"M599.654 1514.29 L618.01 1514.29 L618.01 1518.22 L603.936 1518.22 L603.936 1526.7 Q604.955 1526.35 605.973 1526.19 Q606.992 1526 608.01 1526 Q613.797 1526 617.177 1529.17 Q620.557 1532.34 620.557 1537.76 Q620.557 1543.34 617.084 1546.44 Q613.612 1549.52 607.293 1549.52 Q605.117 1549.52 602.848 1549.15 Q600.603 1548.78 598.196 1548.04 L598.196 1543.34 Q600.279 1544.47 602.501 1545.03 Q604.723 1545.58 607.2 1545.58 Q611.205 1545.58 613.543 1543.48 Q615.881 1541.37 615.881 1537.76 Q615.881 1534.15 613.543 1532.04 Q611.205 1529.94 607.2 1529.94 Q605.325 1529.94 603.45 1530.35 Q601.598 1530.77 599.654 1531.65 L599.654 1514.29 Z\" fill=\"#000000\" fill-rule=\"nonzero\" fill-opacity=\"1\" /><path clip-path=\"url(#clip360)\" d=\"M910.389 1544.91 L918.028 1544.91 L918.028 1518.55 L909.718 1520.21 L909.718 1515.95 L917.982 1514.29 L922.658 1514.29 L922.658 1544.91 L930.297 1544.91 L930.297 1548.85 L910.389 1548.85 L910.389 1544.91 Z\" fill=\"#000000\" fill-rule=\"nonzero\" fill-opacity=\"1\" /><path clip-path=\"url(#clip360)\" d=\"M939.741 1542.97 L944.625 1542.97 L944.625 1548.85 L939.741 1548.85 L939.741 1542.97 Z\" fill=\"#000000\" fill-rule=\"nonzero\" fill-opacity=\"1\" /><path clip-path=\"url(#clip360)\" d=\"M964.81 1517.37 Q961.199 1517.37 959.37 1520.93 Q957.565 1524.47 957.565 1531.6 Q957.565 1538.71 959.37 1542.27 Q961.199 1545.82 964.81 1545.82 Q968.444 1545.82 970.25 1542.27 Q972.079 1538.71 972.079 1531.6 Q972.079 1524.47 970.25 1520.93 Q968.444 1517.37 964.81 1517.37 M964.81 1513.66 Q970.62 1513.66 973.676 1518.27 Q976.755 1522.85 976.755 1531.6 Q976.755 1540.33 973.676 1544.94 Q970.62 1549.52 964.81 1549.52 Q959 1549.52 955.921 1544.94 Q952.866 1540.33 952.866 1531.6 Q952.866 1522.85 955.921 1518.27 Q959 1513.66 964.81 1513.66 Z\" fill=\"#000000\" fill-rule=\"nonzero\" fill-opacity=\"1\" /><path clip-path=\"url(#clip360)\" d=\"M1267.63 1544.91 L1275.27 1544.91 L1275.27 1518.55 L1266.96 1520.21 L1266.96 1515.95 L1275.22 1514.29 L1279.9 1514.29 L1279.9 1544.91 L1287.54 1544.91 L1287.54 1548.85 L1267.63 1548.85 L1267.63 1544.91 Z\" fill=\"#000000\" fill-rule=\"nonzero\" fill-opacity=\"1\" /><path clip-path=\"url(#clip360)\" d=\"M1296.98 1542.97 L1301.86 1542.97 L1301.86 1548.85 L1296.98 1548.85 L1296.98 1542.97 Z\" fill=\"#000000\" fill-rule=\"nonzero\" fill-opacity=\"1\" /><path clip-path=\"url(#clip360)\" d=\"M1312.1 1514.29 L1330.45 1514.29 L1330.45 1518.22 L1316.38 1518.22 L1316.38 1526.7 Q1317.4 1526.35 1318.42 1526.19 Q1319.43 1526 1320.45 1526 Q1326.24 1526 1329.62 1529.17 Q1333 1532.34 1333 1537.76 Q1333 1543.34 1329.53 1546.44 Q1326.05 1549.52 1319.74 1549.52 Q1317.56 1549.52 1315.29 1549.15 Q1313.05 1548.78 1310.64 1548.04 L1310.64 1543.34 Q1312.72 1544.47 1314.94 1545.03 Q1317.17 1545.58 1319.64 1545.58 Q1323.65 1545.58 1325.98 1543.48 Q1328.32 1541.37 1328.32 1537.76 Q1328.32 1534.15 1325.98 1532.04 Q1323.65 1529.94 1319.64 1529.94 Q1317.77 1529.94 1315.89 1530.35 Q1314.04 1530.77 1312.1 1531.65 L1312.1 1514.29 Z\" fill=\"#000000\" fill-rule=\"nonzero\" fill-opacity=\"1\" /><path clip-path=\"url(#clip360)\" d=\"M1627.96 1544.91 L1644.28 1544.91 L1644.28 1548.85 L1622.33 1548.85 L1622.33 1544.91 Q1625 1542.16 1629.58 1537.53 Q1634.19 1532.88 1635.37 1531.53 Q1637.61 1529.01 1638.49 1527.27 Q1639.39 1525.51 1639.39 1523.82 Q1639.39 1521.07 1637.45 1519.33 Q1635.53 1517.6 1632.43 1517.6 Q1630.23 1517.6 1627.77 1518.36 Q1625.34 1519.13 1622.57 1520.68 L1622.57 1515.95 Q1625.39 1514.82 1627.84 1514.24 Q1630.3 1513.66 1632.33 1513.66 Q1637.7 1513.66 1640.9 1516.35 Q1644.09 1519.03 1644.09 1523.52 Q1644.09 1525.65 1643.28 1527.57 Q1642.5 1529.47 1640.39 1532.07 Q1639.81 1532.74 1636.71 1535.95 Q1633.61 1539.15 1627.96 1544.91 Z\" fill=\"#000000\" fill-rule=\"nonzero\" fill-opacity=\"1\" /><path clip-path=\"url(#clip360)\" d=\"M1654.09 1542.97 L1658.98 1542.97 L1658.98 1548.85 L1654.09 1548.85 L1654.09 1542.97 Z\" fill=\"#000000\" fill-rule=\"nonzero\" fill-opacity=\"1\" /><path clip-path=\"url(#clip360)\" d=\"M1679.16 1517.37 Q1675.55 1517.37 1673.72 1520.93 Q1671.92 1524.47 1671.92 1531.6 Q1671.92 1538.71 1673.72 1542.27 Q1675.55 1545.82 1679.16 1545.82 Q1682.8 1545.82 1684.6 1542.27 Q1686.43 1538.71 1686.43 1531.6 Q1686.43 1524.47 1684.6 1520.93 Q1682.8 1517.37 1679.16 1517.37 M1679.16 1513.66 Q1684.97 1513.66 1688.03 1518.27 Q1691.11 1522.85 1691.11 1531.6 Q1691.11 1540.33 1688.03 1544.94 Q1684.97 1549.52 1679.16 1549.52 Q1673.35 1549.52 1670.27 1544.94 Q1667.22 1540.33 1667.22 1531.6 Q1667.22 1522.85 1670.27 1518.27 Q1673.35 1513.66 1679.16 1513.66 Z\" fill=\"#000000\" fill-rule=\"nonzero\" fill-opacity=\"1\" /><path clip-path=\"url(#clip360)\" d=\"M1985.2 1544.91 L2001.52 1544.91 L2001.52 1548.85 L1979.57 1548.85 L1979.57 1544.91 Q1982.24 1542.16 1986.82 1537.53 Q1991.43 1532.88 1992.61 1531.53 Q1994.85 1529.01 1995.73 1527.27 Q1996.63 1525.51 1996.63 1523.82 Q1996.63 1521.07 1994.69 1519.33 Q1992.77 1517.6 1989.67 1517.6 Q1987.47 1517.6 1985.01 1518.36 Q1982.58 1519.13 1979.8 1520.68 L1979.8 1515.95 Q1982.63 1514.82 1985.08 1514.24 Q1987.54 1513.66 1989.57 1513.66 Q1994.94 1513.66 1998.14 1516.35 Q2001.33 1519.03 2001.33 1523.52 Q2001.33 1525.65 2000.52 1527.57 Q1999.74 1529.47 1997.63 1532.07 Q1997.05 1532.74 1993.95 1535.95 Q1990.85 1539.15 1985.2 1544.91 Z\" fill=\"#000000\" fill-rule=\"nonzero\" fill-opacity=\"1\" /><path clip-path=\"url(#clip360)\" d=\"M2011.33 1542.97 L2016.22 1542.97 L2016.22 1548.85 L2011.33 1548.85 L2011.33 1542.97 Z\" fill=\"#000000\" fill-rule=\"nonzero\" fill-opacity=\"1\" /><path clip-path=\"url(#clip360)\" d=\"M2026.45 1514.29 L2044.8 1514.29 L2044.8 1518.22 L2030.73 1518.22 L2030.73 1526.7 Q2031.75 1526.35 2032.77 1526.19 Q2033.79 1526 2034.8 1526 Q2040.59 1526 2043.97 1529.17 Q2047.35 1532.34 2047.35 1537.76 Q2047.35 1543.34 2043.88 1546.44 Q2040.41 1549.52 2034.09 1549.52 Q2031.91 1549.52 2029.64 1549.15 Q2027.4 1548.78 2024.99 1548.04 L2024.99 1543.34 Q2027.07 1544.47 2029.3 1545.03 Q2031.52 1545.58 2033.99 1545.58 Q2038 1545.58 2040.34 1543.48 Q2042.67 1541.37 2042.67 1537.76 Q2042.67 1534.15 2040.34 1532.04 Q2038 1529.94 2033.99 1529.94 Q2032.12 1529.94 2030.24 1530.35 Q2028.39 1530.77 2026.45 1531.65 L2026.45 1514.29 Z\" fill=\"#000000\" fill-rule=\"nonzero\" fill-opacity=\"1\" /><polyline clip-path=\"url(#clip362)\" style=\"stroke:#000000; stroke-linecap:round; stroke-linejoin:round; stroke-width:2; stroke-opacity:0.1; fill:none\" points=\"186.274,1470.59 2352.76,1470.59 \"/>\n",
       "<polyline clip-path=\"url(#clip362)\" style=\"stroke:#000000; stroke-linecap:round; stroke-linejoin:round; stroke-width:2; stroke-opacity:0.1; fill:none\" points=\"186.274,1221.85 2352.76,1221.85 \"/>\n",
       "<polyline clip-path=\"url(#clip362)\" style=\"stroke:#000000; stroke-linecap:round; stroke-linejoin:round; stroke-width:2; stroke-opacity:0.1; fill:none\" points=\"186.274,973.106 2352.76,973.106 \"/>\n",
       "<polyline clip-path=\"url(#clip362)\" style=\"stroke:#000000; stroke-linecap:round; stroke-linejoin:round; stroke-width:2; stroke-opacity:0.1; fill:none\" points=\"186.274,724.364 2352.76,724.364 \"/>\n",
       "<polyline clip-path=\"url(#clip362)\" style=\"stroke:#000000; stroke-linecap:round; stroke-linejoin:round; stroke-width:2; stroke-opacity:0.1; fill:none\" points=\"186.274,475.623 2352.76,475.623 \"/>\n",
       "<polyline clip-path=\"url(#clip362)\" style=\"stroke:#000000; stroke-linecap:round; stroke-linejoin:round; stroke-width:2; stroke-opacity:0.1; fill:none\" points=\"186.274,226.881 2352.76,226.881 \"/>\n",
       "<polyline clip-path=\"url(#clip360)\" style=\"stroke:#000000; stroke-linecap:round; stroke-linejoin:round; stroke-width:4; stroke-opacity:1; fill:none\" points=\"186.274,1486.45 186.274,47.2441 \"/>\n",
       "<polyline clip-path=\"url(#clip360)\" style=\"stroke:#000000; stroke-linecap:round; stroke-linejoin:round; stroke-width:4; stroke-opacity:1; fill:none\" points=\"186.274,1470.59 205.172,1470.59 \"/>\n",
       "<polyline clip-path=\"url(#clip360)\" style=\"stroke:#000000; stroke-linecap:round; stroke-linejoin:round; stroke-width:4; stroke-opacity:1; fill:none\" points=\"186.274,1221.85 205.172,1221.85 \"/>\n",
       "<polyline clip-path=\"url(#clip360)\" style=\"stroke:#000000; stroke-linecap:round; stroke-linejoin:round; stroke-width:4; stroke-opacity:1; fill:none\" points=\"186.274,973.106 205.172,973.106 \"/>\n",
       "<polyline clip-path=\"url(#clip360)\" style=\"stroke:#000000; stroke-linecap:round; stroke-linejoin:round; stroke-width:4; stroke-opacity:1; fill:none\" points=\"186.274,724.364 205.172,724.364 \"/>\n",
       "<polyline clip-path=\"url(#clip360)\" style=\"stroke:#000000; stroke-linecap:round; stroke-linejoin:round; stroke-width:4; stroke-opacity:1; fill:none\" points=\"186.274,475.623 205.172,475.623 \"/>\n",
       "<polyline clip-path=\"url(#clip360)\" style=\"stroke:#000000; stroke-linecap:round; stroke-linejoin:round; stroke-width:4; stroke-opacity:1; fill:none\" points=\"186.274,226.881 205.172,226.881 \"/>\n",
       "<path clip-path=\"url(#clip360)\" d=\"M62.9365 1456.39 Q59.3254 1456.39 57.4967 1459.95 Q55.6912 1463.5 55.6912 1470.62 Q55.6912 1477.73 57.4967 1481.3 Q59.3254 1484.84 62.9365 1484.84 Q66.5707 1484.84 68.3763 1481.3 Q70.205 1477.73 70.205 1470.62 Q70.205 1463.5 68.3763 1459.95 Q66.5707 1456.39 62.9365 1456.39 M62.9365 1452.68 Q68.7467 1452.68 71.8022 1457.29 Q74.8809 1461.87 74.8809 1470.62 Q74.8809 1479.35 71.8022 1483.96 Q68.7467 1488.54 62.9365 1488.54 Q57.1264 1488.54 54.0477 1483.96 Q50.9921 1479.35 50.9921 1470.62 Q50.9921 1461.87 54.0477 1457.29 Q57.1264 1452.68 62.9365 1452.68 Z\" fill=\"#000000\" fill-rule=\"nonzero\" fill-opacity=\"1\" /><path clip-path=\"url(#clip360)\" d=\"M83.0984 1481.99 L87.9827 1481.99 L87.9827 1487.87 L83.0984 1487.87 L83.0984 1481.99 Z\" fill=\"#000000\" fill-rule=\"nonzero\" fill-opacity=\"1\" /><path clip-path=\"url(#clip360)\" d=\"M108.168 1456.39 Q104.557 1456.39 102.728 1459.95 Q100.922 1463.5 100.922 1470.62 Q100.922 1477.73 102.728 1481.3 Q104.557 1484.84 108.168 1484.84 Q111.802 1484.84 113.608 1481.3 Q115.436 1477.73 115.436 1470.62 Q115.436 1463.5 113.608 1459.95 Q111.802 1456.39 108.168 1456.39 M108.168 1452.68 Q113.978 1452.68 117.033 1457.29 Q120.112 1461.87 120.112 1470.62 Q120.112 1479.35 117.033 1483.96 Q113.978 1488.54 108.168 1488.54 Q102.358 1488.54 99.2789 1483.96 Q96.2234 1479.35 96.2234 1470.62 Q96.2234 1461.87 99.2789 1457.29 Q102.358 1452.68 108.168 1452.68 Z\" fill=\"#000000\" fill-rule=\"nonzero\" fill-opacity=\"1\" /><path clip-path=\"url(#clip360)\" d=\"M138.33 1456.39 Q134.719 1456.39 132.89 1459.95 Q131.084 1463.5 131.084 1470.62 Q131.084 1477.73 132.89 1481.3 Q134.719 1484.84 138.33 1484.84 Q141.964 1484.84 143.769 1481.3 Q145.598 1477.73 145.598 1470.62 Q145.598 1463.5 143.769 1459.95 Q141.964 1456.39 138.33 1456.39 M138.33 1452.68 Q144.14 1452.68 147.195 1457.29 Q150.274 1461.87 150.274 1470.62 Q150.274 1479.35 147.195 1483.96 Q144.14 1488.54 138.33 1488.54 Q132.519 1488.54 129.441 1483.96 Q126.385 1479.35 126.385 1470.62 Q126.385 1461.87 129.441 1457.29 Q132.519 1452.68 138.33 1452.68 Z\" fill=\"#000000\" fill-rule=\"nonzero\" fill-opacity=\"1\" /><path clip-path=\"url(#clip360)\" d=\"M63.9319 1207.65 Q60.3208 1207.65 58.4921 1211.21 Q56.6865 1214.75 56.6865 1221.88 Q56.6865 1228.99 58.4921 1232.55 Q60.3208 1236.1 63.9319 1236.1 Q67.5661 1236.1 69.3717 1232.55 Q71.2004 1228.99 71.2004 1221.88 Q71.2004 1214.75 69.3717 1211.21 Q67.5661 1207.65 63.9319 1207.65 M63.9319 1203.94 Q69.742 1203.94 72.7976 1208.55 Q75.8763 1213.13 75.8763 1221.88 Q75.8763 1230.61 72.7976 1235.22 Q69.742 1239.8 63.9319 1239.8 Q58.1217 1239.8 55.043 1235.22 Q51.9875 1230.61 51.9875 1221.88 Q51.9875 1213.13 55.043 1208.55 Q58.1217 1203.94 63.9319 1203.94 Z\" fill=\"#000000\" fill-rule=\"nonzero\" fill-opacity=\"1\" /><path clip-path=\"url(#clip360)\" d=\"M84.0938 1233.25 L88.978 1233.25 L88.978 1239.13 L84.0938 1239.13 L84.0938 1233.25 Z\" fill=\"#000000\" fill-rule=\"nonzero\" fill-opacity=\"1\" /><path clip-path=\"url(#clip360)\" d=\"M103.191 1235.19 L119.51 1235.19 L119.51 1239.13 L97.566 1239.13 L97.566 1235.19 Q100.228 1232.44 104.811 1227.81 Q109.418 1223.16 110.598 1221.81 Q112.844 1219.29 113.723 1217.55 Q114.626 1215.79 114.626 1214.11 Q114.626 1211.35 112.682 1209.61 Q110.76 1207.88 107.658 1207.88 Q105.459 1207.88 103.006 1208.64 Q100.575 1209.41 97.7974 1210.96 L97.7974 1206.23 Q100.621 1205.1 103.075 1204.52 Q105.529 1203.94 107.566 1203.94 Q112.936 1203.94 116.131 1206.63 Q119.325 1209.31 119.325 1213.8 Q119.325 1215.93 118.515 1217.86 Q117.728 1219.75 115.621 1222.35 Q115.043 1223.02 111.941 1226.23 Q108.839 1229.43 103.191 1235.19 Z\" fill=\"#000000\" fill-rule=\"nonzero\" fill-opacity=\"1\" /><path clip-path=\"url(#clip360)\" d=\"M129.371 1204.57 L147.728 1204.57 L147.728 1208.5 L133.654 1208.5 L133.654 1216.98 Q134.672 1216.63 135.691 1216.47 Q136.709 1216.28 137.728 1216.28 Q143.515 1216.28 146.894 1219.45 Q150.274 1222.62 150.274 1228.04 Q150.274 1233.62 146.802 1236.72 Q143.33 1239.8 137.01 1239.8 Q134.834 1239.8 132.566 1239.43 Q130.32 1239.06 127.913 1238.32 L127.913 1233.62 Q129.996 1234.75 132.219 1235.31 Q134.441 1235.86 136.918 1235.86 Q140.922 1235.86 143.26 1233.76 Q145.598 1231.65 145.598 1228.04 Q145.598 1224.43 143.26 1222.32 Q140.922 1220.22 136.918 1220.22 Q135.043 1220.22 133.168 1220.63 Q131.316 1221.05 129.371 1221.93 L129.371 1204.57 Z\" fill=\"#000000\" fill-rule=\"nonzero\" fill-opacity=\"1\" /><path clip-path=\"url(#clip360)\" d=\"M62.9365 958.905 Q59.3254 958.905 57.4967 962.47 Q55.6912 966.011 55.6912 973.141 Q55.6912 980.247 57.4967 983.812 Q59.3254 987.354 62.9365 987.354 Q66.5707 987.354 68.3763 983.812 Q70.205 980.247 70.205 973.141 Q70.205 966.011 68.3763 962.47 Q66.5707 958.905 62.9365 958.905 M62.9365 955.201 Q68.7467 955.201 71.8022 959.808 Q74.8809 964.391 74.8809 973.141 Q74.8809 981.868 71.8022 986.474 Q68.7467 991.058 62.9365 991.058 Q57.1264 991.058 54.0477 986.474 Q50.9921 981.868 50.9921 973.141 Q50.9921 964.391 54.0477 959.808 Q57.1264 955.201 62.9365 955.201 Z\" fill=\"#000000\" fill-rule=\"nonzero\" fill-opacity=\"1\" /><path clip-path=\"url(#clip360)\" d=\"M83.0984 984.507 L87.9827 984.507 L87.9827 990.386 L83.0984 990.386 L83.0984 984.507 Z\" fill=\"#000000\" fill-rule=\"nonzero\" fill-opacity=\"1\" /><path clip-path=\"url(#clip360)\" d=\"M98.2141 955.826 L116.57 955.826 L116.57 959.761 L102.496 959.761 L102.496 968.234 Q103.515 967.886 104.534 967.724 Q105.552 967.539 106.571 967.539 Q112.358 967.539 115.737 970.71 Q119.117 973.882 119.117 979.298 Q119.117 984.877 115.645 987.979 Q112.172 991.058 105.853 991.058 Q103.677 991.058 101.409 990.687 Q99.1632 990.317 96.7558 989.576 L96.7558 984.877 Q98.8391 986.011 101.061 986.567 Q103.284 987.122 105.76 987.122 Q109.765 987.122 112.103 985.016 Q114.441 982.909 114.441 979.298 Q114.441 975.687 112.103 973.581 Q109.765 971.474 105.76 971.474 Q103.885 971.474 102.01 971.891 Q100.159 972.308 98.2141 973.187 L98.2141 955.826 Z\" fill=\"#000000\" fill-rule=\"nonzero\" fill-opacity=\"1\" /><path clip-path=\"url(#clip360)\" d=\"M138.33 958.905 Q134.719 958.905 132.89 962.47 Q131.084 966.011 131.084 973.141 Q131.084 980.247 132.89 983.812 Q134.719 987.354 138.33 987.354 Q141.964 987.354 143.769 983.812 Q145.598 980.247 145.598 973.141 Q145.598 966.011 143.769 962.47 Q141.964 958.905 138.33 958.905 M138.33 955.201 Q144.14 955.201 147.195 959.808 Q150.274 964.391 150.274 973.141 Q150.274 981.868 147.195 986.474 Q144.14 991.058 138.33 991.058 Q132.519 991.058 129.441 986.474 Q126.385 981.868 126.385 973.141 Q126.385 964.391 129.441 959.808 Q132.519 955.201 138.33 955.201 Z\" fill=\"#000000\" fill-rule=\"nonzero\" fill-opacity=\"1\" /><path clip-path=\"url(#clip360)\" d=\"M63.9319 710.163 Q60.3208 710.163 58.4921 713.728 Q56.6865 717.27 56.6865 724.399 Q56.6865 731.506 58.4921 735.07 Q60.3208 738.612 63.9319 738.612 Q67.5661 738.612 69.3717 735.07 Q71.2004 731.506 71.2004 724.399 Q71.2004 717.27 69.3717 713.728 Q67.5661 710.163 63.9319 710.163 M63.9319 706.459 Q69.742 706.459 72.7976 711.066 Q75.8763 715.649 75.8763 724.399 Q75.8763 733.126 72.7976 737.732 Q69.742 742.316 63.9319 742.316 Q58.1217 742.316 55.043 737.732 Q51.9875 733.126 51.9875 724.399 Q51.9875 715.649 55.043 711.066 Q58.1217 706.459 63.9319 706.459 Z\" fill=\"#000000\" fill-rule=\"nonzero\" fill-opacity=\"1\" /><path clip-path=\"url(#clip360)\" d=\"M84.0938 735.765 L88.978 735.765 L88.978 741.644 L84.0938 741.644 L84.0938 735.765 Z\" fill=\"#000000\" fill-rule=\"nonzero\" fill-opacity=\"1\" /><path clip-path=\"url(#clip360)\" d=\"M97.9826 707.084 L120.205 707.084 L120.205 709.075 L107.658 741.644 L102.774 741.644 L114.58 711.02 L97.9826 711.02 L97.9826 707.084 Z\" fill=\"#000000\" fill-rule=\"nonzero\" fill-opacity=\"1\" /><path clip-path=\"url(#clip360)\" d=\"M129.371 707.084 L147.728 707.084 L147.728 711.02 L133.654 711.02 L133.654 719.492 Q134.672 719.145 135.691 718.983 Q136.709 718.797 137.728 718.797 Q143.515 718.797 146.894 721.969 Q150.274 725.14 150.274 730.557 Q150.274 736.135 146.802 739.237 Q143.33 742.316 137.01 742.316 Q134.834 742.316 132.566 741.945 Q130.32 741.575 127.913 740.834 L127.913 736.135 Q129.996 737.269 132.219 737.825 Q134.441 738.381 136.918 738.381 Q140.922 738.381 143.26 736.274 Q145.598 734.168 145.598 730.557 Q145.598 726.945 143.26 724.839 Q140.922 722.732 136.918 722.732 Q135.043 722.732 133.168 723.149 Q131.316 723.566 129.371 724.445 L129.371 707.084 Z\" fill=\"#000000\" fill-rule=\"nonzero\" fill-opacity=\"1\" /><path clip-path=\"url(#clip360)\" d=\"M53.7467 488.967 L61.3856 488.967 L61.3856 462.602 L53.0754 464.268 L53.0754 460.009 L61.3393 458.343 L66.0152 458.343 L66.0152 488.967 L73.654 488.967 L73.654 492.903 L53.7467 492.903 L53.7467 488.967 Z\" fill=\"#000000\" fill-rule=\"nonzero\" fill-opacity=\"1\" /><path clip-path=\"url(#clip360)\" d=\"M83.0984 487.023 L87.9827 487.023 L87.9827 492.903 L83.0984 492.903 L83.0984 487.023 Z\" fill=\"#000000\" fill-rule=\"nonzero\" fill-opacity=\"1\" /><path clip-path=\"url(#clip360)\" d=\"M108.168 461.421 Q104.557 461.421 102.728 464.986 Q100.922 468.528 100.922 475.657 Q100.922 482.764 102.728 486.329 Q104.557 489.87 108.168 489.87 Q111.802 489.87 113.608 486.329 Q115.436 482.764 115.436 475.657 Q115.436 468.528 113.608 464.986 Q111.802 461.421 108.168 461.421 M108.168 457.718 Q113.978 457.718 117.033 462.324 Q120.112 466.907 120.112 475.657 Q120.112 484.384 117.033 488.991 Q113.978 493.574 108.168 493.574 Q102.358 493.574 99.2789 488.991 Q96.2234 484.384 96.2234 475.657 Q96.2234 466.907 99.2789 462.324 Q102.358 457.718 108.168 457.718 Z\" fill=\"#000000\" fill-rule=\"nonzero\" fill-opacity=\"1\" /><path clip-path=\"url(#clip360)\" d=\"M138.33 461.421 Q134.719 461.421 132.89 464.986 Q131.084 468.528 131.084 475.657 Q131.084 482.764 132.89 486.329 Q134.719 489.87 138.33 489.87 Q141.964 489.87 143.769 486.329 Q145.598 482.764 145.598 475.657 Q145.598 468.528 143.769 464.986 Q141.964 461.421 138.33 461.421 M138.33 457.718 Q144.14 457.718 147.195 462.324 Q150.274 466.907 150.274 475.657 Q150.274 484.384 147.195 488.991 Q144.14 493.574 138.33 493.574 Q132.519 493.574 129.441 488.991 Q126.385 484.384 126.385 475.657 Q126.385 466.907 129.441 462.324 Q132.519 457.718 138.33 457.718 Z\" fill=\"#000000\" fill-rule=\"nonzero\" fill-opacity=\"1\" /><path clip-path=\"url(#clip360)\" d=\"M54.7421 240.226 L62.381 240.226 L62.381 213.86 L54.0708 215.527 L54.0708 211.267 L62.3347 209.601 L67.0106 209.601 L67.0106 240.226 L74.6494 240.226 L74.6494 244.161 L54.7421 244.161 L54.7421 240.226 Z\" fill=\"#000000\" fill-rule=\"nonzero\" fill-opacity=\"1\" /><path clip-path=\"url(#clip360)\" d=\"M84.0938 238.281 L88.978 238.281 L88.978 244.161 L84.0938 244.161 L84.0938 238.281 Z\" fill=\"#000000\" fill-rule=\"nonzero\" fill-opacity=\"1\" /><path clip-path=\"url(#clip360)\" d=\"M103.191 240.226 L119.51 240.226 L119.51 244.161 L97.566 244.161 L97.566 240.226 Q100.228 237.471 104.811 232.841 Q109.418 228.189 110.598 226.846 Q112.844 224.323 113.723 222.587 Q114.626 220.828 114.626 219.138 Q114.626 216.383 112.682 214.647 Q110.76 212.911 107.658 212.911 Q105.459 212.911 103.006 213.675 Q100.575 214.439 97.7974 215.99 L97.7974 211.267 Q100.621 210.133 103.075 209.554 Q105.529 208.976 107.566 208.976 Q112.936 208.976 116.131 211.661 Q119.325 214.346 119.325 218.837 Q119.325 220.966 118.515 222.888 Q117.728 224.786 115.621 227.378 Q115.043 228.05 111.941 231.267 Q108.839 234.462 103.191 240.226 Z\" fill=\"#000000\" fill-rule=\"nonzero\" fill-opacity=\"1\" /><path clip-path=\"url(#clip360)\" d=\"M129.371 209.601 L147.728 209.601 L147.728 213.536 L133.654 213.536 L133.654 222.008 Q134.672 221.661 135.691 221.499 Q136.709 221.314 137.728 221.314 Q143.515 221.314 146.894 224.485 Q150.274 227.656 150.274 233.073 Q150.274 238.652 146.802 241.753 Q143.33 244.832 137.01 244.832 Q134.834 244.832 132.566 244.462 Q130.32 244.091 127.913 243.351 L127.913 238.652 Q129.996 239.786 132.219 240.341 Q134.441 240.897 136.918 240.897 Q140.922 240.897 143.26 238.79 Q145.598 236.684 145.598 233.073 Q145.598 229.462 143.26 227.355 Q140.922 225.249 136.918 225.249 Q135.043 225.249 133.168 225.666 Q131.316 226.082 129.371 226.962 L129.371 209.601 Z\" fill=\"#000000\" fill-rule=\"nonzero\" fill-opacity=\"1\" /><polyline clip-path=\"url(#clip362)\" style=\"stroke:#009af9; stroke-linecap:round; stroke-linejoin:round; stroke-width:4; stroke-opacity:1; fill:none\" points=\"247.59,1445.72 248.504,1444.44 249.465,1443.1 250.476,1441.69 251.539,1440.21 252.656,1438.65 253.83,1437.01 255.064,1435.29 256.362,1433.48 257.727,1431.58 259.161,1429.58 260.669,1427.48 262.254,1425.27 263.92,1422.94 265.672,1420.5 267.514,1417.93 269.45,1415.23 271.485,1412.39 273.625,1409.41 275.874,1406.27 278.239,1402.97 280.725,1399.51 283.338,1395.86 286.085,1392.03 288.974,1388 292.01,1383.77 295.202,1379.32 298.558,1374.64 302.085,1369.72 305.794,1364.55 309.693,1359.11 313.791,1353.4 318.1,1347.39 322.63,1341.07 327.392,1334.43 332.398,1327.45 337.661,1320.11 343.193,1312.39 349.009,1304.28 355.124,1295.76 361.552,1286.79 368.309,1277.37 375.413,1267.46 382.881,1257.05 390.732,1246.1 398.986,1234.59 407.663,1222.49 416.785,1209.77 426.374,1196.4 436.455,1182.34 447.053,1167.56 458.194,1152.02 469.906,1135.69 482.219,1118.52 495.164,1100.47 508.772,1081.49 523.077,1061.54 538.116,1040.57 553.926,1018.52 570.547,995.345 588.02,970.979 606.389,945.363 625.699,918.434 646,890.124 667.342,860.363 689.777,829.076 713.363,796.185 738.158,761.608 764.225,725.257 791.628,687.043 820.436,706.568 850.721,694.184 882.559,709.484 916.029,692.658 951.215,703.288 988.205,711.403 1027.09,687.024 1067.97,689.713 1110.95,689.48 1156.13,686.173 1203.62,709.486 1253.56,699.553 1306.05,686.051 1361.23,698.645 1419.24,707.292 1480.23,711.793 1544.34,711.932 1611.74,707.488 1682.6,698.225 1757.09,713.745 1835.4,694.089 1917.72,609.137 2004.26,488.45 2095.24,361.575 2190.89,228.195 2291.44,87.9763 \"/>\n",
       "<polyline clip-path=\"url(#clip362)\" style=\"stroke:#e26f46; stroke-linecap:round; stroke-linejoin:round; stroke-width:4; stroke-opacity:1; fill:none\" points=\"-1980.21,620.888 4519.24,620.888 \"/>\n",
       "<path clip-path=\"url(#clip360)\" d=\"M258.49 250.738 L527.569 250.738 L527.569 95.2176 L258.49 95.2176  Z\" fill=\"#ffffff\" fill-rule=\"evenodd\" fill-opacity=\"1\"/>\n",
       "<polyline clip-path=\"url(#clip360)\" style=\"stroke:#000000; stroke-linecap:round; stroke-linejoin:round; stroke-width:4; stroke-opacity:1; fill:none\" points=\"258.49,250.738 527.569,250.738 527.569,95.2176 258.49,95.2176 258.49,250.738 \"/>\n",
       "<polyline clip-path=\"url(#clip360)\" style=\"stroke:#009af9; stroke-linecap:round; stroke-linejoin:round; stroke-width:4; stroke-opacity:1; fill:none\" points=\"282.562,147.058 426.994,147.058 \"/>\n",
       "<path clip-path=\"url(#clip360)\" d=\"M464.909 166.745 Q463.103 171.375 461.39 172.787 Q459.677 174.199 456.807 174.199 L453.404 174.199 L453.404 170.634 L455.904 170.634 Q457.663 170.634 458.636 169.8 Q459.608 168.967 460.788 165.865 L461.552 163.921 L451.066 138.412 L455.58 138.412 L463.682 158.689 L471.784 138.412 L476.298 138.412 L464.909 166.745 Z\" fill=\"#000000\" fill-rule=\"nonzero\" fill-opacity=\"1\" /><path clip-path=\"url(#clip360)\" d=\"M483.589 160.402 L491.228 160.402 L491.228 134.037 L482.918 135.703 L482.918 131.444 L491.182 129.778 L495.858 129.778 L495.858 160.402 L503.497 160.402 L503.497 164.338 L483.589 164.338 L483.589 160.402 Z\" fill=\"#000000\" fill-rule=\"nonzero\" fill-opacity=\"1\" /><polyline clip-path=\"url(#clip360)\" style=\"stroke:#e26f46; stroke-linecap:round; stroke-linejoin:round; stroke-width:4; stroke-opacity:1; fill:none\" points=\"282.562,198.898 426.994,198.898 \"/>\n",
       "<path clip-path=\"url(#clip360)\" d=\"M464.909 218.585 Q463.103 223.215 461.39 224.627 Q459.677 226.039 456.807 226.039 L453.404 226.039 L453.404 222.474 L455.904 222.474 Q457.663 222.474 458.636 221.64 Q459.608 220.807 460.788 217.705 L461.552 215.761 L451.066 190.252 L455.58 190.252 L463.682 210.529 L471.784 190.252 L476.298 190.252 L464.909 218.585 Z\" fill=\"#000000\" fill-rule=\"nonzero\" fill-opacity=\"1\" /><path clip-path=\"url(#clip360)\" d=\"M486.807 212.242 L503.126 212.242 L503.126 216.178 L481.182 216.178 L481.182 212.242 Q483.844 209.488 488.427 204.858 Q493.034 200.205 494.214 198.863 Q496.46 196.34 497.339 194.604 Q498.242 192.844 498.242 191.155 Q498.242 188.4 496.297 186.664 Q494.376 184.928 491.274 184.928 Q489.075 184.928 486.622 185.692 Q484.191 186.455 481.413 188.006 L481.413 183.284 Q484.237 182.15 486.691 181.571 Q489.145 180.993 491.182 180.993 Q496.552 180.993 499.747 183.678 Q502.941 186.363 502.941 190.854 Q502.941 192.983 502.131 194.905 Q501.344 196.803 499.237 199.395 Q498.659 200.067 495.557 203.284 Q492.455 206.479 486.807 212.242 Z\" fill=\"#000000\" fill-rule=\"nonzero\" fill-opacity=\"1\" /></svg>\n"
      ]
     },
     "execution_count": 101,
     "metadata": {},
     "output_type": "execute_result"
    }
   ],
   "source": [
    "Plots.hline!([0.854])"
   ]
  },
  {
   "cell_type": "code",
   "execution_count": 80,
   "id": "3179c1a6-37cf-46b3-815d-b0841b288c33",
   "metadata": {},
   "outputs": [
    {
     "data": {
      "text/plain": [
       "(0.0, 0.9365586747460383)"
      ]
     },
     "execution_count": 80,
     "metadata": {},
     "output_type": "execute_result"
    }
   ],
   "source": [
    "function EQ(x,pi,H,Bmin,r,b,tau,V,delta,quad)\n",
    "    Hvals = broadcast(eps -> dynamics(x,H,eps[1], Bmin, r, b, tau)[2],quad.nodes)\n",
    "    xt1 = broadcast(eps -> dynamics(x,H,eps[1], Bmin, r, b, tau)[1],quad.nodes)\n",
    "    \n",
    "    R = sum(broadcast(i -> pi(Hvals[i],exp(xt1[i])), 1:quad.m) .* quad.weights)\n",
    "    EV = sum(V.(xt1) .* quad.weights)\n",
    "    \n",
    "    return R, delta*EV\n",
    "end \n",
    "\n",
    "EQ(log(0.025),pi_,10.0,Bmin,r,b,tau,V,delta,quad)"
   ]
  },
  {
   "cell_type": "code",
   "execution_count": 73,
   "id": "20cd0bc0-8dbb-4043-9d2e-d56f3e5ab16f",
   "metadata": {},
   "outputs": [
    {
     "data": {
      "text/plain": [
       "0.9365586747460383"
      ]
     },
     "execution_count": 73,
     "metadata": {},
     "output_type": "execute_result"
    }
   ],
   "source": [
    "V(log(0.025)-10)"
   ]
  },
  {
   "cell_type": "code",
   "execution_count": null,
   "id": "8648e3be-1586-4e84-90a2-e2aeb39222ad",
   "metadata": {},
   "outputs": [],
   "source": []
  }
 ],
 "metadata": {
  "kernelspec": {
   "display_name": "Julia 1.7.3",
   "language": "julia",
   "name": "julia-1.7"
  },
  "language_info": {
   "file_extension": ".jl",
   "mimetype": "application/julia",
   "name": "julia",
   "version": "1.7.3"
  }
 },
 "nbformat": 4,
 "nbformat_minor": 5
}
