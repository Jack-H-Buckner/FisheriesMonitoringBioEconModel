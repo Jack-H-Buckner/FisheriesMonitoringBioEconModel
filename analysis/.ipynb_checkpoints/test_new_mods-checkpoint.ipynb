{
 "cells": [
  {
   "cell_type": "markdown",
   "id": "cb06a75e-f859-493f-bdb2-db4808623d37",
   "metadata": {},
   "source": [
    "# Test profit feedbacks"
   ]
  },
  {
   "cell_type": "code",
   "execution_count": 4,
   "id": "08fedfb0-4169-459d-9b13-156ffe1896f4",
   "metadata": {},
   "outputs": [
    {
     "name": "stderr",
     "output_type": "stream",
     "text": [
      "WARNING: replacing module SurplusProduction.\n",
      "WARNING: replacing module BaseParams.\n"
     ]
    },
    {
     "data": {
      "text/plain": [
       "Main.BaseParams"
      ]
     },
     "execution_count": 4,
     "metadata": {},
     "output_type": "execute_result"
    }
   ],
   "source": [
    "using Plots\n",
    "include(\"SurplusProduction.jl\")\n",
    "include(\"BaseParams.jl\")"
   ]
  },
  {
   "cell_type": "code",
   "execution_count": 6,
   "id": "7f723d0d-911d-4c6e-8a90-87ada6e6f2c2",
   "metadata": {},
   "outputs": [
    {
     "ename": "LoadError",
     "evalue": "TaskFailedException\n\n\u001b[91m    nested task error: \u001b[39mUndefVarError: monitoring_cost not defined\n    Stacktrace:\n      [1] \u001b[0m\u001b[1m(::Main.SurplusProduction.var\"#38#42\"{Float64, Float64, Int64, Float64, Float64, Float64})\u001b[22m\u001b[0m\u001b[1m(\u001b[22m\u001b[90mx\u001b[39m::\u001b[0mVector\u001b[90m{Float64}\u001b[39m, \u001b[90mobservation\u001b[39m::\u001b[0mInt64, \u001b[90mharvest\u001b[39m::\u001b[0mFloat64\u001b[0m\u001b[1m)\u001b[22m\n    \u001b[90m    @ \u001b[39m\u001b[35mMain.SurplusProduction\u001b[39m \u001b[90m~/github/KalmanFilterPOMDPs/FARM/\u001b[39m\u001b[90m\u001b[4mSurplusProduction.jl:607\u001b[24m\u001b[39m\n      [2] \u001b[0m\u001b[1m(::Main.SurplusProduction.MDPsolver.BeliefStateTransitions.var\"#39#41\"{Int64, Int64, Main.SurplusProduction.MDPsolver.BeliefStateTransitions.Rewards2d})\u001b[22m\u001b[0m\u001b[1m(\u001b[22m\u001b[90mx\u001b[39m::\u001b[0mVector\u001b[90m{Float64}\u001b[39m\u001b[0m\u001b[1m)\u001b[22m\n    \u001b[90m    @ \u001b[39m\u001b[35mMain.SurplusProduction.MDPsolver.BeliefStateTransitions\u001b[39m \u001b[90m~/github/KalmanFilterPOMDPs/src/\u001b[39m\u001b[90m\u001b[4mBeliefStateTransitions.jl:626\u001b[24m\u001b[39m\n      [3] \u001b[0m\u001b[1m_broadcast_getindex_evalf\u001b[22m\n    \u001b[90m    @ \u001b[39m\u001b[90m./\u001b[39m\u001b[90m\u001b[4mbroadcast.jl:670\u001b[24m\u001b[39m\u001b[90m [inlined]\u001b[39m\n      [4] \u001b[0m\u001b[1m_broadcast_getindex\u001b[22m\n    \u001b[90m    @ \u001b[39m\u001b[90m./\u001b[39m\u001b[90m\u001b[4mbroadcast.jl:643\u001b[24m\u001b[39m\u001b[90m [inlined]\u001b[39m\n      [5] \u001b[0m\u001b[1mgetindex\u001b[22m\n    \u001b[90m    @ \u001b[39m\u001b[90m./\u001b[39m\u001b[90m\u001b[4mbroadcast.jl:597\u001b[24m\u001b[39m\u001b[90m [inlined]\u001b[39m\n      [6] \u001b[0m\u001b[1mcopy\u001b[22m\n    \u001b[90m    @ \u001b[39m\u001b[90m./\u001b[39m\u001b[90m\u001b[4mbroadcast.jl:899\u001b[24m\u001b[39m\u001b[90m [inlined]\u001b[39m\n      [7] \u001b[0m\u001b[1mmaterialize\u001b[22m\n    \u001b[90m    @ \u001b[39m\u001b[90m./\u001b[39m\u001b[90m\u001b[4mbroadcast.jl:860\u001b[24m\u001b[39m\u001b[90m [inlined]\u001b[39m\n      [8] \u001b[0m\u001b[1mbroadcast\u001b[22m\u001b[0m\u001b[1m(\u001b[22m\u001b[90mf\u001b[39m::\u001b[0mMain.SurplusProduction.MDPsolver.BeliefStateTransitions.var\"#39#41\"\u001b[90m{Int64, Int64, Main.SurplusProduction.MDPsolver.BeliefStateTransitions.Rewards2d}\u001b[39m, \u001b[90mAs\u001b[39m::\u001b[0mVector\u001b[90m{AbstractVector{Float64}}\u001b[39m\u001b[0m\u001b[1m)\u001b[22m\n    \u001b[90m    @ \u001b[39m\u001b[90mBase.Broadcast\u001b[39m \u001b[90m./\u001b[39m\u001b[90m\u001b[4mbroadcast.jl:798\u001b[24m\u001b[39m\n      [9] \u001b[0m\u001b[1mmacro expansion\u001b[22m\n    \u001b[90m    @ \u001b[39m\u001b[90m~/github/KalmanFilterPOMDPs/src/\u001b[39m\u001b[90m\u001b[4mBeliefStateTransitions.jl:626\u001b[24m\u001b[39m\u001b[90m [inlined]\u001b[39m\n     [10] \u001b[0m\u001b[1m(::Main.SurplusProduction.MDPsolver.BeliefStateTransitions.var\"#441#threadsfor_fun#40\"{Main.SurplusProduction.MDPsolver.BeliefStateTransitions.Rewards2d, Vector{Float64}, Vector{Tuple{Int64, Int64, Int64}}})\u001b[22m\u001b[0m\u001b[1m(\u001b[22m\u001b[90monethread\u001b[39m::\u001b[0mBool\u001b[0m\u001b[1m)\u001b[22m\n    \u001b[90m    @ \u001b[39m\u001b[35mMain.SurplusProduction.MDPsolver.BeliefStateTransitions\u001b[39m \u001b[90m./\u001b[39m\u001b[90m\u001b[4mthreadingconstructs.jl:85\u001b[24m\u001b[39m\n     [11] \u001b[0m\u001b[1m(::Main.SurplusProduction.MDPsolver.BeliefStateTransitions.var\"#441#threadsfor_fun#40\"{Main.SurplusProduction.MDPsolver.BeliefStateTransitions.Rewards2d, Vector{Float64}, Vector{Tuple{Int64, Int64, Int64}}})\u001b[22m\u001b[0m\u001b[1m(\u001b[22m\u001b[0m\u001b[1m)\u001b[22m\n    \u001b[90m    @ \u001b[39m\u001b[35mMain.SurplusProduction.MDPsolver.BeliefStateTransitions\u001b[39m \u001b[90m./\u001b[39m\u001b[90m\u001b[4mthreadingconstructs.jl:52\u001b[24m\u001b[39m",
     "output_type": "error",
     "traceback": [
      "TaskFailedException\n\n\u001b[91m    nested task error: \u001b[39mUndefVarError: monitoring_cost not defined\n    Stacktrace:\n      [1] \u001b[0m\u001b[1m(::Main.SurplusProduction.var\"#38#42\"{Float64, Float64, Int64, Float64, Float64, Float64})\u001b[22m\u001b[0m\u001b[1m(\u001b[22m\u001b[90mx\u001b[39m::\u001b[0mVector\u001b[90m{Float64}\u001b[39m, \u001b[90mobservation\u001b[39m::\u001b[0mInt64, \u001b[90mharvest\u001b[39m::\u001b[0mFloat64\u001b[0m\u001b[1m)\u001b[22m\n    \u001b[90m    @ \u001b[39m\u001b[35mMain.SurplusProduction\u001b[39m \u001b[90m~/github/KalmanFilterPOMDPs/FARM/\u001b[39m\u001b[90m\u001b[4mSurplusProduction.jl:607\u001b[24m\u001b[39m\n      [2] \u001b[0m\u001b[1m(::Main.SurplusProduction.MDPsolver.BeliefStateTransitions.var\"#39#41\"{Int64, Int64, Main.SurplusProduction.MDPsolver.BeliefStateTransitions.Rewards2d})\u001b[22m\u001b[0m\u001b[1m(\u001b[22m\u001b[90mx\u001b[39m::\u001b[0mVector\u001b[90m{Float64}\u001b[39m\u001b[0m\u001b[1m)\u001b[22m\n    \u001b[90m    @ \u001b[39m\u001b[35mMain.SurplusProduction.MDPsolver.BeliefStateTransitions\u001b[39m \u001b[90m~/github/KalmanFilterPOMDPs/src/\u001b[39m\u001b[90m\u001b[4mBeliefStateTransitions.jl:626\u001b[24m\u001b[39m\n      [3] \u001b[0m\u001b[1m_broadcast_getindex_evalf\u001b[22m\n    \u001b[90m    @ \u001b[39m\u001b[90m./\u001b[39m\u001b[90m\u001b[4mbroadcast.jl:670\u001b[24m\u001b[39m\u001b[90m [inlined]\u001b[39m\n      [4] \u001b[0m\u001b[1m_broadcast_getindex\u001b[22m\n    \u001b[90m    @ \u001b[39m\u001b[90m./\u001b[39m\u001b[90m\u001b[4mbroadcast.jl:643\u001b[24m\u001b[39m\u001b[90m [inlined]\u001b[39m\n      [5] \u001b[0m\u001b[1mgetindex\u001b[22m\n    \u001b[90m    @ \u001b[39m\u001b[90m./\u001b[39m\u001b[90m\u001b[4mbroadcast.jl:597\u001b[24m\u001b[39m\u001b[90m [inlined]\u001b[39m\n      [6] \u001b[0m\u001b[1mcopy\u001b[22m\n    \u001b[90m    @ \u001b[39m\u001b[90m./\u001b[39m\u001b[90m\u001b[4mbroadcast.jl:899\u001b[24m\u001b[39m\u001b[90m [inlined]\u001b[39m\n      [7] \u001b[0m\u001b[1mmaterialize\u001b[22m\n    \u001b[90m    @ \u001b[39m\u001b[90m./\u001b[39m\u001b[90m\u001b[4mbroadcast.jl:860\u001b[24m\u001b[39m\u001b[90m [inlined]\u001b[39m\n      [8] \u001b[0m\u001b[1mbroadcast\u001b[22m\u001b[0m\u001b[1m(\u001b[22m\u001b[90mf\u001b[39m::\u001b[0mMain.SurplusProduction.MDPsolver.BeliefStateTransitions.var\"#39#41\"\u001b[90m{Int64, Int64, Main.SurplusProduction.MDPsolver.BeliefStateTransitions.Rewards2d}\u001b[39m, \u001b[90mAs\u001b[39m::\u001b[0mVector\u001b[90m{AbstractVector{Float64}}\u001b[39m\u001b[0m\u001b[1m)\u001b[22m\n    \u001b[90m    @ \u001b[39m\u001b[90mBase.Broadcast\u001b[39m \u001b[90m./\u001b[39m\u001b[90m\u001b[4mbroadcast.jl:798\u001b[24m\u001b[39m\n      [9] \u001b[0m\u001b[1mmacro expansion\u001b[22m\n    \u001b[90m    @ \u001b[39m\u001b[90m~/github/KalmanFilterPOMDPs/src/\u001b[39m\u001b[90m\u001b[4mBeliefStateTransitions.jl:626\u001b[24m\u001b[39m\u001b[90m [inlined]\u001b[39m\n     [10] \u001b[0m\u001b[1m(::Main.SurplusProduction.MDPsolver.BeliefStateTransitions.var\"#441#threadsfor_fun#40\"{Main.SurplusProduction.MDPsolver.BeliefStateTransitions.Rewards2d, Vector{Float64}, Vector{Tuple{Int64, Int64, Int64}}})\u001b[22m\u001b[0m\u001b[1m(\u001b[22m\u001b[90monethread\u001b[39m::\u001b[0mBool\u001b[0m\u001b[1m)\u001b[22m\n    \u001b[90m    @ \u001b[39m\u001b[35mMain.SurplusProduction.MDPsolver.BeliefStateTransitions\u001b[39m \u001b[90m./\u001b[39m\u001b[90m\u001b[4mthreadingconstructs.jl:85\u001b[24m\u001b[39m\n     [11] \u001b[0m\u001b[1m(::Main.SurplusProduction.MDPsolver.BeliefStateTransitions.var\"#441#threadsfor_fun#40\"{Main.SurplusProduction.MDPsolver.BeliefStateTransitions.Rewards2d, Vector{Float64}, Vector{Tuple{Int64, Int64, Int64}}})\u001b[22m\u001b[0m\u001b[1m(\u001b[22m\u001b[0m\u001b[1m)\u001b[22m\n    \u001b[90m    @ \u001b[39m\u001b[35mMain.SurplusProduction.MDPsolver.BeliefStateTransitions\u001b[39m \u001b[90m./\u001b[39m\u001b[90m\u001b[4mthreadingconstructs.jl:52\u001b[24m\u001b[39m",
      "",
      "Stacktrace:",
      " [1] wait",
      "   @ ./task.jl:334 [inlined]",
      " [2] threading_run(func::Function)",
      "   @ Base.Threads ./threadingconstructs.jl:38",
      " [3] macro expansion",
      "   @ ./threadingconstructs.jl:97 [inlined]",
      " [4] computeRewards!(Rewards::Main.SurplusProduction.MDPsolver.BeliefStateTransitions.Rewards2d)",
      "   @ Main.SurplusProduction.MDPsolver.BeliefStateTransitions ~/github/KalmanFilterPOMDPs/src/BeliefStateTransitions.jl:614",
      " [5] init_simple_profit_feedback(Fmsy::Float64, buffer::Float64, tau::Float64, sigma_a::Float64, sigma_p::Float64, NCV_weight::Int64, price::Float64, c::Float64, b::Float64, discount::Float64; MSY::Float64, monitoring_costs::Float64, actions::Vector{Int64}, N::Int64, CVmax::Float64, Bmax::Float64, Bmin::Float64, threashold::Float64, mQuad::Int64, Blimit::Float64, Btarget::Float64, Fdm::Float64)",
      "   @ Main.SurplusProduction ~/github/KalmanFilterPOMDPs/FARM/SurplusProduction.jl:615",
      " [6] init_simple_profit_feedback(Fmsy::Float64, buffer::Float64, tau::Float64, sigma_a::Float64, sigma_p::Float64, NCV_weight::Int64, price::Float64, c::Float64, b::Float64, discount::Float64)",
      "   @ Main.SurplusProduction ~/github/KalmanFilterPOMDPs/FARM/SurplusProduction.jl:575",
      " [7] top-level scope",
      "   @ In[6]:1"
     ]
    }
   ],
   "source": [
    "model = SurplusProduction.init_simple_profit_feedback(\n",
    "            BaseParams.Fmsy, BaseParams.buffer, BaseParams.tau, BaseParams.sigma_a,\n",
    "            BaseParams.sigma_p, BaseParams.NCV_weight, BaseParams.price, \n",
    "            BaseParams.c, BaseParams.b,BaseParams.discount;\n",
    "            N =30)"
   ]
  },
  {
   "cell_type": "code",
   "execution_count": null,
   "id": "cd98056a-77bf-444e-b5de-e1c9d32aedfd",
   "metadata": {},
   "outputs": [],
   "source": []
  }
 ],
 "metadata": {
  "kernelspec": {
   "display_name": "Julia 1.7.3",
   "language": "julia",
   "name": "julia-1.7"
  },
  "language_info": {
   "file_extension": ".jl",
   "mimetype": "application/julia",
   "name": "julia",
   "version": "1.7.3"
  }
 },
 "nbformat": 4,
 "nbformat_minor": 5
}
