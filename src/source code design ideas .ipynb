{
 "cells": [
  {
   "cell_type": "markdown",
   "id": "6d75058a-af97-4488-8235-dc399e8eb87b",
   "metadata": {},
   "source": [
    "# Design ideas/ goals for source code"
   ]
  },
  {
   "cell_type": "markdown",
   "id": "bcbac0ec-9a4e-4ff2-854e-03bd070f1f52",
   "metadata": {},
   "source": [
    "## Generalized kalman filter for beleif state dynamics\n",
    "\n",
    "### model components\n",
    "- $x\\in X$ \n",
    "- $y \\in Y$\n",
    "- $a \\in A$\n",
    "- $\\nu \\sim N(0,1)$\n",
    "- $f: X \\times V \\times A \\rightarrow  X \\times Y$\n",
    "- $R: X \\times V \\times A \\rightarrow \\bf R$\n",
    "- $\\delta = \\frac{1}{1+d}$\n"
   ]
  },
  {
   "cell_type": "markdown",
   "id": "8648ae8b-37c9-48f2-a0ba-fd1ae05cb886",
   "metadata": {},
   "source": [
    "### State transition function \n",
    "\n",
    "$f(\\{x_{obs},x_{unobs},\\nu_t \\},a) + \\epsilon_t = \\{x_{obs}', x_{unobs}',y_t\\}$ \n",
    "\n",
    "$\\nu_t \\sim N(\\mathbf{0},\\Sigma_{\\nu})$\n",
    "\n",
    "$\\epsilon_t \\sim N(\\mathbf{0},\\Sigma_{\\{x,y \\}})$"
   ]
  },
  {
   "cell_type": "markdown",
   "id": "227d2e39-0371-4775-acbe-cb9cd9320c49",
   "metadata": {},
   "source": [
    "The model is defined by specifying a single function $f$ that takes the current state of the system $x_t$, the action chosen by the planer $a$ and a vector of i.i.d. random variables drawn from a standard normal distribution and returns the updated state vector $x_t$ and the observations made by the planner $y_t$. \n",
    "\n",
    "The action of the manager can effect both the state of the system $x$ and the observaitosn $y$.\n"
   ]
  },
  {
   "cell_type": "markdown",
   "id": "8f884df0-f6a6-478f-8f13-6455850f1e27",
   "metadata": {},
   "source": [
    "### Solution\n",
    "\n",
    "The beleif state transitions from the model are aproximated by evaluating the function $f$ at a set of Gaus-Hermite nodes scaled to reflect the current beleif state estiate and the error matrix as well as including the random variables $\\nu$.\n",
    "\n",
    "The values this proces returns are used to compute the mean $\\{\\hat{x},\\hat{y}\\}$ and the covariance $\\Sigma_{\\hat{x},\\hat{y}}$ of the new state and observations. The updated covariance matrix for the state estimate can be computed by conditioning computing the conditioal distirubtion of the state variables given the observaitons with the matrix $\\Sigma_{\\hat{x},\\hat{y}}$. The updated state estimate can be sampled by sampling an observaiton vector and condition with the covariance matrix $\\Sigma_{\\hat{x},\\hat{y}}$. We can also integrate over the distirbution of possible esitmated states by using the samples of observaiton and weights fromthe Gaus-Hermite quadrature. \n",
    "\n",
    "A second posibility is to compute a list of updated estiamted states and covairance matrices by computing the mena and covairnce of the states $x'$ conditioning on the "
   ]
  },
  {
   "cell_type": "markdown",
   "id": "46fba897-5478-4643-909a-7e177786f549",
   "metadata": {},
   "source": [
    "## Objects\n",
    "\n",
    "### Base model\n",
    "Only store data required to define the model\n",
    "- dimensions of x and y\n",
    "- dimensions of $\\nu$\n",
    "- covariance of purely additive noise\n",
    "- set of action variables \n",
    "- joint state transition + observation function $f$\n",
    "- rewards function \n",
    "- discount rate \n",
    "\n",
    "### Base solver\n",
    "Stores data to define solution algorithm\n",
    "- order of value funtion aproximation\n",
    "- Value function\n",
    "- Policy function\n",
    "- order of quandrature aproximation\n",
    "- x_nu_quad\n",
    "- y_quad\n",
    "- grid\n",
    "- weights \n",
    "\n",
    "## Functions\n",
    "\n",
    "### Simulate beleif state transition \n",
    "Simulates a joint transition of the systems state and the observers beleif state\n",
    "- #### arguments\n",
    "    - $\\hat{x}$  estimated state \n",
    "    - $\\Sigma_{\\hat{x}}$ error matrix \n",
    "    - $x_0$ initial state\n",
    "    - model::base_model\n",
    "    - solver::base_solver\n",
    "- #### values\n",
    "    - $\\hat{x}'$ updated state estimate \n",
    "    - $\\Sigma_{\\hat{x}'}$ updated error matrix \n",
    "    - $y$ observations\n",
    "    - $r$ returns\n",
    "    - $x'$ updated state \n",
    "    \n",
    "### Integrate belief state transitions\n",
    "Computes a set of updated beleif states $\\{ \\hat{x}, \\Sigma_{\\hat{x}} \\}$ and a set of nodes to calcualte the expectation of the value function $V$ over the beleif states in the following period given te current beleif state and the chosen action. The function works by propogating uncertainty in the curent belief state, procees errors and observational errors to compute the prior predictive distribution of the observed variables $y$. A quadrature grid of \"observations\" is used to represent the sampling distirbution. New beleif states are computed for each of the quadrature nodes, but condition on that observation. \n",
    "- #### arguments \n",
    "    - $\\hat{x}$  estimated state \n",
    "    - $\\Sigma_{\\hat{x}}$ error matrix \n",
    "    - model::base_model\n",
    "    - solver::base_solver - includes quadrature to propogate uncertainty $x_0$ and $y$\n",
    "        - x_nu_quad\n",
    "        - y_quad\n",
    "- #### values\n",
    "    - nodes -  a vector of beleif states $\\{ \\hat{x}, \\Sigma_{\\hat{x}} \\}$\n",
    "    - weights - quadrature weights\n",
    "- #### algorithm\n",
    "    - update x_nu_quad to refelct the inital beleif state\n",
    "    - compute $\\{x,y\\}$ for each quadrature node\n",
    "    - compute mean $\\{\\hat{x},\\hat{y}\\}$ and covariance $\\Sigma_{\\{\\hat{x},\\hat{y}\\}}$ using the samples and quadrature weights and additive noise $\\Sigma_{add}$\n",
    "    - update y_quad given $\\hat{y}$ and $\\Sigma_{\\hat{y}}$\n",
    "    - compute $\\{\\hat{x}, \\Sigma_{\\hat{x}} \\}$ conditioning on the y_quad nodes\n",
    "    - return vector of updated beleif states and y_quad weights\n",
    "\n",
    "\n",
    "### Compute transition grid\n",
    "Fills out a 3 dimensional array with beleif states. The first dimensions of the array indexes over the beleif state nodes used in the value function aproximation, the second over the possible actions and the third dimensions indexes over quadrature nodes.   \n",
    "- #### arguments\n",
    "    - model::base_model\n",
    "    - solver::base_solver \n",
    "        - V - value funtion \n",
    "        - grid - pre allocated array to store state transition values \n",
    "        - x_nu_quad\n",
    "        - y_quad   \n",
    "- #### values \n",
    "    - updated solver object \n"
   ]
  },
  {
   "cell_type": "markdown",
   "id": "5da04932-f149-4782-b236-7bacde45ebd7",
   "metadata": {},
   "source": [
    "# Value functions "
   ]
  },
  {
   "cell_type": "code",
   "execution_count": 324,
   "id": "5aaae7b5-849d-4a30-bcbf-d8bb6065891d",
   "metadata": {},
   "outputs": [
    {
     "name": "stderr",
     "output_type": "stream",
     "text": [
      "WARNING: replacing module MOMDPs.\n"
     ]
    },
    {
     "data": {
      "text/plain": [
       "Main.MOMDPs"
      ]
     },
     "execution_count": 324,
     "metadata": {},
     "output_type": "execute_result"
    }
   ],
   "source": [
    "include(\"MOMDPs.jl\")\n",
    "#include(\"../tests/MOMDPs.jl\")"
   ]
  },
  {
   "cell_type": "code",
   "execution_count": 368,
   "id": "c7579170-7234-4abc-b974-d98431b84458",
   "metadata": {},
   "outputs": [
    {
     "data": {
      "text/plain": [
       "Main.MOMDPs.Model(3, 2, 2, 1, 1, 1, 1, var\"#161#162\"(), [0.1;;], var\"#163#164\"(), true, fixed_policy_function, [[0.0, 0.0, 0.0], [0.1, 0.0, 0.0]], var\"#165#166\"(), 0.9523809523809523)"
      ]
     },
     "execution_count": 368,
     "metadata": {},
     "output_type": "execute_result"
    }
   ],
   "source": [
    "num_known_states = 1\n",
    "num_unobserved_states = 1\n",
    "number_of_observations = 1\n",
    "state_transition = (x,fixed_policy,action) -> [0.9 0.1 1.0; 0.1 0.9 0.0; 0.9 0.1 0.0] * (x .+ action .+ fixed_policy)\n",
    "nonadditive_noise_matrix = [0.1;;]\n",
    "additive_noise_matrix = action -> [0.1 0.0 0.0; 0.0 0.01 0.0; 0.0 0.0 0.2]\n",
    "total_states = num_known_states + num_unobserved_states\n",
    "function fixed_policy_function(beleifState) \n",
    "    value = zeros(total_states+1)\n",
    "    value[1] = 0.1*beleifState.estimated_states[1] \n",
    "    return value\n",
    "end\n",
    "actions = [[0.0,0.0,0.0],[0.1,0.0,0.0]]\n",
    "reward_function = (x,fixed_policy,action) -> sum(x.^2)\n",
    "discount_factor = 1.0/(1.0+0.05)\n",
    "model=MOMDPs.init_model(num_known_states,num_unobserved_states,number_of_observations,\n",
    "                  state_transition,nonadditive_noise_matrix,additive_noise_matrix,\n",
    "                  fixed_policy_function,actions,reward_function,discount_factor)"
   ]
  },
  {
   "cell_type": "code",
   "execution_count": 369,
   "id": "ed46f5d3-cf8c-4ac8-aeb2-a2191ff0aa31",
   "metadata": {},
   "outputs": [
    {
     "name": "stdout",
     "output_type": "stream",
     "text": [
      " "
     ]
    }
   ],
   "source": [
    "solver = MOMDPs.init_solver(model,5)\n",
    "print(\" \")"
   ]
  },
  {
   "cell_type": "code",
   "execution_count": 370,
   "id": "35e1ea6d-d764-45d4-81e0-cdb5eb98f746",
   "metadata": {},
   "outputs": [
    {
     "data": {
      "text/plain": [
       "1×1 Matrix{Float64}:\n",
       " 0.3926836736365851"
      ]
     },
     "execution_count": 370,
     "metadata": {},
     "output_type": "execute_result"
    }
   ],
   "source": [
    "beleifState = MOMDPs.init_BeleifState([2.0],[0.1;;],[0.0]) \n",
    "MOMDPs.time_update!(solver,beleifState,actions[1],model)  \n",
    "MOMDPs.sampling_distribution!(solver,actions[2],model)\n",
    "MOMDPs.measurement_update!(beleifState,solver.observation_quadrature.nodes[100],solver,actions[1],model)"
   ]
  },
  {
   "cell_type": "markdown",
   "id": "c8768711-f1c5-4145-8c74-0765051277fd",
   "metadata": {},
   "source": [
    "# Compare with `KalmanFilters.jl`"
   ]
  },
  {
   "cell_type": "code",
   "execution_count": 371,
   "id": "f5d38fac-1bfc-4822-a448-2b905fdb3785",
   "metadata": {},
   "outputs": [],
   "source": [
    "using KalmanFilters\n",
    "\n",
    "\n"
   ]
  },
  {
   "cell_type": "code",
   "execution_count": 372,
   "id": "ebc215f1-b0a5-4fbe-a62a-dcd2e99204d4",
   "metadata": {},
   "outputs": [
    {
     "data": {
      "text/plain": [
       "Main.MOMDPs.BeleifState([2.0], [0.1;;], [0.0;;], [0.0])"
      ]
     },
     "execution_count": 372,
     "metadata": {},
     "output_type": "execute_result"
    }
   ],
   "source": [
    "beleifState = MOMDPs.init_BeleifState([2.0],[0.1;;],[0.0]) "
   ]
  },
  {
   "cell_type": "code",
   "execution_count": 373,
   "id": "f4575d8c-af0c-4288-b742-aa884f747554",
   "metadata": {},
   "outputs": [
    {
     "data": {
      "text/plain": [
       "3-element Vector{Float64}:\n",
       " 0.3800000000628643\n",
       " 1.8200000000651926\n",
       " 0.3800000000628643"
      ]
     },
     "execution_count": 373,
     "metadata": {},
     "output_type": "execute_result"
    }
   ],
   "source": [
    "x = zeros(3)\n",
    "beleifState = MOMDPs.init_BeleifState([2.0],[0.1;;],[0.0]) \n",
    "x[2] = beleifState.estimated_states[1]\n",
    "x[1] = beleifState.known_states[1]\n",
    "\n",
    "Cov = zeros(3,3)\n",
    "Cov[1,1] = 10^-5\n",
    "Cov[2,2] = beleifState.covariance_matrix[1,1]\n",
    "Cov[3,3] = model.nonadditive_noise_matrix[1,1]\n",
    "\n",
    "\n",
    "F = x -> state_transition(x,model.fixed_policy_function(beleifState),actions[1])\n",
    "Q = model.additive_noise_matrix(actions[1])\n",
    "tu = time_update(x, Cov, F, Q)\n",
    "get_state(tu)"
   ]
  },
  {
   "cell_type": "code",
   "execution_count": 374,
   "id": "889d39f1-0277-4023-b2c7-f0a44682d5c8",
   "metadata": {},
   "outputs": [
    {
     "data": {
      "text/plain": [
       "3×3 Matrix{Float64}:\n",
       " 0.201008   0.0090009  0.0010081\n",
       " 0.0090009  0.0910001  0.0090009\n",
       " 0.0010081  0.0090009  0.201008"
      ]
     },
     "execution_count": 374,
     "metadata": {},
     "output_type": "execute_result"
    }
   ],
   "source": [
    "get_covariance(tu)"
   ]
  },
  {
   "cell_type": "code",
   "execution_count": null,
   "id": "a3a1417f-bfe4-4f5e-a343-0269c5798c3e",
   "metadata": {},
   "outputs": [],
   "source": []
  },
  {
   "cell_type": "code",
   "execution_count": 375,
   "id": "5948e5af-e451-4369-bcfe-bcaa3ea76988",
   "metadata": {},
   "outputs": [
    {
     "name": "stderr",
     "output_type": "stream",
     "text": [
      "WARNING: replacing module MOMDPs.\n"
     ]
    },
    {
     "data": {
      "text/plain": [
       "3-element Vector{Float64}:\n",
       " 0.3799999999999969\n",
       " 1.8199999999999865\n",
       " 0.37999999999999673"
      ]
     },
     "execution_count": 375,
     "metadata": {},
     "output_type": "execute_result"
    }
   ],
   "source": [
    "include(\"MOMDPs.jl\")\n",
    "solver = MOMDPs.init_solver(model,30)\n",
    "beleifState = MOMDPs.init_BeleifState([2.0],[0.1;;],[0.0]) \n",
    "MOMDPs.time_update!(solver,beleifState,actions[1],model) \n",
    "solver.estimates_out"
   ]
  },
  {
   "cell_type": "code",
   "execution_count": 376,
   "id": "a90f3292-7f83-4829-b775-fd8a8d60325c",
   "metadata": {},
   "outputs": [
    {
     "data": {
      "text/plain": [
       "3×3 Matrix{Float64}:\n",
       " 0.201  0.009  0.001\n",
       " 0.009  0.091  0.009\n",
       " 0.001  0.009  0.201"
      ]
     },
     "execution_count": 376,
     "metadata": {},
     "output_type": "execute_result"
    }
   ],
   "source": [
    "solver.covariance_matrix_out"
   ]
  },
  {
   "cell_type": "code",
   "execution_count": 340,
   "id": "99e4e39b-72ac-473c-a0d6-7e9b11c345eb",
   "metadata": {},
   "outputs": [
    {
     "data": {
      "text/plain": [
       "2×2 Matrix{Float64}:\n",
       " 0.1  0.0\n",
       " 0.0  0.1"
      ]
     },
     "execution_count": 340,
     "metadata": {},
     "output_type": "execute_result"
    }
   ],
   "source": [
    "solver.covariance_matrix_in"
   ]
  },
  {
   "cell_type": "code",
   "execution_count": 380,
   "id": "cf0cec0a-6e46-4fee-8a7f-42b03e4292fb",
   "metadata": {},
   "outputs": [
    {
     "data": {
      "text/plain": [
       "1-element Vector{Float64}:\n",
       " 0.5"
      ]
     },
     "execution_count": 380,
     "metadata": {},
     "output_type": "execute_result"
    }
   ],
   "source": [
    "Cov = [1.0 0.0 0.5; 0.0 1.0 0.0; 0.5 0.0 1.0]\n",
    "mu = [0.0,0.0,0.0]\n",
    "\n",
    "Cov11 = Cov[1:2,1:2]\n",
    "Cov21 = Cov[3:3,1:2]\n",
    "Cov12 = Cov[1:2,3:3]\n",
    "Cov22 = Cov[3:3,3:3]\n",
    "mu1 = mu[1:2]\n",
    "mu2 = mu[3:3]\n",
    "observation = [1.0, 0.0]\n",
    "mu2 + Cov21*inv(Cov11)*(observation .- mu1)"
   ]
  },
  {
   "cell_type": "code",
   "execution_count": 382,
   "id": "a118b3d2-b7f1-4919-9f61-8d2aec7bbac6",
   "metadata": {},
   "outputs": [
    {
     "data": {
      "text/plain": [
       "1×1 Matrix{Float64}:\n",
       " 1.25"
      ]
     },
     "execution_count": 382,
     "metadata": {},
     "output_type": "execute_result"
    }
   ],
   "source": [
    "Cov22 .+ Cov21 * inv(Cov11) * Cov12"
   ]
  },
  {
   "cell_type": "code",
   "execution_count": null,
   "id": "9ca42032-84a0-4303-88ca-0b448635f922",
   "metadata": {},
   "outputs": [],
   "source": []
  }
 ],
 "metadata": {
  "kernelspec": {
   "display_name": "Julia 1.7.3",
   "language": "julia",
   "name": "julia-1.7"
  },
  "language_info": {
   "file_extension": ".jl",
   "mimetype": "application/julia",
   "name": "julia",
   "version": "1.7.3"
  }
 },
 "nbformat": 4,
 "nbformat_minor": 5
}
