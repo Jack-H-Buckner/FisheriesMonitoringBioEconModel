{
 "cells": [
  {
   "cell_type": "code",
   "execution_count": 38,
   "id": "3313225b-b97e-46a6-bb63-80b6b9527eaf",
   "metadata": {},
   "outputs": [],
   "source": [
    "using Interpolations"
   ]
  },
  {
   "cell_type": "code",
   "execution_count": 39,
   "id": "201f0570-f1ed-4aff-a31f-9e1ac91c67ad",
   "metadata": {},
   "outputs": [
    {
     "name": "stdout",
     "output_type": "stream",
     "text": [
      " "
     ]
    }
   ],
   "source": [
    "A = zeros(10,10,5,5)\n",
    "for i in 1:10\n",
    "    for j in 1:10\n",
    "        for k in 1:5\n",
    "            for l in 1:5\n",
    "                A[i,j,k,l] = sin((0.6^4)*i*j*k*l)\n",
    "            end\n",
    "        end\n",
    "    end\n",
    "end\n",
    "itp = interpolate(A, BSpline(Cubic(Line(OnGrid()))))\n",
    "itp1 = interpolate(A, BSpline(Linear()))\n",
    "print(\" \")"
   ]
  },
  {
   "cell_type": "code",
   "execution_count": null,
   "id": "50055a50-e37b-416f-a77c-c2786b0cea05",
   "metadata": {},
   "outputs": [],
   "source": [
    "itp = interpolate(A, BSpline(Cubic(Line(OnGrid()))))\n",
    "ils = 1:0.1:10\n",
    "jls = 1:0.1:10\n",
    "kls = 1:0.1:5\n",
    "lls = 1:0.1:5\n",
    "N = length(ils)\n",
    "N2 = length(lls)\n",
    "acc = zeros(N,N,N2,N2)\n",
    "for i in 1:N\n",
    "    for j in 1:N\n",
    "        for k in 1:N2\n",
    "            for l in 1:N2\n",
    "                acc[i,j,k,l] = itp(ils[i],jls[j],kls[k],lls[l])\n",
    "            end\n",
    "        end\n",
    "    end\n",
    "end\n",
    "using Plots\n",
    "Plots.heatmap(acc[:,:,1,1])"
   ]
  },
  {
   "cell_type": "code",
   "execution_count": 128,
   "id": "039516ca-9b74-4fa2-853e-beda82665906",
   "metadata": {},
   "outputs": [
    {
     "name": "stdout",
     "output_type": "stream",
     "text": [
      " "
     ]
    },
    {
     "name": "stderr",
     "output_type": "stream",
     "text": [
      "WARNING: replacing module MOMDPs.\n"
     ]
    }
   ],
   "source": [
    "include(\"MOMDPs.jl\")\n",
    "\n",
    "# define scaling \n",
    "m = [5,5,5]\n",
    "mean_bounds=zeros(2,1);mean_bounds[2,1]=1.0\n",
    "var_bounds=zeros(2,1);var_bounds[1,1]=0.01;var_bounds[2,1]=1.0\n",
    "cor_bounds = 0.5\n",
    "obs_bounds=zeros(2,1);obs_bounds[2,1]=1.0\n",
    "scale = MOMDPs.init_scaling(m,mean_bounds,var_bounds,cor_bounds,obs_bounds)\n",
    "\n",
    "# initialize value function \n",
    "V = MOMDPs.init_value_function(scale)\n",
    "print(\" \")"
   ]
  },
  {
   "cell_type": "code",
   "execution_count": null,
   "id": "b8e78ce7-0ca7-428c-adb4-5330b7308aad",
   "metadata": {},
   "outputs": [],
   "source": [
    "v = zeros(3)\n",
    "V.values = broadcast(i->sin(prod((0.2^3)*MOMDPs.state_to_node!(v,V.nodes[i],scale))), 1:125)\n",
    "MOMDPs.update!(V)"
   ]
  },
  {
   "cell_type": "code",
   "execution_count": 136,
   "id": "930029a1-dc00-4dec-ab1a-831fa7895e58",
   "metadata": {},
   "outputs": [
    {
     "data": {
      "text/plain": [
       "Main.MOMDPs.beleif_state([0.1], [0.55;;], [0.55;;], [0.75])"
      ]
     },
     "execution_count": 136,
     "metadata": {},
     "output_type": "execute_result"
    }
   ],
   "source": [
    "B = MOMDPs.beleif_state([0.1],[0.55;;],[0.55;;],[0.75])"
   ]
  },
  {
   "cell_type": "code",
   "execution_count": 35,
   "id": "66d1c4b2-e923-416b-a205-0a3a3f5ee0ce",
   "metadata": {},
   "outputs": [
    {
     "name": "stdout",
     "output_type": "stream",
     "text": [
      "  0.000170 seconds (84 allocations: 3.234 KiB)\n"
     ]
    },
    {
     "data": {
      "text/plain": [
       "1-element view(::Vector{Float64}, 3:3) with eltype Float64:\n",
       " 3.0"
      ]
     },
     "execution_count": 35,
     "metadata": {},
     "output_type": "execute_result"
    }
   ],
   "source": [
    "# define beleif state\n",
    "M= zeros(1,1)\n",
    "M[1,1] = 1.0\n",
    "mean = [0.1]\n",
    "# define scaling\n",
    "B = beleif_state(mean,M,deepcopy(M),[0.5])\n",
    "dims = zeros(2,1)\n",
    "dims[2,1]=0.5\n",
    "\n",
    "dims_v = zeros(2,1)\n",
    "dims_v[1,1] = 0.05\n",
    "dims_v[2,1] = 1.0\n",
    "scale = MOMDPs.init_scaling(m,mean_bounds,var_bounds,cor_bounds,obs_bounds)\n",
    "state_to_node!(zeros(3),B,scale)\n",
    "@time state_to_node!(zeros(3),B,scale)"
   ]
  },
  {
   "cell_type": "code",
   "execution_count": 36,
   "id": "4a07e442-3a6e-4abb-8614-207f9778c900",
   "metadata": {},
   "outputs": [
    {
     "data": {
      "text/plain": [
       "value_function(scaling([3, 3, 3], [0.0; 0.5;;], [0.05; 1.0;;], 0.5, [0.0; 0.5;;]), beleif_state[beleif_state([0.0], [0.05;;], [0.0;;], [0.0]), beleif_state([0.0], [0.05;;], [0.0;;], [0.25]), beleif_state([0.0], [0.05;;], [0.0;;], [0.5]), beleif_state([0.0], [0.525;;], [0.0;;], [0.0]), beleif_state([0.0], [0.525;;], [0.0;;], [0.25]), beleif_state([0.0], [0.525;;], [0.0;;], [0.5]), beleif_state([0.0], [1.0;;], [0.0;;], [0.0]), beleif_state([0.0], [1.0;;], [0.0;;], [0.25]), beleif_state([0.0], [1.0;;], [0.0;;], [0.5]), beleif_state([0.25], [0.05;;], [0.0;;], [0.0])  …  beleif_state([0.25], [1.0;;], [0.0;;], [0.5]), beleif_state([0.5], [0.05;;], [0.0;;], [0.0]), beleif_state([0.5], [0.05;;], [0.0;;], [0.25]), beleif_state([0.5], [0.05;;], [0.0;;], [0.5]), beleif_state([0.5], [0.525;;], [0.0;;], [0.0]), beleif_state([0.5], [0.525;;], [0.0;;], [0.25]), beleif_state([0.5], [0.525;;], [0.0;;], [0.5]), beleif_state([0.5], [1.0;;], [0.0;;], [0.0]), beleif_state([0.5], [1.0;;], [0.0;;], [0.25]), beleif_state([0.5], [1.0;;], [0.0;;], [0.5])], [0.0, 0.0, 0.0, 0.0, 0.0, 0.0, 0.0, 0.0, 0.0, 0.0  …  0.0, 0.0, 0.0, 0.0, 0.0, 0.0, 0.0, 0.0, 0.0, 0.0], [0.0 0.0 0.0; 0.0 0.0 0.0; 0.0 0.0 0.0;;; 0.0 0.0 0.0; 0.0 0.0 0.0; 0.0 0.0 0.0;;; 0.0 0.0 0.0; 0.0 0.0 0.0; 0.0 0.0 0.0])"
      ]
     },
     "execution_count": 36,
     "metadata": {},
     "output_type": "execute_result"
    }
   ],
   "source": [
    "V = init_value_function(scale;n_nodes_max = 10^5)"
   ]
  },
  {
   "cell_type": "code",
   "execution_count": 37,
   "id": "090ae51e-127c-43e9-9ed6-2e414fef28da",
   "metadata": {},
   "outputs": [
    {
     "data": {
      "text/plain": [
       "27-element Vector{beleif_state}:\n",
       " beleif_state([0.0], [0.05;;], [0.0;;], [0.0])\n",
       " beleif_state([0.0], [0.05;;], [0.0;;], [0.25])\n",
       " beleif_state([0.0], [0.05;;], [0.0;;], [0.5])\n",
       " beleif_state([0.0], [0.525;;], [0.0;;], [0.0])\n",
       " beleif_state([0.0], [0.525;;], [0.0;;], [0.25])\n",
       " beleif_state([0.0], [0.525;;], [0.0;;], [0.5])\n",
       " beleif_state([0.0], [1.0;;], [0.0;;], [0.0])\n",
       " beleif_state([0.0], [1.0;;], [0.0;;], [0.25])\n",
       " beleif_state([0.0], [1.0;;], [0.0;;], [0.5])\n",
       " beleif_state([0.25], [0.05;;], [0.0;;], [0.0])\n",
       " beleif_state([0.25], [0.05;;], [0.0;;], [0.25])\n",
       " beleif_state([0.25], [0.05;;], [0.0;;], [0.5])\n",
       " beleif_state([0.25], [0.525;;], [0.0;;], [0.0])\n",
       " ⋮\n",
       " beleif_state([0.25], [1.0;;], [0.0;;], [0.0])\n",
       " beleif_state([0.25], [1.0;;], [0.0;;], [0.25])\n",
       " beleif_state([0.25], [1.0;;], [0.0;;], [0.5])\n",
       " beleif_state([0.5], [0.05;;], [0.0;;], [0.0])\n",
       " beleif_state([0.5], [0.05;;], [0.0;;], [0.25])\n",
       " beleif_state([0.5], [0.05;;], [0.0;;], [0.5])\n",
       " beleif_state([0.5], [0.525;;], [0.0;;], [0.0])\n",
       " beleif_state([0.5], [0.525;;], [0.0;;], [0.25])\n",
       " beleif_state([0.5], [0.525;;], [0.0;;], [0.5])\n",
       " beleif_state([0.5], [1.0;;], [0.0;;], [0.0])\n",
       " beleif_state([0.5], [1.0;;], [0.0;;], [0.25])\n",
       " beleif_state([0.5], [1.0;;], [0.0;;], [0.5])"
      ]
     },
     "execution_count": 37,
     "metadata": {},
     "output_type": "execute_result"
    }
   ],
   "source": [
    "V.nodes"
   ]
  },
  {
   "cell_type": "code",
   "execution_count": 12,
   "id": "0cb61cf5-e225-4d08-8ffd-163ea5417cd3",
   "metadata": {},
   "outputs": [
    {
     "data": {
      "text/plain": [
       "20-element Vector{Float64}:\n",
       " 1.7856021898799043e-7\n",
       " 7.022518386313846e-6\n",
       " 0.0001037125506840011\n",
       " 0.0008452039867178815\n",
       " 0.004449784091912226\n",
       " 0.01644880130922808\n",
       " 0.04486176834756882\n",
       " 0.09313399313962073\n",
       " 0.15010666624939442\n",
       " 0.19004286914528676\n",
       " 0.19004286914528676\n",
       " 0.15010666624939442\n",
       " 0.09313399313962073\n",
       " 0.04486176834756882\n",
       " 0.01644880130922808\n",
       " 0.004449784091912226\n",
       " 0.0008452039867178815\n",
       " 0.0001037125506840011\n",
       " 7.022518386313846e-6\n",
       " 1.7856021898799043e-7"
      ]
     },
     "execution_count": 12,
     "metadata": {},
     "output_type": "execute_result"
    }
   ],
   "source": [
    "using FastGaussQuadrature \n",
    "nodes, weights = FastGaussQuadrature.gausshermite(20)\n",
    "weights_unscaled = weights\n",
    "weights = weights .* (2*pi)^(-1/2).*exp.((nodes.^2)./2)"
   ]
  },
  {
   "cell_type": "code",
   "execution_count": 10,
   "id": "eb83cb7d-4a74-4f7b-a956-45d0d85342fb",
   "metadata": {},
   "outputs": [
    {
     "name": "stdout",
     "output_type": "stream",
     "text": [
      "99.99999997980363\n",
      "9.999999892297218\n"
     ]
    }
   ],
   "source": [
    "mu = 100\n",
    "sigma2 = 10\n",
    "x = sqrt(sigma2)*(nodes).+mu\n",
    "println(sum(x.*weights))\n",
    "println(sum((x .-mu ).^ 2 .* weights))"
   ]
  },
  {
   "cell_type": "code",
   "execution_count": 19,
   "id": "51970659-dbbd-4617-8a96-22ddb02f5ac4",
   "metadata": {},
   "outputs": [
    {
     "name": "stdout",
     "output_type": "stream",
     "text": [
      "100.00000000000001\n",
      "10.000000000000126\n"
     ]
    }
   ],
   "source": [
    "x = sqrt(2)*sqrt(sigma2)*(nodes).+mu \n",
    "println(sum(x.*weights_unscaled)/sqrt(pi))\n",
    "println(sum((x .- mu ) .^2 .*weights_unscaled)/sqrt(pi))"
   ]
  },
  {
   "cell_type": "code",
   "execution_count": 27,
   "id": "6482d5c2-9441-40d7-ab26-352c14d4960f",
   "metadata": {},
   "outputs": [
    {
     "data": {
      "text/plain": [
       "([-3.4361591188377374, -2.5327316742327897, -1.7566836492998803, -1.0366108297895167, -0.34290132722370714, 0.34290132722370714, 1.0366108297895167, 1.7566836492998803, 2.5327316742327897, 3.4361591188377374], [7.640432855232609e-6, 0.0013436457467812285, 0.03387439445548132, 0.24013861108231485, 0.610862633735325, 0.610862633735325, 0.24013861108231485, 0.03387439445548132, 0.0013436457467812285, 7.640432855232609e-6])"
      ]
     },
     "execution_count": 27,
     "metadata": {},
     "output_type": "execute_result"
    }
   ],
   "source": [
    "nodes, weights = FastGaussQuadrature.gausshermite(10)"
   ]
  },
  {
   "cell_type": "code",
   "execution_count": 17,
   "id": "50e4bd3d-f2f8-4ac6-9a01-f5699ec00b56",
   "metadata": {},
   "outputs": [
    {
     "name": "stdout",
     "output_type": "stream",
     "text": [
      "[0.16320570558280115, 0.13061307064540434, 0.11800414848442334, 0.11193308628050136, 0.10935247336508891, 0.10935247336508891, 0.11193308628050136, 0.11800414848442334, 0.13061307064540434, 0.16320570558280115]\n"
     ]
    }
   ],
   "source": [
    "weights = weights .* (2*pi)^(-1/2).*exp.((nodes.^2)./2)\n",
    "println(weights)"
   ]
  },
  {
   "cell_type": "code",
   "execution_count": 4,
   "id": "21574e4f-90c4-4470-b771-8cd55e3e5877",
   "metadata": {},
   "outputs": [
    {
     "data": {
      "text/plain": [
       "add (generic function with 1 method)"
      ]
     },
     "execution_count": 4,
     "metadata": {},
     "output_type": "execute_result"
    }
   ],
   "source": [
    "function add(x; y = length(x))\n",
    "    y * x\n",
    "end"
   ]
  },
  {
   "cell_type": "code",
   "execution_count": 5,
   "id": "8251018a-bf70-442f-954a-b308b52f200d",
   "metadata": {},
   "outputs": [
    {
     "data": {
      "text/plain": [
       "2-element Vector{Float64}:\n",
       " 4.0\n",
       " 6.0"
      ]
     },
     "execution_count": 5,
     "metadata": {},
     "output_type": "execute_result"
    }
   ],
   "source": [
    "add([2.0,3.0])"
   ]
  },
  {
   "cell_type": "code",
   "execution_count": null,
   "id": "51e93e3c-5d88-42b5-88c6-49140ec0fd83",
   "metadata": {},
   "outputs": [],
   "source": []
  }
 ],
 "metadata": {
  "kernelspec": {
   "display_name": "Julia (10 threads) 1.7.3",
   "language": "julia",
   "name": "julia-(10-threads)-1.7"
  },
  "language_info": {
   "file_extension": ".jl",
   "mimetype": "application/julia",
   "name": "julia",
   "version": "1.7.3"
  }
 },
 "nbformat": 4,
 "nbformat_minor": 5
}
