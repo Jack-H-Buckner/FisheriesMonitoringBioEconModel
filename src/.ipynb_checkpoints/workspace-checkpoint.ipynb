{
 "cells": [
  {
   "cell_type": "code",
   "execution_count": 38,
   "id": "3313225b-b97e-46a6-bb63-80b6b9527eaf",
   "metadata": {},
   "outputs": [],
   "source": [
    "using Interpolations"
   ]
  },
  {
   "cell_type": "code",
   "execution_count": 39,
   "id": "201f0570-f1ed-4aff-a31f-9e1ac91c67ad",
   "metadata": {},
   "outputs": [
    {
     "name": "stdout",
     "output_type": "stream",
     "text": [
      " "
     ]
    }
   ],
   "source": [
    "A = zeros(10,10,5,5)\n",
    "for i in 1:10\n",
    "    for j in 1:10\n",
    "        for k in 1:5\n",
    "            for l in 1:5\n",
    "                A[i,j,k,l] = sin((0.6^4)*i*j*k*l)\n",
    "            end\n",
    "        end\n",
    "    end\n",
    "end\n",
    "itp = interpolate(A, BSpline(Cubic(Line(OnGrid()))))\n",
    "itp1 = interpolate(A, BSpline(Linear()))\n",
    "print(\" \")"
   ]
  },
  {
   "cell_type": "code",
   "execution_count": null,
   "id": "50055a50-e37b-416f-a77c-c2786b0cea05",
   "metadata": {},
   "outputs": [],
   "source": [
    "itp = interpolate(A, BSpline(Cubic(Line(OnGrid()))))\n",
    "ils = 1:0.1:10\n",
    "jls = 1:0.1:10\n",
    "kls = 1:0.1:5\n",
    "lls = 1:0.1:5\n",
    "N = length(ils)\n",
    "N2 = length(lls)\n",
    "acc = zeros(N,N,N2,N2)\n",
    "for i in 1:N\n",
    "    for j in 1:N\n",
    "        for k in 1:N2\n",
    "            for l in 1:N2\n",
    "                acc[i,j,k,l] = itp(ils[i],jls[j],kls[k],lls[l])\n",
    "            end\n",
    "        end\n",
    "    end\n",
    "end\n",
    "using Plots\n",
    "Plots.heatmap(acc[:,:,1,1])"
   ]
  },
  {
   "cell_type": "code",
   "execution_count": 114,
   "id": "039516ca-9b74-4fa2-853e-beda82665906",
   "metadata": {},
   "outputs": [
    {
     "name": "stdout",
     "output_type": "stream",
     "text": [
      " "
     ]
    },
    {
     "name": "stderr",
     "output_type": "stream",
     "text": [
      "WARNING: replacing module MOMDPs.\n"
     ]
    }
   ],
   "source": [
    "include(\"MOMDPs.jl\")\n",
    "\n",
    "# define scaling \n",
    "m = [5,5,5]\n",
    "mean_bounds=zeros(2,1);mean_bounds[2,1]=1.0\n",
    "var_bounds=zeros(2,1);var_bounds[1,1]=0.01;var_bounds[2,1]=1.0\n",
    "cor_bounds = 0.5\n",
    "obs_bounds=zeros(2,1);obs_bounds[2,1]=1.0\n",
    "scale = MOMDPs.init_scaling(m,mean_bounds,var_bounds,cor_bounds,obs_bounds)\n",
    "\n",
    "# initialize value function \n",
    "V = MOMDPs.init_value_function(scale)\n",
    "print(\" \")"
   ]
  },
  {
   "cell_type": "code",
   "execution_count": null,
   "id": "d0f84f7e-3bb2-4dcf-af03-b3ea46e6e631",
   "metadata": {},
   "outputs": [],
   "source": [
    "V.nodes[70].observed"
   ]
  },
  {
   "cell_type": "code",
   "execution_count": 124,
   "id": "b8e78ce7-0ca7-428c-adb4-5330b7308aad",
   "metadata": {},
   "outputs": [
    {
     "data": {
      "text/plain": [
       "3-element Vector{Float64}:\n",
       " 1.0\n",
       " 2.0\n",
       " 4.0"
      ]
     },
     "execution_count": 124,
     "metadata": {},
     "output_type": "execute_result"
    }
   ],
   "source": [
    "v = zeros(3)\n",
    "sin(prod((0.2^3)*MOMDPs.state_to_node!(v,V.nodes[9],scale)))\n",
    "values = "
   ]
  },
  {
   "cell_type": "code",
   "execution_count": 125,
   "id": "22dbac21-0c69-4d7d-9895-205ba9f0da3a",
   "metadata": {},
   "outputs": [
    {
     "name": "stdout",
     "output_type": "stream",
     "text": [
      "  0.000086 seconds (83 allocations: 3.156 KiB)\n"
     ]
    },
    {
     "data": {
      "text/plain": [
       "1-element view(::Vector{Float64}, 3:3) with eltype Float64:\n",
       " 4.0"
      ]
     },
     "execution_count": 125,
     "metadata": {},
     "output_type": "execute_result"
    }
   ],
   "source": [
    "@time MOMDPs.state_to_node!(v,V.nodes[9],scale)"
   ]
  },
  {
   "cell_type": "code",
   "execution_count": 35,
   "id": "66d1c4b2-e923-416b-a205-0a3a3f5ee0ce",
   "metadata": {},
   "outputs": [
    {
     "name": "stdout",
     "output_type": "stream",
     "text": [
      "  0.000170 seconds (84 allocations: 3.234 KiB)\n"
     ]
    },
    {
     "data": {
      "text/plain": [
       "1-element view(::Vector{Float64}, 3:3) with eltype Float64:\n",
       " 3.0"
      ]
     },
     "execution_count": 35,
     "metadata": {},
     "output_type": "execute_result"
    }
   ],
   "source": [
    "# define beleif state\n",
    "M= zeros(1,1)\n",
    "M[1,1] = 1.0\n",
    "mean = [0.1]\n",
    "# define scaling\n",
    "B = beleif_state(mean,M,deepcopy(M),[0.5])\n",
    "dims = zeros(2,1)\n",
    "dims[2,1]=0.5\n",
    "\n",
    "dims_v = zeros(2,1)\n",
    "dims_v[1,1] = 0.05\n",
    "dims_v[2,1] = 1.0\n",
    "scale = MOMDPs.init_scaling(m,mean_bounds,var_bounds,cor_bounds,obs_bounds)\n",
    "state_to_node!(zeros(3),B,scale)\n",
    "@time state_to_node!(zeros(3),B,scale)"
   ]
  },
  {
   "cell_type": "code",
   "execution_count": 36,
   "id": "4a07e442-3a6e-4abb-8614-207f9778c900",
   "metadata": {},
   "outputs": [
    {
     "data": {
      "text/plain": [
       "value_function(scaling([3, 3, 3], [0.0; 0.5;;], [0.05; 1.0;;], 0.5, [0.0; 0.5;;]), beleif_state[beleif_state([0.0], [0.05;;], [0.0;;], [0.0]), beleif_state([0.0], [0.05;;], [0.0;;], [0.25]), beleif_state([0.0], [0.05;;], [0.0;;], [0.5]), beleif_state([0.0], [0.525;;], [0.0;;], [0.0]), beleif_state([0.0], [0.525;;], [0.0;;], [0.25]), beleif_state([0.0], [0.525;;], [0.0;;], [0.5]), beleif_state([0.0], [1.0;;], [0.0;;], [0.0]), beleif_state([0.0], [1.0;;], [0.0;;], [0.25]), beleif_state([0.0], [1.0;;], [0.0;;], [0.5]), beleif_state([0.25], [0.05;;], [0.0;;], [0.0])  …  beleif_state([0.25], [1.0;;], [0.0;;], [0.5]), beleif_state([0.5], [0.05;;], [0.0;;], [0.0]), beleif_state([0.5], [0.05;;], [0.0;;], [0.25]), beleif_state([0.5], [0.05;;], [0.0;;], [0.5]), beleif_state([0.5], [0.525;;], [0.0;;], [0.0]), beleif_state([0.5], [0.525;;], [0.0;;], [0.25]), beleif_state([0.5], [0.525;;], [0.0;;], [0.5]), beleif_state([0.5], [1.0;;], [0.0;;], [0.0]), beleif_state([0.5], [1.0;;], [0.0;;], [0.25]), beleif_state([0.5], [1.0;;], [0.0;;], [0.5])], [0.0, 0.0, 0.0, 0.0, 0.0, 0.0, 0.0, 0.0, 0.0, 0.0  …  0.0, 0.0, 0.0, 0.0, 0.0, 0.0, 0.0, 0.0, 0.0, 0.0], [0.0 0.0 0.0; 0.0 0.0 0.0; 0.0 0.0 0.0;;; 0.0 0.0 0.0; 0.0 0.0 0.0; 0.0 0.0 0.0;;; 0.0 0.0 0.0; 0.0 0.0 0.0; 0.0 0.0 0.0])"
      ]
     },
     "execution_count": 36,
     "metadata": {},
     "output_type": "execute_result"
    }
   ],
   "source": [
    "V = init_value_function(scale;n_nodes_max = 10^5)"
   ]
  },
  {
   "cell_type": "code",
   "execution_count": 37,
   "id": "090ae51e-127c-43e9-9ed6-2e414fef28da",
   "metadata": {},
   "outputs": [
    {
     "data": {
      "text/plain": [
       "27-element Vector{beleif_state}:\n",
       " beleif_state([0.0], [0.05;;], [0.0;;], [0.0])\n",
       " beleif_state([0.0], [0.05;;], [0.0;;], [0.25])\n",
       " beleif_state([0.0], [0.05;;], [0.0;;], [0.5])\n",
       " beleif_state([0.0], [0.525;;], [0.0;;], [0.0])\n",
       " beleif_state([0.0], [0.525;;], [0.0;;], [0.25])\n",
       " beleif_state([0.0], [0.525;;], [0.0;;], [0.5])\n",
       " beleif_state([0.0], [1.0;;], [0.0;;], [0.0])\n",
       " beleif_state([0.0], [1.0;;], [0.0;;], [0.25])\n",
       " beleif_state([0.0], [1.0;;], [0.0;;], [0.5])\n",
       " beleif_state([0.25], [0.05;;], [0.0;;], [0.0])\n",
       " beleif_state([0.25], [0.05;;], [0.0;;], [0.25])\n",
       " beleif_state([0.25], [0.05;;], [0.0;;], [0.5])\n",
       " beleif_state([0.25], [0.525;;], [0.0;;], [0.0])\n",
       " ⋮\n",
       " beleif_state([0.25], [1.0;;], [0.0;;], [0.0])\n",
       " beleif_state([0.25], [1.0;;], [0.0;;], [0.25])\n",
       " beleif_state([0.25], [1.0;;], [0.0;;], [0.5])\n",
       " beleif_state([0.5], [0.05;;], [0.0;;], [0.0])\n",
       " beleif_state([0.5], [0.05;;], [0.0;;], [0.25])\n",
       " beleif_state([0.5], [0.05;;], [0.0;;], [0.5])\n",
       " beleif_state([0.5], [0.525;;], [0.0;;], [0.0])\n",
       " beleif_state([0.5], [0.525;;], [0.0;;], [0.25])\n",
       " beleif_state([0.5], [0.525;;], [0.0;;], [0.5])\n",
       " beleif_state([0.5], [1.0;;], [0.0;;], [0.0])\n",
       " beleif_state([0.5], [1.0;;], [0.0;;], [0.25])\n",
       " beleif_state([0.5], [1.0;;], [0.0;;], [0.5])"
      ]
     },
     "execution_count": 37,
     "metadata": {},
     "output_type": "execute_result"
    }
   ],
   "source": [
    "V.nodes"
   ]
  },
  {
   "cell_type": "code",
   "execution_count": null,
   "id": "0cb61cf5-e225-4d08-8ffd-163ea5417cd3",
   "metadata": {},
   "outputs": [],
   "source": []
  }
 ],
 "metadata": {
  "kernelspec": {
   "display_name": "Julia (10 threads) 1.7.3",
   "language": "julia",
   "name": "julia-(10-threads)-1.7"
  },
  "language_info": {
   "file_extension": ".jl",
   "mimetype": "application/julia",
   "name": "julia",
   "version": "1.7.3"
  }
 },
 "nbformat": 4,
 "nbformat_minor": 5
}
